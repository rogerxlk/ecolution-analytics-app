{
 "cells": [
  {
   "cell_type": "code",
   "execution_count": 16,
   "metadata": {
    "collapsed": true,
    "ExecuteTime": {
     "end_time": "2023-07-05T15:03:44.756812Z",
     "start_time": "2023-07-05T15:03:44.699840Z"
    }
   },
   "outputs": [
    {
     "data": {
      "text/plain": "    object                                    id              created_time  \\\n0     page  52671cb9-4a16-41c9-8f2d-a9d9599916ff  2023-06-23T11:55:00.000Z   \n1     page  18a8f081-f056-48d8-97b1-983164af9c67  2023-06-23T11:51:00.000Z   \n2     page  4d145144-81c6-4cc5-b29f-0f1cd74f87be  2023-06-23T11:51:00.000Z   \n3     page  5f725e52-b12e-4de3-8e1e-4f2a183ebc83  2023-06-23T11:51:00.000Z   \n4     page  a563ed67-2147-4053-a121-49429684f0ec  2023-06-23T11:51:00.000Z   \n..     ...                                   ...                       ...   \n409   page  149e6375-a9da-4120-9136-ce0fd516a794  2023-02-03T17:26:00.000Z   \n410   page  217a5495-2a3b-4039-87ea-7ce64a158c56  2023-02-03T17:26:00.000Z   \n411   page  59b6f8c7-c487-4ea5-a91e-2748087515a0  2023-02-03T17:26:00.000Z   \n412   page  5d03ca8b-7f75-4986-a07e-5a73ed1fbc74  2023-02-03T17:26:00.000Z   \n413   page  9c0ee06a-9418-402b-b8b2-acc7ef4f5eb7  2023-02-03T17:26:00.000Z   \n\n             last_edited_time  cover  icon  archived  \\\n0    2023-06-23T12:52:00.000Z    NaN   NaN     False   \n1    2023-06-23T11:55:00.000Z    NaN   NaN     False   \n2    2023-06-23T11:55:00.000Z    NaN   NaN     False   \n3    2023-06-23T11:56:00.000Z    NaN   NaN     False   \n4    2023-06-23T11:55:00.000Z    NaN   NaN     False   \n..                        ...    ...   ...       ...   \n409  2023-02-10T14:07:00.000Z    NaN   NaN     False   \n410  2023-02-18T14:58:00.000Z    NaN   NaN     False   \n411  2023-02-18T14:57:00.000Z    NaN   NaN     False   \n412  2023-02-17T17:18:00.000Z    NaN   NaN     False   \n413  2023-02-10T14:07:00.000Z    NaN   NaN     False   \n\n                                                   url  public_url  \\\n0    https://www.notion.so/EWS-Bohrgesuch-erstellen...         NaN   \n1    https://www.notion.so/ABS-erstellen-18a8f081f0...         NaN   \n2    https://www.notion.so/WPSM-erstellen-4d1451448...         NaN   \n3    https://www.notion.so/Offerte-Rechnung-erstell...         NaN   \n4    https://www.notion.so/F-rdergesuch-erstellen-a...         NaN   \n..                                                 ...         ...   \n409  https://www.notion.so/Pl-ne-einlesen-149e6375a...         NaN   \n410  https://www.notion.so/Abkl-rungen-217a54952a3b...         NaN   \n411  https://www.notion.so/U-Wert-berechnen-59b6f8c...         NaN   \n412  https://www.notion.so/Fl-chen-berechnen-5d03ca...         NaN   \n413  https://www.notion.so/Offerte-Rechnung-erstell...         NaN   \n\n    created_by.object  ... properties.Service.select.color  \\\n0                user  ...                             NaN   \n1                user  ...                             NaN   \n2                user  ...                             NaN   \n3                user  ...                             NaN   \n4                user  ...                             NaN   \n..                ...  ...                             ...   \n409              user  ...                             NaN   \n410              user  ...                             NaN   \n411              user  ...                             NaN   \n412              user  ...                             NaN   \n413              user  ...                             NaN   \n\n    properties.Canton.select.id properties.Canton.select.name  \\\n0                           NaN                           NaN   \n1                           NaN                           NaN   \n2                           NaN                           NaN   \n3                           NaN                           NaN   \n4                           NaN                           NaN   \n..                          ...                           ...   \n409                         NaN                           NaN   \n410                         NaN                           NaN   \n411                         NaN                           NaN   \n412                         NaN                           NaN   \n413                         NaN                           NaN   \n\n    properties.Canton.select.color properties.DueDate.formula.date.start  \\\n0                              NaN                                   NaN   \n1                              NaN                                   NaN   \n2                              NaN                                   NaN   \n3                              NaN                                   NaN   \n4                              NaN                                   NaN   \n..                             ...                                   ...   \n409                            NaN                                   NaN   \n410                            NaN                                   NaN   \n411                            NaN                                   NaN   \n412                            NaN                                   NaN   \n413                            NaN                                   NaN   \n\n    properties.DueDate.formula.date.end  \\\n0                                   NaN   \n1                                   NaN   \n2                                   NaN   \n3                                   NaN   \n4                                   NaN   \n..                                  ...   \n409                                 NaN   \n410                                 NaN   \n411                                 NaN   \n412                                 NaN   \n413                                 NaN   \n\n    properties.DueDate.formula.date.time_zone  \\\n0                                         NaN   \n1                                         NaN   \n2                                         NaN   \n3                                         NaN   \n4                                         NaN   \n..                                        ...   \n409                                       NaN   \n410                                       NaN   \n411                                       NaN   \n412                                       NaN   \n413                                       NaN   \n\n     properties.BuildingRecording.date.start  \\\n0                                        NaN   \n1                                        NaN   \n2                                        NaN   \n3                                        NaN   \n4                                        NaN   \n..                                       ...   \n409                                      NaN   \n410                                      NaN   \n411                                      NaN   \n412                                      NaN   \n413                                      NaN   \n\n    properties.BuildingRecording.date.end  \\\n0                                     NaN   \n1                                     NaN   \n2                                     NaN   \n3                                     NaN   \n4                                     NaN   \n..                                    ...   \n409                                   NaN   \n410                                   NaN   \n411                                   NaN   \n412                                   NaN   \n413                                   NaN   \n\n    properties.BuildingRecording.date.time_zone  \n0                                           NaN  \n1                                           NaN  \n2                                           NaN  \n3                                           NaN  \n4                                           NaN  \n..                                          ...  \n409                                         NaN  \n410                                         NaN  \n411                                         NaN  \n412                                         NaN  \n413                                         NaN  \n\n[414 rows x 210 columns]",
      "text/html": "<div>\n<style scoped>\n    .dataframe tbody tr th:only-of-type {\n        vertical-align: middle;\n    }\n\n    .dataframe tbody tr th {\n        vertical-align: top;\n    }\n\n    .dataframe thead th {\n        text-align: right;\n    }\n</style>\n<table border=\"1\" class=\"dataframe\">\n  <thead>\n    <tr style=\"text-align: right;\">\n      <th></th>\n      <th>object</th>\n      <th>id</th>\n      <th>created_time</th>\n      <th>last_edited_time</th>\n      <th>cover</th>\n      <th>icon</th>\n      <th>archived</th>\n      <th>url</th>\n      <th>public_url</th>\n      <th>created_by.object</th>\n      <th>...</th>\n      <th>properties.Service.select.color</th>\n      <th>properties.Canton.select.id</th>\n      <th>properties.Canton.select.name</th>\n      <th>properties.Canton.select.color</th>\n      <th>properties.DueDate.formula.date.start</th>\n      <th>properties.DueDate.formula.date.end</th>\n      <th>properties.DueDate.formula.date.time_zone</th>\n      <th>properties.BuildingRecording.date.start</th>\n      <th>properties.BuildingRecording.date.end</th>\n      <th>properties.BuildingRecording.date.time_zone</th>\n    </tr>\n  </thead>\n  <tbody>\n    <tr>\n      <th>0</th>\n      <td>page</td>\n      <td>52671cb9-4a16-41c9-8f2d-a9d9599916ff</td>\n      <td>2023-06-23T11:55:00.000Z</td>\n      <td>2023-06-23T12:52:00.000Z</td>\n      <td>NaN</td>\n      <td>NaN</td>\n      <td>False</td>\n      <td>https://www.notion.so/EWS-Bohrgesuch-erstellen...</td>\n      <td>NaN</td>\n      <td>user</td>\n      <td>...</td>\n      <td>NaN</td>\n      <td>NaN</td>\n      <td>NaN</td>\n      <td>NaN</td>\n      <td>NaN</td>\n      <td>NaN</td>\n      <td>NaN</td>\n      <td>NaN</td>\n      <td>NaN</td>\n      <td>NaN</td>\n    </tr>\n    <tr>\n      <th>1</th>\n      <td>page</td>\n      <td>18a8f081-f056-48d8-97b1-983164af9c67</td>\n      <td>2023-06-23T11:51:00.000Z</td>\n      <td>2023-06-23T11:55:00.000Z</td>\n      <td>NaN</td>\n      <td>NaN</td>\n      <td>False</td>\n      <td>https://www.notion.so/ABS-erstellen-18a8f081f0...</td>\n      <td>NaN</td>\n      <td>user</td>\n      <td>...</td>\n      <td>NaN</td>\n      <td>NaN</td>\n      <td>NaN</td>\n      <td>NaN</td>\n      <td>NaN</td>\n      <td>NaN</td>\n      <td>NaN</td>\n      <td>NaN</td>\n      <td>NaN</td>\n      <td>NaN</td>\n    </tr>\n    <tr>\n      <th>2</th>\n      <td>page</td>\n      <td>4d145144-81c6-4cc5-b29f-0f1cd74f87be</td>\n      <td>2023-06-23T11:51:00.000Z</td>\n      <td>2023-06-23T11:55:00.000Z</td>\n      <td>NaN</td>\n      <td>NaN</td>\n      <td>False</td>\n      <td>https://www.notion.so/WPSM-erstellen-4d1451448...</td>\n      <td>NaN</td>\n      <td>user</td>\n      <td>...</td>\n      <td>NaN</td>\n      <td>NaN</td>\n      <td>NaN</td>\n      <td>NaN</td>\n      <td>NaN</td>\n      <td>NaN</td>\n      <td>NaN</td>\n      <td>NaN</td>\n      <td>NaN</td>\n      <td>NaN</td>\n    </tr>\n    <tr>\n      <th>3</th>\n      <td>page</td>\n      <td>5f725e52-b12e-4de3-8e1e-4f2a183ebc83</td>\n      <td>2023-06-23T11:51:00.000Z</td>\n      <td>2023-06-23T11:56:00.000Z</td>\n      <td>NaN</td>\n      <td>NaN</td>\n      <td>False</td>\n      <td>https://www.notion.so/Offerte-Rechnung-erstell...</td>\n      <td>NaN</td>\n      <td>user</td>\n      <td>...</td>\n      <td>NaN</td>\n      <td>NaN</td>\n      <td>NaN</td>\n      <td>NaN</td>\n      <td>NaN</td>\n      <td>NaN</td>\n      <td>NaN</td>\n      <td>NaN</td>\n      <td>NaN</td>\n      <td>NaN</td>\n    </tr>\n    <tr>\n      <th>4</th>\n      <td>page</td>\n      <td>a563ed67-2147-4053-a121-49429684f0ec</td>\n      <td>2023-06-23T11:51:00.000Z</td>\n      <td>2023-06-23T11:55:00.000Z</td>\n      <td>NaN</td>\n      <td>NaN</td>\n      <td>False</td>\n      <td>https://www.notion.so/F-rdergesuch-erstellen-a...</td>\n      <td>NaN</td>\n      <td>user</td>\n      <td>...</td>\n      <td>NaN</td>\n      <td>NaN</td>\n      <td>NaN</td>\n      <td>NaN</td>\n      <td>NaN</td>\n      <td>NaN</td>\n      <td>NaN</td>\n      <td>NaN</td>\n      <td>NaN</td>\n      <td>NaN</td>\n    </tr>\n    <tr>\n      <th>...</th>\n      <td>...</td>\n      <td>...</td>\n      <td>...</td>\n      <td>...</td>\n      <td>...</td>\n      <td>...</td>\n      <td>...</td>\n      <td>...</td>\n      <td>...</td>\n      <td>...</td>\n      <td>...</td>\n      <td>...</td>\n      <td>...</td>\n      <td>...</td>\n      <td>...</td>\n      <td>...</td>\n      <td>...</td>\n      <td>...</td>\n      <td>...</td>\n      <td>...</td>\n      <td>...</td>\n    </tr>\n    <tr>\n      <th>409</th>\n      <td>page</td>\n      <td>149e6375-a9da-4120-9136-ce0fd516a794</td>\n      <td>2023-02-03T17:26:00.000Z</td>\n      <td>2023-02-10T14:07:00.000Z</td>\n      <td>NaN</td>\n      <td>NaN</td>\n      <td>False</td>\n      <td>https://www.notion.so/Pl-ne-einlesen-149e6375a...</td>\n      <td>NaN</td>\n      <td>user</td>\n      <td>...</td>\n      <td>NaN</td>\n      <td>NaN</td>\n      <td>NaN</td>\n      <td>NaN</td>\n      <td>NaN</td>\n      <td>NaN</td>\n      <td>NaN</td>\n      <td>NaN</td>\n      <td>NaN</td>\n      <td>NaN</td>\n    </tr>\n    <tr>\n      <th>410</th>\n      <td>page</td>\n      <td>217a5495-2a3b-4039-87ea-7ce64a158c56</td>\n      <td>2023-02-03T17:26:00.000Z</td>\n      <td>2023-02-18T14:58:00.000Z</td>\n      <td>NaN</td>\n      <td>NaN</td>\n      <td>False</td>\n      <td>https://www.notion.so/Abkl-rungen-217a54952a3b...</td>\n      <td>NaN</td>\n      <td>user</td>\n      <td>...</td>\n      <td>NaN</td>\n      <td>NaN</td>\n      <td>NaN</td>\n      <td>NaN</td>\n      <td>NaN</td>\n      <td>NaN</td>\n      <td>NaN</td>\n      <td>NaN</td>\n      <td>NaN</td>\n      <td>NaN</td>\n    </tr>\n    <tr>\n      <th>411</th>\n      <td>page</td>\n      <td>59b6f8c7-c487-4ea5-a91e-2748087515a0</td>\n      <td>2023-02-03T17:26:00.000Z</td>\n      <td>2023-02-18T14:57:00.000Z</td>\n      <td>NaN</td>\n      <td>NaN</td>\n      <td>False</td>\n      <td>https://www.notion.so/U-Wert-berechnen-59b6f8c...</td>\n      <td>NaN</td>\n      <td>user</td>\n      <td>...</td>\n      <td>NaN</td>\n      <td>NaN</td>\n      <td>NaN</td>\n      <td>NaN</td>\n      <td>NaN</td>\n      <td>NaN</td>\n      <td>NaN</td>\n      <td>NaN</td>\n      <td>NaN</td>\n      <td>NaN</td>\n    </tr>\n    <tr>\n      <th>412</th>\n      <td>page</td>\n      <td>5d03ca8b-7f75-4986-a07e-5a73ed1fbc74</td>\n      <td>2023-02-03T17:26:00.000Z</td>\n      <td>2023-02-17T17:18:00.000Z</td>\n      <td>NaN</td>\n      <td>NaN</td>\n      <td>False</td>\n      <td>https://www.notion.so/Fl-chen-berechnen-5d03ca...</td>\n      <td>NaN</td>\n      <td>user</td>\n      <td>...</td>\n      <td>NaN</td>\n      <td>NaN</td>\n      <td>NaN</td>\n      <td>NaN</td>\n      <td>NaN</td>\n      <td>NaN</td>\n      <td>NaN</td>\n      <td>NaN</td>\n      <td>NaN</td>\n      <td>NaN</td>\n    </tr>\n    <tr>\n      <th>413</th>\n      <td>page</td>\n      <td>9c0ee06a-9418-402b-b8b2-acc7ef4f5eb7</td>\n      <td>2023-02-03T17:26:00.000Z</td>\n      <td>2023-02-10T14:07:00.000Z</td>\n      <td>NaN</td>\n      <td>NaN</td>\n      <td>False</td>\n      <td>https://www.notion.so/Offerte-Rechnung-erstell...</td>\n      <td>NaN</td>\n      <td>user</td>\n      <td>...</td>\n      <td>NaN</td>\n      <td>NaN</td>\n      <td>NaN</td>\n      <td>NaN</td>\n      <td>NaN</td>\n      <td>NaN</td>\n      <td>NaN</td>\n      <td>NaN</td>\n      <td>NaN</td>\n      <td>NaN</td>\n    </tr>\n  </tbody>\n</table>\n<p>414 rows × 210 columns</p>\n</div>"
     },
     "execution_count": 16,
     "metadata": {},
     "output_type": "execute_result"
    }
   ],
   "source": [
    "import pandas as pd\n",
    "\n",
    "df = pd.read_csv('../data/raw/energieberatungDb_time_tracking.csv')\n",
    "df"
   ]
  },
  {
   "cell_type": "code",
   "execution_count": 17,
   "outputs": [
    {
     "data": {
      "text/plain": "               LastEditedTime  Hours  \\\n0   2023-06-23 12:52:00+00:00   0.50   \n3   2023-06-23 11:56:00+00:00   0.50   \n6   2023-06-28 08:01:00+00:00   1.00   \n8   2023-06-27 13:23:00+00:00   0.50   \n9   2023-06-22 07:47:00+00:00   0.50   \n..                        ...    ...   \n409 2023-02-10 14:07:00+00:00   0.50   \n410 2023-02-18 14:58:00+00:00   0.25   \n411 2023-02-18 14:57:00+00:00   1.00   \n412 2023-02-17 17:18:00+00:00   3.00   \n413 2023-02-10 14:07:00+00:00   0.50   \n\n                                                  Name  Year  Month  \n0    [{'type': 'text', 'text': {'content': '📝 EWS-B...  2023      6  \n3    [{'type': 'text', 'text': {'content': '🤖 Offer...  2023      6  \n6    [{'type': 'text', 'text': {'content': '🧮 Fläch...  2023      6  \n8    [{'type': 'text', 'text': {'content': '📜 Pläne...  2023      6  \n9    [{'type': 'text', 'text': {'content': '📖\\xa0Vo...  2023      6  \n..                                                 ...   ...    ...  \n409  [{'type': 'text', 'text': {'content': '📜 Pläne...  2023      2  \n410  [{'type': 'text', 'text': {'content': '💭\\xa0Ab...  2023      2  \n411  [{'type': 'text', 'text': {'content': '🧮\\xa0U-...  2023      2  \n412  [{'type': 'text', 'text': {'content': '🧮 Fläch...  2023      2  \n413  [{'type': 'text', 'text': {'content': '🤖 Offer...  2023      2  \n\n[381 rows x 5 columns]",
      "text/html": "<div>\n<style scoped>\n    .dataframe tbody tr th:only-of-type {\n        vertical-align: middle;\n    }\n\n    .dataframe tbody tr th {\n        vertical-align: top;\n    }\n\n    .dataframe thead th {\n        text-align: right;\n    }\n</style>\n<table border=\"1\" class=\"dataframe\">\n  <thead>\n    <tr style=\"text-align: right;\">\n      <th></th>\n      <th>LastEditedTime</th>\n      <th>Hours</th>\n      <th>Name</th>\n      <th>Year</th>\n      <th>Month</th>\n    </tr>\n  </thead>\n  <tbody>\n    <tr>\n      <th>0</th>\n      <td>2023-06-23 12:52:00+00:00</td>\n      <td>0.50</td>\n      <td>[{'type': 'text', 'text': {'content': '📝 EWS-B...</td>\n      <td>2023</td>\n      <td>6</td>\n    </tr>\n    <tr>\n      <th>3</th>\n      <td>2023-06-23 11:56:00+00:00</td>\n      <td>0.50</td>\n      <td>[{'type': 'text', 'text': {'content': '🤖 Offer...</td>\n      <td>2023</td>\n      <td>6</td>\n    </tr>\n    <tr>\n      <th>6</th>\n      <td>2023-06-28 08:01:00+00:00</td>\n      <td>1.00</td>\n      <td>[{'type': 'text', 'text': {'content': '🧮 Fläch...</td>\n      <td>2023</td>\n      <td>6</td>\n    </tr>\n    <tr>\n      <th>8</th>\n      <td>2023-06-27 13:23:00+00:00</td>\n      <td>0.50</td>\n      <td>[{'type': 'text', 'text': {'content': '📜 Pläne...</td>\n      <td>2023</td>\n      <td>6</td>\n    </tr>\n    <tr>\n      <th>9</th>\n      <td>2023-06-22 07:47:00+00:00</td>\n      <td>0.50</td>\n      <td>[{'type': 'text', 'text': {'content': '📖\\xa0Vo...</td>\n      <td>2023</td>\n      <td>6</td>\n    </tr>\n    <tr>\n      <th>...</th>\n      <td>...</td>\n      <td>...</td>\n      <td>...</td>\n      <td>...</td>\n      <td>...</td>\n    </tr>\n    <tr>\n      <th>409</th>\n      <td>2023-02-10 14:07:00+00:00</td>\n      <td>0.50</td>\n      <td>[{'type': 'text', 'text': {'content': '📜 Pläne...</td>\n      <td>2023</td>\n      <td>2</td>\n    </tr>\n    <tr>\n      <th>410</th>\n      <td>2023-02-18 14:58:00+00:00</td>\n      <td>0.25</td>\n      <td>[{'type': 'text', 'text': {'content': '💭\\xa0Ab...</td>\n      <td>2023</td>\n      <td>2</td>\n    </tr>\n    <tr>\n      <th>411</th>\n      <td>2023-02-18 14:57:00+00:00</td>\n      <td>1.00</td>\n      <td>[{'type': 'text', 'text': {'content': '🧮\\xa0U-...</td>\n      <td>2023</td>\n      <td>2</td>\n    </tr>\n    <tr>\n      <th>412</th>\n      <td>2023-02-17 17:18:00+00:00</td>\n      <td>3.00</td>\n      <td>[{'type': 'text', 'text': {'content': '🧮 Fläch...</td>\n      <td>2023</td>\n      <td>2</td>\n    </tr>\n    <tr>\n      <th>413</th>\n      <td>2023-02-10 14:07:00+00:00</td>\n      <td>0.50</td>\n      <td>[{'type': 'text', 'text': {'content': '🤖 Offer...</td>\n      <td>2023</td>\n      <td>2</td>\n    </tr>\n  </tbody>\n</table>\n<p>381 rows × 5 columns</p>\n</div>"
     },
     "execution_count": 17,
     "metadata": {},
     "output_type": "execute_result"
    }
   ],
   "source": [
    "columns_to_keep = ['properties.LastEditedTime.last_edited_time', 'properties.Hours.number', 'properties.Name.title']\n",
    "\n",
    "df = df.loc[:, columns_to_keep]\n",
    "\n",
    "rename_dict = {col: col.split('.')[1] for col in df.columns}\n",
    "df.rename(columns=rename_dict, inplace=True)\n",
    "df = df.dropna(subset=['Hours'])\n",
    "\n",
    "df['LastEditedTime'] = pd.to_datetime(df['LastEditedTime'])\n",
    "df['Year'] = df['LastEditedTime'].dt.year\n",
    "df['Month'] = df['LastEditedTime'].dt.month\n",
    "\n",
    "df\n"
   ],
   "metadata": {
    "collapsed": false,
    "ExecuteTime": {
     "end_time": "2023-07-05T15:03:44.772141Z",
     "start_time": "2023-07-05T15:03:44.761397Z"
    }
   }
  },
  {
   "cell_type": "code",
   "execution_count": 18,
   "outputs": [
    {
     "data": {
      "text/plain": "               LastEditedTime  Hours                            Name  Year  \\\n0   2023-06-23 12:52:00+00:00   0.50      📝 EWS-Bohrgesuch erstellen  2023   \n3   2023-06-23 11:56:00+00:00   0.50  🤖 Offerte / Rechnung erstellen  2023   \n6   2023-06-28 08:01:00+00:00   1.00             🧮 Flächen berechnen  2023   \n8   2023-06-27 13:23:00+00:00   0.50                📜 Pläne einlesen  2023   \n9   2023-06-22 07:47:00+00:00   0.50               📖\\xa0Vorbereitung  2023   \n..                        ...    ...                             ...   ...   \n409 2023-02-10 14:07:00+00:00   0.50                📜 Pläne einlesen  2023   \n410 2023-02-18 14:58:00+00:00   0.25                💭\\xa0Abklärungen  2023   \n411 2023-02-18 14:57:00+00:00   1.00           🧮\\xa0U-Wert berechnen  2023   \n412 2023-02-17 17:18:00+00:00   3.00             🧮 Flächen berechnen  2023   \n413 2023-02-10 14:07:00+00:00   0.50  🤖 Offerte / Rechnung erstellen  2023   \n\n     Month  \n0        6  \n3        6  \n6        6  \n8        6  \n9        6  \n..     ...  \n409      2  \n410      2  \n411      2  \n412      2  \n413      2  \n\n[381 rows x 5 columns]",
      "text/html": "<div>\n<style scoped>\n    .dataframe tbody tr th:only-of-type {\n        vertical-align: middle;\n    }\n\n    .dataframe tbody tr th {\n        vertical-align: top;\n    }\n\n    .dataframe thead th {\n        text-align: right;\n    }\n</style>\n<table border=\"1\" class=\"dataframe\">\n  <thead>\n    <tr style=\"text-align: right;\">\n      <th></th>\n      <th>LastEditedTime</th>\n      <th>Hours</th>\n      <th>Name</th>\n      <th>Year</th>\n      <th>Month</th>\n    </tr>\n  </thead>\n  <tbody>\n    <tr>\n      <th>0</th>\n      <td>2023-06-23 12:52:00+00:00</td>\n      <td>0.50</td>\n      <td>📝 EWS-Bohrgesuch erstellen</td>\n      <td>2023</td>\n      <td>6</td>\n    </tr>\n    <tr>\n      <th>3</th>\n      <td>2023-06-23 11:56:00+00:00</td>\n      <td>0.50</td>\n      <td>🤖 Offerte / Rechnung erstellen</td>\n      <td>2023</td>\n      <td>6</td>\n    </tr>\n    <tr>\n      <th>6</th>\n      <td>2023-06-28 08:01:00+00:00</td>\n      <td>1.00</td>\n      <td>🧮 Flächen berechnen</td>\n      <td>2023</td>\n      <td>6</td>\n    </tr>\n    <tr>\n      <th>8</th>\n      <td>2023-06-27 13:23:00+00:00</td>\n      <td>0.50</td>\n      <td>📜 Pläne einlesen</td>\n      <td>2023</td>\n      <td>6</td>\n    </tr>\n    <tr>\n      <th>9</th>\n      <td>2023-06-22 07:47:00+00:00</td>\n      <td>0.50</td>\n      <td>📖\\xa0Vorbereitung</td>\n      <td>2023</td>\n      <td>6</td>\n    </tr>\n    <tr>\n      <th>...</th>\n      <td>...</td>\n      <td>...</td>\n      <td>...</td>\n      <td>...</td>\n      <td>...</td>\n    </tr>\n    <tr>\n      <th>409</th>\n      <td>2023-02-10 14:07:00+00:00</td>\n      <td>0.50</td>\n      <td>📜 Pläne einlesen</td>\n      <td>2023</td>\n      <td>2</td>\n    </tr>\n    <tr>\n      <th>410</th>\n      <td>2023-02-18 14:58:00+00:00</td>\n      <td>0.25</td>\n      <td>💭\\xa0Abklärungen</td>\n      <td>2023</td>\n      <td>2</td>\n    </tr>\n    <tr>\n      <th>411</th>\n      <td>2023-02-18 14:57:00+00:00</td>\n      <td>1.00</td>\n      <td>🧮\\xa0U-Wert berechnen</td>\n      <td>2023</td>\n      <td>2</td>\n    </tr>\n    <tr>\n      <th>412</th>\n      <td>2023-02-17 17:18:00+00:00</td>\n      <td>3.00</td>\n      <td>🧮 Flächen berechnen</td>\n      <td>2023</td>\n      <td>2</td>\n    </tr>\n    <tr>\n      <th>413</th>\n      <td>2023-02-10 14:07:00+00:00</td>\n      <td>0.50</td>\n      <td>🤖 Offerte / Rechnung erstellen</td>\n      <td>2023</td>\n      <td>2</td>\n    </tr>\n  </tbody>\n</table>\n<p>381 rows × 5 columns</p>\n</div>"
     },
     "execution_count": 18,
     "metadata": {},
     "output_type": "execute_result"
    }
   ],
   "source": [
    "df = df.copy()\n",
    "\n",
    "def extract_name(data_string):\n",
    "    try:\n",
    "        first_split = data_string.split(\"'content': '\", 1)[1]\n",
    "        content = first_split.split(\"', 'link':\", 1)[0]\n",
    "        return content\n",
    "    except IndexError:\n",
    "        return None\n",
    "\n",
    "df.loc[:, 'Name'] = df['Name'].apply(extract_name)\n",
    "df['Name'] = df['Name'].apply(lambda x: x.split('\\xa0')).apply(' '.join)\n",
    "df"
   ],
   "metadata": {
    "collapsed": false,
    "ExecuteTime": {
     "end_time": "2023-07-05T15:03:44.802373Z",
     "start_time": "2023-07-05T15:03:44.780571Z"
    }
   }
  },
  {
   "cell_type": "code",
   "execution_count": 19,
   "outputs": [],
   "source": [
    "# average_hours = df.groupby('Name')['Hours'].mean()\n",
    "# average_hours"
   ],
   "metadata": {
    "collapsed": false,
    "ExecuteTime": {
     "end_time": "2023-07-05T15:03:44.824574Z",
     "start_time": "2023-07-05T15:03:44.786957Z"
    }
   }
  },
  {
   "cell_type": "code",
   "execution_count": 21,
   "outputs": [
    {
     "data": {
      "text/plain": "Year  Name                                                \n2023  ABS                                                     0.000000\n      Prüfung Fördergelder (sep. Auftrag)                     0.750000\n      ✍🏽 Beratungsbericht erstellen                           5.554000\n      ✍🏽 Bericht erstellen                                    5.750000\n      ✍🏽 Impulsberatung erstellen                             3.860000\n      🏠\\xa0GEAK erstellen                                     5.820833\n      🏠\\xa0IST-Zustand erfassen                               3.000000\n      🏡 Aufnahme vor Ort                                      0.000000\n      🏡 Gebäudeaufnahme                                       2.286364\n      💠 WPSM erstellen                                        0.000000\n      💭\\xa0Abklärungen                                        0.445000\n      💸 Fördergesuch ausstellen                               2.625000\n      📖\\xa0Vorbereitung                                       0.356757\n      📜 Pläne einlesen                                        0.923077\n      📝 Amtliche Formulare                                    0.727273\n      📝 EWS-Bohrgesuch erstellen                              0.500000\n      📝 Fördergesuch erstellen                                2.687500\n      📝 Nachbearbeitung                                       0.409375\n      🔖\\xa0Minergie Formulare                                 0.500000\n      🚘 Hin- / Rückfahrt                                      0.875000\n      🤖 Offerte / Rechnung erstellen                          0.495370\n      🥳 ABS erstellen                                         0.000000\n      🥳 ABS vorbereiten                                       0.500000\n      🥳 Abschlussformular Förderantrag Sanierung ausfüllen    1.000000\n      🧮 Flächen berechnen                                     3.025610\n      🧮\\xa0U-Wert berechnen                                   1.840909\nName: Hours, dtype: float64"
     },
     "execution_count": 21,
     "metadata": {},
     "output_type": "execute_result"
    }
   ],
   "source": [
    "average_hours_per_name_per_year = df.groupby(['Year', 'Name'])['Hours'].mean()\n",
    "average_hours_per_name_per_year"
   ],
   "metadata": {
    "collapsed": false,
    "ExecuteTime": {
     "end_time": "2023-07-05T15:04:10.117660Z",
     "start_time": "2023-07-05T15:04:10.106168Z"
    }
   }
  },
  {
   "cell_type": "code",
   "execution_count": null,
   "outputs": [],
   "source": [],
   "metadata": {
    "collapsed": false
   }
  }
 ],
 "metadata": {
  "kernelspec": {
   "display_name": "Python 3",
   "language": "python",
   "name": "python3"
  },
  "language_info": {
   "codemirror_mode": {
    "name": "ipython",
    "version": 2
   },
   "file_extension": ".py",
   "mimetype": "text/x-python",
   "name": "python",
   "nbconvert_exporter": "python",
   "pygments_lexer": "ipython2",
   "version": "2.7.6"
  }
 },
 "nbformat": 4,
 "nbformat_minor": 0
}

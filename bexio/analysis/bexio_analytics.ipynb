{
 "cells": [
  {
   "cell_type": "code",
   "execution_count": 69,
   "metadata": {
    "collapsed": true,
    "ExecuteTime": {
     "end_time": "2023-07-01T07:32:08.280105Z",
     "start_time": "2023-07-01T07:32:08.250922Z"
    }
   },
   "outputs": [],
   "source": [
    "import pandas as pd"
   ]
  },
  {
   "cell_type": "code",
   "execution_count": 70,
   "outputs": [],
   "source": [
    "aufwand_df = pd.read_csv('../../bexio/data/processed/aufwand.csv')\n",
    "ertrag_df = pd.read_csv('../../bexio/data/processed/ertrag.csv')"
   ],
   "metadata": {
    "collapsed": false,
    "ExecuteTime": {
     "end_time": "2023-07-01T07:32:08.285584Z",
     "start_time": "2023-07-01T07:32:08.262693Z"
    }
   }
  },
  {
   "cell_type": "code",
   "execution_count": 71,
   "outputs": [],
   "source": [
    "def preprocess_dataframe(df):\n",
    "    df['Datum'] = pd.to_datetime(df['Datum'])\n",
    "    df['Year'] = df['Datum'].dt.year\n",
    "    df['Month'] = df['Datum'].dt.month\n",
    "    df['Quarter'] = df['Datum'].dt.quarter\n",
    "\n",
    "    df_grouped = df.groupby(['Year', 'Month', 'Haben'])['Betrag'].sum().unstack('Haben')\n",
    "    df_grouped = df_grouped.fillna(0)\n",
    "\n",
    "    df_grouped_quarter = df.groupby(['Year', 'Quarter', 'Haben'])['Betrag'].sum().unstack('Haben')\n",
    "    df_grouped_quarter = df_grouped_quarter.fillna(0)\n",
    "\n",
    "    return df_grouped, df_grouped_quarter\n",
    "\n",
    "aufwand_df_grouped, aufwand_df_grouped_quarter = preprocess_dataframe(aufwand_df)\n",
    "ertrag_df_grouped, ertrag_df_grouped_quarter = preprocess_dataframe(ertrag_df)\n"
   ],
   "metadata": {
    "collapsed": false,
    "ExecuteTime": {
     "end_time": "2023-07-01T07:32:08.315710Z",
     "start_time": "2023-07-01T07:32:08.293493Z"
    }
   }
  },
  {
   "cell_type": "code",
   "execution_count": 72,
   "outputs": [
    {
     "data": {
      "text/plain": "Haben       3200 - Handelserlös  3400 - Energieberatung  3402 - Planung HLK  \\\nYear Month                                                                    \n2020 1                     0.00                    0.00              550.00   \n     2                     0.00                    0.00             5322.24   \n     3                     0.00                  300.00             3650.00   \n     5                     0.00                  800.00             4300.00   \n     6                     0.00                 1850.00              980.00   \n     7                     0.00                 1600.00              550.00   \n     8                     0.00                 1900.00              437.50   \n     9                     0.00                 1100.00             4987.52   \n     10                    0.00                    0.00              980.00   \n     11                    0.00                 2590.02            10543.26   \n     12                    0.00                    0.00             3990.02   \n2021 1                     0.00                  800.00             8529.99   \n     2                     0.00                  350.00            13097.40   \n     3                     0.00                 1150.00            19215.07   \n     4                     0.00                 4683.42             7657.52   \n     5                     0.00                 5931.94            13027.57   \n     6                     0.00                 1150.00            10510.07   \n     7                     0.00                 6336.12                0.00   \n     8                     0.00                 1448.46            15027.71   \n     9                     0.00                13671.26             7670.01   \n     10                    0.00                 1000.00                0.00   \n     11                    0.00                 5334.68             1699.58   \n     12                    0.00                 1850.00             5802.74   \n2022 1                  9993.47                11472.70             3512.50   \n     2                  1703.34                 8192.20             8747.50   \n     3                     0.00                 4631.75                0.00   \n     4                  6218.97                 8776.51            16786.60   \n     5                  5081.87                 3753.28             1210.00   \n     6                  1395.00                 4285.51             1515.00   \n     7                     0.00                12661.93             8049.76   \n     8                     0.00                 8304.55             1050.00   \n     9                  3210.00                 8183.06            17897.27   \n     10                    0.00                 4249.72            13167.00   \n     11                    0.00                 1050.00             6159.59   \n     12                    0.00                 6612.62             2480.00   \n2023 1                     0.00                 5471.17             6035.00   \n     2                     0.00                18678.73             5040.00   \n     3                     0.00                13572.51                0.00   \n     4                     0.00                35947.90                0.00   \n     5                     0.00                10553.97             7946.86   \n     6                     0.00                11513.47             3900.00   \n     7                     0.00                  854.22                0.00   \n     8                     0.00                13608.04                0.00   \n     9                     0.00                 4131.85                0.00   \n     11                    0.00                 1830.00                0.00   \n     12                    0.00                 1500.00                0.00   \n\nHaben       3600 - Gebühren Lieferungen und Leistungen  \\\nYear Month                                               \n2020 1                                            0.00   \n     2                                            0.00   \n     3                                            0.00   \n     5                                            0.00   \n     6                                            0.00   \n     7                                            0.00   \n     8                                            0.00   \n     9                                            0.00   \n     10                                           0.00   \n     11                                           0.00   \n     12                                           0.00   \n2021 1                                            0.00   \n     2                                            0.00   \n     3                                            0.00   \n     4                                            0.00   \n     5                                            0.00   \n     6                                            0.00   \n     7                                            0.00   \n     8                                           55.71   \n     9                                            0.00   \n     10                                           0.00   \n     11                                           0.00   \n     12                                           0.00   \n2022 1                                            0.00   \n     2                                            0.00   \n     3                                            0.00   \n     4                                            0.00   \n     5                                            0.00   \n     6                                            0.00   \n     7                                            0.00   \n     8                                            0.00   \n     9                                            0.00   \n     10                                           0.00   \n     11                                           0.00   \n     12                                           0.00   \n2023 1                                            0.00   \n     2                                            0.00   \n     3                                            0.00   \n     4                                            0.00   \n     5                                            0.00   \n     6                                            0.00   \n     7                                            0.00   \n     8                                            0.00   \n     9                                            0.00   \n     11                                           0.00   \n     12                                           0.00   \n\nHaben       3680 - Sonstige Erlöse  6950 - Erträge aus Bankguthaben  \\\nYear Month                                                            \n2020 1                        0.00                             0.00   \n     2                        0.00                             0.00   \n     3                        0.00                             0.00   \n     5                        0.00                             0.00   \n     6                        0.00                             0.00   \n     7                      280.00                             0.00   \n     8                        0.00                             0.00   \n     9                        0.00                             0.00   \n     10                       0.00                             0.00   \n     11                       0.00                             0.00   \n     12                       0.00                             0.00   \n2021 1                        0.00                             0.00   \n     2                        0.00                             0.00   \n     3                        0.00                             0.00   \n     4                        0.00                             0.00   \n     5                        0.00                             0.00   \n     6                        0.00                             0.00   \n     7                        0.00                             0.00   \n     8                        0.00                             0.00   \n     9                        0.00                             0.00   \n     10                       0.00                             0.00   \n     11                       0.00                             0.00   \n     12                    3773.95                             2.38   \n2022 1                        0.00                             0.00   \n     2                        0.00                             0.00   \n     3                        0.00                             0.00   \n     4                        0.00                             0.00   \n     5                        0.00                             0.00   \n     6                        0.00                            32.58   \n     7                        0.00                             0.00   \n     8                        0.00                             0.00   \n     9                        0.00                             0.00   \n     10                       0.00                             0.00   \n     11                       0.00                             0.00   \n     12                       0.00                            32.15   \n2023 1                        0.00                             0.00   \n     2                        0.00                             0.00   \n     3                        0.00                             0.00   \n     4                        0.00                             0.00   \n     5                        0.00                             0.00   \n     6                        0.00                             0.00   \n     7                        0.00                             0.00   \n     8                        0.00                             0.00   \n     9                        0.00                             0.00   \n     11                       0.00                             0.00   \n     12                       0.00                             0.00   \n\nHaben       8100 - Betriebsfremder Ertrag  8710 - Periodenfremder Ertrag  \nYear Month                                                                \n2020 1                               0.00                           0.00  \n     2                               0.00                           0.00  \n     3                               0.00                           0.00  \n     5                               0.00                           0.00  \n     6                               0.00                           0.00  \n     7                               0.00                           0.00  \n     8                               0.00                           0.00  \n     9                               0.00                           0.00  \n     10                              0.00                           0.00  \n     11                              0.00                           0.00  \n     12                              0.00                           0.00  \n2021 1                               0.00                           0.00  \n     2                               0.00                           0.00  \n     3                               8.49                           0.00  \n     4                               0.00                           0.00  \n     5                               0.00                           0.00  \n     6                               0.00                           0.00  \n     7                               0.00                           0.00  \n     8                               0.00                           0.00  \n     9                               0.00                           0.00  \n     10                              0.00                           0.00  \n     11                              0.00                           0.00  \n     12                              0.00                           0.00  \n2022 1                               0.00                           0.03  \n     2                               0.00                         607.75  \n     3                               0.00                           0.00  \n     4                               0.00                           0.00  \n     5                               0.00                           0.00  \n     6                               0.00                           0.00  \n     7                               0.00                           0.00  \n     8                               0.00                           0.00  \n     9                               0.00                           0.00  \n     10                              0.00                           0.00  \n     11                              0.00                           0.00  \n     12                              0.00                           0.00  \n2023 1                               0.00                           0.00  \n     2                               0.00                           0.00  \n     3                               0.00                           0.00  \n     4                               0.00                           0.00  \n     5                               0.00                           0.00  \n     6                               0.00                           0.00  \n     7                               0.00                           0.00  \n     8                               0.00                           0.00  \n     9                               0.00                           0.00  \n     11                              0.00                           0.00  \n     12                              0.00                           0.00  ",
      "text/html": "<div>\n<style scoped>\n    .dataframe tbody tr th:only-of-type {\n        vertical-align: middle;\n    }\n\n    .dataframe tbody tr th {\n        vertical-align: top;\n    }\n\n    .dataframe thead th {\n        text-align: right;\n    }\n</style>\n<table border=\"1\" class=\"dataframe\">\n  <thead>\n    <tr style=\"text-align: right;\">\n      <th></th>\n      <th>Haben</th>\n      <th>3200 - Handelserlös</th>\n      <th>3400 - Energieberatung</th>\n      <th>3402 - Planung HLK</th>\n      <th>3600 - Gebühren Lieferungen und Leistungen</th>\n      <th>3680 - Sonstige Erlöse</th>\n      <th>6950 - Erträge aus Bankguthaben</th>\n      <th>8100 - Betriebsfremder Ertrag</th>\n      <th>8710 - Periodenfremder Ertrag</th>\n    </tr>\n    <tr>\n      <th>Year</th>\n      <th>Month</th>\n      <th></th>\n      <th></th>\n      <th></th>\n      <th></th>\n      <th></th>\n      <th></th>\n      <th></th>\n      <th></th>\n    </tr>\n  </thead>\n  <tbody>\n    <tr>\n      <th rowspan=\"11\" valign=\"top\">2020</th>\n      <th>1</th>\n      <td>0.00</td>\n      <td>0.00</td>\n      <td>550.00</td>\n      <td>0.00</td>\n      <td>0.00</td>\n      <td>0.00</td>\n      <td>0.00</td>\n      <td>0.00</td>\n    </tr>\n    <tr>\n      <th>2</th>\n      <td>0.00</td>\n      <td>0.00</td>\n      <td>5322.24</td>\n      <td>0.00</td>\n      <td>0.00</td>\n      <td>0.00</td>\n      <td>0.00</td>\n      <td>0.00</td>\n    </tr>\n    <tr>\n      <th>3</th>\n      <td>0.00</td>\n      <td>300.00</td>\n      <td>3650.00</td>\n      <td>0.00</td>\n      <td>0.00</td>\n      <td>0.00</td>\n      <td>0.00</td>\n      <td>0.00</td>\n    </tr>\n    <tr>\n      <th>5</th>\n      <td>0.00</td>\n      <td>800.00</td>\n      <td>4300.00</td>\n      <td>0.00</td>\n      <td>0.00</td>\n      <td>0.00</td>\n      <td>0.00</td>\n      <td>0.00</td>\n    </tr>\n    <tr>\n      <th>6</th>\n      <td>0.00</td>\n      <td>1850.00</td>\n      <td>980.00</td>\n      <td>0.00</td>\n      <td>0.00</td>\n      <td>0.00</td>\n      <td>0.00</td>\n      <td>0.00</td>\n    </tr>\n    <tr>\n      <th>7</th>\n      <td>0.00</td>\n      <td>1600.00</td>\n      <td>550.00</td>\n      <td>0.00</td>\n      <td>280.00</td>\n      <td>0.00</td>\n      <td>0.00</td>\n      <td>0.00</td>\n    </tr>\n    <tr>\n      <th>8</th>\n      <td>0.00</td>\n      <td>1900.00</td>\n      <td>437.50</td>\n      <td>0.00</td>\n      <td>0.00</td>\n      <td>0.00</td>\n      <td>0.00</td>\n      <td>0.00</td>\n    </tr>\n    <tr>\n      <th>9</th>\n      <td>0.00</td>\n      <td>1100.00</td>\n      <td>4987.52</td>\n      <td>0.00</td>\n      <td>0.00</td>\n      <td>0.00</td>\n      <td>0.00</td>\n      <td>0.00</td>\n    </tr>\n    <tr>\n      <th>10</th>\n      <td>0.00</td>\n      <td>0.00</td>\n      <td>980.00</td>\n      <td>0.00</td>\n      <td>0.00</td>\n      <td>0.00</td>\n      <td>0.00</td>\n      <td>0.00</td>\n    </tr>\n    <tr>\n      <th>11</th>\n      <td>0.00</td>\n      <td>2590.02</td>\n      <td>10543.26</td>\n      <td>0.00</td>\n      <td>0.00</td>\n      <td>0.00</td>\n      <td>0.00</td>\n      <td>0.00</td>\n    </tr>\n    <tr>\n      <th>12</th>\n      <td>0.00</td>\n      <td>0.00</td>\n      <td>3990.02</td>\n      <td>0.00</td>\n      <td>0.00</td>\n      <td>0.00</td>\n      <td>0.00</td>\n      <td>0.00</td>\n    </tr>\n    <tr>\n      <th rowspan=\"12\" valign=\"top\">2021</th>\n      <th>1</th>\n      <td>0.00</td>\n      <td>800.00</td>\n      <td>8529.99</td>\n      <td>0.00</td>\n      <td>0.00</td>\n      <td>0.00</td>\n      <td>0.00</td>\n      <td>0.00</td>\n    </tr>\n    <tr>\n      <th>2</th>\n      <td>0.00</td>\n      <td>350.00</td>\n      <td>13097.40</td>\n      <td>0.00</td>\n      <td>0.00</td>\n      <td>0.00</td>\n      <td>0.00</td>\n      <td>0.00</td>\n    </tr>\n    <tr>\n      <th>3</th>\n      <td>0.00</td>\n      <td>1150.00</td>\n      <td>19215.07</td>\n      <td>0.00</td>\n      <td>0.00</td>\n      <td>0.00</td>\n      <td>8.49</td>\n      <td>0.00</td>\n    </tr>\n    <tr>\n      <th>4</th>\n      <td>0.00</td>\n      <td>4683.42</td>\n      <td>7657.52</td>\n      <td>0.00</td>\n      <td>0.00</td>\n      <td>0.00</td>\n      <td>0.00</td>\n      <td>0.00</td>\n    </tr>\n    <tr>\n      <th>5</th>\n      <td>0.00</td>\n      <td>5931.94</td>\n      <td>13027.57</td>\n      <td>0.00</td>\n      <td>0.00</td>\n      <td>0.00</td>\n      <td>0.00</td>\n      <td>0.00</td>\n    </tr>\n    <tr>\n      <th>6</th>\n      <td>0.00</td>\n      <td>1150.00</td>\n      <td>10510.07</td>\n      <td>0.00</td>\n      <td>0.00</td>\n      <td>0.00</td>\n      <td>0.00</td>\n      <td>0.00</td>\n    </tr>\n    <tr>\n      <th>7</th>\n      <td>0.00</td>\n      <td>6336.12</td>\n      <td>0.00</td>\n      <td>0.00</td>\n      <td>0.00</td>\n      <td>0.00</td>\n      <td>0.00</td>\n      <td>0.00</td>\n    </tr>\n    <tr>\n      <th>8</th>\n      <td>0.00</td>\n      <td>1448.46</td>\n      <td>15027.71</td>\n      <td>55.71</td>\n      <td>0.00</td>\n      <td>0.00</td>\n      <td>0.00</td>\n      <td>0.00</td>\n    </tr>\n    <tr>\n      <th>9</th>\n      <td>0.00</td>\n      <td>13671.26</td>\n      <td>7670.01</td>\n      <td>0.00</td>\n      <td>0.00</td>\n      <td>0.00</td>\n      <td>0.00</td>\n      <td>0.00</td>\n    </tr>\n    <tr>\n      <th>10</th>\n      <td>0.00</td>\n      <td>1000.00</td>\n      <td>0.00</td>\n      <td>0.00</td>\n      <td>0.00</td>\n      <td>0.00</td>\n      <td>0.00</td>\n      <td>0.00</td>\n    </tr>\n    <tr>\n      <th>11</th>\n      <td>0.00</td>\n      <td>5334.68</td>\n      <td>1699.58</td>\n      <td>0.00</td>\n      <td>0.00</td>\n      <td>0.00</td>\n      <td>0.00</td>\n      <td>0.00</td>\n    </tr>\n    <tr>\n      <th>12</th>\n      <td>0.00</td>\n      <td>1850.00</td>\n      <td>5802.74</td>\n      <td>0.00</td>\n      <td>3773.95</td>\n      <td>2.38</td>\n      <td>0.00</td>\n      <td>0.00</td>\n    </tr>\n    <tr>\n      <th rowspan=\"12\" valign=\"top\">2022</th>\n      <th>1</th>\n      <td>9993.47</td>\n      <td>11472.70</td>\n      <td>3512.50</td>\n      <td>0.00</td>\n      <td>0.00</td>\n      <td>0.00</td>\n      <td>0.00</td>\n      <td>0.03</td>\n    </tr>\n    <tr>\n      <th>2</th>\n      <td>1703.34</td>\n      <td>8192.20</td>\n      <td>8747.50</td>\n      <td>0.00</td>\n      <td>0.00</td>\n      <td>0.00</td>\n      <td>0.00</td>\n      <td>607.75</td>\n    </tr>\n    <tr>\n      <th>3</th>\n      <td>0.00</td>\n      <td>4631.75</td>\n      <td>0.00</td>\n      <td>0.00</td>\n      <td>0.00</td>\n      <td>0.00</td>\n      <td>0.00</td>\n      <td>0.00</td>\n    </tr>\n    <tr>\n      <th>4</th>\n      <td>6218.97</td>\n      <td>8776.51</td>\n      <td>16786.60</td>\n      <td>0.00</td>\n      <td>0.00</td>\n      <td>0.00</td>\n      <td>0.00</td>\n      <td>0.00</td>\n    </tr>\n    <tr>\n      <th>5</th>\n      <td>5081.87</td>\n      <td>3753.28</td>\n      <td>1210.00</td>\n      <td>0.00</td>\n      <td>0.00</td>\n      <td>0.00</td>\n      <td>0.00</td>\n      <td>0.00</td>\n    </tr>\n    <tr>\n      <th>6</th>\n      <td>1395.00</td>\n      <td>4285.51</td>\n      <td>1515.00</td>\n      <td>0.00</td>\n      <td>0.00</td>\n      <td>32.58</td>\n      <td>0.00</td>\n      <td>0.00</td>\n    </tr>\n    <tr>\n      <th>7</th>\n      <td>0.00</td>\n      <td>12661.93</td>\n      <td>8049.76</td>\n      <td>0.00</td>\n      <td>0.00</td>\n      <td>0.00</td>\n      <td>0.00</td>\n      <td>0.00</td>\n    </tr>\n    <tr>\n      <th>8</th>\n      <td>0.00</td>\n      <td>8304.55</td>\n      <td>1050.00</td>\n      <td>0.00</td>\n      <td>0.00</td>\n      <td>0.00</td>\n      <td>0.00</td>\n      <td>0.00</td>\n    </tr>\n    <tr>\n      <th>9</th>\n      <td>3210.00</td>\n      <td>8183.06</td>\n      <td>17897.27</td>\n      <td>0.00</td>\n      <td>0.00</td>\n      <td>0.00</td>\n      <td>0.00</td>\n      <td>0.00</td>\n    </tr>\n    <tr>\n      <th>10</th>\n      <td>0.00</td>\n      <td>4249.72</td>\n      <td>13167.00</td>\n      <td>0.00</td>\n      <td>0.00</td>\n      <td>0.00</td>\n      <td>0.00</td>\n      <td>0.00</td>\n    </tr>\n    <tr>\n      <th>11</th>\n      <td>0.00</td>\n      <td>1050.00</td>\n      <td>6159.59</td>\n      <td>0.00</td>\n      <td>0.00</td>\n      <td>0.00</td>\n      <td>0.00</td>\n      <td>0.00</td>\n    </tr>\n    <tr>\n      <th>12</th>\n      <td>0.00</td>\n      <td>6612.62</td>\n      <td>2480.00</td>\n      <td>0.00</td>\n      <td>0.00</td>\n      <td>32.15</td>\n      <td>0.00</td>\n      <td>0.00</td>\n    </tr>\n    <tr>\n      <th rowspan=\"11\" valign=\"top\">2023</th>\n      <th>1</th>\n      <td>0.00</td>\n      <td>5471.17</td>\n      <td>6035.00</td>\n      <td>0.00</td>\n      <td>0.00</td>\n      <td>0.00</td>\n      <td>0.00</td>\n      <td>0.00</td>\n    </tr>\n    <tr>\n      <th>2</th>\n      <td>0.00</td>\n      <td>18678.73</td>\n      <td>5040.00</td>\n      <td>0.00</td>\n      <td>0.00</td>\n      <td>0.00</td>\n      <td>0.00</td>\n      <td>0.00</td>\n    </tr>\n    <tr>\n      <th>3</th>\n      <td>0.00</td>\n      <td>13572.51</td>\n      <td>0.00</td>\n      <td>0.00</td>\n      <td>0.00</td>\n      <td>0.00</td>\n      <td>0.00</td>\n      <td>0.00</td>\n    </tr>\n    <tr>\n      <th>4</th>\n      <td>0.00</td>\n      <td>35947.90</td>\n      <td>0.00</td>\n      <td>0.00</td>\n      <td>0.00</td>\n      <td>0.00</td>\n      <td>0.00</td>\n      <td>0.00</td>\n    </tr>\n    <tr>\n      <th>5</th>\n      <td>0.00</td>\n      <td>10553.97</td>\n      <td>7946.86</td>\n      <td>0.00</td>\n      <td>0.00</td>\n      <td>0.00</td>\n      <td>0.00</td>\n      <td>0.00</td>\n    </tr>\n    <tr>\n      <th>6</th>\n      <td>0.00</td>\n      <td>11513.47</td>\n      <td>3900.00</td>\n      <td>0.00</td>\n      <td>0.00</td>\n      <td>0.00</td>\n      <td>0.00</td>\n      <td>0.00</td>\n    </tr>\n    <tr>\n      <th>7</th>\n      <td>0.00</td>\n      <td>854.22</td>\n      <td>0.00</td>\n      <td>0.00</td>\n      <td>0.00</td>\n      <td>0.00</td>\n      <td>0.00</td>\n      <td>0.00</td>\n    </tr>\n    <tr>\n      <th>8</th>\n      <td>0.00</td>\n      <td>13608.04</td>\n      <td>0.00</td>\n      <td>0.00</td>\n      <td>0.00</td>\n      <td>0.00</td>\n      <td>0.00</td>\n      <td>0.00</td>\n    </tr>\n    <tr>\n      <th>9</th>\n      <td>0.00</td>\n      <td>4131.85</td>\n      <td>0.00</td>\n      <td>0.00</td>\n      <td>0.00</td>\n      <td>0.00</td>\n      <td>0.00</td>\n      <td>0.00</td>\n    </tr>\n    <tr>\n      <th>11</th>\n      <td>0.00</td>\n      <td>1830.00</td>\n      <td>0.00</td>\n      <td>0.00</td>\n      <td>0.00</td>\n      <td>0.00</td>\n      <td>0.00</td>\n      <td>0.00</td>\n    </tr>\n    <tr>\n      <th>12</th>\n      <td>0.00</td>\n      <td>1500.00</td>\n      <td>0.00</td>\n      <td>0.00</td>\n      <td>0.00</td>\n      <td>0.00</td>\n      <td>0.00</td>\n      <td>0.00</td>\n    </tr>\n  </tbody>\n</table>\n</div>"
     },
     "execution_count": 72,
     "metadata": {},
     "output_type": "execute_result"
    }
   ],
   "source": [
    "ertrag_df_grouped"
   ],
   "metadata": {
    "collapsed": false,
    "ExecuteTime": {
     "end_time": "2023-07-01T07:32:08.351322Z",
     "start_time": "2023-07-01T07:32:08.342535Z"
    }
   }
  },
  {
   "cell_type": "code",
   "execution_count": 73,
   "outputs": [
    {
     "data": {
      "text/plain": "<IPython.lib.display.IFrame at 0x12ee0b350>",
      "text/html": "\n        <iframe\n            width=\"100%\"\n            height=\"650\"\n            src=\"http://127.0.0.1:8050/\"\n            frameborder=\"0\"\n            allowfullscreen\n            \n        ></iframe>\n        "
     },
     "metadata": {},
     "output_type": "display_data"
    }
   ],
   "source": [
    "import dash\n",
    "import dash_core_components as dcc\n",
    "import dash_html_components as html\n",
    "from dash.dependencies import Input, Output\n",
    "import plotly.graph_objects as go\n",
    "import pandas as pd\n",
    "from datetime import datetime\n",
    "\n",
    "# Load data\n",
    "aufwand_df = pd.read_csv('../../src/bexio/data/processed/Aufwand.csv')\n",
    "ertrag_df = pd.read_csv('../../src/bexio/data/processed/Ertrag.csv')\n",
    "\n",
    "\n",
    "# Preprocess data\n",
    "ertrag_df['Datum'] = pd.to_datetime(ertrag_df['Datum'])\n",
    "ertrag_df['Year'] = ertrag_df['Datum'].dt.year\n",
    "ertrag_df['Month'] = ertrag_df['Datum'].dt.month\n",
    "ertrag_df['Quarter'] = ertrag_df['Datum'].dt.quarter\n",
    "\n",
    "aufwand_df['Datum'] = pd.to_datetime(aufwand_df['Datum'])\n",
    "aufwand_df['Year'] = aufwand_df['Datum'].dt.year\n",
    "aufwand_df['Month'] = aufwand_df['Datum'].dt.month\n",
    "aufwand_df['Quarter'] = aufwand_df['Datum'].dt.quarter\n",
    "\n",
    "month_mapping = {1: 'January', 2: 'February', 3: 'March', 4: 'April', 5: 'May',\n",
    "                 6: 'June', 7: 'July', 8: 'August', 9: 'September', 10: 'October',\n",
    "                 11: 'November', 12: 'December'}\n",
    "quarter_mapping = {1: 'Q1', 2: 'Q2', 3: 'Q3', 4: 'Q4'}\n",
    "\n",
    "ertrag_df['Month'] = ertrag_df['Month'].map(month_mapping)\n",
    "ertrag_df['Quarter'] = ertrag_df['Quarter'].map(quarter_mapping)\n",
    "aufwand_df['Month'] = aufwand_df['Month'].map(month_mapping)\n",
    "aufwand_df['Quarter'] = aufwand_df['Quarter'].map(quarter_mapping)\n",
    "\n",
    "\n",
    "app = dash.Dash(__name__)\n",
    "\n",
    "# Set default values\n",
    "default_year = datetime.now().year\n",
    "default_timeframe = 'Monthly'\n",
    "default_stacked = True\n",
    "\n",
    "app.layout = html.Div([\n",
    "    html.Div([\n",
    "        dcc.Dropdown(\n",
    "            id='year-dropdown',\n",
    "            options=[{'label': str(year), 'value': year} for year in aufwand_df['Year'].unique()],\n",
    "            value=default_year,\n",
    "        )\n",
    "    ]),\n",
    "    html.Div([\n",
    "        dcc.RadioItems(\n",
    "            id=\"timeframe\",\n",
    "            options=[\n",
    "                {\"label\": \"Monthly\", \"value\": 'Monthly'},\n",
    "                {\"label\": \"Quarterly\", \"value\": 'Quarterly'}\n",
    "            ],\n",
    "            value=default_timeframe,\n",
    "        ),\n",
    "    ], style={'margin': '10px 0'}),\n",
    "    html.Div([\n",
    "        dcc.RadioItems(\n",
    "            id=\"bar-mode\",\n",
    "            options=[\n",
    "                {\"label\": \"Grouped\", \"value\": False},\n",
    "                {\"label\": \"Stacked\", \"value\": True}\n",
    "            ],\n",
    "            value=default_stacked,\n",
    "        ),\n",
    "    ], style={'margin': '10px 0'}),\n",
    "    dcc.Graph(id=\"bar-chart\"),\n",
    "])\n",
    "\n",
    "@app.callback(\n",
    "    Output(\"bar-chart\", \"figure\"),\n",
    "    [Input(\"timeframe\", \"value\"), Input(\"year-dropdown\", \"value\"), Input(\"bar-mode\", \"value\")])\n",
    "def update_bar_chart(timeframe, year, stacked):\n",
    "    if timeframe == 'Monthly':\n",
    "        aufwand = aufwand_df[aufwand_df['Year'] == year].groupby(['Month', 'Haben'])['Betrag'].sum().unstack(fill_value=0)\n",
    "        ertrag = ertrag_df[ertrag_df['Year'] == year].groupby(['Month', 'Haben'])['Betrag'].sum().unstack(fill_value=0)\n",
    "    else:\n",
    "        aufwand = aufwand_df[aufwand_df['Year'] == year].groupby(['Quarter', 'Haben'])['Betrag'].sum().unstack(fill_value=0)\n",
    "        ertrag = ertrag_df[ertrag_df['Year'] == year].groupby(['Quarter', 'Haben'])['Betrag'].sum().unstack(fill_value=0)\n",
    "\n",
    "    fig = go.Figure()\n",
    "    if stacked:\n",
    "        for column in aufwand.columns:\n",
    "            fig.add_trace(go.Bar(x=aufwand.index,\n",
    "                                 y=aufwand[column],\n",
    "                                 name=f'Aufwand {column}',\n",
    "                                 marker_color='rgb(55, 83, 109)'\n",
    "                                 ))\n",
    "        for column in ertrag.columns:\n",
    "            fig.add_trace(go.Bar(x=ertrag.index,\n",
    "                                 y=ertrag[column],\n",
    "                                 name=f'Ertrag {column}',\n",
    "                                 marker_color='rgb(26, 118, 255)',\n",
    "                                 base=0,  # Set the base value for stacking\n",
    "                                 offsetgroup='ertrag'  # Assign a unique group for stacking\n",
    "                                 ))\n",
    "        fig.update_layout(barmode='stack',  # Stack the \"Ertrag\" bars\n",
    "                          bargroupgap=0.1  # Set the gap between the grouped \"Aufwand\" bars\n",
    "                          )\n",
    "    else:\n",
    "        for column in aufwand.columns:\n",
    "            fig.add_trace(go.Bar(x=aufwand.index,\n",
    "                                 y=aufwand[column],\n",
    "                                 name=f'Aufwand {column}',\n",
    "                                 marker_color='rgb(55, 83, 109)'\n",
    "                                 ))\n",
    "        for column in ertrag.columns:\n",
    "            fig.add_trace(go.Bar(x=ertrag.index,\n",
    "                                 y=ertrag[column],\n",
    "                                 name=f'Ertrag {column}',\n",
    "                                 marker_color='rgb(26, 118, 255)'\n",
    "                                 ))\n",
    "        fig.update_layout(barmode='group')\n",
    "\n",
    "    fig.update_layout(\n",
    "        title=f'Aufwand vs Ertrag - {timeframe}',\n",
    "        xaxis_tickfont_size=14,\n",
    "        yaxis=dict(\n",
    "            title='Betrag',\n",
    "            titlefont_size=16,\n",
    "            tickfont_size=14,\n",
    "        ),\n",
    "        legend=dict(\n",
    "            x=0,\n",
    "            y=1.0,\n",
    "            bgcolor='rgba(255, 255, 255, 0)',\n",
    "            bordercolor='rgba(255, 255, 255, 0)'\n",
    "        ),\n",
    "        bargap=0.15,  # gap between bars of adjacent location coordinates.\n",
    "        bargroupgap=0.1  # gap between bars of the same location coordinate.\n",
    "    )\n",
    "    return fig\n",
    "\n",
    "if __name__ == \"__main__\":\n",
    "    app.run_server(debug=True)\n"
   ],
   "metadata": {
    "collapsed": false,
    "ExecuteTime": {
     "end_time": "2023-07-01T07:32:08.500654Z",
     "start_time": "2023-07-01T07:32:08.352254Z"
    }
   }
  },
  {
   "cell_type": "markdown",
   "source": [
    "# Plot Aufwand"
   ],
   "metadata": {
    "collapsed": false
   }
  },
  {
   "cell_type": "code",
   "execution_count": 74,
   "outputs": [
    {
     "data": {
      "application/vnd.plotly.v1+json": {
       "data": [
        {
         "alignmentgroup": "True",
         "hovertemplate": "Soll=4400 - Energieberatung<br>YearMonth=%{x}<br>Betrag in Basiswährung=%{y}<extra></extra>",
         "legendgroup": "4400 - Energieberatung",
         "marker": {
          "color": "#636efa",
          "pattern": {
           "shape": ""
          }
         },
         "name": "4400 - Energieberatung",
         "offsetgroup": "4400 - Energieberatung",
         "orientation": "v",
         "showlegend": true,
         "textposition": "auto",
         "x": [
          "2022-07",
          "2022-09",
          "2022-10",
          "2022-11",
          "2022-12",
          "2023-02",
          "2023-03",
          "2023-04",
          "2023-05"
         ],
         "xaxis": "x",
         "y": [
          278.55,
          278.55,
          139.28,
          990.02,
          1500.0,
          696.38,
          663.6,
          417.83,
          529.25
         ],
         "yaxis": "y",
         "type": "bar"
        },
        {
         "alignmentgroup": "True",
         "hovertemplate": "Soll=5000 - Löhne<br>YearMonth=%{x}<br>Betrag in Basiswährung=%{y}<extra></extra>",
         "legendgroup": "5000 - Löhne",
         "marker": {
          "color": "#EF553B",
          "pattern": {
           "shape": ""
          }
         },
         "name": "5000 - Löhne",
         "offsetgroup": "5000 - Löhne",
         "orientation": "v",
         "showlegend": true,
         "textposition": "auto",
         "x": [
          "2022-07",
          "2022-08",
          "2022-09",
          "2022-10",
          "2022-11",
          "2022-12",
          "2023-02",
          "2023-03",
          "2023-04"
         ],
         "xaxis": "x",
         "y": [
          7709.75,
          7709.75,
          7709.75,
          7709.75,
          7709.75,
          7709.75,
          15419.5,
          7709.75,
          7709.75
         ],
         "yaxis": "y",
         "type": "bar"
        },
        {
         "alignmentgroup": "True",
         "hovertemplate": "Soll=5881 - Snack Attack<br>YearMonth=%{x}<br>Betrag in Basiswährung=%{y}<extra></extra>",
         "legendgroup": "5881 - Snack Attack",
         "marker": {
          "color": "#00cc96",
          "pattern": {
           "shape": ""
          }
         },
         "name": "5881 - Snack Attack",
         "offsetgroup": "5881 - Snack Attack",
         "orientation": "v",
         "showlegend": true,
         "textposition": "auto",
         "x": [
          "2022-07",
          "2022-08",
          "2022-09",
          "2022-12",
          "2023-05",
          "2023-06"
         ],
         "xaxis": "x",
         "y": [
          55.04,
          403.04,
          46.699999999999996,
          16.49,
          2.54,
          7.32
         ],
         "yaxis": "y",
         "type": "bar"
        },
        {
         "alignmentgroup": "True",
         "hovertemplate": "Soll=6000 - Miete<br>YearMonth=%{x}<br>Betrag in Basiswährung=%{y}<extra></extra>",
         "legendgroup": "6000 - Miete",
         "marker": {
          "color": "#ab63fa",
          "pattern": {
           "shape": ""
          }
         },
         "name": "6000 - Miete",
         "offsetgroup": "6000 - Miete",
         "orientation": "v",
         "showlegend": true,
         "textposition": "auto",
         "x": [
          "2022-07",
          "2022-08",
          "2022-09",
          "2022-10",
          "2022-11",
          "2022-12",
          "2023-01",
          "2023-02",
          "2023-03",
          "2023-04",
          "2023-06"
         ],
         "xaxis": "x",
         "y": [
          1373.25,
          130.0,
          2616.5,
          1243.25,
          1243.25,
          1243.25,
          1243.25,
          1372.7,
          1286.4,
          1286.4,
          651.05
         ],
         "yaxis": "y",
         "type": "bar"
        },
        {
         "alignmentgroup": "True",
         "hovertemplate": "Soll=6500 - Büromaterial<br>YearMonth=%{x}<br>Betrag in Basiswährung=%{y}<extra></extra>",
         "legendgroup": "6500 - Büromaterial",
         "marker": {
          "color": "#FFA15A",
          "pattern": {
           "shape": ""
          }
         },
         "name": "6500 - Büromaterial",
         "offsetgroup": "6500 - Büromaterial",
         "orientation": "v",
         "showlegend": true,
         "textposition": "auto",
         "x": [
          "2022-07",
          "2022-08",
          "2022-09",
          "2022-10",
          "2022-11",
          "2023-01",
          "2023-04",
          "2023-06"
         ],
         "xaxis": "x",
         "y": [
          234.20999999999998,
          140.13000000000002,
          482.11,
          381.99,
          60.269999999999996,
          255.10999999999999,
          467.59,
          11.95
         ],
         "yaxis": "y",
         "type": "bar"
        },
        {
         "alignmentgroup": "True",
         "hovertemplate": "Soll=6530 - Buchführung<br>YearMonth=%{x}<br>Betrag in Basiswährung=%{y}<extra></extra>",
         "legendgroup": "6530 - Buchführung",
         "marker": {
          "color": "#19d3f3",
          "pattern": {
           "shape": ""
          }
         },
         "name": "6530 - Buchführung",
         "offsetgroup": "6530 - Buchführung",
         "orientation": "v",
         "showlegend": true,
         "textposition": "auto",
         "x": [
          "2022-07",
          "2022-08",
          "2022-09",
          "2022-10",
          "2022-11",
          "2022-12",
          "2023-01",
          "2023-02"
         ],
         "xaxis": "x",
         "y": [
          53.39,
          53.39,
          53.39,
          53.39,
          53.39,
          53.39,
          53.39,
          93.78
         ],
         "yaxis": "y",
         "type": "bar"
        },
        {
         "alignmentgroup": "True",
         "hovertemplate": "Soll=6570 - Informatikaufwand<br>YearMonth=%{x}<br>Betrag in Basiswährung=%{y}<extra></extra>",
         "legendgroup": "6570 - Informatikaufwand",
         "marker": {
          "color": "#FF6692",
          "pattern": {
           "shape": ""
          }
         },
         "name": "6570 - Informatikaufwand",
         "offsetgroup": "6570 - Informatikaufwand",
         "orientation": "v",
         "showlegend": true,
         "textposition": "auto",
         "x": [
          "2022-07",
          "2022-08",
          "2022-09",
          "2022-10",
          "2022-11",
          "2022-12",
          "2023-01",
          "2023-02",
          "2023-03",
          "2023-04",
          "2023-05",
          "2023-06"
         ],
         "xaxis": "x",
         "y": [
          394.47,
          1343.39,
          554.1700000000001,
          169.45,
          169.32999999999998,
          288.64,
          106.13,
          104.83,
          107.11,
          116.35,
          103.53,
          389.37
         ],
         "yaxis": "y",
         "type": "bar"
        },
        {
         "alignmentgroup": "True",
         "hovertemplate": "Soll=6940 - Bankspesen<br>YearMonth=%{x}<br>Betrag in Basiswährung=%{y}<extra></extra>",
         "legendgroup": "6940 - Bankspesen",
         "marker": {
          "color": "#B6E880",
          "pattern": {
           "shape": ""
          }
         },
         "name": "6940 - Bankspesen",
         "offsetgroup": "6940 - Bankspesen",
         "orientation": "v",
         "showlegend": true,
         "textposition": "auto",
         "x": [
          "2022-07",
          "2022-08",
          "2022-09",
          "2022-10",
          "2022-11",
          "2022-12",
          "2023-01",
          "2023-02",
          "2023-03",
          "2023-04"
         ],
         "xaxis": "x",
         "y": [
          5.0,
          7.0,
          5.0,
          38.95,
          5.0,
          87.72,
          5.0,
          5.0,
          5.0,
          5.0
         ],
         "yaxis": "y",
         "type": "bar"
        },
        {
         "alignmentgroup": "True",
         "hovertemplate": "Soll=5880 - Personalanlässe<br>YearMonth=%{x}<br>Betrag in Basiswährung=%{y}<extra></extra>",
         "legendgroup": "5880 - Personalanlässe",
         "marker": {
          "color": "#FF97FF",
          "pattern": {
           "shape": ""
          }
         },
         "name": "5880 - Personalanlässe",
         "offsetgroup": "5880 - Personalanlässe",
         "orientation": "v",
         "showlegend": true,
         "textposition": "auto",
         "x": [
          "2022-08",
          "2022-10",
          "2022-11"
         ],
         "xaxis": "x",
         "y": [
          3142.87,
          91.32,
          134.12
         ],
         "yaxis": "y",
         "type": "bar"
        },
        {
         "alignmentgroup": "True",
         "hovertemplate": "Soll=6030 - Nebenkosten<br>YearMonth=%{x}<br>Betrag in Basiswährung=%{y}<extra></extra>",
         "legendgroup": "6030 - Nebenkosten",
         "marker": {
          "color": "#FECB52",
          "pattern": {
           "shape": ""
          }
         },
         "name": "6030 - Nebenkosten",
         "offsetgroup": "6030 - Nebenkosten",
         "orientation": "v",
         "showlegend": true,
         "textposition": "auto",
         "x": [
          "2022-08",
          "2022-11",
          "2023-01"
         ],
         "xaxis": "x",
         "y": [
          109.65,
          226.6,
          115.75
         ],
         "yaxis": "y",
         "type": "bar"
        },
        {
         "alignmentgroup": "True",
         "hovertemplate": "Soll=6200 - Fahrzeugunterhalt<br>YearMonth=%{x}<br>Betrag in Basiswährung=%{y}<extra></extra>",
         "legendgroup": "6200 - Fahrzeugunterhalt",
         "marker": {
          "color": "#636efa",
          "pattern": {
           "shape": ""
          }
         },
         "name": "6200 - Fahrzeugunterhalt",
         "offsetgroup": "6200 - Fahrzeugunterhalt",
         "orientation": "v",
         "showlegend": true,
         "textposition": "auto",
         "x": [
          "2022-08",
          "2022-09",
          "2022-12"
         ],
         "xaxis": "x",
         "y": [
          368.01,
          25.0,
          726.88
         ],
         "yaxis": "y",
         "type": "bar"
        },
        {
         "alignmentgroup": "True",
         "hovertemplate": "Soll=6210 - Betriebsstoffe<br>YearMonth=%{x}<br>Betrag in Basiswährung=%{y}<extra></extra>",
         "legendgroup": "6210 - Betriebsstoffe",
         "marker": {
          "color": "#EF553B",
          "pattern": {
           "shape": ""
          }
         },
         "name": "6210 - Betriebsstoffe",
         "offsetgroup": "6210 - Betriebsstoffe",
         "orientation": "v",
         "showlegend": true,
         "textposition": "auto",
         "x": [
          "2022-08",
          "2022-09",
          "2022-10",
          "2022-11",
          "2022-12",
          "2023-01",
          "2023-02",
          "2023-03",
          "2023-04",
          "2023-05",
          "2023-06"
         ],
         "xaxis": "x",
         "y": [
          238.05,
          67.18,
          86.58,
          150.7,
          247.52,
          109.52,
          135.52,
          74.23,
          75.07,
          79.67,
          148.89
         ],
         "yaxis": "y",
         "type": "bar"
        },
        {
         "alignmentgroup": "True",
         "hovertemplate": "Soll=6600 - Werbeinserate, elektronische Medien<br>YearMonth=%{x}<br>Betrag in Basiswährung=%{y}<extra></extra>",
         "legendgroup": "6600 - Werbeinserate, elektronische Medien",
         "marker": {
          "color": "#00cc96",
          "pattern": {
           "shape": ""
          }
         },
         "name": "6600 - Werbeinserate, elektronische Medien",
         "offsetgroup": "6600 - Werbeinserate, elektronische Medien",
         "orientation": "v",
         "showlegend": true,
         "textposition": "auto",
         "x": [
          "2022-08",
          "2022-09",
          "2022-10",
          "2022-11",
          "2022-12"
         ],
         "xaxis": "x",
         "y": [
          385.1,
          710.4100000000001,
          175.93,
          558.0,
          754.7
         ],
         "yaxis": "y",
         "type": "bar"
        },
        {
         "alignmentgroup": "True",
         "hovertemplate": "Soll=6641 - Kundenbetreuung<br>YearMonth=%{x}<br>Betrag in Basiswährung=%{y}<extra></extra>",
         "legendgroup": "6641 - Kundenbetreuung",
         "marker": {
          "color": "#ab63fa",
          "pattern": {
           "shape": ""
          }
         },
         "name": "6641 - Kundenbetreuung",
         "offsetgroup": "6641 - Kundenbetreuung",
         "orientation": "v",
         "showlegend": true,
         "textposition": "auto",
         "x": [
          "2022-08",
          "2022-12"
         ],
         "xaxis": "x",
         "y": [
          620.79,
          112.15
         ],
         "yaxis": "y",
         "type": "bar"
        },
        {
         "alignmentgroup": "True",
         "hovertemplate": "Soll=6660 - Sonstiger Werbeaufwand<br>YearMonth=%{x}<br>Betrag in Basiswährung=%{y}<extra></extra>",
         "legendgroup": "6660 - Sonstiger Werbeaufwand",
         "marker": {
          "color": "#FFA15A",
          "pattern": {
           "shape": ""
          }
         },
         "name": "6660 - Sonstiger Werbeaufwand",
         "offsetgroup": "6660 - Sonstiger Werbeaufwand",
         "orientation": "v",
         "showlegend": true,
         "textposition": "auto",
         "x": [
          "2022-08",
          "2022-09",
          "2023-03"
         ],
         "xaxis": "x",
         "y": [
          135.54,
          58.66,
          850.0
         ],
         "yaxis": "y",
         "type": "bar"
        },
        {
         "alignmentgroup": "True",
         "hovertemplate": "Soll=6700 - Sonstiger Betriebsaufwand<br>YearMonth=%{x}<br>Betrag in Basiswährung=%{y}<extra></extra>",
         "legendgroup": "6700 - Sonstiger Betriebsaufwand",
         "marker": {
          "color": "#19d3f3",
          "pattern": {
           "shape": ""
          }
         },
         "name": "6700 - Sonstiger Betriebsaufwand",
         "offsetgroup": "6700 - Sonstiger Betriebsaufwand",
         "orientation": "v",
         "showlegend": true,
         "textposition": "auto",
         "x": [
          "2022-08",
          "2022-09",
          "2022-10",
          "2022-11"
         ],
         "xaxis": "x",
         "y": [
          1011.14,
          92.42,
          274.66,
          272.66
         ],
         "yaxis": "y",
         "type": "bar"
        },
        {
         "alignmentgroup": "True",
         "hovertemplate": "Soll=4402 - Planung HLK<br>YearMonth=%{x}<br>Betrag in Basiswährung=%{y}<extra></extra>",
         "legendgroup": "4402 - Planung HLK",
         "marker": {
          "color": "#FF6692",
          "pattern": {
           "shape": ""
          }
         },
         "name": "4402 - Planung HLK",
         "offsetgroup": "4402 - Planung HLK",
         "orientation": "v",
         "showlegend": true,
         "textposition": "auto",
         "x": [
          "2022-09",
          "2022-10",
          "2022-11",
          "2022-12",
          "2023-01",
          "2023-02",
          "2023-05",
          "2023-06"
         ],
         "xaxis": "x",
         "y": [
          28.51,
          244.01,
          28.51,
          5213.79,
          3516.94,
          2358.91,
          32.92,
          61.51
         ],
         "yaxis": "y",
         "type": "bar"
        },
        {
         "alignmentgroup": "True",
         "hovertemplate": "Soll=5700 - AHV, IV, EO, ALV<br>YearMonth=%{x}<br>Betrag in Basiswährung=%{y}<extra></extra>",
         "legendgroup": "5700 - AHV, IV, EO, ALV",
         "marker": {
          "color": "#B6E880",
          "pattern": {
           "shape": ""
          }
         },
         "name": "5700 - AHV, IV, EO, ALV",
         "offsetgroup": "5700 - AHV, IV, EO, ALV",
         "orientation": "v",
         "showlegend": true,
         "textposition": "auto",
         "x": [
          "2022-09",
          "2022-12",
          "2023-03",
          "2023-06"
         ],
         "xaxis": "x",
         "y": [
          3695.45,
          3717.0,
          3628.0,
          3628.0
         ],
         "yaxis": "y",
         "type": "bar"
        },
        {
         "alignmentgroup": "True",
         "hovertemplate": "Soll=5810 - Aus- und Weiterbildung<br>YearMonth=%{x}<br>Betrag in Basiswährung=%{y}<extra></extra>",
         "legendgroup": "5810 - Aus- und Weiterbildung",
         "marker": {
          "color": "#FF97FF",
          "pattern": {
           "shape": ""
          }
         },
         "name": "5810 - Aus- und Weiterbildung",
         "offsetgroup": "5810 - Aus- und Weiterbildung",
         "orientation": "v",
         "showlegend": true,
         "textposition": "auto",
         "x": [
          "2022-09",
          "2023-02"
         ],
         "xaxis": "x",
         "y": [
          710.0,
          710.0
         ],
         "yaxis": "y",
         "type": "bar"
        },
        {
         "alignmentgroup": "True",
         "hovertemplate": "Soll=5812 - Berufsbildungsfonds<br>YearMonth=%{x}<br>Betrag in Basiswährung=%{y}<extra></extra>",
         "legendgroup": "5812 - Berufsbildungsfonds",
         "marker": {
          "color": "#FECB52",
          "pattern": {
           "shape": ""
          }
         },
         "name": "5812 - Berufsbildungsfonds",
         "offsetgroup": "5812 - Berufsbildungsfonds",
         "orientation": "v",
         "showlegend": true,
         "textposition": "auto",
         "x": [
          "2022-09"
         ],
         "xaxis": "x",
         "y": [
          230.0
         ],
         "yaxis": "y",
         "type": "bar"
        },
        {
         "alignmentgroup": "True",
         "hovertemplate": "Soll=6360 - Abgaben, Gebühren, Bewilligungen<br>YearMonth=%{x}<br>Betrag in Basiswährung=%{y}<extra></extra>",
         "legendgroup": "6360 - Abgaben, Gebühren, Bewilligungen",
         "marker": {
          "color": "#636efa",
          "pattern": {
           "shape": ""
          }
         },
         "name": "6360 - Abgaben, Gebühren, Bewilligungen",
         "offsetgroup": "6360 - Abgaben, Gebühren, Bewilligungen",
         "orientation": "v",
         "showlegend": true,
         "textposition": "auto",
         "x": [
          "2022-09",
          "2022-10",
          "2023-03"
         ],
         "xaxis": "x",
         "y": [
          154.05,
          40.0,
          90.14
         ],
         "yaxis": "y",
         "type": "bar"
        },
        {
         "alignmentgroup": "True",
         "hovertemplate": "Soll=6099 - Sonstiger Raumaufwand<br>YearMonth=%{x}<br>Betrag in Basiswährung=%{y}<extra></extra>",
         "legendgroup": "6099 - Sonstiger Raumaufwand",
         "marker": {
          "color": "#EF553B",
          "pattern": {
           "shape": ""
          }
         },
         "name": "6099 - Sonstiger Raumaufwand",
         "offsetgroup": "6099 - Sonstiger Raumaufwand",
         "orientation": "v",
         "showlegend": true,
         "textposition": "auto",
         "x": [
          "2022-10",
          "2023-04",
          "2023-06"
         ],
         "xaxis": "x",
         "y": [
          31.66,
          259.35,
          941.69
         ],
         "yaxis": "y",
         "type": "bar"
        },
        {
         "alignmentgroup": "True",
         "hovertemplate": "Soll=6220 - Fahrzeugversicherung und Abgaben<br>YearMonth=%{x}<br>Betrag in Basiswährung=%{y}<extra></extra>",
         "legendgroup": "6220 - Fahrzeugversicherung und Abgaben",
         "marker": {
          "color": "#00cc96",
          "pattern": {
           "shape": ""
          }
         },
         "name": "6220 - Fahrzeugversicherung und Abgaben",
         "offsetgroup": "6220 - Fahrzeugversicherung und Abgaben",
         "orientation": "v",
         "showlegend": true,
         "textposition": "auto",
         "x": [
          "2022-10",
          "2022-11"
         ],
         "xaxis": "x",
         "y": [
          276.0,
          796.9
         ],
         "yaxis": "y",
         "type": "bar"
        },
        {
         "alignmentgroup": "True",
         "hovertemplate": "Soll=5008 - Übriger Personalaufwand<br>YearMonth=%{x}<br>Betrag in Basiswährung=%{y}<extra></extra>",
         "legendgroup": "5008 - Übriger Personalaufwand",
         "marker": {
          "color": "#ab63fa",
          "pattern": {
           "shape": ""
          }
         },
         "name": "5008 - Übriger Personalaufwand",
         "offsetgroup": "5008 - Übriger Personalaufwand",
         "orientation": "v",
         "showlegend": true,
         "textposition": "auto",
         "x": [
          "2022-12"
         ],
         "xaxis": "x",
         "y": [
          322.22
         ],
         "yaxis": "y",
         "type": "bar"
        },
        {
         "alignmentgroup": "True",
         "hovertemplate": "Soll=5730 - Unfallversicherung<br>YearMonth=%{x}<br>Betrag in Basiswährung=%{y}<extra></extra>",
         "legendgroup": "5730 - Unfallversicherung",
         "marker": {
          "color": "#FFA15A",
          "pattern": {
           "shape": ""
          }
         },
         "name": "5730 - Unfallversicherung",
         "offsetgroup": "5730 - Unfallversicherung",
         "orientation": "v",
         "showlegend": true,
         "textposition": "auto",
         "x": [
          "2022-12",
          "2023-03"
         ],
         "xaxis": "x",
         "y": [
          1276.4,
          569.3
         ],
         "yaxis": "y",
         "type": "bar"
        },
        {
         "alignmentgroup": "True",
         "hovertemplate": "Soll=6800 - Abschreibung Anlagevermögen<br>YearMonth=%{x}<br>Betrag in Basiswährung=%{y}<extra></extra>",
         "legendgroup": "6800 - Abschreibung Anlagevermögen",
         "marker": {
          "color": "#19d3f3",
          "pattern": {
           "shape": ""
          }
         },
         "name": "6800 - Abschreibung Anlagevermögen",
         "offsetgroup": "6800 - Abschreibung Anlagevermögen",
         "orientation": "v",
         "showlegend": true,
         "textposition": "auto",
         "x": [
          "2022-12"
         ],
         "xaxis": "x",
         "y": [
          2600.0
         ],
         "yaxis": "y",
         "type": "bar"
        },
        {
         "alignmentgroup": "True",
         "hovertemplate": "Soll=6300 - Sachversicherungen<br>YearMonth=%{x}<br>Betrag in Basiswährung=%{y}<extra></extra>",
         "legendgroup": "6300 - Sachversicherungen",
         "marker": {
          "color": "#FF6692",
          "pattern": {
           "shape": ""
          }
         },
         "name": "6300 - Sachversicherungen",
         "offsetgroup": "6300 - Sachversicherungen",
         "orientation": "v",
         "showlegend": true,
         "textposition": "auto",
         "x": [
          "2023-05"
         ],
         "xaxis": "x",
         "y": [
          595.95
         ],
         "yaxis": "y",
         "type": "bar"
        }
       ],
       "layout": {
        "template": {
         "data": {
          "histogram2dcontour": [
           {
            "type": "histogram2dcontour",
            "colorbar": {
             "outlinewidth": 0,
             "ticks": ""
            },
            "colorscale": [
             [
              0.0,
              "#0d0887"
             ],
             [
              0.1111111111111111,
              "#46039f"
             ],
             [
              0.2222222222222222,
              "#7201a8"
             ],
             [
              0.3333333333333333,
              "#9c179e"
             ],
             [
              0.4444444444444444,
              "#bd3786"
             ],
             [
              0.5555555555555556,
              "#d8576b"
             ],
             [
              0.6666666666666666,
              "#ed7953"
             ],
             [
              0.7777777777777778,
              "#fb9f3a"
             ],
             [
              0.8888888888888888,
              "#fdca26"
             ],
             [
              1.0,
              "#f0f921"
             ]
            ]
           }
          ],
          "choropleth": [
           {
            "type": "choropleth",
            "colorbar": {
             "outlinewidth": 0,
             "ticks": ""
            }
           }
          ],
          "histogram2d": [
           {
            "type": "histogram2d",
            "colorbar": {
             "outlinewidth": 0,
             "ticks": ""
            },
            "colorscale": [
             [
              0.0,
              "#0d0887"
             ],
             [
              0.1111111111111111,
              "#46039f"
             ],
             [
              0.2222222222222222,
              "#7201a8"
             ],
             [
              0.3333333333333333,
              "#9c179e"
             ],
             [
              0.4444444444444444,
              "#bd3786"
             ],
             [
              0.5555555555555556,
              "#d8576b"
             ],
             [
              0.6666666666666666,
              "#ed7953"
             ],
             [
              0.7777777777777778,
              "#fb9f3a"
             ],
             [
              0.8888888888888888,
              "#fdca26"
             ],
             [
              1.0,
              "#f0f921"
             ]
            ]
           }
          ],
          "heatmap": [
           {
            "type": "heatmap",
            "colorbar": {
             "outlinewidth": 0,
             "ticks": ""
            },
            "colorscale": [
             [
              0.0,
              "#0d0887"
             ],
             [
              0.1111111111111111,
              "#46039f"
             ],
             [
              0.2222222222222222,
              "#7201a8"
             ],
             [
              0.3333333333333333,
              "#9c179e"
             ],
             [
              0.4444444444444444,
              "#bd3786"
             ],
             [
              0.5555555555555556,
              "#d8576b"
             ],
             [
              0.6666666666666666,
              "#ed7953"
             ],
             [
              0.7777777777777778,
              "#fb9f3a"
             ],
             [
              0.8888888888888888,
              "#fdca26"
             ],
             [
              1.0,
              "#f0f921"
             ]
            ]
           }
          ],
          "heatmapgl": [
           {
            "type": "heatmapgl",
            "colorbar": {
             "outlinewidth": 0,
             "ticks": ""
            },
            "colorscale": [
             [
              0.0,
              "#0d0887"
             ],
             [
              0.1111111111111111,
              "#46039f"
             ],
             [
              0.2222222222222222,
              "#7201a8"
             ],
             [
              0.3333333333333333,
              "#9c179e"
             ],
             [
              0.4444444444444444,
              "#bd3786"
             ],
             [
              0.5555555555555556,
              "#d8576b"
             ],
             [
              0.6666666666666666,
              "#ed7953"
             ],
             [
              0.7777777777777778,
              "#fb9f3a"
             ],
             [
              0.8888888888888888,
              "#fdca26"
             ],
             [
              1.0,
              "#f0f921"
             ]
            ]
           }
          ],
          "contourcarpet": [
           {
            "type": "contourcarpet",
            "colorbar": {
             "outlinewidth": 0,
             "ticks": ""
            }
           }
          ],
          "contour": [
           {
            "type": "contour",
            "colorbar": {
             "outlinewidth": 0,
             "ticks": ""
            },
            "colorscale": [
             [
              0.0,
              "#0d0887"
             ],
             [
              0.1111111111111111,
              "#46039f"
             ],
             [
              0.2222222222222222,
              "#7201a8"
             ],
             [
              0.3333333333333333,
              "#9c179e"
             ],
             [
              0.4444444444444444,
              "#bd3786"
             ],
             [
              0.5555555555555556,
              "#d8576b"
             ],
             [
              0.6666666666666666,
              "#ed7953"
             ],
             [
              0.7777777777777778,
              "#fb9f3a"
             ],
             [
              0.8888888888888888,
              "#fdca26"
             ],
             [
              1.0,
              "#f0f921"
             ]
            ]
           }
          ],
          "surface": [
           {
            "type": "surface",
            "colorbar": {
             "outlinewidth": 0,
             "ticks": ""
            },
            "colorscale": [
             [
              0.0,
              "#0d0887"
             ],
             [
              0.1111111111111111,
              "#46039f"
             ],
             [
              0.2222222222222222,
              "#7201a8"
             ],
             [
              0.3333333333333333,
              "#9c179e"
             ],
             [
              0.4444444444444444,
              "#bd3786"
             ],
             [
              0.5555555555555556,
              "#d8576b"
             ],
             [
              0.6666666666666666,
              "#ed7953"
             ],
             [
              0.7777777777777778,
              "#fb9f3a"
             ],
             [
              0.8888888888888888,
              "#fdca26"
             ],
             [
              1.0,
              "#f0f921"
             ]
            ]
           }
          ],
          "mesh3d": [
           {
            "type": "mesh3d",
            "colorbar": {
             "outlinewidth": 0,
             "ticks": ""
            }
           }
          ],
          "scatter": [
           {
            "marker": {
             "line": {
              "color": "#283442"
             }
            },
            "type": "scatter"
           }
          ],
          "parcoords": [
           {
            "type": "parcoords",
            "line": {
             "colorbar": {
              "outlinewidth": 0,
              "ticks": ""
             }
            }
           }
          ],
          "scatterpolargl": [
           {
            "type": "scatterpolargl",
            "marker": {
             "colorbar": {
              "outlinewidth": 0,
              "ticks": ""
             }
            }
           }
          ],
          "bar": [
           {
            "error_x": {
             "color": "#f2f5fa"
            },
            "error_y": {
             "color": "#f2f5fa"
            },
            "marker": {
             "line": {
              "color": "rgb(17,17,17)",
              "width": 0.5
             },
             "pattern": {
              "fillmode": "overlay",
              "size": 10,
              "solidity": 0.2
             }
            },
            "type": "bar"
           }
          ],
          "scattergeo": [
           {
            "type": "scattergeo",
            "marker": {
             "colorbar": {
              "outlinewidth": 0,
              "ticks": ""
             }
            }
           }
          ],
          "scatterpolar": [
           {
            "type": "scatterpolar",
            "marker": {
             "colorbar": {
              "outlinewidth": 0,
              "ticks": ""
             }
            }
           }
          ],
          "histogram": [
           {
            "marker": {
             "pattern": {
              "fillmode": "overlay",
              "size": 10,
              "solidity": 0.2
             }
            },
            "type": "histogram"
           }
          ],
          "scattergl": [
           {
            "marker": {
             "line": {
              "color": "#283442"
             }
            },
            "type": "scattergl"
           }
          ],
          "scatter3d": [
           {
            "type": "scatter3d",
            "line": {
             "colorbar": {
              "outlinewidth": 0,
              "ticks": ""
             }
            },
            "marker": {
             "colorbar": {
              "outlinewidth": 0,
              "ticks": ""
             }
            }
           }
          ],
          "scattermapbox": [
           {
            "type": "scattermapbox",
            "marker": {
             "colorbar": {
              "outlinewidth": 0,
              "ticks": ""
             }
            }
           }
          ],
          "scatterternary": [
           {
            "type": "scatterternary",
            "marker": {
             "colorbar": {
              "outlinewidth": 0,
              "ticks": ""
             }
            }
           }
          ],
          "scattercarpet": [
           {
            "type": "scattercarpet",
            "marker": {
             "colorbar": {
              "outlinewidth": 0,
              "ticks": ""
             }
            }
           }
          ],
          "carpet": [
           {
            "aaxis": {
             "endlinecolor": "#A2B1C6",
             "gridcolor": "#506784",
             "linecolor": "#506784",
             "minorgridcolor": "#506784",
             "startlinecolor": "#A2B1C6"
            },
            "baxis": {
             "endlinecolor": "#A2B1C6",
             "gridcolor": "#506784",
             "linecolor": "#506784",
             "minorgridcolor": "#506784",
             "startlinecolor": "#A2B1C6"
            },
            "type": "carpet"
           }
          ],
          "table": [
           {
            "cells": {
             "fill": {
              "color": "#506784"
             },
             "line": {
              "color": "rgb(17,17,17)"
             }
            },
            "header": {
             "fill": {
              "color": "#2a3f5f"
             },
             "line": {
              "color": "rgb(17,17,17)"
             }
            },
            "type": "table"
           }
          ],
          "barpolar": [
           {
            "marker": {
             "line": {
              "color": "rgb(17,17,17)",
              "width": 0.5
             },
             "pattern": {
              "fillmode": "overlay",
              "size": 10,
              "solidity": 0.2
             }
            },
            "type": "barpolar"
           }
          ],
          "pie": [
           {
            "automargin": true,
            "type": "pie"
           }
          ]
         },
         "layout": {
          "autotypenumbers": "strict",
          "colorway": [
           "#636efa",
           "#EF553B",
           "#00cc96",
           "#ab63fa",
           "#FFA15A",
           "#19d3f3",
           "#FF6692",
           "#B6E880",
           "#FF97FF",
           "#FECB52"
          ],
          "font": {
           "color": "#f2f5fa"
          },
          "hovermode": "closest",
          "hoverlabel": {
           "align": "left"
          },
          "paper_bgcolor": "rgb(17,17,17)",
          "plot_bgcolor": "rgb(17,17,17)",
          "polar": {
           "bgcolor": "rgb(17,17,17)",
           "angularaxis": {
            "gridcolor": "#506784",
            "linecolor": "#506784",
            "ticks": ""
           },
           "radialaxis": {
            "gridcolor": "#506784",
            "linecolor": "#506784",
            "ticks": ""
           }
          },
          "ternary": {
           "bgcolor": "rgb(17,17,17)",
           "aaxis": {
            "gridcolor": "#506784",
            "linecolor": "#506784",
            "ticks": ""
           },
           "baxis": {
            "gridcolor": "#506784",
            "linecolor": "#506784",
            "ticks": ""
           },
           "caxis": {
            "gridcolor": "#506784",
            "linecolor": "#506784",
            "ticks": ""
           }
          },
          "coloraxis": {
           "colorbar": {
            "outlinewidth": 0,
            "ticks": ""
           }
          },
          "colorscale": {
           "sequential": [
            [
             0.0,
             "#0d0887"
            ],
            [
             0.1111111111111111,
             "#46039f"
            ],
            [
             0.2222222222222222,
             "#7201a8"
            ],
            [
             0.3333333333333333,
             "#9c179e"
            ],
            [
             0.4444444444444444,
             "#bd3786"
            ],
            [
             0.5555555555555556,
             "#d8576b"
            ],
            [
             0.6666666666666666,
             "#ed7953"
            ],
            [
             0.7777777777777778,
             "#fb9f3a"
            ],
            [
             0.8888888888888888,
             "#fdca26"
            ],
            [
             1.0,
             "#f0f921"
            ]
           ],
           "sequentialminus": [
            [
             0.0,
             "#0d0887"
            ],
            [
             0.1111111111111111,
             "#46039f"
            ],
            [
             0.2222222222222222,
             "#7201a8"
            ],
            [
             0.3333333333333333,
             "#9c179e"
            ],
            [
             0.4444444444444444,
             "#bd3786"
            ],
            [
             0.5555555555555556,
             "#d8576b"
            ],
            [
             0.6666666666666666,
             "#ed7953"
            ],
            [
             0.7777777777777778,
             "#fb9f3a"
            ],
            [
             0.8888888888888888,
             "#fdca26"
            ],
            [
             1.0,
             "#f0f921"
            ]
           ],
           "diverging": [
            [
             0,
             "#8e0152"
            ],
            [
             0.1,
             "#c51b7d"
            ],
            [
             0.2,
             "#de77ae"
            ],
            [
             0.3,
             "#f1b6da"
            ],
            [
             0.4,
             "#fde0ef"
            ],
            [
             0.5,
             "#f7f7f7"
            ],
            [
             0.6,
             "#e6f5d0"
            ],
            [
             0.7,
             "#b8e186"
            ],
            [
             0.8,
             "#7fbc41"
            ],
            [
             0.9,
             "#4d9221"
            ],
            [
             1,
             "#276419"
            ]
           ]
          },
          "xaxis": {
           "gridcolor": "#283442",
           "linecolor": "#506784",
           "ticks": "",
           "title": {
            "standoff": 15
           },
           "zerolinecolor": "#283442",
           "automargin": true,
           "zerolinewidth": 2
          },
          "yaxis": {
           "gridcolor": "#283442",
           "linecolor": "#506784",
           "ticks": "",
           "title": {
            "standoff": 15
           },
           "zerolinecolor": "#283442",
           "automargin": true,
           "zerolinewidth": 2
          },
          "scene": {
           "xaxis": {
            "backgroundcolor": "rgb(17,17,17)",
            "gridcolor": "#506784",
            "linecolor": "#506784",
            "showbackground": true,
            "ticks": "",
            "zerolinecolor": "#C8D4E3",
            "gridwidth": 2
           },
           "yaxis": {
            "backgroundcolor": "rgb(17,17,17)",
            "gridcolor": "#506784",
            "linecolor": "#506784",
            "showbackground": true,
            "ticks": "",
            "zerolinecolor": "#C8D4E3",
            "gridwidth": 2
           },
           "zaxis": {
            "backgroundcolor": "rgb(17,17,17)",
            "gridcolor": "#506784",
            "linecolor": "#506784",
            "showbackground": true,
            "ticks": "",
            "zerolinecolor": "#C8D4E3",
            "gridwidth": 2
           }
          },
          "shapedefaults": {
           "line": {
            "color": "#f2f5fa"
           }
          },
          "annotationdefaults": {
           "arrowcolor": "#f2f5fa",
           "arrowhead": 0,
           "arrowwidth": 1
          },
          "geo": {
           "bgcolor": "rgb(17,17,17)",
           "landcolor": "rgb(17,17,17)",
           "subunitcolor": "#506784",
           "showland": true,
           "showlakes": true,
           "lakecolor": "rgb(17,17,17)"
          },
          "title": {
           "x": 0.05
          },
          "updatemenudefaults": {
           "bgcolor": "#506784",
           "borderwidth": 0
          },
          "sliderdefaults": {
           "bgcolor": "#C8D4E3",
           "borderwidth": 1,
           "bordercolor": "rgb(17,17,17)",
           "tickwidth": 0
          },
          "mapbox": {
           "style": "dark"
          }
         }
        },
        "xaxis": {
         "anchor": "y",
         "domain": [
          0.0,
          1.0
         ],
         "title": {
          "text": "Monate"
         },
         "type": "category",
         "categoryorder": "category ascending"
        },
        "yaxis": {
         "anchor": "x",
         "domain": [
          0.0,
          1.0
         ],
         "title": {
          "text": "Aufwand in CHF"
         }
        },
        "legend": {
         "title": {
          "text": "Soll"
         },
         "tracegroupgap": 0
        },
        "margin": {
         "t": 60
        },
        "barmode": "relative",
        "height": 400,
        "shapes": [
         {
          "line": {
           "color": "red",
           "dash": "dash"
          },
          "type": "line",
          "x0": 0,
          "x1": 1,
          "xref": "x domain",
          "y0": 12620.849999999999,
          "y1": 12620.849999999999,
          "yref": "y"
         }
        ],
        "annotations": [
         {
          "showarrow": false,
          "text": "Average: 12620.85",
          "x": 1,
          "xanchor": "right",
          "xref": "x domain",
          "y": 12620.849999999999,
          "yanchor": "bottom",
          "yref": "y"
         }
        ],
        "title": {
         "text": "Aufwand der letzten 12 Monate (gem. Journal)"
        }
       },
       "config": {
        "plotlyServerURL": "https://plot.ly"
       }
      },
      "text/html": "<div>                            <div id=\"b463ac65-72c7-4ef7-a791-884db3354429\" class=\"plotly-graph-div\" style=\"height:400px; width:100%;\"></div>            <script type=\"text/javascript\">                require([\"plotly\"], function(Plotly) {                    window.PLOTLYENV=window.PLOTLYENV || {};                                    if (document.getElementById(\"b463ac65-72c7-4ef7-a791-884db3354429\")) {                    Plotly.newPlot(                        \"b463ac65-72c7-4ef7-a791-884db3354429\",                        [{\"alignmentgroup\":\"True\",\"hovertemplate\":\"Soll=4400 - Energieberatung\\u003cbr\\u003eYearMonth=%{x}\\u003cbr\\u003eBetrag in Basisw\\u00e4hrung=%{y}\\u003cextra\\u003e\\u003c\\u002fextra\\u003e\",\"legendgroup\":\"4400 - Energieberatung\",\"marker\":{\"color\":\"#636efa\",\"pattern\":{\"shape\":\"\"}},\"name\":\"4400 - Energieberatung\",\"offsetgroup\":\"4400 - Energieberatung\",\"orientation\":\"v\",\"showlegend\":true,\"textposition\":\"auto\",\"x\":[\"2022-07\",\"2022-09\",\"2022-10\",\"2022-11\",\"2022-12\",\"2023-02\",\"2023-03\",\"2023-04\",\"2023-05\"],\"xaxis\":\"x\",\"y\":[278.55,278.55,139.28,990.02,1500.0,696.38,663.6,417.83,529.25],\"yaxis\":\"y\",\"type\":\"bar\"},{\"alignmentgroup\":\"True\",\"hovertemplate\":\"Soll=5000 - L\\u00f6hne\\u003cbr\\u003eYearMonth=%{x}\\u003cbr\\u003eBetrag in Basisw\\u00e4hrung=%{y}\\u003cextra\\u003e\\u003c\\u002fextra\\u003e\",\"legendgroup\":\"5000 - L\\u00f6hne\",\"marker\":{\"color\":\"#EF553B\",\"pattern\":{\"shape\":\"\"}},\"name\":\"5000 - L\\u00f6hne\",\"offsetgroup\":\"5000 - L\\u00f6hne\",\"orientation\":\"v\",\"showlegend\":true,\"textposition\":\"auto\",\"x\":[\"2022-07\",\"2022-08\",\"2022-09\",\"2022-10\",\"2022-11\",\"2022-12\",\"2023-02\",\"2023-03\",\"2023-04\"],\"xaxis\":\"x\",\"y\":[7709.75,7709.75,7709.75,7709.75,7709.75,7709.75,15419.5,7709.75,7709.75],\"yaxis\":\"y\",\"type\":\"bar\"},{\"alignmentgroup\":\"True\",\"hovertemplate\":\"Soll=5881 - Snack Attack\\u003cbr\\u003eYearMonth=%{x}\\u003cbr\\u003eBetrag in Basisw\\u00e4hrung=%{y}\\u003cextra\\u003e\\u003c\\u002fextra\\u003e\",\"legendgroup\":\"5881 - Snack Attack\",\"marker\":{\"color\":\"#00cc96\",\"pattern\":{\"shape\":\"\"}},\"name\":\"5881 - Snack Attack\",\"offsetgroup\":\"5881 - Snack Attack\",\"orientation\":\"v\",\"showlegend\":true,\"textposition\":\"auto\",\"x\":[\"2022-07\",\"2022-08\",\"2022-09\",\"2022-12\",\"2023-05\",\"2023-06\"],\"xaxis\":\"x\",\"y\":[55.04,403.04,46.699999999999996,16.49,2.54,7.32],\"yaxis\":\"y\",\"type\":\"bar\"},{\"alignmentgroup\":\"True\",\"hovertemplate\":\"Soll=6000 - Miete\\u003cbr\\u003eYearMonth=%{x}\\u003cbr\\u003eBetrag in Basisw\\u00e4hrung=%{y}\\u003cextra\\u003e\\u003c\\u002fextra\\u003e\",\"legendgroup\":\"6000 - Miete\",\"marker\":{\"color\":\"#ab63fa\",\"pattern\":{\"shape\":\"\"}},\"name\":\"6000 - Miete\",\"offsetgroup\":\"6000 - Miete\",\"orientation\":\"v\",\"showlegend\":true,\"textposition\":\"auto\",\"x\":[\"2022-07\",\"2022-08\",\"2022-09\",\"2022-10\",\"2022-11\",\"2022-12\",\"2023-01\",\"2023-02\",\"2023-03\",\"2023-04\",\"2023-06\"],\"xaxis\":\"x\",\"y\":[1373.25,130.0,2616.5,1243.25,1243.25,1243.25,1243.25,1372.7,1286.4,1286.4,651.05],\"yaxis\":\"y\",\"type\":\"bar\"},{\"alignmentgroup\":\"True\",\"hovertemplate\":\"Soll=6500 - B\\u00fcromaterial\\u003cbr\\u003eYearMonth=%{x}\\u003cbr\\u003eBetrag in Basisw\\u00e4hrung=%{y}\\u003cextra\\u003e\\u003c\\u002fextra\\u003e\",\"legendgroup\":\"6500 - B\\u00fcromaterial\",\"marker\":{\"color\":\"#FFA15A\",\"pattern\":{\"shape\":\"\"}},\"name\":\"6500 - B\\u00fcromaterial\",\"offsetgroup\":\"6500 - B\\u00fcromaterial\",\"orientation\":\"v\",\"showlegend\":true,\"textposition\":\"auto\",\"x\":[\"2022-07\",\"2022-08\",\"2022-09\",\"2022-10\",\"2022-11\",\"2023-01\",\"2023-04\",\"2023-06\"],\"xaxis\":\"x\",\"y\":[234.20999999999998,140.13000000000002,482.11,381.99,60.269999999999996,255.10999999999999,467.59,11.95],\"yaxis\":\"y\",\"type\":\"bar\"},{\"alignmentgroup\":\"True\",\"hovertemplate\":\"Soll=6530 - Buchf\\u00fchrung\\u003cbr\\u003eYearMonth=%{x}\\u003cbr\\u003eBetrag in Basisw\\u00e4hrung=%{y}\\u003cextra\\u003e\\u003c\\u002fextra\\u003e\",\"legendgroup\":\"6530 - Buchf\\u00fchrung\",\"marker\":{\"color\":\"#19d3f3\",\"pattern\":{\"shape\":\"\"}},\"name\":\"6530 - Buchf\\u00fchrung\",\"offsetgroup\":\"6530 - Buchf\\u00fchrung\",\"orientation\":\"v\",\"showlegend\":true,\"textposition\":\"auto\",\"x\":[\"2022-07\",\"2022-08\",\"2022-09\",\"2022-10\",\"2022-11\",\"2022-12\",\"2023-01\",\"2023-02\"],\"xaxis\":\"x\",\"y\":[53.39,53.39,53.39,53.39,53.39,53.39,53.39,93.78],\"yaxis\":\"y\",\"type\":\"bar\"},{\"alignmentgroup\":\"True\",\"hovertemplate\":\"Soll=6570 - Informatikaufwand\\u003cbr\\u003eYearMonth=%{x}\\u003cbr\\u003eBetrag in Basisw\\u00e4hrung=%{y}\\u003cextra\\u003e\\u003c\\u002fextra\\u003e\",\"legendgroup\":\"6570 - Informatikaufwand\",\"marker\":{\"color\":\"#FF6692\",\"pattern\":{\"shape\":\"\"}},\"name\":\"6570 - Informatikaufwand\",\"offsetgroup\":\"6570 - Informatikaufwand\",\"orientation\":\"v\",\"showlegend\":true,\"textposition\":\"auto\",\"x\":[\"2022-07\",\"2022-08\",\"2022-09\",\"2022-10\",\"2022-11\",\"2022-12\",\"2023-01\",\"2023-02\",\"2023-03\",\"2023-04\",\"2023-05\",\"2023-06\"],\"xaxis\":\"x\",\"y\":[394.47,1343.39,554.1700000000001,169.45,169.32999999999998,288.64,106.13,104.83,107.11,116.35,103.53,389.37],\"yaxis\":\"y\",\"type\":\"bar\"},{\"alignmentgroup\":\"True\",\"hovertemplate\":\"Soll=6940 - Bankspesen\\u003cbr\\u003eYearMonth=%{x}\\u003cbr\\u003eBetrag in Basisw\\u00e4hrung=%{y}\\u003cextra\\u003e\\u003c\\u002fextra\\u003e\",\"legendgroup\":\"6940 - Bankspesen\",\"marker\":{\"color\":\"#B6E880\",\"pattern\":{\"shape\":\"\"}},\"name\":\"6940 - Bankspesen\",\"offsetgroup\":\"6940 - Bankspesen\",\"orientation\":\"v\",\"showlegend\":true,\"textposition\":\"auto\",\"x\":[\"2022-07\",\"2022-08\",\"2022-09\",\"2022-10\",\"2022-11\",\"2022-12\",\"2023-01\",\"2023-02\",\"2023-03\",\"2023-04\"],\"xaxis\":\"x\",\"y\":[5.0,7.0,5.0,38.95,5.0,87.72,5.0,5.0,5.0,5.0],\"yaxis\":\"y\",\"type\":\"bar\"},{\"alignmentgroup\":\"True\",\"hovertemplate\":\"Soll=5880 - Personalanl\\u00e4sse\\u003cbr\\u003eYearMonth=%{x}\\u003cbr\\u003eBetrag in Basisw\\u00e4hrung=%{y}\\u003cextra\\u003e\\u003c\\u002fextra\\u003e\",\"legendgroup\":\"5880 - Personalanl\\u00e4sse\",\"marker\":{\"color\":\"#FF97FF\",\"pattern\":{\"shape\":\"\"}},\"name\":\"5880 - Personalanl\\u00e4sse\",\"offsetgroup\":\"5880 - Personalanl\\u00e4sse\",\"orientation\":\"v\",\"showlegend\":true,\"textposition\":\"auto\",\"x\":[\"2022-08\",\"2022-10\",\"2022-11\"],\"xaxis\":\"x\",\"y\":[3142.87,91.32,134.12],\"yaxis\":\"y\",\"type\":\"bar\"},{\"alignmentgroup\":\"True\",\"hovertemplate\":\"Soll=6030 - Nebenkosten\\u003cbr\\u003eYearMonth=%{x}\\u003cbr\\u003eBetrag in Basisw\\u00e4hrung=%{y}\\u003cextra\\u003e\\u003c\\u002fextra\\u003e\",\"legendgroup\":\"6030 - Nebenkosten\",\"marker\":{\"color\":\"#FECB52\",\"pattern\":{\"shape\":\"\"}},\"name\":\"6030 - Nebenkosten\",\"offsetgroup\":\"6030 - Nebenkosten\",\"orientation\":\"v\",\"showlegend\":true,\"textposition\":\"auto\",\"x\":[\"2022-08\",\"2022-11\",\"2023-01\"],\"xaxis\":\"x\",\"y\":[109.65,226.6,115.75],\"yaxis\":\"y\",\"type\":\"bar\"},{\"alignmentgroup\":\"True\",\"hovertemplate\":\"Soll=6200 - Fahrzeugunterhalt\\u003cbr\\u003eYearMonth=%{x}\\u003cbr\\u003eBetrag in Basisw\\u00e4hrung=%{y}\\u003cextra\\u003e\\u003c\\u002fextra\\u003e\",\"legendgroup\":\"6200 - Fahrzeugunterhalt\",\"marker\":{\"color\":\"#636efa\",\"pattern\":{\"shape\":\"\"}},\"name\":\"6200 - Fahrzeugunterhalt\",\"offsetgroup\":\"6200 - Fahrzeugunterhalt\",\"orientation\":\"v\",\"showlegend\":true,\"textposition\":\"auto\",\"x\":[\"2022-08\",\"2022-09\",\"2022-12\"],\"xaxis\":\"x\",\"y\":[368.01,25.0,726.88],\"yaxis\":\"y\",\"type\":\"bar\"},{\"alignmentgroup\":\"True\",\"hovertemplate\":\"Soll=6210 - Betriebsstoffe\\u003cbr\\u003eYearMonth=%{x}\\u003cbr\\u003eBetrag in Basisw\\u00e4hrung=%{y}\\u003cextra\\u003e\\u003c\\u002fextra\\u003e\",\"legendgroup\":\"6210 - Betriebsstoffe\",\"marker\":{\"color\":\"#EF553B\",\"pattern\":{\"shape\":\"\"}},\"name\":\"6210 - Betriebsstoffe\",\"offsetgroup\":\"6210 - Betriebsstoffe\",\"orientation\":\"v\",\"showlegend\":true,\"textposition\":\"auto\",\"x\":[\"2022-08\",\"2022-09\",\"2022-10\",\"2022-11\",\"2022-12\",\"2023-01\",\"2023-02\",\"2023-03\",\"2023-04\",\"2023-05\",\"2023-06\"],\"xaxis\":\"x\",\"y\":[238.05,67.18,86.58,150.7,247.52,109.52,135.52,74.23,75.07,79.67,148.89],\"yaxis\":\"y\",\"type\":\"bar\"},{\"alignmentgroup\":\"True\",\"hovertemplate\":\"Soll=6600 - Werbeinserate, elektronische Medien\\u003cbr\\u003eYearMonth=%{x}\\u003cbr\\u003eBetrag in Basisw\\u00e4hrung=%{y}\\u003cextra\\u003e\\u003c\\u002fextra\\u003e\",\"legendgroup\":\"6600 - Werbeinserate, elektronische Medien\",\"marker\":{\"color\":\"#00cc96\",\"pattern\":{\"shape\":\"\"}},\"name\":\"6600 - Werbeinserate, elektronische Medien\",\"offsetgroup\":\"6600 - Werbeinserate, elektronische Medien\",\"orientation\":\"v\",\"showlegend\":true,\"textposition\":\"auto\",\"x\":[\"2022-08\",\"2022-09\",\"2022-10\",\"2022-11\",\"2022-12\"],\"xaxis\":\"x\",\"y\":[385.1,710.4100000000001,175.93,558.0,754.7],\"yaxis\":\"y\",\"type\":\"bar\"},{\"alignmentgroup\":\"True\",\"hovertemplate\":\"Soll=6641 - Kundenbetreuung\\u003cbr\\u003eYearMonth=%{x}\\u003cbr\\u003eBetrag in Basisw\\u00e4hrung=%{y}\\u003cextra\\u003e\\u003c\\u002fextra\\u003e\",\"legendgroup\":\"6641 - Kundenbetreuung\",\"marker\":{\"color\":\"#ab63fa\",\"pattern\":{\"shape\":\"\"}},\"name\":\"6641 - Kundenbetreuung\",\"offsetgroup\":\"6641 - Kundenbetreuung\",\"orientation\":\"v\",\"showlegend\":true,\"textposition\":\"auto\",\"x\":[\"2022-08\",\"2022-12\"],\"xaxis\":\"x\",\"y\":[620.79,112.15],\"yaxis\":\"y\",\"type\":\"bar\"},{\"alignmentgroup\":\"True\",\"hovertemplate\":\"Soll=6660 - Sonstiger Werbeaufwand\\u003cbr\\u003eYearMonth=%{x}\\u003cbr\\u003eBetrag in Basisw\\u00e4hrung=%{y}\\u003cextra\\u003e\\u003c\\u002fextra\\u003e\",\"legendgroup\":\"6660 - Sonstiger Werbeaufwand\",\"marker\":{\"color\":\"#FFA15A\",\"pattern\":{\"shape\":\"\"}},\"name\":\"6660 - Sonstiger Werbeaufwand\",\"offsetgroup\":\"6660 - Sonstiger Werbeaufwand\",\"orientation\":\"v\",\"showlegend\":true,\"textposition\":\"auto\",\"x\":[\"2022-08\",\"2022-09\",\"2023-03\"],\"xaxis\":\"x\",\"y\":[135.54,58.66,850.0],\"yaxis\":\"y\",\"type\":\"bar\"},{\"alignmentgroup\":\"True\",\"hovertemplate\":\"Soll=6700 - Sonstiger Betriebsaufwand\\u003cbr\\u003eYearMonth=%{x}\\u003cbr\\u003eBetrag in Basisw\\u00e4hrung=%{y}\\u003cextra\\u003e\\u003c\\u002fextra\\u003e\",\"legendgroup\":\"6700 - Sonstiger Betriebsaufwand\",\"marker\":{\"color\":\"#19d3f3\",\"pattern\":{\"shape\":\"\"}},\"name\":\"6700 - Sonstiger Betriebsaufwand\",\"offsetgroup\":\"6700 - Sonstiger Betriebsaufwand\",\"orientation\":\"v\",\"showlegend\":true,\"textposition\":\"auto\",\"x\":[\"2022-08\",\"2022-09\",\"2022-10\",\"2022-11\"],\"xaxis\":\"x\",\"y\":[1011.14,92.42,274.66,272.66],\"yaxis\":\"y\",\"type\":\"bar\"},{\"alignmentgroup\":\"True\",\"hovertemplate\":\"Soll=4402 - Planung HLK\\u003cbr\\u003eYearMonth=%{x}\\u003cbr\\u003eBetrag in Basisw\\u00e4hrung=%{y}\\u003cextra\\u003e\\u003c\\u002fextra\\u003e\",\"legendgroup\":\"4402 - Planung HLK\",\"marker\":{\"color\":\"#FF6692\",\"pattern\":{\"shape\":\"\"}},\"name\":\"4402 - Planung HLK\",\"offsetgroup\":\"4402 - Planung HLK\",\"orientation\":\"v\",\"showlegend\":true,\"textposition\":\"auto\",\"x\":[\"2022-09\",\"2022-10\",\"2022-11\",\"2022-12\",\"2023-01\",\"2023-02\",\"2023-05\",\"2023-06\"],\"xaxis\":\"x\",\"y\":[28.51,244.01,28.51,5213.79,3516.94,2358.91,32.92,61.51],\"yaxis\":\"y\",\"type\":\"bar\"},{\"alignmentgroup\":\"True\",\"hovertemplate\":\"Soll=5700 - AHV, IV, EO, ALV\\u003cbr\\u003eYearMonth=%{x}\\u003cbr\\u003eBetrag in Basisw\\u00e4hrung=%{y}\\u003cextra\\u003e\\u003c\\u002fextra\\u003e\",\"legendgroup\":\"5700 - AHV, IV, EO, ALV\",\"marker\":{\"color\":\"#B6E880\",\"pattern\":{\"shape\":\"\"}},\"name\":\"5700 - AHV, IV, EO, ALV\",\"offsetgroup\":\"5700 - AHV, IV, EO, ALV\",\"orientation\":\"v\",\"showlegend\":true,\"textposition\":\"auto\",\"x\":[\"2022-09\",\"2022-12\",\"2023-03\",\"2023-06\"],\"xaxis\":\"x\",\"y\":[3695.45,3717.0,3628.0,3628.0],\"yaxis\":\"y\",\"type\":\"bar\"},{\"alignmentgroup\":\"True\",\"hovertemplate\":\"Soll=5810 - Aus- und Weiterbildung\\u003cbr\\u003eYearMonth=%{x}\\u003cbr\\u003eBetrag in Basisw\\u00e4hrung=%{y}\\u003cextra\\u003e\\u003c\\u002fextra\\u003e\",\"legendgroup\":\"5810 - Aus- und Weiterbildung\",\"marker\":{\"color\":\"#FF97FF\",\"pattern\":{\"shape\":\"\"}},\"name\":\"5810 - Aus- und Weiterbildung\",\"offsetgroup\":\"5810 - Aus- und Weiterbildung\",\"orientation\":\"v\",\"showlegend\":true,\"textposition\":\"auto\",\"x\":[\"2022-09\",\"2023-02\"],\"xaxis\":\"x\",\"y\":[710.0,710.0],\"yaxis\":\"y\",\"type\":\"bar\"},{\"alignmentgroup\":\"True\",\"hovertemplate\":\"Soll=5812 - Berufsbildungsfonds\\u003cbr\\u003eYearMonth=%{x}\\u003cbr\\u003eBetrag in Basisw\\u00e4hrung=%{y}\\u003cextra\\u003e\\u003c\\u002fextra\\u003e\",\"legendgroup\":\"5812 - Berufsbildungsfonds\",\"marker\":{\"color\":\"#FECB52\",\"pattern\":{\"shape\":\"\"}},\"name\":\"5812 - Berufsbildungsfonds\",\"offsetgroup\":\"5812 - Berufsbildungsfonds\",\"orientation\":\"v\",\"showlegend\":true,\"textposition\":\"auto\",\"x\":[\"2022-09\"],\"xaxis\":\"x\",\"y\":[230.0],\"yaxis\":\"y\",\"type\":\"bar\"},{\"alignmentgroup\":\"True\",\"hovertemplate\":\"Soll=6360 - Abgaben, Geb\\u00fchren, Bewilligungen\\u003cbr\\u003eYearMonth=%{x}\\u003cbr\\u003eBetrag in Basisw\\u00e4hrung=%{y}\\u003cextra\\u003e\\u003c\\u002fextra\\u003e\",\"legendgroup\":\"6360 - Abgaben, Geb\\u00fchren, Bewilligungen\",\"marker\":{\"color\":\"#636efa\",\"pattern\":{\"shape\":\"\"}},\"name\":\"6360 - Abgaben, Geb\\u00fchren, Bewilligungen\",\"offsetgroup\":\"6360 - Abgaben, Geb\\u00fchren, Bewilligungen\",\"orientation\":\"v\",\"showlegend\":true,\"textposition\":\"auto\",\"x\":[\"2022-09\",\"2022-10\",\"2023-03\"],\"xaxis\":\"x\",\"y\":[154.05,40.0,90.14],\"yaxis\":\"y\",\"type\":\"bar\"},{\"alignmentgroup\":\"True\",\"hovertemplate\":\"Soll=6099 - Sonstiger Raumaufwand\\u003cbr\\u003eYearMonth=%{x}\\u003cbr\\u003eBetrag in Basisw\\u00e4hrung=%{y}\\u003cextra\\u003e\\u003c\\u002fextra\\u003e\",\"legendgroup\":\"6099 - Sonstiger Raumaufwand\",\"marker\":{\"color\":\"#EF553B\",\"pattern\":{\"shape\":\"\"}},\"name\":\"6099 - Sonstiger Raumaufwand\",\"offsetgroup\":\"6099 - Sonstiger Raumaufwand\",\"orientation\":\"v\",\"showlegend\":true,\"textposition\":\"auto\",\"x\":[\"2022-10\",\"2023-04\",\"2023-06\"],\"xaxis\":\"x\",\"y\":[31.66,259.35,941.69],\"yaxis\":\"y\",\"type\":\"bar\"},{\"alignmentgroup\":\"True\",\"hovertemplate\":\"Soll=6220 - Fahrzeugversicherung und Abgaben\\u003cbr\\u003eYearMonth=%{x}\\u003cbr\\u003eBetrag in Basisw\\u00e4hrung=%{y}\\u003cextra\\u003e\\u003c\\u002fextra\\u003e\",\"legendgroup\":\"6220 - Fahrzeugversicherung und Abgaben\",\"marker\":{\"color\":\"#00cc96\",\"pattern\":{\"shape\":\"\"}},\"name\":\"6220 - Fahrzeugversicherung und Abgaben\",\"offsetgroup\":\"6220 - Fahrzeugversicherung und Abgaben\",\"orientation\":\"v\",\"showlegend\":true,\"textposition\":\"auto\",\"x\":[\"2022-10\",\"2022-11\"],\"xaxis\":\"x\",\"y\":[276.0,796.9],\"yaxis\":\"y\",\"type\":\"bar\"},{\"alignmentgroup\":\"True\",\"hovertemplate\":\"Soll=5008 - \\u00dcbriger Personalaufwand\\u003cbr\\u003eYearMonth=%{x}\\u003cbr\\u003eBetrag in Basisw\\u00e4hrung=%{y}\\u003cextra\\u003e\\u003c\\u002fextra\\u003e\",\"legendgroup\":\"5008 - \\u00dcbriger Personalaufwand\",\"marker\":{\"color\":\"#ab63fa\",\"pattern\":{\"shape\":\"\"}},\"name\":\"5008 - \\u00dcbriger Personalaufwand\",\"offsetgroup\":\"5008 - \\u00dcbriger Personalaufwand\",\"orientation\":\"v\",\"showlegend\":true,\"textposition\":\"auto\",\"x\":[\"2022-12\"],\"xaxis\":\"x\",\"y\":[322.22],\"yaxis\":\"y\",\"type\":\"bar\"},{\"alignmentgroup\":\"True\",\"hovertemplate\":\"Soll=5730 - Unfallversicherung\\u003cbr\\u003eYearMonth=%{x}\\u003cbr\\u003eBetrag in Basisw\\u00e4hrung=%{y}\\u003cextra\\u003e\\u003c\\u002fextra\\u003e\",\"legendgroup\":\"5730 - Unfallversicherung\",\"marker\":{\"color\":\"#FFA15A\",\"pattern\":{\"shape\":\"\"}},\"name\":\"5730 - Unfallversicherung\",\"offsetgroup\":\"5730 - Unfallversicherung\",\"orientation\":\"v\",\"showlegend\":true,\"textposition\":\"auto\",\"x\":[\"2022-12\",\"2023-03\"],\"xaxis\":\"x\",\"y\":[1276.4,569.3],\"yaxis\":\"y\",\"type\":\"bar\"},{\"alignmentgroup\":\"True\",\"hovertemplate\":\"Soll=6800 - Abschreibung Anlageverm\\u00f6gen\\u003cbr\\u003eYearMonth=%{x}\\u003cbr\\u003eBetrag in Basisw\\u00e4hrung=%{y}\\u003cextra\\u003e\\u003c\\u002fextra\\u003e\",\"legendgroup\":\"6800 - Abschreibung Anlageverm\\u00f6gen\",\"marker\":{\"color\":\"#19d3f3\",\"pattern\":{\"shape\":\"\"}},\"name\":\"6800 - Abschreibung Anlageverm\\u00f6gen\",\"offsetgroup\":\"6800 - Abschreibung Anlageverm\\u00f6gen\",\"orientation\":\"v\",\"showlegend\":true,\"textposition\":\"auto\",\"x\":[\"2022-12\"],\"xaxis\":\"x\",\"y\":[2600.0],\"yaxis\":\"y\",\"type\":\"bar\"},{\"alignmentgroup\":\"True\",\"hovertemplate\":\"Soll=6300 - Sachversicherungen\\u003cbr\\u003eYearMonth=%{x}\\u003cbr\\u003eBetrag in Basisw\\u00e4hrung=%{y}\\u003cextra\\u003e\\u003c\\u002fextra\\u003e\",\"legendgroup\":\"6300 - Sachversicherungen\",\"marker\":{\"color\":\"#FF6692\",\"pattern\":{\"shape\":\"\"}},\"name\":\"6300 - Sachversicherungen\",\"offsetgroup\":\"6300 - Sachversicherungen\",\"orientation\":\"v\",\"showlegend\":true,\"textposition\":\"auto\",\"x\":[\"2023-05\"],\"xaxis\":\"x\",\"y\":[595.95],\"yaxis\":\"y\",\"type\":\"bar\"}],                        {\"template\":{\"data\":{\"histogram2dcontour\":[{\"type\":\"histogram2dcontour\",\"colorbar\":{\"outlinewidth\":0,\"ticks\":\"\"},\"colorscale\":[[0.0,\"#0d0887\"],[0.1111111111111111,\"#46039f\"],[0.2222222222222222,\"#7201a8\"],[0.3333333333333333,\"#9c179e\"],[0.4444444444444444,\"#bd3786\"],[0.5555555555555556,\"#d8576b\"],[0.6666666666666666,\"#ed7953\"],[0.7777777777777778,\"#fb9f3a\"],[0.8888888888888888,\"#fdca26\"],[1.0,\"#f0f921\"]]}],\"choropleth\":[{\"type\":\"choropleth\",\"colorbar\":{\"outlinewidth\":0,\"ticks\":\"\"}}],\"histogram2d\":[{\"type\":\"histogram2d\",\"colorbar\":{\"outlinewidth\":0,\"ticks\":\"\"},\"colorscale\":[[0.0,\"#0d0887\"],[0.1111111111111111,\"#46039f\"],[0.2222222222222222,\"#7201a8\"],[0.3333333333333333,\"#9c179e\"],[0.4444444444444444,\"#bd3786\"],[0.5555555555555556,\"#d8576b\"],[0.6666666666666666,\"#ed7953\"],[0.7777777777777778,\"#fb9f3a\"],[0.8888888888888888,\"#fdca26\"],[1.0,\"#f0f921\"]]}],\"heatmap\":[{\"type\":\"heatmap\",\"colorbar\":{\"outlinewidth\":0,\"ticks\":\"\"},\"colorscale\":[[0.0,\"#0d0887\"],[0.1111111111111111,\"#46039f\"],[0.2222222222222222,\"#7201a8\"],[0.3333333333333333,\"#9c179e\"],[0.4444444444444444,\"#bd3786\"],[0.5555555555555556,\"#d8576b\"],[0.6666666666666666,\"#ed7953\"],[0.7777777777777778,\"#fb9f3a\"],[0.8888888888888888,\"#fdca26\"],[1.0,\"#f0f921\"]]}],\"heatmapgl\":[{\"type\":\"heatmapgl\",\"colorbar\":{\"outlinewidth\":0,\"ticks\":\"\"},\"colorscale\":[[0.0,\"#0d0887\"],[0.1111111111111111,\"#46039f\"],[0.2222222222222222,\"#7201a8\"],[0.3333333333333333,\"#9c179e\"],[0.4444444444444444,\"#bd3786\"],[0.5555555555555556,\"#d8576b\"],[0.6666666666666666,\"#ed7953\"],[0.7777777777777778,\"#fb9f3a\"],[0.8888888888888888,\"#fdca26\"],[1.0,\"#f0f921\"]]}],\"contourcarpet\":[{\"type\":\"contourcarpet\",\"colorbar\":{\"outlinewidth\":0,\"ticks\":\"\"}}],\"contour\":[{\"type\":\"contour\",\"colorbar\":{\"outlinewidth\":0,\"ticks\":\"\"},\"colorscale\":[[0.0,\"#0d0887\"],[0.1111111111111111,\"#46039f\"],[0.2222222222222222,\"#7201a8\"],[0.3333333333333333,\"#9c179e\"],[0.4444444444444444,\"#bd3786\"],[0.5555555555555556,\"#d8576b\"],[0.6666666666666666,\"#ed7953\"],[0.7777777777777778,\"#fb9f3a\"],[0.8888888888888888,\"#fdca26\"],[1.0,\"#f0f921\"]]}],\"surface\":[{\"type\":\"surface\",\"colorbar\":{\"outlinewidth\":0,\"ticks\":\"\"},\"colorscale\":[[0.0,\"#0d0887\"],[0.1111111111111111,\"#46039f\"],[0.2222222222222222,\"#7201a8\"],[0.3333333333333333,\"#9c179e\"],[0.4444444444444444,\"#bd3786\"],[0.5555555555555556,\"#d8576b\"],[0.6666666666666666,\"#ed7953\"],[0.7777777777777778,\"#fb9f3a\"],[0.8888888888888888,\"#fdca26\"],[1.0,\"#f0f921\"]]}],\"mesh3d\":[{\"type\":\"mesh3d\",\"colorbar\":{\"outlinewidth\":0,\"ticks\":\"\"}}],\"scatter\":[{\"marker\":{\"line\":{\"color\":\"#283442\"}},\"type\":\"scatter\"}],\"parcoords\":[{\"type\":\"parcoords\",\"line\":{\"colorbar\":{\"outlinewidth\":0,\"ticks\":\"\"}}}],\"scatterpolargl\":[{\"type\":\"scatterpolargl\",\"marker\":{\"colorbar\":{\"outlinewidth\":0,\"ticks\":\"\"}}}],\"bar\":[{\"error_x\":{\"color\":\"#f2f5fa\"},\"error_y\":{\"color\":\"#f2f5fa\"},\"marker\":{\"line\":{\"color\":\"rgb(17,17,17)\",\"width\":0.5},\"pattern\":{\"fillmode\":\"overlay\",\"size\":10,\"solidity\":0.2}},\"type\":\"bar\"}],\"scattergeo\":[{\"type\":\"scattergeo\",\"marker\":{\"colorbar\":{\"outlinewidth\":0,\"ticks\":\"\"}}}],\"scatterpolar\":[{\"type\":\"scatterpolar\",\"marker\":{\"colorbar\":{\"outlinewidth\":0,\"ticks\":\"\"}}}],\"histogram\":[{\"marker\":{\"pattern\":{\"fillmode\":\"overlay\",\"size\":10,\"solidity\":0.2}},\"type\":\"histogram\"}],\"scattergl\":[{\"marker\":{\"line\":{\"color\":\"#283442\"}},\"type\":\"scattergl\"}],\"scatter3d\":[{\"type\":\"scatter3d\",\"line\":{\"colorbar\":{\"outlinewidth\":0,\"ticks\":\"\"}},\"marker\":{\"colorbar\":{\"outlinewidth\":0,\"ticks\":\"\"}}}],\"scattermapbox\":[{\"type\":\"scattermapbox\",\"marker\":{\"colorbar\":{\"outlinewidth\":0,\"ticks\":\"\"}}}],\"scatterternary\":[{\"type\":\"scatterternary\",\"marker\":{\"colorbar\":{\"outlinewidth\":0,\"ticks\":\"\"}}}],\"scattercarpet\":[{\"type\":\"scattercarpet\",\"marker\":{\"colorbar\":{\"outlinewidth\":0,\"ticks\":\"\"}}}],\"carpet\":[{\"aaxis\":{\"endlinecolor\":\"#A2B1C6\",\"gridcolor\":\"#506784\",\"linecolor\":\"#506784\",\"minorgridcolor\":\"#506784\",\"startlinecolor\":\"#A2B1C6\"},\"baxis\":{\"endlinecolor\":\"#A2B1C6\",\"gridcolor\":\"#506784\",\"linecolor\":\"#506784\",\"minorgridcolor\":\"#506784\",\"startlinecolor\":\"#A2B1C6\"},\"type\":\"carpet\"}],\"table\":[{\"cells\":{\"fill\":{\"color\":\"#506784\"},\"line\":{\"color\":\"rgb(17,17,17)\"}},\"header\":{\"fill\":{\"color\":\"#2a3f5f\"},\"line\":{\"color\":\"rgb(17,17,17)\"}},\"type\":\"table\"}],\"barpolar\":[{\"marker\":{\"line\":{\"color\":\"rgb(17,17,17)\",\"width\":0.5},\"pattern\":{\"fillmode\":\"overlay\",\"size\":10,\"solidity\":0.2}},\"type\":\"barpolar\"}],\"pie\":[{\"automargin\":true,\"type\":\"pie\"}]},\"layout\":{\"autotypenumbers\":\"strict\",\"colorway\":[\"#636efa\",\"#EF553B\",\"#00cc96\",\"#ab63fa\",\"#FFA15A\",\"#19d3f3\",\"#FF6692\",\"#B6E880\",\"#FF97FF\",\"#FECB52\"],\"font\":{\"color\":\"#f2f5fa\"},\"hovermode\":\"closest\",\"hoverlabel\":{\"align\":\"left\"},\"paper_bgcolor\":\"rgb(17,17,17)\",\"plot_bgcolor\":\"rgb(17,17,17)\",\"polar\":{\"bgcolor\":\"rgb(17,17,17)\",\"angularaxis\":{\"gridcolor\":\"#506784\",\"linecolor\":\"#506784\",\"ticks\":\"\"},\"radialaxis\":{\"gridcolor\":\"#506784\",\"linecolor\":\"#506784\",\"ticks\":\"\"}},\"ternary\":{\"bgcolor\":\"rgb(17,17,17)\",\"aaxis\":{\"gridcolor\":\"#506784\",\"linecolor\":\"#506784\",\"ticks\":\"\"},\"baxis\":{\"gridcolor\":\"#506784\",\"linecolor\":\"#506784\",\"ticks\":\"\"},\"caxis\":{\"gridcolor\":\"#506784\",\"linecolor\":\"#506784\",\"ticks\":\"\"}},\"coloraxis\":{\"colorbar\":{\"outlinewidth\":0,\"ticks\":\"\"}},\"colorscale\":{\"sequential\":[[0.0,\"#0d0887\"],[0.1111111111111111,\"#46039f\"],[0.2222222222222222,\"#7201a8\"],[0.3333333333333333,\"#9c179e\"],[0.4444444444444444,\"#bd3786\"],[0.5555555555555556,\"#d8576b\"],[0.6666666666666666,\"#ed7953\"],[0.7777777777777778,\"#fb9f3a\"],[0.8888888888888888,\"#fdca26\"],[1.0,\"#f0f921\"]],\"sequentialminus\":[[0.0,\"#0d0887\"],[0.1111111111111111,\"#46039f\"],[0.2222222222222222,\"#7201a8\"],[0.3333333333333333,\"#9c179e\"],[0.4444444444444444,\"#bd3786\"],[0.5555555555555556,\"#d8576b\"],[0.6666666666666666,\"#ed7953\"],[0.7777777777777778,\"#fb9f3a\"],[0.8888888888888888,\"#fdca26\"],[1.0,\"#f0f921\"]],\"diverging\":[[0,\"#8e0152\"],[0.1,\"#c51b7d\"],[0.2,\"#de77ae\"],[0.3,\"#f1b6da\"],[0.4,\"#fde0ef\"],[0.5,\"#f7f7f7\"],[0.6,\"#e6f5d0\"],[0.7,\"#b8e186\"],[0.8,\"#7fbc41\"],[0.9,\"#4d9221\"],[1,\"#276419\"]]},\"xaxis\":{\"gridcolor\":\"#283442\",\"linecolor\":\"#506784\",\"ticks\":\"\",\"title\":{\"standoff\":15},\"zerolinecolor\":\"#283442\",\"automargin\":true,\"zerolinewidth\":2},\"yaxis\":{\"gridcolor\":\"#283442\",\"linecolor\":\"#506784\",\"ticks\":\"\",\"title\":{\"standoff\":15},\"zerolinecolor\":\"#283442\",\"automargin\":true,\"zerolinewidth\":2},\"scene\":{\"xaxis\":{\"backgroundcolor\":\"rgb(17,17,17)\",\"gridcolor\":\"#506784\",\"linecolor\":\"#506784\",\"showbackground\":true,\"ticks\":\"\",\"zerolinecolor\":\"#C8D4E3\",\"gridwidth\":2},\"yaxis\":{\"backgroundcolor\":\"rgb(17,17,17)\",\"gridcolor\":\"#506784\",\"linecolor\":\"#506784\",\"showbackground\":true,\"ticks\":\"\",\"zerolinecolor\":\"#C8D4E3\",\"gridwidth\":2},\"zaxis\":{\"backgroundcolor\":\"rgb(17,17,17)\",\"gridcolor\":\"#506784\",\"linecolor\":\"#506784\",\"showbackground\":true,\"ticks\":\"\",\"zerolinecolor\":\"#C8D4E3\",\"gridwidth\":2}},\"shapedefaults\":{\"line\":{\"color\":\"#f2f5fa\"}},\"annotationdefaults\":{\"arrowcolor\":\"#f2f5fa\",\"arrowhead\":0,\"arrowwidth\":1},\"geo\":{\"bgcolor\":\"rgb(17,17,17)\",\"landcolor\":\"rgb(17,17,17)\",\"subunitcolor\":\"#506784\",\"showland\":true,\"showlakes\":true,\"lakecolor\":\"rgb(17,17,17)\"},\"title\":{\"x\":0.05},\"updatemenudefaults\":{\"bgcolor\":\"#506784\",\"borderwidth\":0},\"sliderdefaults\":{\"bgcolor\":\"#C8D4E3\",\"borderwidth\":1,\"bordercolor\":\"rgb(17,17,17)\",\"tickwidth\":0},\"mapbox\":{\"style\":\"dark\"}}},\"xaxis\":{\"anchor\":\"y\",\"domain\":[0.0,1.0],\"title\":{\"text\":\"Monate\"},\"type\":\"category\",\"categoryorder\":\"category ascending\"},\"yaxis\":{\"anchor\":\"x\",\"domain\":[0.0,1.0],\"title\":{\"text\":\"Aufwand in CHF\"}},\"legend\":{\"title\":{\"text\":\"Soll\"},\"tracegroupgap\":0},\"margin\":{\"t\":60},\"barmode\":\"relative\",\"height\":400,\"shapes\":[{\"line\":{\"color\":\"red\",\"dash\":\"dash\"},\"type\":\"line\",\"x0\":0,\"x1\":1,\"xref\":\"x domain\",\"y0\":12620.849999999999,\"y1\":12620.849999999999,\"yref\":\"y\"}],\"annotations\":[{\"showarrow\":false,\"text\":\"Average: 12620.85\",\"x\":1,\"xanchor\":\"right\",\"xref\":\"x domain\",\"y\":12620.849999999999,\"yanchor\":\"bottom\",\"yref\":\"y\"}],\"title\":{\"text\":\"Aufwand der letzten 12 Monate (gem. Journal)\"}},                        {\"responsive\": true}                    ).then(function(){\n                            \nvar gd = document.getElementById('b463ac65-72c7-4ef7-a791-884db3354429');\nvar x = new MutationObserver(function (mutations, observer) {{\n        var display = window.getComputedStyle(gd).display;\n        if (!display || display === 'none') {{\n            console.log([gd, 'removed!']);\n            Plotly.purge(gd);\n            observer.disconnect();\n        }}\n}});\n\n// Listen for the removal of the full notebook cells\nvar notebookContainer = gd.closest('#notebook-container');\nif (notebookContainer) {{\n    x.observe(notebookContainer, {childList: true});\n}}\n\n// Listen for the clearing of the current output cell\nvar outputEl = gd.closest('.output');\nif (outputEl) {{\n    x.observe(outputEl, {childList: true});\n}}\n\n                        })                };                });            </script>        </div>"
     },
     "metadata": {},
     "output_type": "display_data"
    }
   ],
   "source": [
    "import datetime\n",
    "import pandas as pd\n",
    "import plotly.express as px\n",
    "\n",
    "journal_df = pd.read_csv('../../bexio/data/raw/journal.csv')\n",
    "\n",
    "journal_df = journal_df[~journal_df['Referenz'].str.contains('Rechnung')]\n",
    "journal_df['Datum'] = pd.to_datetime(journal_df['Datum'], format='%d.%m.%Y')\n",
    "aufwand_range = range(4000, 6941)\n",
    "journal_df = journal_df[journal_df['Soll'].str.split(\" - \").str[0].astype(int).isin(aufwand_range)]\n",
    "\n",
    "current_date = datetime.date.today()\n",
    "twelve_months_ago = current_date - datetime.timedelta(days=12 * 30)\n",
    "twelve_months_ago = datetime.datetime.combine(twelve_months_ago, datetime.datetime.min.time())\n",
    "\n",
    "filtered_df = journal_df[journal_df['Datum'] >= twelve_months_ago].copy()\n",
    "\n",
    "# Combine year and month into a single column\n",
    "filtered_df.loc[:, 'YearMonth'] = filtered_df['Datum'].dt.to_period('M').astype(str)\n",
    "\n",
    "# Group by YearMonth and Soll category, and sum the amounts\n",
    "grouped_df = filtered_df.groupby(['YearMonth', 'Soll'])['Betrag in Basiswährung'].sum().reset_index()\n",
    "\n",
    "# Calculate the overall average\n",
    "overall_average = grouped_df.groupby('YearMonth')['Betrag in Basiswährung'].sum().mean()\n",
    "\n",
    "fig = px.bar(grouped_df, x='YearMonth', y='Betrag in Basiswährung', color='Soll',\n",
    "             hover_data=['Betrag in Basiswährung'], labels={'Betrag in Basiswährung': 'Betrag in Basiswährung'}, height=400)\n",
    "\n",
    "# Add the average line\n",
    "fig.add_hline(y=overall_average, line_dash='dash', line_color='red', annotation_text=f'Average: {overall_average:.2f}')\n",
    "\n",
    "fig.update_layout(xaxis={'type': 'category', 'categoryorder': 'category ascending'},\n",
    "                  xaxis_title='Monate',\n",
    "                  yaxis_title='Aufwand in CHF',\n",
    "                  title='Aufwand der letzten 12 Monate (gem. Journal)')\n",
    "fig.show()\n"
   ],
   "metadata": {
    "collapsed": false,
    "ExecuteTime": {
     "end_time": "2023-07-01T07:32:08.700619Z",
     "start_time": "2023-07-01T07:32:08.505093Z"
    }
   }
  },
  {
   "cell_type": "markdown",
   "source": [
    "# Plot Postkonto Verlauf"
   ],
   "metadata": {
    "collapsed": false
   }
  },
  {
   "cell_type": "code",
   "execution_count": 75,
   "outputs": [
    {
     "data": {
      "application/vnd.plotly.v1+json": {
       "data": [
        {
         "alignmentgroup": "True",
         "hovertemplate": "Soll=1001 - PostFinance<br>Datum=%{x}<br>Betrag in Basiswährung=%{y}<extra></extra>",
         "legendgroup": "1001 - PostFinance",
         "marker": {
          "color": "#636efa",
          "pattern": {
           "shape": ""
          }
         },
         "name": "1001 - PostFinance",
         "offsetgroup": "1001 - PostFinance",
         "orientation": "v",
         "showlegend": true,
         "textposition": "auto",
         "x": [
          "2019-09-20T00:00:00",
          "2020-03-25T00:00:00",
          "2020-03-30T00:00:00",
          "2020-06-30T00:00:00",
          "2020-07-02T00:00:00",
          "2020-07-21T00:00:00",
          "2020-07-30T00:00:00",
          "2020-07-30T00:00:00",
          "2020-08-04T00:00:00",
          "2020-08-04T00:00:00",
          "2020-08-04T00:00:00",
          "2020-08-06T00:00:00",
          "2020-08-25T00:00:00",
          "2020-08-25T00:00:00",
          "2020-08-25T00:00:00",
          "2020-08-28T00:00:00",
          "2020-09-08T00:00:00",
          "2020-09-11T00:00:00",
          "2020-09-15T00:00:00",
          "2020-09-18T00:00:00",
          "2020-09-28T00:00:00",
          "2020-10-09T00:00:00",
          "2020-10-12T00:00:00",
          "2020-10-12T00:00:00",
          "2020-10-13T00:00:00",
          "2020-10-15T00:00:00",
          "2020-10-16T00:00:00",
          "2020-10-27T00:00:00",
          "2020-11-05T00:00:00",
          "2020-11-05T00:00:00",
          "2020-11-06T00:00:00",
          "2020-11-19T00:00:00",
          "2020-11-23T00:00:00",
          "2020-11-24T00:00:00",
          "2020-11-24T00:00:00",
          "2020-11-24T00:00:00",
          "2020-11-24T00:00:00",
          "2020-12-04T00:00:00",
          "2020-12-04T00:00:00",
          "2020-12-04T00:00:00",
          "2020-12-04T00:00:00",
          "2020-12-30T00:00:00",
          "2020-12-30T00:00:00",
          "2020-12-30T00:00:00",
          "2020-12-30T00:00:00",
          "2020-12-30T00:00:00",
          "2020-12-30T00:00:00",
          "2021-01-01T00:00:00",
          "2021-01-26T00:00:00",
          "2021-02-12T00:00:00",
          "2021-02-12T00:00:00",
          "2021-02-12T00:00:00",
          "2021-02-12T00:00:00",
          "2021-02-16T00:00:00",
          "2021-02-22T00:00:00",
          "2021-02-24T00:00:00",
          "2021-03-01T00:00:00",
          "2021-03-04T00:00:00",
          "2021-03-04T00:00:00",
          "2021-03-05T00:00:00",
          "2021-03-06T00:00:00",
          "2021-03-06T00:00:00",
          "2021-03-09T00:00:00",
          "2021-03-17T00:00:00",
          "2021-03-19T00:00:00",
          "2021-03-19T00:00:00",
          "2021-03-24T00:00:00",
          "2021-03-24T00:00:00",
          "2021-03-24T00:00:00",
          "2021-03-30T00:00:00",
          "2021-04-14T00:00:00",
          "2021-04-15T00:00:00",
          "2021-04-22T00:00:00",
          "2021-04-27T00:00:00",
          "2021-04-27T00:00:00",
          "2021-04-28T00:00:00",
          "2021-04-28T00:00:00",
          "2021-05-04T00:00:00",
          "2021-05-04T00:00:00",
          "2021-05-04T00:00:00",
          "2021-05-04T00:00:00",
          "2021-05-04T00:00:00",
          "2021-05-06T00:00:00",
          "2021-05-06T00:00:00",
          "2021-05-11T00:00:00",
          "2021-05-12T00:00:00",
          "2021-05-14T00:00:00",
          "2021-05-14T00:00:00",
          "2021-05-14T00:00:00",
          "2021-05-14T00:00:00",
          "2021-05-14T00:00:00",
          "2021-05-14T00:00:00",
          "2021-05-14T00:00:00",
          "2021-05-14T00:00:00",
          "2021-05-14T00:00:00",
          "2021-05-20T00:00:00",
          "2021-05-25T00:00:00",
          "2021-05-28T00:00:00",
          "2021-06-09T00:00:00",
          "2021-06-09T00:00:00",
          "2021-06-09T00:00:00",
          "2021-06-09T00:00:00",
          "2021-06-09T00:00:00",
          "2021-06-09T00:00:00",
          "2021-06-09T00:00:00",
          "2021-06-10T00:00:00",
          "2021-06-10T00:00:00",
          "2021-06-10T00:00:00",
          "2021-06-17T00:00:00",
          "2021-06-18T00:00:00",
          "2021-06-24T00:00:00",
          "2021-06-28T00:00:00",
          "2021-06-30T00:00:00",
          "2021-07-01T00:00:00",
          "2021-07-02T00:00:00",
          "2021-07-09T00:00:00",
          "2021-07-15T00:00:00",
          "2021-07-19T00:00:00",
          "2021-07-19T00:00:00",
          "2021-07-19T00:00:00",
          "2021-07-19T00:00:00",
          "2021-07-19T00:00:00",
          "2021-07-19T00:00:00",
          "2021-07-20T00:00:00",
          "2021-07-30T00:00:00",
          "2021-08-10T00:00:00",
          "2021-08-13T00:00:00",
          "2021-09-06T00:00:00",
          "2021-09-06T00:00:00",
          "2021-09-14T00:00:00",
          "2021-09-14T00:00:00",
          "2021-09-14T00:00:00",
          "2021-09-14T00:00:00",
          "2021-09-14T00:00:00",
          "2021-09-15T00:00:00",
          "2021-09-15T00:00:00",
          "2021-09-17T00:00:00",
          "2021-10-11T00:00:00",
          "2021-10-11T00:00:00",
          "2021-10-11T00:00:00",
          "2021-10-11T00:00:00",
          "2021-10-25T00:00:00",
          "2021-10-27T00:00:00",
          "2021-10-29T00:00:00",
          "2021-11-01T00:00:00",
          "2021-11-01T00:00:00",
          "2021-11-01T00:00:00",
          "2021-11-01T00:00:00",
          "2021-11-01T00:00:00",
          "2021-11-09T00:00:00",
          "2021-11-12T00:00:00",
          "2021-11-15T00:00:00",
          "2021-11-15T00:00:00",
          "2021-11-15T00:00:00",
          "2021-11-15T00:00:00",
          "2021-11-15T00:00:00",
          "2021-11-15T00:00:00",
          "2021-11-15T00:00:00",
          "2021-11-15T00:00:00",
          "2021-11-16T00:00:00",
          "2021-11-22T00:00:00",
          "2021-11-23T00:00:00",
          "2021-11-23T00:00:00",
          "2021-12-08T00:00:00",
          "2021-12-09T00:00:00",
          "2021-12-09T00:00:00",
          "2021-12-09T00:00:00",
          "2021-12-09T00:00:00",
          "2021-12-09T00:00:00",
          "2021-12-09T00:00:00",
          "2021-12-09T00:00:00",
          "2021-12-09T00:00:00",
          "2021-12-13T00:00:00",
          "2021-12-23T00:00:00",
          "2021-12-23T00:00:00",
          "2021-12-28T00:00:00",
          "2021-12-30T00:00:00",
          "2021-12-30T00:00:00",
          "2022-01-01T00:00:00",
          "2022-01-10T00:00:00",
          "2022-01-13T00:00:00",
          "2022-01-17T00:00:00",
          "2022-01-17T00:00:00",
          "2022-01-17T00:00:00",
          "2022-01-17T00:00:00",
          "2022-01-17T00:00:00",
          "2022-01-24T00:00:00",
          "2022-02-01T00:00:00",
          "2022-02-08T00:00:00",
          "2022-02-08T00:00:00",
          "2022-02-16T00:00:00",
          "2022-02-16T00:00:00",
          "2022-02-16T00:00:00",
          "2022-02-16T00:00:00",
          "2022-02-16T00:00:00",
          "2022-02-17T00:00:00",
          "2022-02-28T00:00:00",
          "2022-02-28T00:00:00",
          "2022-02-28T00:00:00",
          "2022-02-28T00:00:00",
          "2022-03-01T00:00:00",
          "2022-03-03T00:00:00",
          "2022-03-03T00:00:00",
          "2022-03-07T00:00:00",
          "2022-03-15T00:00:00",
          "2022-03-21T00:00:00",
          "2022-03-21T00:00:00",
          "2022-03-24T00:00:00",
          "2022-03-28T00:00:00",
          "2022-03-28T00:00:00",
          "2022-03-28T00:00:00",
          "2022-03-28T00:00:00",
          "2022-04-04T00:00:00",
          "2022-04-04T00:00:00",
          "2022-04-04T00:00:00",
          "2022-04-04T00:00:00",
          "2022-04-04T00:00:00",
          "2022-04-05T00:00:00",
          "2022-04-08T00:00:00",
          "2022-04-13T00:00:00",
          "2022-04-19T00:00:00",
          "2022-04-19T00:00:00",
          "2022-04-25T00:00:00",
          "2022-04-25T00:00:00",
          "2022-04-25T00:00:00",
          "2022-04-29T00:00:00",
          "2022-05-05T00:00:00",
          "2022-05-10T00:00:00",
          "2022-05-13T00:00:00",
          "2022-05-13T00:00:00",
          "2022-05-13T00:00:00",
          "2022-05-13T00:00:00",
          "2022-05-13T00:00:00",
          "2022-05-13T00:00:00",
          "2022-05-18T00:00:00",
          "2022-05-19T00:00:00",
          "2022-06-02T00:00:00",
          "2022-06-02T00:00:00",
          "2022-06-02T00:00:00",
          "2022-06-02T00:00:00",
          "2022-06-20T00:00:00",
          "2022-06-21T00:00:00",
          "2022-06-27T00:00:00",
          "2022-06-27T00:00:00",
          "2022-06-27T00:00:00",
          "2022-06-27T00:00:00",
          "2022-06-27T00:00:00",
          "2022-06-30T00:00:00",
          "2022-06-30T00:00:00",
          "2022-07-04T00:00:00",
          "2022-07-08T00:00:00",
          "2022-07-08T00:00:00",
          "2022-07-08T00:00:00",
          "2022-07-08T00:00:00",
          "2022-07-08T00:00:00",
          "2022-07-11T00:00:00",
          "2022-07-13T00:00:00",
          "2022-07-13T00:00:00",
          "2022-07-13T00:00:00",
          "2022-07-13T00:00:00",
          "2022-07-15T00:00:00",
          "2022-07-25T00:00:00",
          "2022-07-28T00:00:00",
          "2022-08-02T00:00:00",
          "2022-08-04T00:00:00",
          "2022-08-11T00:00:00",
          "2022-08-11T00:00:00",
          "2022-08-12T00:00:00",
          "2022-08-15T00:00:00",
          "2022-08-15T00:00:00",
          "2022-08-17T00:00:00",
          "2022-08-18T00:00:00",
          "2022-08-18T00:00:00",
          "2022-08-18T00:00:00",
          "2022-08-18T00:00:00",
          "2022-08-31T00:00:00",
          "2022-08-31T00:00:00",
          "2022-09-01T00:00:00",
          "2022-09-09T00:00:00",
          "2022-09-19T00:00:00",
          "2022-09-21T00:00:00",
          "2022-09-22T00:00:00",
          "2022-09-23T00:00:00",
          "2022-09-23T00:00:00",
          "2022-09-23T00:00:00",
          "2022-09-26T00:00:00",
          "2022-09-26T00:00:00",
          "2022-09-29T00:00:00",
          "2022-09-30T00:00:00",
          "2022-09-30T00:00:00",
          "2022-10-03T00:00:00",
          "2022-10-05T00:00:00",
          "2022-10-05T00:00:00",
          "2022-10-10T00:00:00",
          "2022-10-11T00:00:00",
          "2022-10-13T00:00:00",
          "2022-10-13T00:00:00",
          "2022-10-19T00:00:00",
          "2022-10-26T00:00:00",
          "2022-10-27T00:00:00",
          "2022-10-31T00:00:00",
          "2022-10-31T00:00:00",
          "2022-10-31T00:00:00",
          "2022-10-31T00:00:00",
          "2022-10-31T00:00:00",
          "2022-11-07T00:00:00",
          "2022-11-15T00:00:00",
          "2022-11-18T00:00:00",
          "2022-11-30T00:00:00",
          "2022-11-30T00:00:00",
          "2022-12-05T00:00:00",
          "2022-12-06T00:00:00",
          "2022-12-12T00:00:00",
          "2022-12-12T00:00:00",
          "2022-12-16T00:00:00",
          "2022-12-19T00:00:00",
          "2022-12-29T00:00:00",
          "2022-12-29T00:00:00",
          "2022-12-29T00:00:00",
          "2022-12-29T00:00:00",
          "2022-12-29T00:00:00",
          "2022-12-30T00:00:00",
          "2023-01-06T00:00:00",
          "2023-01-09T00:00:00",
          "2023-01-09T00:00:00",
          "2023-01-09T00:00:00",
          "2023-01-26T00:00:00",
          "2023-01-27T00:00:00",
          "2023-01-27T00:00:00",
          "2023-01-31T00:00:00",
          "2023-02-03T00:00:00",
          "2023-02-06T00:00:00",
          "2023-02-15T00:00:00",
          "2023-02-17T00:00:00",
          "2023-02-20T00:00:00",
          "2023-02-22T00:00:00",
          "2023-02-22T00:00:00",
          "2023-02-24T00:00:00",
          "2023-02-24T00:00:00",
          "2023-02-27T00:00:00",
          "2023-02-28T00:00:00",
          "2023-03-03T00:00:00",
          "2023-03-06T00:00:00",
          "2023-03-14T00:00:00",
          "2023-03-15T00:00:00",
          "2023-03-15T00:00:00",
          "2023-03-16T00:00:00",
          "2023-03-16T00:00:00",
          "2023-03-20T00:00:00",
          "2023-03-20T00:00:00",
          "2023-03-20T00:00:00",
          "2023-03-20T00:00:00",
          "2023-03-23T00:00:00",
          "2023-03-23T00:00:00",
          "2023-03-27T00:00:00",
          "2023-04-03T00:00:00",
          "2023-04-03T00:00:00",
          "2023-04-11T00:00:00",
          "2023-04-21T00:00:00",
          "2023-04-21T00:00:00",
          "2023-05-02T00:00:00",
          "2023-05-03T00:00:00",
          "2023-05-05T00:00:00",
          "2023-05-08T00:00:00",
          "2023-05-08T00:00:00",
          "2023-05-11T00:00:00",
          "2023-05-19T00:00:00",
          "2023-05-19T00:00:00",
          "2023-05-19T00:00:00",
          "2023-05-19T00:00:00",
          "2023-05-22T00:00:00",
          "2023-05-25T00:00:00",
          "2023-05-26T00:00:00",
          "2023-05-26T00:00:00",
          "2023-05-31T00:00:00",
          "2023-06-05T00:00:00",
          "2023-06-05T00:00:00",
          "2023-06-05T00:00:00",
          "2023-06-05T00:00:00",
          "2023-06-08T00:00:00",
          "2023-06-09T00:00:00",
          "2023-06-09T00:00:00",
          "2023-06-09T00:00:00",
          "2023-06-09T00:00:00",
          "2023-06-15T00:00:00"
         ],
         "xaxis": "x",
         "y": [
          20100.0,
          4300.0,
          331.1,
          592.35,
          800.0,
          800.0,
          301.55,
          592.35,
          86.2,
          21.4,
          120.3,
          800.0,
          1055.45,
          800.0,
          1100.0,
          3931.05,
          800.0,
          471.19,
          1050.0,
          800.0,
          169.65,
          300.0,
          565.4,
          1017.75,
          1100.0,
          245.0,
          546.55,
          1927.85,
          1771.65,
          621.95,
          1055.46,
          169.65,
          3338.45,
          1024.7,
          800.0,
          1752.8,
          1696.3,
          169.65,
          2122.15,
          848.15,
          1583.2,
          1187.4,
          1979.0,
          56.55,
          980.05,
          5040.35,
          94.25,
          10843.15,
          800.0,
          471.2,
          2186.3,
          1149.7,
          339.25,
          5040.35,
          780.0,
          630.0,
          5.0,
          6700.0,
          1300.0,
          2880.45,
          46.52,
          3.58,
          350.0,
          3360.25,
          772.75,
          207.3,
          1352.05,
          1262.8,
          867.0,
          985.45,
          3360.25,
          1000.0,
          880.0,
          350.0,
          880.0,
          810.0,
          800.0,
          188.5,
          1922.45,
          452.35,
          490.05,
          414.65,
          350.0,
          350.0,
          350.0,
          300.0,
          829.3,
          810.45,
          923.55,
          1375.85,
          37.7,
          188.5,
          546.6,
          358.1,
          735.05,
          800.0,
          169.65,
          4695.7,
          37.7,
          433.5,
          621.95,
          1410.0,
          263.85,
          150.8,
          94.25,
          2477.1,
          800.0,
          350.0,
          3360.25,
          700.05,
          597.25,
          800.0,
          2584.8,
          3360.25,
          1238.55,
          800.0,
          780.0,
          56.55,
          188.5,
          188.5,
          1225.1,
          56.55,
          1451.25,
          1000.0,
          4792.65,
          1000.0,
          1000.0,
          90.44,
          6.96,
          188.5,
          113.1,
          301.55,
          339.25,
          320.4,
          780.0,
          3360.25,
          2875.6,
          37.7,
          1300.5,
          339.25,
          56.55,
          2956.35,
          2929.45,
          3360.25,
          2550.0,
          2167.45,
          4308.0,
          1828.2,
          998.9,
          3050.0,
          199.0,
          735.05,
          75.4,
          113.1,
          37.7,
          169.65,
          94.25,
          659.65,
          94.25,
          1000.0,
          1173.95,
          546.6,
          358.1,
          800.0,
          448.4,
          1225.1,
          94.25,
          37.7,
          56.55,
          282.7,
          1500.0,
          3400.0,
          780.0,
          29.17,
          378.83,
          3360.25,
          2.38,
          12170.1,
          32446.31,
          1480.0,
          99.25,
          150.8,
          169.65,
          358.1,
          94.25,
          75.4,
          2300.0,
          4868.05,
          350.0,
          1000.0,
          998.9,
          358.1,
          169.65,
          904.7,
          358.1,
          607.75,
          1275.0,
          1470.1,
          3180.0,
          1077.0,
          2850.0,
          1500.0,
          1500.0,
          3123.3,
          850.0,
          650.0,
          800.0,
          660.0,
          2019.4,
          5266.55,
          430.0,
          3457.15,
          621.95,
          1526.65,
          1275.0,
          697.35,
          980.05,
          1600.0,
          1500.0,
          1950.0,
          860.0,
          1300.0,
          848.15,
          1733.95,
          1100.0,
          1500.0,
          1500.0,
          2180.0,
          1100.0,
          1000.0,
          1000.0,
          603.1,
          1938.6,
          1150.0,
          459.15,
          1000.0,
          500.0,
          2304.8,
          300.0,
          570.8,
          900.0,
          1500.0,
          6491.4,
          560.05,
          635.45,
          333.85,
          333.85,
          2536.5,
          32.58,
          1100.0,
          1500.0,
          26.23,
          2.02,
          6.73,
          0.52,
          450.0,
          659.65,
          584.25,
          358.1,
          1950.0,
          1600.0,
          1100.0,
          129.25,
          1100.0,
          1000.0,
          861.6,
          2810.95,
          1000.0,
          1365.0,
          0.0,
          3500.0,
          473.9,
          947.75,
          7030.8,
          333.85,
          376.95,
          226.15,
          114.95,
          1100.0,
          5290.0,
          1500.0,
          1000.0,
          226.15,
          2584.8,
          2692.5,
          226.15,
          207.3,
          1000.0,
          673.15,
          2810.95,
          1000.0,
          21.63,
          1.67,
          1130.0,
          2100.0,
          1100.0,
          1025.0,
          600.0,
          1100.0,
          452.35,
          245.0,
          75.4,
          94.25,
          263.85,
          450.0,
          1130.85,
          1206.25,
          1000.0,
          1023.15,
          1938.6,
          1093.15,
          1100.0,
          415.0,
          3500.0,
          140.0,
          1130.85,
          263.85,
          659.65,
          245.0,
          2000.0,
          395.8,
          32.15,
          581.05,
          1800.0,
          5761.95,
          107.7,
          3780.25,
          969.3,
          1443.2,
          915.45,
          1800.0,
          446.95,
          1100.0,
          140.0,
          1992.45,
          1225.0,
          1874.0,
          1600.0,
          3123.3,
          1561.65,
          1650.0,
          1000.0,
          1800.0,
          1100.0,
          1938.6,
          2154.0,
          1000.0,
          1000.0,
          969.3,
          3015.6,
          3338.7,
          3500.0,
          1500.0,
          1500.0,
          4250.0,
          1400.0,
          450.0,
          300.0,
          1000.0,
          3000.0,
          1800.0,
          1992.45,
          1000.0,
          1130.85,
          4200.3,
          1500.0,
          1500.0,
          3150.0,
          3950.0,
          5823.6,
          1510.0,
          1500.0,
          807.75,
          9768.4,
          700.0,
          732.35,
          797.0,
          2929.45,
          1650.0,
          1500.0,
          6771.35,
          1970.9,
          3500.0,
          2563.25,
          3350.0
         ],
         "yaxis": "y",
         "type": "bar"
        },
        {
         "alignmentgroup": "True",
         "hovertemplate": "Soll=6940 - Bankspesen<br>Datum=%{x}<br>Betrag in Basiswährung=%{y}<extra></extra>",
         "legendgroup": "6940 - Bankspesen",
         "marker": {
          "color": "#EF553B",
          "pattern": {
           "shape": ""
          }
         },
         "name": "6940 - Bankspesen",
         "offsetgroup": "6940 - Bankspesen",
         "orientation": "v",
         "showlegend": true,
         "textposition": "auto",
         "x": [
          "2019-09-20T00:00:00",
          "2019-09-30T00:00:00",
          "2019-10-31T00:00:00",
          "2019-10-31T00:00:00",
          "2019-11-30T00:00:00",
          "2019-12-31T00:00:00",
          "2020-01-31T00:00:00",
          "2020-02-29T00:00:00",
          "2020-03-31T00:00:00",
          "2020-04-30T00:00:00",
          "2020-05-31T00:00:00",
          "2020-06-30T00:00:00",
          "2020-07-31T00:00:00",
          "2020-08-31T00:00:00",
          "2020-09-30T00:00:00",
          "2020-10-31T00:00:00",
          "2020-10-31T00:00:00",
          "2020-11-30T00:00:00",
          "2020-12-31T00:00:00",
          "2021-01-31T00:00:00",
          "2021-02-28T00:00:00",
          "2021-03-31T00:00:00",
          "2021-03-31T00:00:00",
          "2021-04-30T00:00:00",
          "2021-05-31T00:00:00",
          "2021-06-30T00:00:00",
          "2021-07-31T00:00:00",
          "2021-08-31T00:00:00",
          "2021-09-30T00:00:00",
          "2021-10-31T00:00:00",
          "2021-11-01T00:00:00",
          "2021-11-30T00:00:00",
          "2021-11-30T00:00:00",
          "2021-12-31T00:00:00",
          "2022-01-31T00:00:00",
          "2022-02-28T00:00:00",
          "2022-04-01T00:00:00",
          "2022-04-30T00:00:00",
          "2022-05-31T00:00:00",
          "2022-05-31T00:00:00",
          "2022-06-30T00:00:00",
          "2022-07-31T00:00:00",
          "2022-08-22T00:00:00",
          "2022-08-31T00:00:00",
          "2022-09-30T00:00:00",
          "2022-10-31T00:00:00",
          "2022-10-31T00:00:00",
          "2022-10-31T00:00:00",
          "2022-11-30T00:00:00",
          "2022-12-31T00:00:00",
          "2023-01-31T00:00:00",
          "2023-02-28T00:00:00",
          "2023-03-31T00:00:00",
          "2023-04-30T00:00:00"
         ],
         "xaxis": "x",
         "y": [
          -145.0,
          -5.0,
          -30.0,
          -5.0,
          -5.0,
          -5.0,
          -5.0,
          -5.0,
          -5.0,
          -5.0,
          -5.0,
          -5.0,
          -5.0,
          -5.0,
          -5.0,
          -30.0,
          -5.0,
          -5.0,
          -5.0,
          -5.0,
          -10.0,
          -5.0,
          -5.0,
          -5.0,
          -5.0,
          -5.0,
          -5.0,
          -5.0,
          -5.0,
          -5.0,
          -30.0,
          -5.0,
          -22.0,
          -5.0,
          -5.0,
          -5.0,
          -5.0,
          -5.0,
          -5.0,
          -5.0,
          -5.0,
          -5.0,
          -2.0,
          -5.0,
          -5.0,
          -30.0,
          -5.0,
          -3.95,
          -5.0,
          -5.0,
          -5.0,
          -5.0,
          -5.0,
          -5.0
         ],
         "yaxis": "y",
         "type": "bar"
        },
        {
         "alignmentgroup": "True",
         "hovertemplate": "Soll=2102 - Kontokorrent Roger Sennhauser<br>Datum=%{x}<br>Betrag in Basiswährung=%{y}<extra></extra>",
         "legendgroup": "2102 - Kontokorrent Roger Sennhauser",
         "marker": {
          "color": "#00cc96",
          "pattern": {
           "shape": ""
          }
         },
         "name": "2102 - Kontokorrent Roger Sennhauser",
         "offsetgroup": "2102 - Kontokorrent Roger Sennhauser",
         "orientation": "v",
         "showlegend": true,
         "textposition": "auto",
         "x": [
          "2019-10-04T00:00:00",
          "2020-12-15T00:00:00",
          "2021-06-08T00:00:00",
          "2021-07-07T00:00:00",
          "2021-08-02T00:00:00",
          "2022-03-18T00:00:00",
          "2022-08-30T00:00:00"
         ],
         "xaxis": "x",
         "y": [
          -70.23,
          -1761.27,
          -450.0,
          -954.58,
          -712.6,
          -1380.55,
          -1389.84
         ],
         "yaxis": "y",
         "type": "bar"
        },
        {
         "alignmentgroup": "True",
         "hovertemplate": "Soll=2100 - Kontokorrent Kevin Imhoff<br>Datum=%{x}<br>Betrag in Basiswährung=%{y}<extra></extra>",
         "legendgroup": "2100 - Kontokorrent Kevin Imhoff",
         "marker": {
          "color": "#ab63fa",
          "pattern": {
           "shape": ""
          }
         },
         "name": "2100 - Kontokorrent Kevin Imhoff",
         "offsetgroup": "2100 - Kontokorrent Kevin Imhoff",
         "orientation": "v",
         "showlegend": true,
         "textposition": "auto",
         "x": [
          "2019-10-04T00:00:00"
         ],
         "xaxis": "x",
         "y": [
          -70.23
         ],
         "yaxis": "y",
         "type": "bar"
        },
        {
         "alignmentgroup": "True",
         "hovertemplate": "Soll=2101 - Kontokorrent Pascal Bräm<br>Datum=%{x}<br>Betrag in Basiswährung=%{y}<extra></extra>",
         "legendgroup": "2101 - Kontokorrent Pascal Bräm",
         "marker": {
          "color": "#FFA15A",
          "pattern": {
           "shape": ""
          }
         },
         "name": "2101 - Kontokorrent Pascal Bräm",
         "offsetgroup": "2101 - Kontokorrent Pascal Bräm",
         "orientation": "v",
         "showlegend": true,
         "textposition": "auto",
         "x": [
          "2019-10-04T00:00:00",
          "2020-12-15T00:00:00"
         ],
         "xaxis": "x",
         "y": [
          -70.24,
          -1448.66
         ],
         "yaxis": "y",
         "type": "bar"
        },
        {
         "alignmentgroup": "True",
         "hovertemplate": "Soll=2000 - Verbindlichkeiten aus Lieferungen und Leistungen<br>Datum=%{x}<br>Betrag in Basiswährung=%{y}<extra></extra>",
         "legendgroup": "2000 - Verbindlichkeiten aus Lieferungen und Leistungen",
         "marker": {
          "color": "#19d3f3",
          "pattern": {
           "shape": ""
          }
         },
         "name": "2000 - Verbindlichkeiten aus Lieferungen und Leistungen",
         "offsetgroup": "2000 - Verbindlichkeiten aus Lieferungen und Leistungen",
         "orientation": "v",
         "showlegend": true,
         "textposition": "auto",
         "x": [
          "2019-12-13T00:00:00",
          "2019-12-13T00:00:00",
          "2019-12-13T00:00:00",
          "2020-01-07T00:00:00",
          "2020-01-07T00:00:00",
          "2020-01-13T00:00:00",
          "2020-01-13T00:00:00",
          "2020-01-13T00:00:00",
          "2020-01-13T00:00:00",
          "2020-02-03T00:00:00",
          "2020-03-23T00:00:00",
          "2020-05-27T00:00:00",
          "2020-06-11T00:00:00",
          "2020-06-25T00:00:00",
          "2020-06-30T00:00:00",
          "2020-07-07T00:00:00",
          "2020-07-07T00:00:00",
          "2020-07-07T00:00:00",
          "2020-07-07T00:00:00",
          "2020-07-20T00:00:00",
          "2020-08-04T00:00:00",
          "2020-08-04T00:00:00",
          "2020-08-26T00:00:00",
          "2020-08-26T00:00:00",
          "2020-08-28T00:00:00",
          "2020-09-02T00:00:00",
          "2020-09-16T00:00:00",
          "2020-09-16T00:00:00",
          "2020-09-28T00:00:00",
          "2020-10-01T00:00:00",
          "2020-10-01T00:00:00",
          "2020-10-01T00:00:00",
          "2020-10-01T00:00:00",
          "2020-10-06T00:00:00",
          "2020-10-16T00:00:00",
          "2020-10-27T00:00:00",
          "2020-10-28T00:00:00",
          "2020-11-13T00:00:00",
          "2020-11-23T00:00:00",
          "2020-11-27T00:00:00",
          "2020-11-28T00:00:00",
          "2020-12-10T00:00:00",
          "2020-12-12T00:00:00",
          "2020-12-15T00:00:00",
          "2020-12-28T00:00:00",
          "2020-12-30T00:00:00",
          "2020-12-30T00:00:00",
          "2020-12-31T00:00:00",
          "2020-12-31T00:00:00",
          "2020-12-31T00:00:00",
          "2021-01-04T00:00:00",
          "2021-01-22T00:00:00",
          "2021-02-02T00:00:00",
          "2021-02-09T00:00:00",
          "2021-02-17T00:00:00",
          "2021-02-17T00:00:00",
          "2021-02-20T00:00:00",
          "2021-02-27T00:00:00",
          "2021-03-10T00:00:00",
          "2021-03-11T00:00:00",
          "2021-04-07T00:00:00",
          "2021-04-08T00:00:00",
          "2021-04-08T00:00:00",
          "2021-04-08T00:00:00",
          "2021-04-08T00:00:00",
          "2021-04-08T00:00:00",
          "2021-04-13T00:00:00",
          "2021-04-13T00:00:00",
          "2021-04-21T00:00:00",
          "2021-04-22T00:00:00",
          "2021-04-22T00:00:00",
          "2021-04-30T00:00:00",
          "2021-04-30T00:00:00",
          "2021-04-30T00:00:00",
          "2021-04-30T00:00:00",
          "2021-05-03T00:00:00",
          "2021-05-26T00:00:00",
          "2021-05-27T00:00:00",
          "2021-05-31T00:00:00",
          "2021-05-31T00:00:00",
          "2021-06-02T00:00:00",
          "2021-06-30T00:00:00",
          "2021-06-30T00:00:00",
          "2021-06-30T00:00:00",
          "2021-07-01T00:00:00",
          "2021-07-03T00:00:00",
          "2021-07-07T00:00:00",
          "2021-07-07T00:00:00",
          "2021-07-07T00:00:00",
          "2021-07-20T00:00:00",
          "2021-07-30T00:00:00",
          "2021-08-02T00:00:00",
          "2021-08-02T00:00:00",
          "2021-08-02T00:00:00",
          "2021-08-03T00:00:00",
          "2021-08-03T00:00:00",
          "2021-08-24T00:00:00",
          "2021-08-24T00:00:00",
          "2021-08-24T00:00:00",
          "2021-08-24T00:00:00",
          "2021-08-24T00:00:00",
          "2021-08-30T00:00:00",
          "2021-08-31T00:00:00",
          "2021-08-31T00:00:00",
          "2021-08-31T00:00:00",
          "2021-09-30T00:00:00",
          "2021-10-01T00:00:00",
          "2021-10-01T00:00:00",
          "2021-10-06T00:00:00",
          "2021-10-06T00:00:00",
          "2021-10-13T00:00:00",
          "2021-10-26T00:00:00",
          "2021-10-29T00:00:00",
          "2021-10-29T00:00:00",
          "2021-10-29T00:00:00",
          "2021-10-29T00:00:00",
          "2021-11-07T00:00:00",
          "2021-11-10T00:00:00",
          "2021-11-30T00:00:00",
          "2021-12-01T00:00:00",
          "2021-12-01T00:00:00",
          "2021-12-01T00:00:00",
          "2021-12-01T00:00:00",
          "2021-12-01T00:00:00",
          "2021-12-01T00:00:00",
          "2021-12-01T00:00:00",
          "2021-12-01T00:00:00",
          "2021-12-01T00:00:00",
          "2021-12-01T00:00:00",
          "2021-12-01T00:00:00",
          "2021-12-03T00:00:00",
          "2021-12-06T00:00:00",
          "2021-12-09T00:00:00",
          "2021-12-09T00:00:00",
          "2021-12-11T00:00:00",
          "2021-12-13T00:00:00",
          "2021-12-14T00:00:00",
          "2021-12-17T00:00:00",
          "2021-12-21T00:00:00",
          "2021-12-21T00:00:00",
          "2021-12-23T00:00:00",
          "2021-12-30T00:00:00",
          "2021-12-31T00:00:00",
          "2021-12-31T00:00:00",
          "2021-12-31T00:00:00",
          "2022-01-05T00:00:00",
          "2022-01-11T00:00:00",
          "2022-01-11T00:00:00",
          "2022-01-11T00:00:00",
          "2022-01-14T00:00:00",
          "2022-01-14T00:00:00",
          "2022-01-21T00:00:00",
          "2022-01-28T00:00:00",
          "2022-01-28T00:00:00",
          "2022-01-28T00:00:00",
          "2022-01-28T00:00:00",
          "2022-01-31T00:00:00",
          "2022-02-03T00:00:00",
          "2022-02-15T00:00:00",
          "2022-02-15T00:00:00",
          "2022-02-15T00:00:00",
          "2022-02-23T00:00:00",
          "2022-02-28T00:00:00",
          "2022-02-28T00:00:00",
          "2022-02-28T00:00:00",
          "2022-03-02T00:00:00",
          "2022-03-03T00:00:00",
          "2022-03-08T00:00:00",
          "2022-03-18T00:00:00",
          "2022-03-23T00:00:00",
          "2022-03-25T00:00:00",
          "2022-03-29T00:00:00",
          "2022-03-31T00:00:00",
          "2022-03-31T00:00:00",
          "2022-03-31T00:00:00",
          "2022-03-31T00:00:00",
          "2022-03-31T00:00:00",
          "2022-04-25T00:00:00",
          "2022-04-25T00:00:00",
          "2022-04-25T00:00:00",
          "2022-04-29T00:00:00",
          "2022-04-29T00:00:00",
          "2022-04-29T00:00:00",
          "2022-04-29T00:00:00",
          "2022-04-29T00:00:00",
          "2022-05-03T00:00:00",
          "2022-05-03T00:00:00",
          "2022-05-11T00:00:00",
          "2022-05-19T00:00:00",
          "2022-05-19T00:00:00",
          "2022-05-19T00:00:00",
          "2022-05-19T00:00:00",
          "2022-05-19T00:00:00",
          "2022-05-24T00:00:00",
          "2022-05-24T00:00:00",
          "2022-05-25T00:00:00",
          "2022-05-27T00:00:00",
          "2022-05-27T00:00:00",
          "2022-05-31T00:00:00",
          "2022-05-31T00:00:00",
          "2022-05-31T00:00:00",
          "2022-05-31T00:00:00",
          "2022-06-01T00:00:00",
          "2022-06-01T00:00:00",
          "2022-06-01T00:00:00",
          "2022-06-09T00:00:00",
          "2022-06-10T00:00:00",
          "2022-06-10T00:00:00",
          "2022-06-10T00:00:00",
          "2022-06-30T00:00:00",
          "2022-07-04T00:00:00",
          "2022-07-04T00:00:00",
          "2022-07-04T00:00:00",
          "2022-07-04T00:00:00",
          "2022-07-05T00:00:00",
          "2022-07-08T00:00:00",
          "2022-07-08T00:00:00",
          "2022-07-15T00:00:00",
          "2022-07-15T00:00:00",
          "2022-07-27T00:00:00",
          "2022-07-27T00:00:00",
          "2022-07-27T00:00:00",
          "2022-07-27T00:00:00",
          "2022-07-29T00:00:00",
          "2022-07-29T00:00:00",
          "2022-08-05T00:00:00",
          "2022-08-10T00:00:00",
          "2022-08-11T00:00:00",
          "2022-08-12T00:00:00",
          "2022-08-16T00:00:00",
          "2022-08-18T00:00:00",
          "2022-08-30T00:00:00",
          "2022-08-30T00:00:00",
          "2022-08-30T00:00:00",
          "2022-08-31T00:00:00",
          "2022-08-31T00:00:00",
          "2022-09-02T00:00:00",
          "2022-09-05T00:00:00",
          "2022-09-08T00:00:00",
          "2022-09-08T00:00:00",
          "2022-09-12T00:00:00",
          "2022-09-20T00:00:00",
          "2022-09-20T00:00:00",
          "2022-09-22T00:00:00",
          "2022-09-28T00:00:00",
          "2022-09-30T00:00:00",
          "2022-09-30T00:00:00",
          "2022-09-30T00:00:00",
          "2022-09-30T00:00:00",
          "2022-09-30T00:00:00",
          "2022-10-05T00:00:00",
          "2022-10-07T00:00:00",
          "2022-10-10T00:00:00",
          "2022-10-10T00:00:00",
          "2022-10-10T00:00:00",
          "2022-10-12T00:00:00",
          "2022-10-18T00:00:00",
          "2022-10-18T00:00:00",
          "2022-10-18T00:00:00",
          "2022-10-27T00:00:00",
          "2022-10-31T00:00:00",
          "2022-11-01T00:00:00",
          "2022-11-01T00:00:00",
          "2022-11-02T00:00:00",
          "2022-11-02T00:00:00",
          "2022-11-04T00:00:00",
          "2022-11-04T00:00:00",
          "2022-11-08T00:00:00",
          "2022-11-09T00:00:00",
          "2022-11-10T00:00:00",
          "2022-11-22T00:00:00",
          "2022-11-28T00:00:00",
          "2022-11-29T00:00:00",
          "2022-11-29T00:00:00",
          "2022-11-30T00:00:00",
          "2022-12-01T00:00:00",
          "2022-12-01T00:00:00",
          "2022-12-02T00:00:00",
          "2022-12-02T00:00:00",
          "2022-12-02T00:00:00",
          "2022-12-05T00:00:00",
          "2022-12-09T00:00:00",
          "2022-12-14T00:00:00",
          "2022-12-14T00:00:00",
          "2022-12-16T00:00:00",
          "2022-12-28T00:00:00",
          "2022-12-28T00:00:00",
          "2022-12-28T00:00:00",
          "2022-12-30T00:00:00",
          "2022-12-30T00:00:00",
          "2022-12-30T00:00:00",
          "2022-12-30T00:00:00",
          "2022-12-30T00:00:00",
          "2022-12-30T00:00:00",
          "2023-01-03T00:00:00",
          "2023-01-06T00:00:00",
          "2023-01-10T00:00:00",
          "2023-01-27T00:00:00",
          "2023-01-31T00:00:00",
          "2023-02-06T00:00:00",
          "2023-02-06T00:00:00",
          "2023-02-06T00:00:00",
          "2023-02-07T00:00:00",
          "2023-02-07T00:00:00",
          "2023-02-07T00:00:00",
          "2023-02-07T00:00:00",
          "2023-02-10T00:00:00",
          "2023-02-22T00:00:00",
          "2023-02-27T00:00:00",
          "2023-02-28T00:00:00",
          "2023-02-28T00:00:00",
          "2023-03-03T00:00:00",
          "2023-03-16T00:00:00",
          "2023-03-24T00:00:00",
          "2023-03-28T00:00:00",
          "2023-03-31T00:00:00",
          "2023-04-06T00:00:00",
          "2023-04-06T00:00:00",
          "2023-04-06T00:00:00",
          "2023-04-06T00:00:00",
          "2023-04-06T00:00:00",
          "2023-04-06T00:00:00",
          "2023-04-11T00:00:00",
          "2023-04-11T00:00:00",
          "2023-04-11T00:00:00",
          "2023-04-12T00:00:00",
          "2023-04-25T00:00:00",
          "2023-04-25T00:00:00",
          "2023-04-26T00:00:00",
          "2023-04-27T00:00:00",
          "2023-04-28T00:00:00",
          "2023-04-28T00:00:00",
          "2023-05-01T00:00:00",
          "2023-05-05T00:00:00",
          "2023-05-08T00:00:00",
          "2023-05-17T00:00:00",
          "2023-05-17T00:00:00",
          "2023-05-26T00:00:00",
          "2023-05-30T00:00:00",
          "2023-05-31T00:00:00",
          "2023-05-31T00:00:00",
          "2023-05-31T00:00:00"
         ],
         "xaxis": "x",
         "y": [
          -450.0,
          -220.0,
          -743.15,
          -40.06,
          -26.93,
          -122.55,
          -3877.2,
          -30.7,
          -85.0,
          -2000.0,
          -26.0,
          -119.8,
          -14001.0,
          -400.0,
          -401.6,
          -279.0,
          -150.0,
          -75.8,
          -53.6,
          -62.35,
          -150.0,
          -70.8,
          -170.0,
          -112.55,
          -107.45,
          -82.0,
          -39.0,
          -66.0,
          -600.0,
          -139.9,
          -65.15,
          -150.45,
          -727.0,
          -285.38,
          -101.25,
          -314.3,
          -150.0,
          -230.0,
          -209.35,
          -63.6,
          -245.2,
          -789.75,
          -15.4,
          -743.15,
          -276.0,
          -593.3,
          -67.8,
          -131.35,
          -369.1,
          -496.9,
          -3877.2,
          -172.95,
          -152.75,
          -300.0,
          -118.8,
          -400.0,
          -127.9,
          -499.0,
          -150.0,
          -85.0,
          -316.75,
          -77.05,
          -97.7,
          -60.0,
          -111.55,
          -13.15,
          -79.45,
          -407.0,
          -87.35,
          -725.0,
          -27.4,
          -450.0,
          -31.55,
          -840.0,
          -142.2,
          -55.65,
          -28.6,
          -91.4,
          -42.65,
          -300.0,
          -34.7,
          -33.6,
          -1191.9,
          -105.2,
          -70.75,
          -305.6,
          -36.45,
          -1669.6,
          -150.0,
          -32.4,
          -153.0,
          -66.6,
          -30.15,
          -450.0,
          -34.3,
          -54.9,
          -82.8,
          -2839.25,
          -27.6,
          -116.0,
          -60.2,
          -300.0,
          -161.35,
          -26.1,
          -249.15,
          -150.5,
          -300.0,
          -32.95,
          -139.9,
          -189.5,
          -120.0,
          -163.29,
          -75.65,
          -36.5,
          -80.0,
          -1163.25,
          -110.75,
          -88.2,
          -58.95,
          -211.6,
          -592.85,
          -1163.25,
          -57.0,
          -206.95,
          -450.0,
          -8.85,
          -95.2,
          -1866.25,
          -154.0,
          -230.0,
          -42.5,
          -174.5,
          -1372.0,
          -37.0,
          -369.7,
          -9.0,
          -1066.25,
          -29.1,
          -166.0,
          -27.8,
          -30.75,
          -177.4,
          -150.05,
          -150.0,
          -1163.25,
          -67.35,
          -10.4,
          -641.05,
          -27.25,
          -62.05,
          -3877.2,
          -2539.0,
          -49.0,
          -29.7,
          -796.9,
          -64.4,
          -159.05,
          -99.3,
          -67.45,
          -199.25,
          -85.0,
          -31.1,
          -34.25,
          -13.7,
          -78.95,
          -59.0,
          -450.0,
          -122.0,
          -28.9,
          -27.6,
          -2455.55,
          -484.65,
          -169.4,
          -220.2,
          -150.0,
          -46.2,
          -94.6,
          -87.68,
          -37.2,
          -310.0,
          -161.25,
          -78.0,
          -46.95,
          -450.0,
          -840.0,
          -18.7,
          -32.1,
          -57.5,
          -373.7,
          -705.45,
          -2170.4,
          -581.6,
          -160.46,
          -28.0,
          -661.0,
          -319.0,
          -222.85,
          -983.3,
          -360.0,
          -78.0,
          -40.0,
          -152.35,
          -44.7,
          -50.3,
          -33.6,
          -57.5,
          -226.15,
          -700.05,
          -68.95,
          -189.65,
          -78.0,
          -165.0,
          -1191.9,
          -300.0,
          -117.9,
          -25.55,
          -57.5,
          -100.7,
          -252.0,
          -29.8,
          -31.85,
          -3717.0,
          -210.0,
          -30.15,
          -150.0,
          -48.1,
          -57.5,
          -226.15,
          -95.33,
          -114.95,
          -175.0,
          -78.0,
          -26.1,
          -108.0,
          -300.0,
          -163.0,
          -9.69,
          -18.6,
          -1031.1,
          -57.5,
          -98.9,
          -115.45,
          -118.8,
          -30.24,
          -78.0,
          -30.7,
          -254.1,
          -230.0,
          -300.0,
          -119.3,
          -139.9,
          -55.35,
          -293.65,
          -3695.45,
          -174.0,
          -57.5,
          -31.65,
          -28.6,
          -154.05,
          -78.0,
          -300.0,
          -40.0,
          -422.8,
          -153.25,
          -109.55,
          -84.65,
          -100.6,
          -23.85,
          -57.5,
          -226.15,
          -56.2,
          -78.1,
          -31.25,
          -293.65,
          -162.3,
          -90.0,
          -150.0,
          -30.7,
          -150.0,
          -3.0,
          -86.17,
          -57.5,
          -93.25,
          -1066.25,
          -120.0,
          -45.55,
          -226.6,
          -782.85,
          -64.05,
          -276.0,
          -707.1,
          -1615.5,
          -52.55,
          -796.9,
          -78.0,
          -5562.7,
          -3717.0,
          -78.0,
          -117.95,
          -57.5,
          -3742.75,
          -45.0,
          -86.3,
          -29.55,
          -48.6,
          -57.5,
          -226.15,
          -34.9,
          -78.0,
          -85.0,
          -145.95,
          -300.0,
          -101.0,
          -710.0,
          -78.0,
          -79.95,
          -54.0,
          -2455.55,
          -850.0,
          -109.65,
          -115.75,
          -450.0,
          -569.3,
          -3628.0,
          -37.35,
          -101.72,
          -2365.9,
          -47.3,
          -129.3,
          -78.0,
          -80.85,
          -40.0,
          -600.0,
          -30.9,
          -75.2,
          -40.05,
          -226.15,
          -78.0,
          -259.35,
          -88.4,
          -450.0,
          -35.45
         ],
         "yaxis": "y",
         "type": "bar"
        },
        {
         "alignmentgroup": "True",
         "hovertemplate": "Soll=2190 - Kreditkarte<br>Datum=%{x}<br>Betrag in Basiswährung=%{y}<extra></extra>",
         "legendgroup": "2190 - Kreditkarte",
         "marker": {
          "color": "#FF6692",
          "pattern": {
           "shape": ""
          }
         },
         "name": "2190 - Kreditkarte",
         "offsetgroup": "2190 - Kreditkarte",
         "orientation": "v",
         "showlegend": true,
         "textposition": "auto",
         "x": [
          "2019-12-28T00:00:00",
          "2019-12-28T00:00:00",
          "2019-12-28T00:00:00",
          "2020-09-25T00:00:00",
          "2020-10-01T00:00:00",
          "2020-10-02T00:00:00",
          "2020-12-10T00:00:00",
          "2020-12-11T00:00:00",
          "2020-12-11T00:00:00",
          "2020-12-12T00:00:00",
          "2021-02-26T00:00:00",
          "2021-07-10T00:00:00",
          "2021-07-13T00:00:00",
          "2021-07-16T00:00:00",
          "2021-07-23T00:00:00",
          "2021-11-02T00:00:00",
          "2021-11-02T00:00:00",
          "2021-11-03T00:00:00",
          "2021-11-12T00:00:00",
          "2021-11-16T00:00:00",
          "2021-11-19T00:00:00",
          "2021-11-20T00:00:00",
          "2021-11-23T00:00:00",
          "2021-11-30T00:00:00",
          "2021-12-07T00:00:00",
          "2021-12-08T00:00:00",
          "2021-12-09T00:00:00",
          "2021-12-22T00:00:00",
          "2021-12-27T00:00:00",
          "2022-01-20T00:00:00",
          "2022-01-28T00:00:00",
          "2022-02-22T00:00:00",
          "2022-03-22T00:00:00",
          "2022-04-21T00:00:00",
          "2022-05-19T00:00:00",
          "2022-06-22T00:00:00",
          "2022-07-21T00:00:00",
          "2022-08-22T00:00:00",
          "2022-08-23T00:00:00",
          "2022-09-22T00:00:00",
          "2022-10-20T00:00:00",
          "2022-12-21T00:00:00"
         ],
         "xaxis": "x",
         "y": [
          -56.0,
          -100.0,
          -70.0,
          -23.8,
          -140.0,
          -140.0,
          -10.05,
          -95.0,
          -140.5,
          -17.55,
          -71.6,
          -25.0,
          -90.0,
          -151.5,
          -190.0,
          -48.2,
          -120.0,
          -471.45,
          -7.6,
          -85.05,
          -555.3,
          -144.0,
          -52.2,
          -1891.0,
          -6.45,
          -34.75,
          -206.7,
          -80.0,
          -62.1,
          -396.65,
          -190.5,
          -2944.2,
          -303.55,
          -1127.4,
          -474.15,
          -358.4,
          -244.8,
          -474.25,
          -396.35,
          -2681.4,
          -1764.65,
          -117.4
         ],
         "yaxis": "y",
         "type": "bar"
        },
        {
         "alignmentgroup": "True",
         "hovertemplate": "Soll=8900 - Direkte Steuern<br>Datum=%{x}<br>Betrag in Basiswährung=%{y}<extra></extra>",
         "legendgroup": "8900 - Direkte Steuern",
         "marker": {
          "color": "#B6E880",
          "pattern": {
           "shape": ""
          }
         },
         "name": "8900 - Direkte Steuern",
         "offsetgroup": "8900 - Direkte Steuern",
         "orientation": "v",
         "showlegend": true,
         "textposition": "auto",
         "x": [
          "2020-03-09T00:00:00"
         ],
         "xaxis": "x",
         "y": [
          -666.6
         ],
         "yaxis": "y",
         "type": "bar"
        },
        {
         "alignmentgroup": "True",
         "hovertemplate": "Soll=5000 - Löhne<br>Datum=%{x}<br>Betrag in Basiswährung=%{y}<extra></extra>",
         "legendgroup": "5000 - Löhne",
         "marker": {
          "color": "#FF97FF",
          "pattern": {
           "shape": ""
          }
         },
         "name": "5000 - Löhne",
         "offsetgroup": "5000 - Löhne",
         "orientation": "v",
         "showlegend": true,
         "textposition": "auto",
         "x": [
          "2020-07-20T00:00:00",
          "2020-08-27T00:00:00",
          "2020-09-24T00:00:00",
          "2020-10-27T00:00:00",
          "2020-10-28T00:00:00",
          "2020-11-26T00:00:00",
          "2020-12-23T00:00:00",
          "2021-01-25T00:00:00",
          "2021-03-10T00:00:00",
          "2021-03-25T00:00:00",
          "2021-04-26T00:00:00",
          "2021-05-25T00:00:00",
          "2021-06-24T00:00:00",
          "2021-07-28T00:00:00",
          "2021-08-25T00:00:00",
          "2021-09-24T00:00:00",
          "2021-10-25T00:00:00",
          "2021-11-25T00:00:00",
          "2021-12-22T00:00:00",
          "2022-01-24T00:00:00",
          "2022-02-24T00:00:00",
          "2022-03-08T00:00:00",
          "2022-03-29T00:00:00",
          "2022-03-29T00:00:00",
          "2022-04-25T00:00:00",
          "2022-04-25T00:00:00",
          "2022-05-27T00:00:00",
          "2022-05-30T00:00:00",
          "2022-06-28T00:00:00",
          "2022-06-28T00:00:00",
          "2022-07-27T00:00:00",
          "2022-07-27T00:00:00",
          "2022-08-30T00:00:00",
          "2022-08-30T00:00:00",
          "2022-09-28T00:00:00",
          "2022-09-28T00:00:00",
          "2022-10-31T00:00:00",
          "2022-10-31T00:00:00",
          "2022-11-29T00:00:00",
          "2022-11-29T00:00:00",
          "2022-12-28T00:00:00",
          "2022-12-28T00:00:00",
          "2023-02-01T00:00:00",
          "2023-02-01T00:00:00",
          "2023-02-28T00:00:00",
          "2023-02-28T00:00:00",
          "2023-03-28T00:00:00",
          "2023-03-28T00:00:00",
          "2023-04-25T00:00:00",
          "2023-04-25T00:00:00"
         ],
         "xaxis": "x",
         "y": [
          -1500.0,
          -3800.0,
          -4500.0,
          -3500.0,
          -1000.0,
          -4500.0,
          -4500.0,
          -4500.0,
          -4500.0,
          -4500.0,
          -4500.0,
          -5000.0,
          -5000.0,
          -5000.0,
          -5000.0,
          -5000.0,
          -5500.0,
          -5500.0,
          -5500.0,
          -5500.0,
          -5500.0,
          -2239.8,
          -2236.4,
          -5414.95,
          -2238.1,
          -5471.65,
          -2238.1,
          -5471.65,
          -2238.1,
          -5471.65,
          -2238.1,
          -5471.65,
          -2238.1,
          -5471.65,
          -5471.65,
          -2238.1,
          -5471.65,
          -2238.1,
          -5471.65,
          -2238.1,
          -2238.1,
          -5471.65,
          -5471.65,
          -2238.1,
          -2238.1,
          -5471.65,
          -5471.65,
          -2238.1,
          -2238.1,
          -5471.65
         ],
         "yaxis": "y",
         "type": "bar"
        },
        {
         "alignmentgroup": "True",
         "hovertemplate": "Soll=6000 - Miete<br>Datum=%{x}<br>Betrag in Basiswährung=%{y}<extra></extra>",
         "legendgroup": "6000 - Miete",
         "marker": {
          "color": "#FECB52",
          "pattern": {
           "shape": ""
          }
         },
         "name": "6000 - Miete",
         "offsetgroup": "6000 - Miete",
         "orientation": "v",
         "showlegend": true,
         "textposition": "auto",
         "x": [
          "2020-08-28T00:00:00",
          "2020-09-30T00:00:00",
          "2020-10-30T00:00:00",
          "2020-11-30T00:00:00",
          "2020-12-30T00:00:00",
          "2021-01-29T00:00:00",
          "2021-02-26T00:00:00",
          "2021-03-26T00:00:00",
          "2021-04-28T00:00:00",
          "2021-05-28T00:00:00",
          "2021-06-28T00:00:00",
          "2021-07-28T00:00:00",
          "2021-08-27T00:00:00",
          "2021-09-28T00:00:00",
          "2021-10-28T00:00:00",
          "2021-11-26T00:00:00",
          "2021-12-28T00:00:00",
          "2022-01-28T00:00:00",
          "2022-02-01T00:00:00",
          "2022-02-28T00:00:00",
          "2022-03-01T00:00:00",
          "2022-03-18T00:00:00",
          "2022-03-28T00:00:00",
          "2022-04-01T00:00:00",
          "2022-04-28T00:00:00",
          "2022-04-29T00:00:00",
          "2022-05-27T00:00:00",
          "2022-05-30T00:00:00",
          "2022-06-01T00:00:00",
          "2022-06-28T00:00:00",
          "2022-07-01T00:00:00",
          "2022-07-28T00:00:00",
          "2022-07-29T00:00:00",
          "2022-08-26T00:00:00",
          "2022-09-01T00:00:00",
          "2022-09-28T00:00:00",
          "2022-09-30T00:00:00",
          "2022-10-28T00:00:00",
          "2022-11-30T00:00:00",
          "2022-12-30T00:00:00",
          "2023-01-30T00:00:00",
          "2023-02-28T00:00:00",
          "2023-03-30T00:00:00",
          "2023-04-28T00:00:00",
          "2023-06-20T00:00:00"
         ],
         "xaxis": "x",
         "y": [
          -130.0,
          -130.0,
          -130.0,
          -130.0,
          -130.0,
          -130.0,
          -130.0,
          -130.0,
          -130.0,
          -130.0,
          -130.0,
          -130.0,
          -130.0,
          -130.0,
          -130.0,
          -130.0,
          -130.0,
          -130.0,
          -1163.25,
          -130.0,
          -1163.25,
          -60.0,
          -130.0,
          -1223.25,
          -130.0,
          -1223.25,
          -130.0,
          -60.0,
          -1243.25,
          -130.0,
          -1243.25,
          -130.0,
          -1243.25,
          -130.0,
          -1243.25,
          -130.0,
          -1243.25,
          -1243.25,
          -1243.25,
          -1243.25,
          -1243.25,
          -1286.4,
          -1286.4,
          -1286.4,
          -651.05
         ],
         "yaxis": "y",
         "type": "bar"
        },
        {
         "alignmentgroup": "True",
         "hovertemplate": "Soll=6600 - Werbeinserate, elektronische Medien<br>Datum=%{x}<br>Betrag in Basiswährung=%{y}<extra></extra>",
         "legendgroup": "6600 - Werbeinserate, elektronische Medien",
         "marker": {
          "color": "#636efa",
          "pattern": {
           "shape": ""
          }
         },
         "name": "6600 - Werbeinserate, elektronische Medien",
         "offsetgroup": "6600 - Werbeinserate, elektronische Medien",
         "orientation": "v",
         "showlegend": true,
         "textposition": "auto",
         "x": [
          "2020-09-01T00:00:00",
          "2021-03-11T00:00:00"
         ],
         "xaxis": "x",
         "y": [
          -300.0,
          -209.21
         ],
         "yaxis": "y",
         "type": "bar"
        },
        {
         "alignmentgroup": "True",
         "hovertemplate": "Soll=5881 - Snack Attack<br>Datum=%{x}<br>Betrag in Basiswährung=%{y}<extra></extra>",
         "legendgroup": "5881 - Snack Attack",
         "marker": {
          "color": "#EF553B",
          "pattern": {
           "shape": ""
          }
         },
         "name": "5881 - Snack Attack",
         "offsetgroup": "5881 - Snack Attack",
         "orientation": "v",
         "showlegend": true,
         "textposition": "auto",
         "x": [
          "2020-10-29T00:00:00",
          "2020-12-05T00:00:00",
          "2021-01-08T00:00:00",
          "2021-04-21T00:00:00",
          "2021-06-02T00:00:00",
          "2021-06-05T00:00:00",
          "2021-09-02T00:00:00",
          "2021-09-08T00:00:00",
          "2021-09-12T00:00:00",
          "2021-11-03T00:00:00",
          "2021-11-04T00:00:00",
          "2021-12-06T00:00:00",
          "2021-12-16T00:00:00",
          "2022-01-13T00:00:00",
          "2022-02-23T00:00:00",
          "2022-02-23T00:00:00",
          "2022-04-21T00:00:00",
          "2022-08-15T00:00:00",
          "2022-09-11T00:00:00"
         ],
         "xaxis": "x",
         "y": [
          -16.6,
          -8.1,
          -57.86,
          -6.5,
          -20.3,
          -9.5,
          -2.4,
          -3.5,
          -40.0,
          -46.85,
          -5.4,
          -19.5,
          -20.0,
          -49.7,
          -0.28,
          -20.2,
          -10.45,
          -11.25,
          -0.9
         ],
         "yaxis": "y",
         "type": "bar"
        },
        {
         "alignmentgroup": "True",
         "hovertemplate": "Soll=6500 - Büromaterial<br>Datum=%{x}<br>Betrag in Basiswährung=%{y}<extra></extra>",
         "legendgroup": "6500 - Büromaterial",
         "marker": {
          "color": "#00cc96",
          "pattern": {
           "shape": ""
          }
         },
         "name": "6500 - Büromaterial",
         "offsetgroup": "6500 - Büromaterial",
         "orientation": "v",
         "showlegend": true,
         "textposition": "auto",
         "x": [
          "2020-11-12T00:00:00",
          "2021-03-12T00:00:00",
          "2021-12-24T00:00:00",
          "2022-02-15T00:00:00",
          "2022-04-01T00:00:00",
          "2022-05-16T00:00:00",
          "2022-08-16T00:00:00",
          "2022-09-16T00:00:00",
          "2022-09-30T00:00:00"
         ],
         "xaxis": "x",
         "y": [
          -7.0,
          -46.05,
          -14.0,
          -215.0,
          -9.0,
          -2.7,
          -5.52,
          -180.0,
          -9.01
         ],
         "yaxis": "y",
         "type": "bar"
        },
        {
         "alignmentgroup": "True",
         "hovertemplate": "Soll=6099 - Sonstiger Raumaufwand<br>Datum=%{x}<br>Betrag in Basiswährung=%{y}<extra></extra>",
         "legendgroup": "6099 - Sonstiger Raumaufwand",
         "marker": {
          "color": "#ab63fa",
          "pattern": {
           "shape": ""
          }
         },
         "name": "6099 - Sonstiger Raumaufwand",
         "offsetgroup": "6099 - Sonstiger Raumaufwand",
         "orientation": "v",
         "showlegend": true,
         "textposition": "auto",
         "x": [
          "2021-01-05T00:00:00",
          "2022-01-13T00:00:00",
          "2022-02-05T00:00:00"
         ],
         "xaxis": "x",
         "y": [
          -40.5,
          -117.41,
          -131.85
         ],
         "yaxis": "y",
         "type": "bar"
        },
        {
         "alignmentgroup": "True",
         "hovertemplate": "Soll=1171 - Vorsteuer Inv., übr. Betriebsaufwand Kl.1 5-8<br>Datum=%{x}<br>Betrag in Basiswährung=%{y}<extra></extra>",
         "legendgroup": "1171 - Vorsteuer Inv., übr. Betriebsaufwand Kl.1 5-8",
         "marker": {
          "color": "#FFA15A",
          "pattern": {
           "shape": ""
          }
         },
         "name": "1171 - Vorsteuer Inv., übr. Betriebsaufwand Kl.1 5-8",
         "offsetgroup": "1171 - Vorsteuer Inv., übr. Betriebsaufwand Kl.1 5-8",
         "orientation": "v",
         "showlegend": true,
         "textposition": "auto",
         "x": [
          "2021-01-29T00:00:00",
          "2021-02-26T00:00:00",
          "2021-02-28T00:00:00",
          "2021-03-12T00:00:00",
          "2021-03-12T00:00:00",
          "2021-03-26T00:00:00",
          "2021-04-28T00:00:00",
          "2021-05-25T00:00:00",
          "2021-05-28T00:00:00",
          "2021-05-31T00:00:00",
          "2021-06-28T00:00:00",
          "2021-07-28T00:00:00",
          "2021-07-31T00:00:00",
          "2021-08-27T00:00:00",
          "2021-09-28T00:00:00",
          "2021-10-28T00:00:00",
          "2021-11-26T00:00:00",
          "2021-12-28T00:00:00",
          "2022-01-13T00:00:00",
          "2022-01-28T00:00:00",
          "2022-01-31T00:00:00",
          "2022-02-01T00:00:00",
          "2022-02-05T00:00:00",
          "2022-02-15T00:00:00",
          "2022-02-23T00:00:00",
          "2022-02-23T00:00:00",
          "2022-02-28T00:00:00",
          "2022-02-28T00:00:00",
          "2022-03-01T00:00:00",
          "2022-03-18T00:00:00",
          "2022-03-28T00:00:00",
          "2022-04-01T00:00:00",
          "2022-04-01T00:00:00",
          "2022-04-01T00:00:00",
          "2022-04-21T00:00:00",
          "2022-04-28T00:00:00",
          "2022-04-29T00:00:00",
          "2022-04-30T00:00:00",
          "2022-05-07T00:00:00",
          "2022-05-16T00:00:00",
          "2022-05-27T00:00:00",
          "2022-05-30T00:00:00",
          "2022-05-31T00:00:00",
          "2022-05-31T00:00:00",
          "2022-06-01T00:00:00",
          "2022-06-01T00:00:00",
          "2022-06-08T00:00:00",
          "2022-06-28T00:00:00",
          "2022-06-29T00:00:00",
          "2022-06-30T00:00:00",
          "2022-07-01T00:00:00",
          "2022-07-28T00:00:00",
          "2022-07-29T00:00:00",
          "2022-07-31T00:00:00",
          "2022-08-16T00:00:00",
          "2022-08-22T00:00:00",
          "2022-08-22T00:00:00",
          "2022-08-26T00:00:00",
          "2022-08-31T00:00:00",
          "2022-09-01T00:00:00",
          "2022-09-03T00:00:00",
          "2022-09-10T00:00:00",
          "2022-09-11T00:00:00",
          "2022-09-16T00:00:00",
          "2022-09-28T00:00:00",
          "2022-09-30T00:00:00",
          "2022-09-30T00:00:00",
          "2022-09-30T00:00:00",
          "2022-10-24T00:00:00",
          "2022-10-28T00:00:00",
          "2022-10-31T00:00:00",
          "2022-11-12T00:00:00",
          "2022-11-30T00:00:00",
          "2022-11-30T00:00:00",
          "2022-12-08T00:00:00",
          "2022-12-30T00:00:00",
          "2022-12-31T00:00:00",
          "2023-01-30T00:00:00",
          "2023-01-31T00:00:00",
          "2023-02-28T00:00:00",
          "2023-02-28T00:00:00",
          "2023-03-30T00:00:00",
          "2023-03-31T00:00:00",
          "2023-04-28T00:00:00",
          "2023-04-30T00:00:00",
          "2023-06-20T00:00:00"
         ],
         "xaxis": "x",
         "y": [
          -0.0,
          -0.0,
          -0.0,
          -3.55,
          -26.74,
          -0.0,
          -0.0,
          -1.49,
          -0.0,
          -0.0,
          -0.0,
          -0.0,
          -0.0,
          -0.0,
          -0.0,
          -0.0,
          -0.0,
          -0.0,
          -9.04,
          -0.0,
          -0.0,
          -0.0,
          -10.15,
          -0.0,
          -0.02,
          -0.5,
          -0.0,
          -0.0,
          -0.0,
          -0.0,
          -0.0,
          -0.0,
          -0.0,
          -0.0,
          -0.0,
          -0.0,
          -0.0,
          -0.0,
          -0.0,
          -0.0,
          -0.0,
          -0.0,
          -0.0,
          -0.0,
          -0.0,
          -0.0,
          -0.0,
          -0.0,
          -0.0,
          -0.0,
          -0.0,
          -0.0,
          -0.0,
          -0.0,
          -0.43,
          -0.0,
          -0.0,
          -0.0,
          -0.0,
          -0.0,
          -0.0,
          -0.0,
          -0.0,
          -0.0,
          -0.0,
          -0.69,
          -0.0,
          -0.0,
          -0.0,
          -0.0,
          -0.0,
          -0.67,
          -0.0,
          -0.0,
          -0.71,
          -0.0,
          -0.0,
          -0.0,
          -0.0,
          -0.0,
          -0.0,
          -0.0,
          -0.0,
          -0.0,
          -0.0,
          -0.0
         ],
         "yaxis": "y",
         "type": "bar"
        },
        {
         "alignmentgroup": "True",
         "hovertemplate": "Soll=8000 - Betriebsfremder Aufwand<br>Datum=%{x}<br>Betrag in Basiswährung=%{y}<extra></extra>",
         "legendgroup": "8000 - Betriebsfremder Aufwand",
         "marker": {
          "color": "#19d3f3",
          "pattern": {
           "shape": ""
          }
         },
         "name": "8000 - Betriebsfremder Aufwand",
         "offsetgroup": "8000 - Betriebsfremder Aufwand",
         "orientation": "v",
         "showlegend": true,
         "textposition": "auto",
         "x": [
          "2021-03-04T00:00:00"
         ],
         "xaxis": "x",
         "y": [
          -145.0
         ],
         "yaxis": "y",
         "type": "bar"
        },
        {
         "alignmentgroup": "True",
         "hovertemplate": "Soll=1520 - Informatik<br>Datum=%{x}<br>Betrag in Basiswährung=%{y}<extra></extra>",
         "legendgroup": "1520 - Informatik",
         "marker": {
          "color": "#FF6692",
          "pattern": {
           "shape": ""
          }
         },
         "name": "1520 - Informatik",
         "offsetgroup": "1520 - Informatik",
         "orientation": "v",
         "showlegend": true,
         "textposition": "auto",
         "x": [
          "2021-03-12T00:00:00"
         ],
         "xaxis": "x",
         "y": [
          -347.26
         ],
         "yaxis": "y",
         "type": "bar"
        },
        {
         "alignmentgroup": "True",
         "hovertemplate": "Soll=1175 - Abrechnungskonto MWST<br>Datum=%{x}<br>Betrag in Basiswährung=%{y}<extra></extra>",
         "legendgroup": "1175 - Abrechnungskonto MWST",
         "marker": {
          "color": "#B6E880",
          "pattern": {
           "shape": ""
          }
         },
         "name": "1175 - Abrechnungskonto MWST",
         "offsetgroup": "1175 - Abrechnungskonto MWST",
         "orientation": "v",
         "showlegend": true,
         "textposition": "auto",
         "x": [
          "2021-04-08T00:00:00",
          "2021-06-01T00:00:00",
          "2021-06-01T00:00:00",
          "2021-11-10T00:00:00",
          "2021-11-30T00:00:00",
          "2022-08-05T00:00:00",
          "2022-09-21T00:00:00",
          "2022-09-21T00:00:00"
         ],
         "xaxis": "x",
         "y": [
          -369.06,
          -1883.35,
          -1422.9,
          -1859.9,
          -3469.2,
          -945.7,
          -2372.0,
          -2372.0
         ],
         "yaxis": "y",
         "type": "bar"
        },
        {
         "alignmentgroup": "True",
         "hovertemplate": "Soll=6660 - Sonstiger Werbeaufwand<br>Datum=%{x}<br>Betrag in Basiswährung=%{y}<extra></extra>",
         "legendgroup": "6660 - Sonstiger Werbeaufwand",
         "marker": {
          "color": "#FF97FF",
          "pattern": {
           "shape": ""
          }
         },
         "name": "6660 - Sonstiger Werbeaufwand",
         "offsetgroup": "6660 - Sonstiger Werbeaufwand",
         "orientation": "v",
         "showlegend": true,
         "textposition": "auto",
         "x": [
          "2021-04-19T00:00:00"
         ],
         "xaxis": "x",
         "y": [
          -82.95
         ],
         "yaxis": "y",
         "type": "bar"
        },
        {
         "alignmentgroup": "True",
         "hovertemplate": "Soll=1090 - Transferkonto<br>Datum=%{x}<br>Betrag in Basiswährung=%{y}<extra></extra>",
         "legendgroup": "1090 - Transferkonto",
         "marker": {
          "color": "#FECB52",
          "pattern": {
           "shape": ""
          }
         },
         "name": "1090 - Transferkonto",
         "offsetgroup": "1090 - Transferkonto",
         "orientation": "v",
         "showlegend": true,
         "textposition": "auto",
         "x": [
          "2021-04-30T00:00:00",
          "2021-06-08T00:00:00",
          "2021-06-30T00:00:00"
         ],
         "xaxis": "x",
         "y": [
          -117.1,
          -179.25,
          -300.9
         ],
         "yaxis": "y",
         "type": "bar"
        },
        {
         "alignmentgroup": "True",
         "hovertemplate": "Soll=6700 - Sonstiger Betriebsaufwand<br>Datum=%{x}<br>Betrag in Basiswährung=%{y}<extra></extra>",
         "legendgroup": "6700 - Sonstiger Betriebsaufwand",
         "marker": {
          "color": "#636efa",
          "pattern": {
           "shape": ""
          }
         },
         "name": "6700 - Sonstiger Betriebsaufwand",
         "offsetgroup": "6700 - Sonstiger Betriebsaufwand",
         "orientation": "v",
         "showlegend": true,
         "textposition": "auto",
         "x": [
          "2021-05-25T00:00:00",
          "2021-11-07T00:00:00",
          "2021-11-08T00:00:00",
          "2021-11-23T00:00:00",
          "2021-12-04T00:00:00",
          "2022-01-14T00:00:00",
          "2022-05-07T00:00:00",
          "2022-09-10T00:00:00",
          "2022-10-24T00:00:00"
         ],
         "xaxis": "x",
         "y": [
          -1.0,
          -7.0,
          -199.0,
          -0.5,
          -8.1,
          -1.0,
          -2.5,
          -0.5,
          -2.0
         ],
         "yaxis": "y",
         "type": "bar"
        },
        {
         "alignmentgroup": "True",
         "hovertemplate": "Soll=6641 - Kundenbetreuung<br>Datum=%{x}<br>Betrag in Basiswährung=%{y}<extra></extra>",
         "legendgroup": "6641 - Kundenbetreuung",
         "marker": {
          "color": "#EF553B",
          "pattern": {
           "shape": ""
          }
         },
         "name": "6641 - Kundenbetreuung",
         "offsetgroup": "6641 - Kundenbetreuung",
         "orientation": "v",
         "showlegend": true,
         "textposition": "auto",
         "x": [
          "2021-05-25T00:00:00",
          "2021-12-08T00:00:00"
         ],
         "xaxis": "x",
         "y": [
          -19.38,
          -25.55
         ],
         "yaxis": "y",
         "type": "bar"
        },
        {
         "alignmentgroup": "True",
         "hovertemplate": "Soll=2270 - Kontokorrent Vorsorgeeinrichtung<br>Datum=%{x}<br>Betrag in Basiswährung=%{y}<extra></extra>",
         "legendgroup": "2270 - Kontokorrent Vorsorgeeinrichtung",
         "marker": {
          "color": "#00cc96",
          "pattern": {
           "shape": ""
          }
         },
         "name": "2270 - Kontokorrent Vorsorgeeinrichtung",
         "offsetgroup": "2270 - Kontokorrent Vorsorgeeinrichtung",
         "orientation": "v",
         "showlegend": true,
         "textposition": "auto",
         "x": [
          "2021-08-16T00:00:00",
          "2021-08-16T00:00:00"
         ],
         "xaxis": "x",
         "y": [
          -1554.0,
          -3090.0
         ],
         "yaxis": "y",
         "type": "bar"
        },
        {
         "alignmentgroup": "True",
         "hovertemplate": "Soll=2271 - Kontokorrent AHV, IV, EO, ALV<br>Datum=%{x}<br>Betrag in Basiswährung=%{y}<extra></extra>",
         "legendgroup": "2271 - Kontokorrent AHV, IV, EO, ALV",
         "marker": {
          "color": "#ab63fa",
          "pattern": {
           "shape": ""
          }
         },
         "name": "2271 - Kontokorrent AHV, IV, EO, ALV",
         "offsetgroup": "2271 - Kontokorrent AHV, IV, EO, ALV",
         "orientation": "v",
         "showlegend": true,
         "textposition": "auto",
         "x": [
          "2021-08-27T00:00:00",
          "2021-08-27T00:00:00",
          "2021-10-29T00:00:00",
          "2022-04-25T00:00:00"
         ],
         "xaxis": "x",
         "y": [
          -5076.0,
          -3732.5,
          -2584.0,
          -3767.0
         ],
         "yaxis": "y",
         "type": "bar"
        },
        {
         "alignmentgroup": "True",
         "hovertemplate": "Soll=5880 - Personalanlässe<br>Datum=%{x}<br>Betrag in Basiswährung=%{y}<extra></extra>",
         "legendgroup": "5880 - Personalanlässe",
         "marker": {
          "color": "#FFA15A",
          "pattern": {
           "shape": ""
          }
         },
         "name": "5880 - Personalanlässe",
         "offsetgroup": "5880 - Personalanlässe",
         "orientation": "v",
         "showlegend": true,
         "textposition": "auto",
         "x": [
          "2021-10-24T00:00:00",
          "2021-11-07T00:00:00",
          "2022-06-01T00:00:00",
          "2022-06-29T00:00:00",
          "2022-08-22T00:00:00",
          "2022-11-12T00:00:00"
         ],
         "xaxis": "x",
         "y": [
          -33.0,
          -13.0,
          -1365.0,
          -62.46,
          -150.0,
          -26.98
         ],
         "yaxis": "y",
         "type": "bar"
        },
        {
         "alignmentgroup": "True",
         "hovertemplate": "Soll=2104 - Kontokorrent Carmine Frangi<br>Datum=%{x}<br>Betrag in Basiswährung=%{y}<extra></extra>",
         "legendgroup": "2104 - Kontokorrent Carmine Frangi",
         "marker": {
          "color": "#19d3f3",
          "pattern": {
           "shape": ""
          }
         },
         "name": "2104 - Kontokorrent Carmine Frangi",
         "offsetgroup": "2104 - Kontokorrent Carmine Frangi",
         "orientation": "v",
         "showlegend": true,
         "textposition": "auto",
         "x": [
          "2021-11-10T00:00:00"
         ],
         "xaxis": "x",
         "y": [
          -4610.0
         ],
         "yaxis": "y",
         "type": "bar"
        },
        {
         "alignmentgroup": "True",
         "hovertemplate": "Soll=1410 - Mietkaution<br>Datum=%{x}<br>Betrag in Basiswährung=%{y}<extra></extra>",
         "legendgroup": "1410 - Mietkaution",
         "marker": {
          "color": "#FF6692",
          "pattern": {
           "shape": ""
          }
         },
         "name": "1410 - Mietkaution",
         "offsetgroup": "1410 - Mietkaution",
         "orientation": "v",
         "showlegend": true,
         "textposition": "auto",
         "x": [
          "2022-01-25T00:00:00"
         ],
         "xaxis": "x",
         "y": [
          -3500.0
         ],
         "yaxis": "y",
         "type": "bar"
        },
        {
         "alignmentgroup": "True",
         "hovertemplate": "Soll=2273 - Kontokorrent Unfallversicherung<br>Datum=%{x}<br>Betrag in Basiswährung=%{y}<extra></extra>",
         "legendgroup": "2273 - Kontokorrent Unfallversicherung",
         "marker": {
          "color": "#B6E880",
          "pattern": {
           "shape": ""
          }
         },
         "name": "2273 - Kontokorrent Unfallversicherung",
         "offsetgroup": "2273 - Kontokorrent Unfallversicherung",
         "orientation": "v",
         "showlegend": true,
         "textposition": "auto",
         "x": [
          "2022-02-23T00:00:00"
         ],
         "xaxis": "x",
         "y": [
          -525.6
         ],
         "yaxis": "y",
         "type": "bar"
        },
        {
         "alignmentgroup": "True",
         "hovertemplate": "Soll=5720 - Vorsorgeeinrichtungen<br>Datum=%{x}<br>Betrag in Basiswährung=%{y}<extra></extra>",
         "legendgroup": "5720 - Vorsorgeeinrichtungen",
         "marker": {
          "color": "#FF97FF",
          "pattern": {
           "shape": ""
          }
         },
         "name": "5720 - Vorsorgeeinrichtungen",
         "offsetgroup": "5720 - Vorsorgeeinrichtungen",
         "orientation": "v",
         "showlegend": true,
         "textposition": "auto",
         "x": [
          "2022-04-25T00:00:00"
         ],
         "xaxis": "x",
         "y": [
          -657.7
         ],
         "yaxis": "y",
         "type": "bar"
        },
        {
         "alignmentgroup": "True",
         "hovertemplate": "Soll=6210 - Betriebsstoffe<br>Datum=%{x}<br>Betrag in Basiswährung=%{y}<extra></extra>",
         "legendgroup": "6210 - Betriebsstoffe",
         "marker": {
          "color": "#FECB52",
          "pattern": {
           "shape": ""
          }
         },
         "name": "6210 - Betriebsstoffe",
         "offsetgroup": "6210 - Betriebsstoffe",
         "orientation": "v",
         "showlegend": true,
         "textposition": "auto",
         "x": [
          "2022-06-08T00:00:00"
         ],
         "xaxis": "x",
         "y": [
          -15.94
         ],
         "yaxis": "y",
         "type": "bar"
        },
        {
         "alignmentgroup": "True",
         "hovertemplate": "Soll=6200 - Fahrzeugunterhalt<br>Datum=%{x}<br>Betrag in Basiswährung=%{y}<extra></extra>",
         "legendgroup": "6200 - Fahrzeugunterhalt",
         "marker": {
          "color": "#636efa",
          "pattern": {
           "shape": ""
          }
         },
         "name": "6200 - Fahrzeugunterhalt",
         "offsetgroup": "6200 - Fahrzeugunterhalt",
         "orientation": "v",
         "showlegend": true,
         "textposition": "auto",
         "x": [
          "2022-09-03T00:00:00"
         ],
         "xaxis": "x",
         "y": [
          -25.0
         ],
         "yaxis": "y",
         "type": "bar"
        },
        {
         "alignmentgroup": "True",
         "hovertemplate": "Soll=5008 - Übriger Personalaufwand<br>Datum=%{x}<br>Betrag in Basiswährung=%{y}<extra></extra>",
         "legendgroup": "5008 - Übriger Personalaufwand",
         "marker": {
          "color": "#EF553B",
          "pattern": {
           "shape": ""
          }
         },
         "name": "5008 - Übriger Personalaufwand",
         "offsetgroup": "5008 - Übriger Personalaufwand",
         "orientation": "v",
         "showlegend": true,
         "textposition": "auto",
         "x": [
          "2022-12-08T00:00:00"
         ],
         "xaxis": "x",
         "y": [
          -9.19
         ],
         "yaxis": "y",
         "type": "bar"
        }
       ],
       "layout": {
        "template": {
         "data": {
          "histogram2dcontour": [
           {
            "type": "histogram2dcontour",
            "colorbar": {
             "outlinewidth": 0,
             "ticks": ""
            },
            "colorscale": [
             [
              0.0,
              "#0d0887"
             ],
             [
              0.1111111111111111,
              "#46039f"
             ],
             [
              0.2222222222222222,
              "#7201a8"
             ],
             [
              0.3333333333333333,
              "#9c179e"
             ],
             [
              0.4444444444444444,
              "#bd3786"
             ],
             [
              0.5555555555555556,
              "#d8576b"
             ],
             [
              0.6666666666666666,
              "#ed7953"
             ],
             [
              0.7777777777777778,
              "#fb9f3a"
             ],
             [
              0.8888888888888888,
              "#fdca26"
             ],
             [
              1.0,
              "#f0f921"
             ]
            ]
           }
          ],
          "choropleth": [
           {
            "type": "choropleth",
            "colorbar": {
             "outlinewidth": 0,
             "ticks": ""
            }
           }
          ],
          "histogram2d": [
           {
            "type": "histogram2d",
            "colorbar": {
             "outlinewidth": 0,
             "ticks": ""
            },
            "colorscale": [
             [
              0.0,
              "#0d0887"
             ],
             [
              0.1111111111111111,
              "#46039f"
             ],
             [
              0.2222222222222222,
              "#7201a8"
             ],
             [
              0.3333333333333333,
              "#9c179e"
             ],
             [
              0.4444444444444444,
              "#bd3786"
             ],
             [
              0.5555555555555556,
              "#d8576b"
             ],
             [
              0.6666666666666666,
              "#ed7953"
             ],
             [
              0.7777777777777778,
              "#fb9f3a"
             ],
             [
              0.8888888888888888,
              "#fdca26"
             ],
             [
              1.0,
              "#f0f921"
             ]
            ]
           }
          ],
          "heatmap": [
           {
            "type": "heatmap",
            "colorbar": {
             "outlinewidth": 0,
             "ticks": ""
            },
            "colorscale": [
             [
              0.0,
              "#0d0887"
             ],
             [
              0.1111111111111111,
              "#46039f"
             ],
             [
              0.2222222222222222,
              "#7201a8"
             ],
             [
              0.3333333333333333,
              "#9c179e"
             ],
             [
              0.4444444444444444,
              "#bd3786"
             ],
             [
              0.5555555555555556,
              "#d8576b"
             ],
             [
              0.6666666666666666,
              "#ed7953"
             ],
             [
              0.7777777777777778,
              "#fb9f3a"
             ],
             [
              0.8888888888888888,
              "#fdca26"
             ],
             [
              1.0,
              "#f0f921"
             ]
            ]
           }
          ],
          "heatmapgl": [
           {
            "type": "heatmapgl",
            "colorbar": {
             "outlinewidth": 0,
             "ticks": ""
            },
            "colorscale": [
             [
              0.0,
              "#0d0887"
             ],
             [
              0.1111111111111111,
              "#46039f"
             ],
             [
              0.2222222222222222,
              "#7201a8"
             ],
             [
              0.3333333333333333,
              "#9c179e"
             ],
             [
              0.4444444444444444,
              "#bd3786"
             ],
             [
              0.5555555555555556,
              "#d8576b"
             ],
             [
              0.6666666666666666,
              "#ed7953"
             ],
             [
              0.7777777777777778,
              "#fb9f3a"
             ],
             [
              0.8888888888888888,
              "#fdca26"
             ],
             [
              1.0,
              "#f0f921"
             ]
            ]
           }
          ],
          "contourcarpet": [
           {
            "type": "contourcarpet",
            "colorbar": {
             "outlinewidth": 0,
             "ticks": ""
            }
           }
          ],
          "contour": [
           {
            "type": "contour",
            "colorbar": {
             "outlinewidth": 0,
             "ticks": ""
            },
            "colorscale": [
             [
              0.0,
              "#0d0887"
             ],
             [
              0.1111111111111111,
              "#46039f"
             ],
             [
              0.2222222222222222,
              "#7201a8"
             ],
             [
              0.3333333333333333,
              "#9c179e"
             ],
             [
              0.4444444444444444,
              "#bd3786"
             ],
             [
              0.5555555555555556,
              "#d8576b"
             ],
             [
              0.6666666666666666,
              "#ed7953"
             ],
             [
              0.7777777777777778,
              "#fb9f3a"
             ],
             [
              0.8888888888888888,
              "#fdca26"
             ],
             [
              1.0,
              "#f0f921"
             ]
            ]
           }
          ],
          "surface": [
           {
            "type": "surface",
            "colorbar": {
             "outlinewidth": 0,
             "ticks": ""
            },
            "colorscale": [
             [
              0.0,
              "#0d0887"
             ],
             [
              0.1111111111111111,
              "#46039f"
             ],
             [
              0.2222222222222222,
              "#7201a8"
             ],
             [
              0.3333333333333333,
              "#9c179e"
             ],
             [
              0.4444444444444444,
              "#bd3786"
             ],
             [
              0.5555555555555556,
              "#d8576b"
             ],
             [
              0.6666666666666666,
              "#ed7953"
             ],
             [
              0.7777777777777778,
              "#fb9f3a"
             ],
             [
              0.8888888888888888,
              "#fdca26"
             ],
             [
              1.0,
              "#f0f921"
             ]
            ]
           }
          ],
          "mesh3d": [
           {
            "type": "mesh3d",
            "colorbar": {
             "outlinewidth": 0,
             "ticks": ""
            }
           }
          ],
          "scatter": [
           {
            "marker": {
             "line": {
              "color": "#283442"
             }
            },
            "type": "scatter"
           }
          ],
          "parcoords": [
           {
            "type": "parcoords",
            "line": {
             "colorbar": {
              "outlinewidth": 0,
              "ticks": ""
             }
            }
           }
          ],
          "scatterpolargl": [
           {
            "type": "scatterpolargl",
            "marker": {
             "colorbar": {
              "outlinewidth": 0,
              "ticks": ""
             }
            }
           }
          ],
          "bar": [
           {
            "error_x": {
             "color": "#f2f5fa"
            },
            "error_y": {
             "color": "#f2f5fa"
            },
            "marker": {
             "line": {
              "color": "rgb(17,17,17)",
              "width": 0.5
             },
             "pattern": {
              "fillmode": "overlay",
              "size": 10,
              "solidity": 0.2
             }
            },
            "type": "bar"
           }
          ],
          "scattergeo": [
           {
            "type": "scattergeo",
            "marker": {
             "colorbar": {
              "outlinewidth": 0,
              "ticks": ""
             }
            }
           }
          ],
          "scatterpolar": [
           {
            "type": "scatterpolar",
            "marker": {
             "colorbar": {
              "outlinewidth": 0,
              "ticks": ""
             }
            }
           }
          ],
          "histogram": [
           {
            "marker": {
             "pattern": {
              "fillmode": "overlay",
              "size": 10,
              "solidity": 0.2
             }
            },
            "type": "histogram"
           }
          ],
          "scattergl": [
           {
            "marker": {
             "line": {
              "color": "#283442"
             }
            },
            "type": "scattergl"
           }
          ],
          "scatter3d": [
           {
            "type": "scatter3d",
            "line": {
             "colorbar": {
              "outlinewidth": 0,
              "ticks": ""
             }
            },
            "marker": {
             "colorbar": {
              "outlinewidth": 0,
              "ticks": ""
             }
            }
           }
          ],
          "scattermapbox": [
           {
            "type": "scattermapbox",
            "marker": {
             "colorbar": {
              "outlinewidth": 0,
              "ticks": ""
             }
            }
           }
          ],
          "scatterternary": [
           {
            "type": "scatterternary",
            "marker": {
             "colorbar": {
              "outlinewidth": 0,
              "ticks": ""
             }
            }
           }
          ],
          "scattercarpet": [
           {
            "type": "scattercarpet",
            "marker": {
             "colorbar": {
              "outlinewidth": 0,
              "ticks": ""
             }
            }
           }
          ],
          "carpet": [
           {
            "aaxis": {
             "endlinecolor": "#A2B1C6",
             "gridcolor": "#506784",
             "linecolor": "#506784",
             "minorgridcolor": "#506784",
             "startlinecolor": "#A2B1C6"
            },
            "baxis": {
             "endlinecolor": "#A2B1C6",
             "gridcolor": "#506784",
             "linecolor": "#506784",
             "minorgridcolor": "#506784",
             "startlinecolor": "#A2B1C6"
            },
            "type": "carpet"
           }
          ],
          "table": [
           {
            "cells": {
             "fill": {
              "color": "#506784"
             },
             "line": {
              "color": "rgb(17,17,17)"
             }
            },
            "header": {
             "fill": {
              "color": "#2a3f5f"
             },
             "line": {
              "color": "rgb(17,17,17)"
             }
            },
            "type": "table"
           }
          ],
          "barpolar": [
           {
            "marker": {
             "line": {
              "color": "rgb(17,17,17)",
              "width": 0.5
             },
             "pattern": {
              "fillmode": "overlay",
              "size": 10,
              "solidity": 0.2
             }
            },
            "type": "barpolar"
           }
          ],
          "pie": [
           {
            "automargin": true,
            "type": "pie"
           }
          ]
         },
         "layout": {
          "autotypenumbers": "strict",
          "colorway": [
           "#636efa",
           "#EF553B",
           "#00cc96",
           "#ab63fa",
           "#FFA15A",
           "#19d3f3",
           "#FF6692",
           "#B6E880",
           "#FF97FF",
           "#FECB52"
          ],
          "font": {
           "color": "#f2f5fa"
          },
          "hovermode": "closest",
          "hoverlabel": {
           "align": "left"
          },
          "paper_bgcolor": "rgb(17,17,17)",
          "plot_bgcolor": "rgb(17,17,17)",
          "polar": {
           "bgcolor": "rgb(17,17,17)",
           "angularaxis": {
            "gridcolor": "#506784",
            "linecolor": "#506784",
            "ticks": ""
           },
           "radialaxis": {
            "gridcolor": "#506784",
            "linecolor": "#506784",
            "ticks": ""
           }
          },
          "ternary": {
           "bgcolor": "rgb(17,17,17)",
           "aaxis": {
            "gridcolor": "#506784",
            "linecolor": "#506784",
            "ticks": ""
           },
           "baxis": {
            "gridcolor": "#506784",
            "linecolor": "#506784",
            "ticks": ""
           },
           "caxis": {
            "gridcolor": "#506784",
            "linecolor": "#506784",
            "ticks": ""
           }
          },
          "coloraxis": {
           "colorbar": {
            "outlinewidth": 0,
            "ticks": ""
           }
          },
          "colorscale": {
           "sequential": [
            [
             0.0,
             "#0d0887"
            ],
            [
             0.1111111111111111,
             "#46039f"
            ],
            [
             0.2222222222222222,
             "#7201a8"
            ],
            [
             0.3333333333333333,
             "#9c179e"
            ],
            [
             0.4444444444444444,
             "#bd3786"
            ],
            [
             0.5555555555555556,
             "#d8576b"
            ],
            [
             0.6666666666666666,
             "#ed7953"
            ],
            [
             0.7777777777777778,
             "#fb9f3a"
            ],
            [
             0.8888888888888888,
             "#fdca26"
            ],
            [
             1.0,
             "#f0f921"
            ]
           ],
           "sequentialminus": [
            [
             0.0,
             "#0d0887"
            ],
            [
             0.1111111111111111,
             "#46039f"
            ],
            [
             0.2222222222222222,
             "#7201a8"
            ],
            [
             0.3333333333333333,
             "#9c179e"
            ],
            [
             0.4444444444444444,
             "#bd3786"
            ],
            [
             0.5555555555555556,
             "#d8576b"
            ],
            [
             0.6666666666666666,
             "#ed7953"
            ],
            [
             0.7777777777777778,
             "#fb9f3a"
            ],
            [
             0.8888888888888888,
             "#fdca26"
            ],
            [
             1.0,
             "#f0f921"
            ]
           ],
           "diverging": [
            [
             0,
             "#8e0152"
            ],
            [
             0.1,
             "#c51b7d"
            ],
            [
             0.2,
             "#de77ae"
            ],
            [
             0.3,
             "#f1b6da"
            ],
            [
             0.4,
             "#fde0ef"
            ],
            [
             0.5,
             "#f7f7f7"
            ],
            [
             0.6,
             "#e6f5d0"
            ],
            [
             0.7,
             "#b8e186"
            ],
            [
             0.8,
             "#7fbc41"
            ],
            [
             0.9,
             "#4d9221"
            ],
            [
             1,
             "#276419"
            ]
           ]
          },
          "xaxis": {
           "gridcolor": "#283442",
           "linecolor": "#506784",
           "ticks": "",
           "title": {
            "standoff": 15
           },
           "zerolinecolor": "#283442",
           "automargin": true,
           "zerolinewidth": 2
          },
          "yaxis": {
           "gridcolor": "#283442",
           "linecolor": "#506784",
           "ticks": "",
           "title": {
            "standoff": 15
           },
           "zerolinecolor": "#283442",
           "automargin": true,
           "zerolinewidth": 2
          },
          "scene": {
           "xaxis": {
            "backgroundcolor": "rgb(17,17,17)",
            "gridcolor": "#506784",
            "linecolor": "#506784",
            "showbackground": true,
            "ticks": "",
            "zerolinecolor": "#C8D4E3",
            "gridwidth": 2
           },
           "yaxis": {
            "backgroundcolor": "rgb(17,17,17)",
            "gridcolor": "#506784",
            "linecolor": "#506784",
            "showbackground": true,
            "ticks": "",
            "zerolinecolor": "#C8D4E3",
            "gridwidth": 2
           },
           "zaxis": {
            "backgroundcolor": "rgb(17,17,17)",
            "gridcolor": "#506784",
            "linecolor": "#506784",
            "showbackground": true,
            "ticks": "",
            "zerolinecolor": "#C8D4E3",
            "gridwidth": 2
           }
          },
          "shapedefaults": {
           "line": {
            "color": "#f2f5fa"
           }
          },
          "annotationdefaults": {
           "arrowcolor": "#f2f5fa",
           "arrowhead": 0,
           "arrowwidth": 1
          },
          "geo": {
           "bgcolor": "rgb(17,17,17)",
           "landcolor": "rgb(17,17,17)",
           "subunitcolor": "#506784",
           "showland": true,
           "showlakes": true,
           "lakecolor": "rgb(17,17,17)"
          },
          "title": {
           "x": 0.05
          },
          "updatemenudefaults": {
           "bgcolor": "#506784",
           "borderwidth": 0
          },
          "sliderdefaults": {
           "bgcolor": "#C8D4E3",
           "borderwidth": 1,
           "bordercolor": "rgb(17,17,17)",
           "tickwidth": 0
          },
          "mapbox": {
           "style": "dark"
          }
         }
        },
        "xaxis": {
         "anchor": "y",
         "domain": [
          0.0,
          1.0
         ],
         "title": {
          "text": "Datum"
         }
        },
        "yaxis": {
         "anchor": "x",
         "domain": [
          0.0,
          1.0
         ],
         "title": {
          "text": "Betrag in Basiswährung"
         }
        },
        "legend": {
         "title": {
          "text": "Soll"
         },
         "tracegroupgap": 0
        },
        "margin": {
         "t": 60
        },
        "barmode": "relative"
       },
       "config": {
        "plotlyServerURL": "https://plot.ly"
       }
      },
      "text/html": "<div>                            <div id=\"4dba15e9-c6d7-4651-9bad-4091ef5ba075\" class=\"plotly-graph-div\" style=\"height:525px; width:100%;\"></div>            <script type=\"text/javascript\">                require([\"plotly\"], function(Plotly) {                    window.PLOTLYENV=window.PLOTLYENV || {};                                    if (document.getElementById(\"4dba15e9-c6d7-4651-9bad-4091ef5ba075\")) {                    Plotly.newPlot(                        \"4dba15e9-c6d7-4651-9bad-4091ef5ba075\",                        [{\"alignmentgroup\":\"True\",\"hovertemplate\":\"Soll=1001 - PostFinance\\u003cbr\\u003eDatum=%{x}\\u003cbr\\u003eBetrag in Basisw\\u00e4hrung=%{y}\\u003cextra\\u003e\\u003c\\u002fextra\\u003e\",\"legendgroup\":\"1001 - PostFinance\",\"marker\":{\"color\":\"#636efa\",\"pattern\":{\"shape\":\"\"}},\"name\":\"1001 - PostFinance\",\"offsetgroup\":\"1001 - PostFinance\",\"orientation\":\"v\",\"showlegend\":true,\"textposition\":\"auto\",\"x\":[\"2019-09-20T00:00:00\",\"2020-03-25T00:00:00\",\"2020-03-30T00:00:00\",\"2020-06-30T00:00:00\",\"2020-07-02T00:00:00\",\"2020-07-21T00:00:00\",\"2020-07-30T00:00:00\",\"2020-07-30T00:00:00\",\"2020-08-04T00:00:00\",\"2020-08-04T00:00:00\",\"2020-08-04T00:00:00\",\"2020-08-06T00:00:00\",\"2020-08-25T00:00:00\",\"2020-08-25T00:00:00\",\"2020-08-25T00:00:00\",\"2020-08-28T00:00:00\",\"2020-09-08T00:00:00\",\"2020-09-11T00:00:00\",\"2020-09-15T00:00:00\",\"2020-09-18T00:00:00\",\"2020-09-28T00:00:00\",\"2020-10-09T00:00:00\",\"2020-10-12T00:00:00\",\"2020-10-12T00:00:00\",\"2020-10-13T00:00:00\",\"2020-10-15T00:00:00\",\"2020-10-16T00:00:00\",\"2020-10-27T00:00:00\",\"2020-11-05T00:00:00\",\"2020-11-05T00:00:00\",\"2020-11-06T00:00:00\",\"2020-11-19T00:00:00\",\"2020-11-23T00:00:00\",\"2020-11-24T00:00:00\",\"2020-11-24T00:00:00\",\"2020-11-24T00:00:00\",\"2020-11-24T00:00:00\",\"2020-12-04T00:00:00\",\"2020-12-04T00:00:00\",\"2020-12-04T00:00:00\",\"2020-12-04T00:00:00\",\"2020-12-30T00:00:00\",\"2020-12-30T00:00:00\",\"2020-12-30T00:00:00\",\"2020-12-30T00:00:00\",\"2020-12-30T00:00:00\",\"2020-12-30T00:00:00\",\"2021-01-01T00:00:00\",\"2021-01-26T00:00:00\",\"2021-02-12T00:00:00\",\"2021-02-12T00:00:00\",\"2021-02-12T00:00:00\",\"2021-02-12T00:00:00\",\"2021-02-16T00:00:00\",\"2021-02-22T00:00:00\",\"2021-02-24T00:00:00\",\"2021-03-01T00:00:00\",\"2021-03-04T00:00:00\",\"2021-03-04T00:00:00\",\"2021-03-05T00:00:00\",\"2021-03-06T00:00:00\",\"2021-03-06T00:00:00\",\"2021-03-09T00:00:00\",\"2021-03-17T00:00:00\",\"2021-03-19T00:00:00\",\"2021-03-19T00:00:00\",\"2021-03-24T00:00:00\",\"2021-03-24T00:00:00\",\"2021-03-24T00:00:00\",\"2021-03-30T00:00:00\",\"2021-04-14T00:00:00\",\"2021-04-15T00:00:00\",\"2021-04-22T00:00:00\",\"2021-04-27T00:00:00\",\"2021-04-27T00:00:00\",\"2021-04-28T00:00:00\",\"2021-04-28T00:00:00\",\"2021-05-04T00:00:00\",\"2021-05-04T00:00:00\",\"2021-05-04T00:00:00\",\"2021-05-04T00:00:00\",\"2021-05-04T00:00:00\",\"2021-05-06T00:00:00\",\"2021-05-06T00:00:00\",\"2021-05-11T00:00:00\",\"2021-05-12T00:00:00\",\"2021-05-14T00:00:00\",\"2021-05-14T00:00:00\",\"2021-05-14T00:00:00\",\"2021-05-14T00:00:00\",\"2021-05-14T00:00:00\",\"2021-05-14T00:00:00\",\"2021-05-14T00:00:00\",\"2021-05-14T00:00:00\",\"2021-05-14T00:00:00\",\"2021-05-20T00:00:00\",\"2021-05-25T00:00:00\",\"2021-05-28T00:00:00\",\"2021-06-09T00:00:00\",\"2021-06-09T00:00:00\",\"2021-06-09T00:00:00\",\"2021-06-09T00:00:00\",\"2021-06-09T00:00:00\",\"2021-06-09T00:00:00\",\"2021-06-09T00:00:00\",\"2021-06-10T00:00:00\",\"2021-06-10T00:00:00\",\"2021-06-10T00:00:00\",\"2021-06-17T00:00:00\",\"2021-06-18T00:00:00\",\"2021-06-24T00:00:00\",\"2021-06-28T00:00:00\",\"2021-06-30T00:00:00\",\"2021-07-01T00:00:00\",\"2021-07-02T00:00:00\",\"2021-07-09T00:00:00\",\"2021-07-15T00:00:00\",\"2021-07-19T00:00:00\",\"2021-07-19T00:00:00\",\"2021-07-19T00:00:00\",\"2021-07-19T00:00:00\",\"2021-07-19T00:00:00\",\"2021-07-19T00:00:00\",\"2021-07-20T00:00:00\",\"2021-07-30T00:00:00\",\"2021-08-10T00:00:00\",\"2021-08-13T00:00:00\",\"2021-09-06T00:00:00\",\"2021-09-06T00:00:00\",\"2021-09-14T00:00:00\",\"2021-09-14T00:00:00\",\"2021-09-14T00:00:00\",\"2021-09-14T00:00:00\",\"2021-09-14T00:00:00\",\"2021-09-15T00:00:00\",\"2021-09-15T00:00:00\",\"2021-09-17T00:00:00\",\"2021-10-11T00:00:00\",\"2021-10-11T00:00:00\",\"2021-10-11T00:00:00\",\"2021-10-11T00:00:00\",\"2021-10-25T00:00:00\",\"2021-10-27T00:00:00\",\"2021-10-29T00:00:00\",\"2021-11-01T00:00:00\",\"2021-11-01T00:00:00\",\"2021-11-01T00:00:00\",\"2021-11-01T00:00:00\",\"2021-11-01T00:00:00\",\"2021-11-09T00:00:00\",\"2021-11-12T00:00:00\",\"2021-11-15T00:00:00\",\"2021-11-15T00:00:00\",\"2021-11-15T00:00:00\",\"2021-11-15T00:00:00\",\"2021-11-15T00:00:00\",\"2021-11-15T00:00:00\",\"2021-11-15T00:00:00\",\"2021-11-15T00:00:00\",\"2021-11-16T00:00:00\",\"2021-11-22T00:00:00\",\"2021-11-23T00:00:00\",\"2021-11-23T00:00:00\",\"2021-12-08T00:00:00\",\"2021-12-09T00:00:00\",\"2021-12-09T00:00:00\",\"2021-12-09T00:00:00\",\"2021-12-09T00:00:00\",\"2021-12-09T00:00:00\",\"2021-12-09T00:00:00\",\"2021-12-09T00:00:00\",\"2021-12-09T00:00:00\",\"2021-12-13T00:00:00\",\"2021-12-23T00:00:00\",\"2021-12-23T00:00:00\",\"2021-12-28T00:00:00\",\"2021-12-30T00:00:00\",\"2021-12-30T00:00:00\",\"2022-01-01T00:00:00\",\"2022-01-10T00:00:00\",\"2022-01-13T00:00:00\",\"2022-01-17T00:00:00\",\"2022-01-17T00:00:00\",\"2022-01-17T00:00:00\",\"2022-01-17T00:00:00\",\"2022-01-17T00:00:00\",\"2022-01-24T00:00:00\",\"2022-02-01T00:00:00\",\"2022-02-08T00:00:00\",\"2022-02-08T00:00:00\",\"2022-02-16T00:00:00\",\"2022-02-16T00:00:00\",\"2022-02-16T00:00:00\",\"2022-02-16T00:00:00\",\"2022-02-16T00:00:00\",\"2022-02-17T00:00:00\",\"2022-02-28T00:00:00\",\"2022-02-28T00:00:00\",\"2022-02-28T00:00:00\",\"2022-02-28T00:00:00\",\"2022-03-01T00:00:00\",\"2022-03-03T00:00:00\",\"2022-03-03T00:00:00\",\"2022-03-07T00:00:00\",\"2022-03-15T00:00:00\",\"2022-03-21T00:00:00\",\"2022-03-21T00:00:00\",\"2022-03-24T00:00:00\",\"2022-03-28T00:00:00\",\"2022-03-28T00:00:00\",\"2022-03-28T00:00:00\",\"2022-03-28T00:00:00\",\"2022-04-04T00:00:00\",\"2022-04-04T00:00:00\",\"2022-04-04T00:00:00\",\"2022-04-04T00:00:00\",\"2022-04-04T00:00:00\",\"2022-04-05T00:00:00\",\"2022-04-08T00:00:00\",\"2022-04-13T00:00:00\",\"2022-04-19T00:00:00\",\"2022-04-19T00:00:00\",\"2022-04-25T00:00:00\",\"2022-04-25T00:00:00\",\"2022-04-25T00:00:00\",\"2022-04-29T00:00:00\",\"2022-05-05T00:00:00\",\"2022-05-10T00:00:00\",\"2022-05-13T00:00:00\",\"2022-05-13T00:00:00\",\"2022-05-13T00:00:00\",\"2022-05-13T00:00:00\",\"2022-05-13T00:00:00\",\"2022-05-13T00:00:00\",\"2022-05-18T00:00:00\",\"2022-05-19T00:00:00\",\"2022-06-02T00:00:00\",\"2022-06-02T00:00:00\",\"2022-06-02T00:00:00\",\"2022-06-02T00:00:00\",\"2022-06-20T00:00:00\",\"2022-06-21T00:00:00\",\"2022-06-27T00:00:00\",\"2022-06-27T00:00:00\",\"2022-06-27T00:00:00\",\"2022-06-27T00:00:00\",\"2022-06-27T00:00:00\",\"2022-06-30T00:00:00\",\"2022-06-30T00:00:00\",\"2022-07-04T00:00:00\",\"2022-07-08T00:00:00\",\"2022-07-08T00:00:00\",\"2022-07-08T00:00:00\",\"2022-07-08T00:00:00\",\"2022-07-08T00:00:00\",\"2022-07-11T00:00:00\",\"2022-07-13T00:00:00\",\"2022-07-13T00:00:00\",\"2022-07-13T00:00:00\",\"2022-07-13T00:00:00\",\"2022-07-15T00:00:00\",\"2022-07-25T00:00:00\",\"2022-07-28T00:00:00\",\"2022-08-02T00:00:00\",\"2022-08-04T00:00:00\",\"2022-08-11T00:00:00\",\"2022-08-11T00:00:00\",\"2022-08-12T00:00:00\",\"2022-08-15T00:00:00\",\"2022-08-15T00:00:00\",\"2022-08-17T00:00:00\",\"2022-08-18T00:00:00\",\"2022-08-18T00:00:00\",\"2022-08-18T00:00:00\",\"2022-08-18T00:00:00\",\"2022-08-31T00:00:00\",\"2022-08-31T00:00:00\",\"2022-09-01T00:00:00\",\"2022-09-09T00:00:00\",\"2022-09-19T00:00:00\",\"2022-09-21T00:00:00\",\"2022-09-22T00:00:00\",\"2022-09-23T00:00:00\",\"2022-09-23T00:00:00\",\"2022-09-23T00:00:00\",\"2022-09-26T00:00:00\",\"2022-09-26T00:00:00\",\"2022-09-29T00:00:00\",\"2022-09-30T00:00:00\",\"2022-09-30T00:00:00\",\"2022-10-03T00:00:00\",\"2022-10-05T00:00:00\",\"2022-10-05T00:00:00\",\"2022-10-10T00:00:00\",\"2022-10-11T00:00:00\",\"2022-10-13T00:00:00\",\"2022-10-13T00:00:00\",\"2022-10-19T00:00:00\",\"2022-10-26T00:00:00\",\"2022-10-27T00:00:00\",\"2022-10-31T00:00:00\",\"2022-10-31T00:00:00\",\"2022-10-31T00:00:00\",\"2022-10-31T00:00:00\",\"2022-10-31T00:00:00\",\"2022-11-07T00:00:00\",\"2022-11-15T00:00:00\",\"2022-11-18T00:00:00\",\"2022-11-30T00:00:00\",\"2022-11-30T00:00:00\",\"2022-12-05T00:00:00\",\"2022-12-06T00:00:00\",\"2022-12-12T00:00:00\",\"2022-12-12T00:00:00\",\"2022-12-16T00:00:00\",\"2022-12-19T00:00:00\",\"2022-12-29T00:00:00\",\"2022-12-29T00:00:00\",\"2022-12-29T00:00:00\",\"2022-12-29T00:00:00\",\"2022-12-29T00:00:00\",\"2022-12-30T00:00:00\",\"2023-01-06T00:00:00\",\"2023-01-09T00:00:00\",\"2023-01-09T00:00:00\",\"2023-01-09T00:00:00\",\"2023-01-26T00:00:00\",\"2023-01-27T00:00:00\",\"2023-01-27T00:00:00\",\"2023-01-31T00:00:00\",\"2023-02-03T00:00:00\",\"2023-02-06T00:00:00\",\"2023-02-15T00:00:00\",\"2023-02-17T00:00:00\",\"2023-02-20T00:00:00\",\"2023-02-22T00:00:00\",\"2023-02-22T00:00:00\",\"2023-02-24T00:00:00\",\"2023-02-24T00:00:00\",\"2023-02-27T00:00:00\",\"2023-02-28T00:00:00\",\"2023-03-03T00:00:00\",\"2023-03-06T00:00:00\",\"2023-03-14T00:00:00\",\"2023-03-15T00:00:00\",\"2023-03-15T00:00:00\",\"2023-03-16T00:00:00\",\"2023-03-16T00:00:00\",\"2023-03-20T00:00:00\",\"2023-03-20T00:00:00\",\"2023-03-20T00:00:00\",\"2023-03-20T00:00:00\",\"2023-03-23T00:00:00\",\"2023-03-23T00:00:00\",\"2023-03-27T00:00:00\",\"2023-04-03T00:00:00\",\"2023-04-03T00:00:00\",\"2023-04-11T00:00:00\",\"2023-04-21T00:00:00\",\"2023-04-21T00:00:00\",\"2023-05-02T00:00:00\",\"2023-05-03T00:00:00\",\"2023-05-05T00:00:00\",\"2023-05-08T00:00:00\",\"2023-05-08T00:00:00\",\"2023-05-11T00:00:00\",\"2023-05-19T00:00:00\",\"2023-05-19T00:00:00\",\"2023-05-19T00:00:00\",\"2023-05-19T00:00:00\",\"2023-05-22T00:00:00\",\"2023-05-25T00:00:00\",\"2023-05-26T00:00:00\",\"2023-05-26T00:00:00\",\"2023-05-31T00:00:00\",\"2023-06-05T00:00:00\",\"2023-06-05T00:00:00\",\"2023-06-05T00:00:00\",\"2023-06-05T00:00:00\",\"2023-06-08T00:00:00\",\"2023-06-09T00:00:00\",\"2023-06-09T00:00:00\",\"2023-06-09T00:00:00\",\"2023-06-09T00:00:00\",\"2023-06-15T00:00:00\"],\"xaxis\":\"x\",\"y\":[20100.0,4300.0,331.1,592.35,800.0,800.0,301.55,592.35,86.2,21.4,120.3,800.0,1055.45,800.0,1100.0,3931.05,800.0,471.19,1050.0,800.0,169.65,300.0,565.4,1017.75,1100.0,245.0,546.55,1927.85,1771.65,621.95,1055.46,169.65,3338.45,1024.7,800.0,1752.8,1696.3,169.65,2122.15,848.15,1583.2,1187.4,1979.0,56.55,980.05,5040.35,94.25,10843.15,800.0,471.2,2186.3,1149.7,339.25,5040.35,780.0,630.0,5.0,6700.0,1300.0,2880.45,46.52,3.58,350.0,3360.25,772.75,207.3,1352.05,1262.8,867.0,985.45,3360.25,1000.0,880.0,350.0,880.0,810.0,800.0,188.5,1922.45,452.35,490.05,414.65,350.0,350.0,350.0,300.0,829.3,810.45,923.55,1375.85,37.7,188.5,546.6,358.1,735.05,800.0,169.65,4695.7,37.7,433.5,621.95,1410.0,263.85,150.8,94.25,2477.1,800.0,350.0,3360.25,700.05,597.25,800.0,2584.8,3360.25,1238.55,800.0,780.0,56.55,188.5,188.5,1225.1,56.55,1451.25,1000.0,4792.65,1000.0,1000.0,90.44,6.96,188.5,113.1,301.55,339.25,320.4,780.0,3360.25,2875.6,37.7,1300.5,339.25,56.55,2956.35,2929.45,3360.25,2550.0,2167.45,4308.0,1828.2,998.9,3050.0,199.0,735.05,75.4,113.1,37.7,169.65,94.25,659.65,94.25,1000.0,1173.95,546.6,358.1,800.0,448.4,1225.1,94.25,37.7,56.55,282.7,1500.0,3400.0,780.0,29.17,378.83,3360.25,2.38,12170.1,32446.31,1480.0,99.25,150.8,169.65,358.1,94.25,75.4,2300.0,4868.05,350.0,1000.0,998.9,358.1,169.65,904.7,358.1,607.75,1275.0,1470.1,3180.0,1077.0,2850.0,1500.0,1500.0,3123.3,850.0,650.0,800.0,660.0,2019.4,5266.55,430.0,3457.15,621.95,1526.65,1275.0,697.35,980.05,1600.0,1500.0,1950.0,860.0,1300.0,848.15,1733.95,1100.0,1500.0,1500.0,2180.0,1100.0,1000.0,1000.0,603.1,1938.6,1150.0,459.15,1000.0,500.0,2304.8,300.0,570.8,900.0,1500.0,6491.4,560.05,635.45,333.85,333.85,2536.5,32.58,1100.0,1500.0,26.23,2.02,6.73,0.52,450.0,659.65,584.25,358.1,1950.0,1600.0,1100.0,129.25,1100.0,1000.0,861.6,2810.95,1000.0,1365.0,0.0,3500.0,473.9,947.75,7030.8,333.85,376.95,226.15,114.95,1100.0,5290.0,1500.0,1000.0,226.15,2584.8,2692.5,226.15,207.3,1000.0,673.15,2810.95,1000.0,21.63,1.67,1130.0,2100.0,1100.0,1025.0,600.0,1100.0,452.35,245.0,75.4,94.25,263.85,450.0,1130.85,1206.25,1000.0,1023.15,1938.6,1093.15,1100.0,415.0,3500.0,140.0,1130.85,263.85,659.65,245.0,2000.0,395.8,32.15,581.05,1800.0,5761.95,107.7,3780.25,969.3,1443.2,915.45,1800.0,446.95,1100.0,140.0,1992.45,1225.0,1874.0,1600.0,3123.3,1561.65,1650.0,1000.0,1800.0,1100.0,1938.6,2154.0,1000.0,1000.0,969.3,3015.6,3338.7,3500.0,1500.0,1500.0,4250.0,1400.0,450.0,300.0,1000.0,3000.0,1800.0,1992.45,1000.0,1130.85,4200.3,1500.0,1500.0,3150.0,3950.0,5823.6,1510.0,1500.0,807.75,9768.4,700.0,732.35,797.0,2929.45,1650.0,1500.0,6771.35,1970.9,3500.0,2563.25,3350.0],\"yaxis\":\"y\",\"type\":\"bar\"},{\"alignmentgroup\":\"True\",\"hovertemplate\":\"Soll=6940 - Bankspesen\\u003cbr\\u003eDatum=%{x}\\u003cbr\\u003eBetrag in Basisw\\u00e4hrung=%{y}\\u003cextra\\u003e\\u003c\\u002fextra\\u003e\",\"legendgroup\":\"6940 - Bankspesen\",\"marker\":{\"color\":\"#EF553B\",\"pattern\":{\"shape\":\"\"}},\"name\":\"6940 - Bankspesen\",\"offsetgroup\":\"6940 - Bankspesen\",\"orientation\":\"v\",\"showlegend\":true,\"textposition\":\"auto\",\"x\":[\"2019-09-20T00:00:00\",\"2019-09-30T00:00:00\",\"2019-10-31T00:00:00\",\"2019-10-31T00:00:00\",\"2019-11-30T00:00:00\",\"2019-12-31T00:00:00\",\"2020-01-31T00:00:00\",\"2020-02-29T00:00:00\",\"2020-03-31T00:00:00\",\"2020-04-30T00:00:00\",\"2020-05-31T00:00:00\",\"2020-06-30T00:00:00\",\"2020-07-31T00:00:00\",\"2020-08-31T00:00:00\",\"2020-09-30T00:00:00\",\"2020-10-31T00:00:00\",\"2020-10-31T00:00:00\",\"2020-11-30T00:00:00\",\"2020-12-31T00:00:00\",\"2021-01-31T00:00:00\",\"2021-02-28T00:00:00\",\"2021-03-31T00:00:00\",\"2021-03-31T00:00:00\",\"2021-04-30T00:00:00\",\"2021-05-31T00:00:00\",\"2021-06-30T00:00:00\",\"2021-07-31T00:00:00\",\"2021-08-31T00:00:00\",\"2021-09-30T00:00:00\",\"2021-10-31T00:00:00\",\"2021-11-01T00:00:00\",\"2021-11-30T00:00:00\",\"2021-11-30T00:00:00\",\"2021-12-31T00:00:00\",\"2022-01-31T00:00:00\",\"2022-02-28T00:00:00\",\"2022-04-01T00:00:00\",\"2022-04-30T00:00:00\",\"2022-05-31T00:00:00\",\"2022-05-31T00:00:00\",\"2022-06-30T00:00:00\",\"2022-07-31T00:00:00\",\"2022-08-22T00:00:00\",\"2022-08-31T00:00:00\",\"2022-09-30T00:00:00\",\"2022-10-31T00:00:00\",\"2022-10-31T00:00:00\",\"2022-10-31T00:00:00\",\"2022-11-30T00:00:00\",\"2022-12-31T00:00:00\",\"2023-01-31T00:00:00\",\"2023-02-28T00:00:00\",\"2023-03-31T00:00:00\",\"2023-04-30T00:00:00\"],\"xaxis\":\"x\",\"y\":[-145.0,-5.0,-30.0,-5.0,-5.0,-5.0,-5.0,-5.0,-5.0,-5.0,-5.0,-5.0,-5.0,-5.0,-5.0,-30.0,-5.0,-5.0,-5.0,-5.0,-10.0,-5.0,-5.0,-5.0,-5.0,-5.0,-5.0,-5.0,-5.0,-5.0,-30.0,-5.0,-22.0,-5.0,-5.0,-5.0,-5.0,-5.0,-5.0,-5.0,-5.0,-5.0,-2.0,-5.0,-5.0,-30.0,-5.0,-3.95,-5.0,-5.0,-5.0,-5.0,-5.0,-5.0],\"yaxis\":\"y\",\"type\":\"bar\"},{\"alignmentgroup\":\"True\",\"hovertemplate\":\"Soll=2102 - Kontokorrent Roger Sennhauser\\u003cbr\\u003eDatum=%{x}\\u003cbr\\u003eBetrag in Basisw\\u00e4hrung=%{y}\\u003cextra\\u003e\\u003c\\u002fextra\\u003e\",\"legendgroup\":\"2102 - Kontokorrent Roger Sennhauser\",\"marker\":{\"color\":\"#00cc96\",\"pattern\":{\"shape\":\"\"}},\"name\":\"2102 - Kontokorrent Roger Sennhauser\",\"offsetgroup\":\"2102 - Kontokorrent Roger Sennhauser\",\"orientation\":\"v\",\"showlegend\":true,\"textposition\":\"auto\",\"x\":[\"2019-10-04T00:00:00\",\"2020-12-15T00:00:00\",\"2021-06-08T00:00:00\",\"2021-07-07T00:00:00\",\"2021-08-02T00:00:00\",\"2022-03-18T00:00:00\",\"2022-08-30T00:00:00\"],\"xaxis\":\"x\",\"y\":[-70.23,-1761.27,-450.0,-954.58,-712.6,-1380.55,-1389.84],\"yaxis\":\"y\",\"type\":\"bar\"},{\"alignmentgroup\":\"True\",\"hovertemplate\":\"Soll=2100 - Kontokorrent Kevin Imhoff\\u003cbr\\u003eDatum=%{x}\\u003cbr\\u003eBetrag in Basisw\\u00e4hrung=%{y}\\u003cextra\\u003e\\u003c\\u002fextra\\u003e\",\"legendgroup\":\"2100 - Kontokorrent Kevin Imhoff\",\"marker\":{\"color\":\"#ab63fa\",\"pattern\":{\"shape\":\"\"}},\"name\":\"2100 - Kontokorrent Kevin Imhoff\",\"offsetgroup\":\"2100 - Kontokorrent Kevin Imhoff\",\"orientation\":\"v\",\"showlegend\":true,\"textposition\":\"auto\",\"x\":[\"2019-10-04T00:00:00\"],\"xaxis\":\"x\",\"y\":[-70.23],\"yaxis\":\"y\",\"type\":\"bar\"},{\"alignmentgroup\":\"True\",\"hovertemplate\":\"Soll=2101 - Kontokorrent Pascal Br\\u00e4m\\u003cbr\\u003eDatum=%{x}\\u003cbr\\u003eBetrag in Basisw\\u00e4hrung=%{y}\\u003cextra\\u003e\\u003c\\u002fextra\\u003e\",\"legendgroup\":\"2101 - Kontokorrent Pascal Br\\u00e4m\",\"marker\":{\"color\":\"#FFA15A\",\"pattern\":{\"shape\":\"\"}},\"name\":\"2101 - Kontokorrent Pascal Br\\u00e4m\",\"offsetgroup\":\"2101 - Kontokorrent Pascal Br\\u00e4m\",\"orientation\":\"v\",\"showlegend\":true,\"textposition\":\"auto\",\"x\":[\"2019-10-04T00:00:00\",\"2020-12-15T00:00:00\"],\"xaxis\":\"x\",\"y\":[-70.24,-1448.66],\"yaxis\":\"y\",\"type\":\"bar\"},{\"alignmentgroup\":\"True\",\"hovertemplate\":\"Soll=2000 - Verbindlichkeiten aus Lieferungen und Leistungen\\u003cbr\\u003eDatum=%{x}\\u003cbr\\u003eBetrag in Basisw\\u00e4hrung=%{y}\\u003cextra\\u003e\\u003c\\u002fextra\\u003e\",\"legendgroup\":\"2000 - Verbindlichkeiten aus Lieferungen und Leistungen\",\"marker\":{\"color\":\"#19d3f3\",\"pattern\":{\"shape\":\"\"}},\"name\":\"2000 - Verbindlichkeiten aus Lieferungen und Leistungen\",\"offsetgroup\":\"2000 - Verbindlichkeiten aus Lieferungen und Leistungen\",\"orientation\":\"v\",\"showlegend\":true,\"textposition\":\"auto\",\"x\":[\"2019-12-13T00:00:00\",\"2019-12-13T00:00:00\",\"2019-12-13T00:00:00\",\"2020-01-07T00:00:00\",\"2020-01-07T00:00:00\",\"2020-01-13T00:00:00\",\"2020-01-13T00:00:00\",\"2020-01-13T00:00:00\",\"2020-01-13T00:00:00\",\"2020-02-03T00:00:00\",\"2020-03-23T00:00:00\",\"2020-05-27T00:00:00\",\"2020-06-11T00:00:00\",\"2020-06-25T00:00:00\",\"2020-06-30T00:00:00\",\"2020-07-07T00:00:00\",\"2020-07-07T00:00:00\",\"2020-07-07T00:00:00\",\"2020-07-07T00:00:00\",\"2020-07-20T00:00:00\",\"2020-08-04T00:00:00\",\"2020-08-04T00:00:00\",\"2020-08-26T00:00:00\",\"2020-08-26T00:00:00\",\"2020-08-28T00:00:00\",\"2020-09-02T00:00:00\",\"2020-09-16T00:00:00\",\"2020-09-16T00:00:00\",\"2020-09-28T00:00:00\",\"2020-10-01T00:00:00\",\"2020-10-01T00:00:00\",\"2020-10-01T00:00:00\",\"2020-10-01T00:00:00\",\"2020-10-06T00:00:00\",\"2020-10-16T00:00:00\",\"2020-10-27T00:00:00\",\"2020-10-28T00:00:00\",\"2020-11-13T00:00:00\",\"2020-11-23T00:00:00\",\"2020-11-27T00:00:00\",\"2020-11-28T00:00:00\",\"2020-12-10T00:00:00\",\"2020-12-12T00:00:00\",\"2020-12-15T00:00:00\",\"2020-12-28T00:00:00\",\"2020-12-30T00:00:00\",\"2020-12-30T00:00:00\",\"2020-12-31T00:00:00\",\"2020-12-31T00:00:00\",\"2020-12-31T00:00:00\",\"2021-01-04T00:00:00\",\"2021-01-22T00:00:00\",\"2021-02-02T00:00:00\",\"2021-02-09T00:00:00\",\"2021-02-17T00:00:00\",\"2021-02-17T00:00:00\",\"2021-02-20T00:00:00\",\"2021-02-27T00:00:00\",\"2021-03-10T00:00:00\",\"2021-03-11T00:00:00\",\"2021-04-07T00:00:00\",\"2021-04-08T00:00:00\",\"2021-04-08T00:00:00\",\"2021-04-08T00:00:00\",\"2021-04-08T00:00:00\",\"2021-04-08T00:00:00\",\"2021-04-13T00:00:00\",\"2021-04-13T00:00:00\",\"2021-04-21T00:00:00\",\"2021-04-22T00:00:00\",\"2021-04-22T00:00:00\",\"2021-04-30T00:00:00\",\"2021-04-30T00:00:00\",\"2021-04-30T00:00:00\",\"2021-04-30T00:00:00\",\"2021-05-03T00:00:00\",\"2021-05-26T00:00:00\",\"2021-05-27T00:00:00\",\"2021-05-31T00:00:00\",\"2021-05-31T00:00:00\",\"2021-06-02T00:00:00\",\"2021-06-30T00:00:00\",\"2021-06-30T00:00:00\",\"2021-06-30T00:00:00\",\"2021-07-01T00:00:00\",\"2021-07-03T00:00:00\",\"2021-07-07T00:00:00\",\"2021-07-07T00:00:00\",\"2021-07-07T00:00:00\",\"2021-07-20T00:00:00\",\"2021-07-30T00:00:00\",\"2021-08-02T00:00:00\",\"2021-08-02T00:00:00\",\"2021-08-02T00:00:00\",\"2021-08-03T00:00:00\",\"2021-08-03T00:00:00\",\"2021-08-24T00:00:00\",\"2021-08-24T00:00:00\",\"2021-08-24T00:00:00\",\"2021-08-24T00:00:00\",\"2021-08-24T00:00:00\",\"2021-08-30T00:00:00\",\"2021-08-31T00:00:00\",\"2021-08-31T00:00:00\",\"2021-08-31T00:00:00\",\"2021-09-30T00:00:00\",\"2021-10-01T00:00:00\",\"2021-10-01T00:00:00\",\"2021-10-06T00:00:00\",\"2021-10-06T00:00:00\",\"2021-10-13T00:00:00\",\"2021-10-26T00:00:00\",\"2021-10-29T00:00:00\",\"2021-10-29T00:00:00\",\"2021-10-29T00:00:00\",\"2021-10-29T00:00:00\",\"2021-11-07T00:00:00\",\"2021-11-10T00:00:00\",\"2021-11-30T00:00:00\",\"2021-12-01T00:00:00\",\"2021-12-01T00:00:00\",\"2021-12-01T00:00:00\",\"2021-12-01T00:00:00\",\"2021-12-01T00:00:00\",\"2021-12-01T00:00:00\",\"2021-12-01T00:00:00\",\"2021-12-01T00:00:00\",\"2021-12-01T00:00:00\",\"2021-12-01T00:00:00\",\"2021-12-01T00:00:00\",\"2021-12-03T00:00:00\",\"2021-12-06T00:00:00\",\"2021-12-09T00:00:00\",\"2021-12-09T00:00:00\",\"2021-12-11T00:00:00\",\"2021-12-13T00:00:00\",\"2021-12-14T00:00:00\",\"2021-12-17T00:00:00\",\"2021-12-21T00:00:00\",\"2021-12-21T00:00:00\",\"2021-12-23T00:00:00\",\"2021-12-30T00:00:00\",\"2021-12-31T00:00:00\",\"2021-12-31T00:00:00\",\"2021-12-31T00:00:00\",\"2022-01-05T00:00:00\",\"2022-01-11T00:00:00\",\"2022-01-11T00:00:00\",\"2022-01-11T00:00:00\",\"2022-01-14T00:00:00\",\"2022-01-14T00:00:00\",\"2022-01-21T00:00:00\",\"2022-01-28T00:00:00\",\"2022-01-28T00:00:00\",\"2022-01-28T00:00:00\",\"2022-01-28T00:00:00\",\"2022-01-31T00:00:00\",\"2022-02-03T00:00:00\",\"2022-02-15T00:00:00\",\"2022-02-15T00:00:00\",\"2022-02-15T00:00:00\",\"2022-02-23T00:00:00\",\"2022-02-28T00:00:00\",\"2022-02-28T00:00:00\",\"2022-02-28T00:00:00\",\"2022-03-02T00:00:00\",\"2022-03-03T00:00:00\",\"2022-03-08T00:00:00\",\"2022-03-18T00:00:00\",\"2022-03-23T00:00:00\",\"2022-03-25T00:00:00\",\"2022-03-29T00:00:00\",\"2022-03-31T00:00:00\",\"2022-03-31T00:00:00\",\"2022-03-31T00:00:00\",\"2022-03-31T00:00:00\",\"2022-03-31T00:00:00\",\"2022-04-25T00:00:00\",\"2022-04-25T00:00:00\",\"2022-04-25T00:00:00\",\"2022-04-29T00:00:00\",\"2022-04-29T00:00:00\",\"2022-04-29T00:00:00\",\"2022-04-29T00:00:00\",\"2022-04-29T00:00:00\",\"2022-05-03T00:00:00\",\"2022-05-03T00:00:00\",\"2022-05-11T00:00:00\",\"2022-05-19T00:00:00\",\"2022-05-19T00:00:00\",\"2022-05-19T00:00:00\",\"2022-05-19T00:00:00\",\"2022-05-19T00:00:00\",\"2022-05-24T00:00:00\",\"2022-05-24T00:00:00\",\"2022-05-25T00:00:00\",\"2022-05-27T00:00:00\",\"2022-05-27T00:00:00\",\"2022-05-31T00:00:00\",\"2022-05-31T00:00:00\",\"2022-05-31T00:00:00\",\"2022-05-31T00:00:00\",\"2022-06-01T00:00:00\",\"2022-06-01T00:00:00\",\"2022-06-01T00:00:00\",\"2022-06-09T00:00:00\",\"2022-06-10T00:00:00\",\"2022-06-10T00:00:00\",\"2022-06-10T00:00:00\",\"2022-06-30T00:00:00\",\"2022-07-04T00:00:00\",\"2022-07-04T00:00:00\",\"2022-07-04T00:00:00\",\"2022-07-04T00:00:00\",\"2022-07-05T00:00:00\",\"2022-07-08T00:00:00\",\"2022-07-08T00:00:00\",\"2022-07-15T00:00:00\",\"2022-07-15T00:00:00\",\"2022-07-27T00:00:00\",\"2022-07-27T00:00:00\",\"2022-07-27T00:00:00\",\"2022-07-27T00:00:00\",\"2022-07-29T00:00:00\",\"2022-07-29T00:00:00\",\"2022-08-05T00:00:00\",\"2022-08-10T00:00:00\",\"2022-08-11T00:00:00\",\"2022-08-12T00:00:00\",\"2022-08-16T00:00:00\",\"2022-08-18T00:00:00\",\"2022-08-30T00:00:00\",\"2022-08-30T00:00:00\",\"2022-08-30T00:00:00\",\"2022-08-31T00:00:00\",\"2022-08-31T00:00:00\",\"2022-09-02T00:00:00\",\"2022-09-05T00:00:00\",\"2022-09-08T00:00:00\",\"2022-09-08T00:00:00\",\"2022-09-12T00:00:00\",\"2022-09-20T00:00:00\",\"2022-09-20T00:00:00\",\"2022-09-22T00:00:00\",\"2022-09-28T00:00:00\",\"2022-09-30T00:00:00\",\"2022-09-30T00:00:00\",\"2022-09-30T00:00:00\",\"2022-09-30T00:00:00\",\"2022-09-30T00:00:00\",\"2022-10-05T00:00:00\",\"2022-10-07T00:00:00\",\"2022-10-10T00:00:00\",\"2022-10-10T00:00:00\",\"2022-10-10T00:00:00\",\"2022-10-12T00:00:00\",\"2022-10-18T00:00:00\",\"2022-10-18T00:00:00\",\"2022-10-18T00:00:00\",\"2022-10-27T00:00:00\",\"2022-10-31T00:00:00\",\"2022-11-01T00:00:00\",\"2022-11-01T00:00:00\",\"2022-11-02T00:00:00\",\"2022-11-02T00:00:00\",\"2022-11-04T00:00:00\",\"2022-11-04T00:00:00\",\"2022-11-08T00:00:00\",\"2022-11-09T00:00:00\",\"2022-11-10T00:00:00\",\"2022-11-22T00:00:00\",\"2022-11-28T00:00:00\",\"2022-11-29T00:00:00\",\"2022-11-29T00:00:00\",\"2022-11-30T00:00:00\",\"2022-12-01T00:00:00\",\"2022-12-01T00:00:00\",\"2022-12-02T00:00:00\",\"2022-12-02T00:00:00\",\"2022-12-02T00:00:00\",\"2022-12-05T00:00:00\",\"2022-12-09T00:00:00\",\"2022-12-14T00:00:00\",\"2022-12-14T00:00:00\",\"2022-12-16T00:00:00\",\"2022-12-28T00:00:00\",\"2022-12-28T00:00:00\",\"2022-12-28T00:00:00\",\"2022-12-30T00:00:00\",\"2022-12-30T00:00:00\",\"2022-12-30T00:00:00\",\"2022-12-30T00:00:00\",\"2022-12-30T00:00:00\",\"2022-12-30T00:00:00\",\"2023-01-03T00:00:00\",\"2023-01-06T00:00:00\",\"2023-01-10T00:00:00\",\"2023-01-27T00:00:00\",\"2023-01-31T00:00:00\",\"2023-02-06T00:00:00\",\"2023-02-06T00:00:00\",\"2023-02-06T00:00:00\",\"2023-02-07T00:00:00\",\"2023-02-07T00:00:00\",\"2023-02-07T00:00:00\",\"2023-02-07T00:00:00\",\"2023-02-10T00:00:00\",\"2023-02-22T00:00:00\",\"2023-02-27T00:00:00\",\"2023-02-28T00:00:00\",\"2023-02-28T00:00:00\",\"2023-03-03T00:00:00\",\"2023-03-16T00:00:00\",\"2023-03-24T00:00:00\",\"2023-03-28T00:00:00\",\"2023-03-31T00:00:00\",\"2023-04-06T00:00:00\",\"2023-04-06T00:00:00\",\"2023-04-06T00:00:00\",\"2023-04-06T00:00:00\",\"2023-04-06T00:00:00\",\"2023-04-06T00:00:00\",\"2023-04-11T00:00:00\",\"2023-04-11T00:00:00\",\"2023-04-11T00:00:00\",\"2023-04-12T00:00:00\",\"2023-04-25T00:00:00\",\"2023-04-25T00:00:00\",\"2023-04-26T00:00:00\",\"2023-04-27T00:00:00\",\"2023-04-28T00:00:00\",\"2023-04-28T00:00:00\",\"2023-05-01T00:00:00\",\"2023-05-05T00:00:00\",\"2023-05-08T00:00:00\",\"2023-05-17T00:00:00\",\"2023-05-17T00:00:00\",\"2023-05-26T00:00:00\",\"2023-05-30T00:00:00\",\"2023-05-31T00:00:00\",\"2023-05-31T00:00:00\",\"2023-05-31T00:00:00\"],\"xaxis\":\"x\",\"y\":[-450.0,-220.0,-743.15,-40.06,-26.93,-122.55,-3877.2,-30.7,-85.0,-2000.0,-26.0,-119.8,-14001.0,-400.0,-401.6,-279.0,-150.0,-75.8,-53.6,-62.35,-150.0,-70.8,-170.0,-112.55,-107.45,-82.0,-39.0,-66.0,-600.0,-139.9,-65.15,-150.45,-727.0,-285.38,-101.25,-314.3,-150.0,-230.0,-209.35,-63.6,-245.2,-789.75,-15.4,-743.15,-276.0,-593.3,-67.8,-131.35,-369.1,-496.9,-3877.2,-172.95,-152.75,-300.0,-118.8,-400.0,-127.9,-499.0,-150.0,-85.0,-316.75,-77.05,-97.7,-60.0,-111.55,-13.15,-79.45,-407.0,-87.35,-725.0,-27.4,-450.0,-31.55,-840.0,-142.2,-55.65,-28.6,-91.4,-42.65,-300.0,-34.7,-33.6,-1191.9,-105.2,-70.75,-305.6,-36.45,-1669.6,-150.0,-32.4,-153.0,-66.6,-30.15,-450.0,-34.3,-54.9,-82.8,-2839.25,-27.6,-116.0,-60.2,-300.0,-161.35,-26.1,-249.15,-150.5,-300.0,-32.95,-139.9,-189.5,-120.0,-163.29,-75.65,-36.5,-80.0,-1163.25,-110.75,-88.2,-58.95,-211.6,-592.85,-1163.25,-57.0,-206.95,-450.0,-8.85,-95.2,-1866.25,-154.0,-230.0,-42.5,-174.5,-1372.0,-37.0,-369.7,-9.0,-1066.25,-29.1,-166.0,-27.8,-30.75,-177.4,-150.05,-150.0,-1163.25,-67.35,-10.4,-641.05,-27.25,-62.05,-3877.2,-2539.0,-49.0,-29.7,-796.9,-64.4,-159.05,-99.3,-67.45,-199.25,-85.0,-31.1,-34.25,-13.7,-78.95,-59.0,-450.0,-122.0,-28.9,-27.6,-2455.55,-484.65,-169.4,-220.2,-150.0,-46.2,-94.6,-87.68,-37.2,-310.0,-161.25,-78.0,-46.95,-450.0,-840.0,-18.7,-32.1,-57.5,-373.7,-705.45,-2170.4,-581.6,-160.46,-28.0,-661.0,-319.0,-222.85,-983.3,-360.0,-78.0,-40.0,-152.35,-44.7,-50.3,-33.6,-57.5,-226.15,-700.05,-68.95,-189.65,-78.0,-165.0,-1191.9,-300.0,-117.9,-25.55,-57.5,-100.7,-252.0,-29.8,-31.85,-3717.0,-210.0,-30.15,-150.0,-48.1,-57.5,-226.15,-95.33,-114.95,-175.0,-78.0,-26.1,-108.0,-300.0,-163.0,-9.69,-18.6,-1031.1,-57.5,-98.9,-115.45,-118.8,-30.24,-78.0,-30.7,-254.1,-230.0,-300.0,-119.3,-139.9,-55.35,-293.65,-3695.45,-174.0,-57.5,-31.65,-28.6,-154.05,-78.0,-300.0,-40.0,-422.8,-153.25,-109.55,-84.65,-100.6,-23.85,-57.5,-226.15,-56.2,-78.1,-31.25,-293.65,-162.3,-90.0,-150.0,-30.7,-150.0,-3.0,-86.17,-57.5,-93.25,-1066.25,-120.0,-45.55,-226.6,-782.85,-64.05,-276.0,-707.1,-1615.5,-52.55,-796.9,-78.0,-5562.7,-3717.0,-78.0,-117.95,-57.5,-3742.75,-45.0,-86.3,-29.55,-48.6,-57.5,-226.15,-34.9,-78.0,-85.0,-145.95,-300.0,-101.0,-710.0,-78.0,-79.95,-54.0,-2455.55,-850.0,-109.65,-115.75,-450.0,-569.3,-3628.0,-37.35,-101.72,-2365.9,-47.3,-129.3,-78.0,-80.85,-40.0,-600.0,-30.9,-75.2,-40.05,-226.15,-78.0,-259.35,-88.4,-450.0,-35.45],\"yaxis\":\"y\",\"type\":\"bar\"},{\"alignmentgroup\":\"True\",\"hovertemplate\":\"Soll=2190 - Kreditkarte\\u003cbr\\u003eDatum=%{x}\\u003cbr\\u003eBetrag in Basisw\\u00e4hrung=%{y}\\u003cextra\\u003e\\u003c\\u002fextra\\u003e\",\"legendgroup\":\"2190 - Kreditkarte\",\"marker\":{\"color\":\"#FF6692\",\"pattern\":{\"shape\":\"\"}},\"name\":\"2190 - Kreditkarte\",\"offsetgroup\":\"2190 - Kreditkarte\",\"orientation\":\"v\",\"showlegend\":true,\"textposition\":\"auto\",\"x\":[\"2019-12-28T00:00:00\",\"2019-12-28T00:00:00\",\"2019-12-28T00:00:00\",\"2020-09-25T00:00:00\",\"2020-10-01T00:00:00\",\"2020-10-02T00:00:00\",\"2020-12-10T00:00:00\",\"2020-12-11T00:00:00\",\"2020-12-11T00:00:00\",\"2020-12-12T00:00:00\",\"2021-02-26T00:00:00\",\"2021-07-10T00:00:00\",\"2021-07-13T00:00:00\",\"2021-07-16T00:00:00\",\"2021-07-23T00:00:00\",\"2021-11-02T00:00:00\",\"2021-11-02T00:00:00\",\"2021-11-03T00:00:00\",\"2021-11-12T00:00:00\",\"2021-11-16T00:00:00\",\"2021-11-19T00:00:00\",\"2021-11-20T00:00:00\",\"2021-11-23T00:00:00\",\"2021-11-30T00:00:00\",\"2021-12-07T00:00:00\",\"2021-12-08T00:00:00\",\"2021-12-09T00:00:00\",\"2021-12-22T00:00:00\",\"2021-12-27T00:00:00\",\"2022-01-20T00:00:00\",\"2022-01-28T00:00:00\",\"2022-02-22T00:00:00\",\"2022-03-22T00:00:00\",\"2022-04-21T00:00:00\",\"2022-05-19T00:00:00\",\"2022-06-22T00:00:00\",\"2022-07-21T00:00:00\",\"2022-08-22T00:00:00\",\"2022-08-23T00:00:00\",\"2022-09-22T00:00:00\",\"2022-10-20T00:00:00\",\"2022-12-21T00:00:00\"],\"xaxis\":\"x\",\"y\":[-56.0,-100.0,-70.0,-23.8,-140.0,-140.0,-10.05,-95.0,-140.5,-17.55,-71.6,-25.0,-90.0,-151.5,-190.0,-48.2,-120.0,-471.45,-7.6,-85.05,-555.3,-144.0,-52.2,-1891.0,-6.45,-34.75,-206.7,-80.0,-62.1,-396.65,-190.5,-2944.2,-303.55,-1127.4,-474.15,-358.4,-244.8,-474.25,-396.35,-2681.4,-1764.65,-117.4],\"yaxis\":\"y\",\"type\":\"bar\"},{\"alignmentgroup\":\"True\",\"hovertemplate\":\"Soll=8900 - Direkte Steuern\\u003cbr\\u003eDatum=%{x}\\u003cbr\\u003eBetrag in Basisw\\u00e4hrung=%{y}\\u003cextra\\u003e\\u003c\\u002fextra\\u003e\",\"legendgroup\":\"8900 - Direkte Steuern\",\"marker\":{\"color\":\"#B6E880\",\"pattern\":{\"shape\":\"\"}},\"name\":\"8900 - Direkte Steuern\",\"offsetgroup\":\"8900 - Direkte Steuern\",\"orientation\":\"v\",\"showlegend\":true,\"textposition\":\"auto\",\"x\":[\"2020-03-09T00:00:00\"],\"xaxis\":\"x\",\"y\":[-666.6],\"yaxis\":\"y\",\"type\":\"bar\"},{\"alignmentgroup\":\"True\",\"hovertemplate\":\"Soll=5000 - L\\u00f6hne\\u003cbr\\u003eDatum=%{x}\\u003cbr\\u003eBetrag in Basisw\\u00e4hrung=%{y}\\u003cextra\\u003e\\u003c\\u002fextra\\u003e\",\"legendgroup\":\"5000 - L\\u00f6hne\",\"marker\":{\"color\":\"#FF97FF\",\"pattern\":{\"shape\":\"\"}},\"name\":\"5000 - L\\u00f6hne\",\"offsetgroup\":\"5000 - L\\u00f6hne\",\"orientation\":\"v\",\"showlegend\":true,\"textposition\":\"auto\",\"x\":[\"2020-07-20T00:00:00\",\"2020-08-27T00:00:00\",\"2020-09-24T00:00:00\",\"2020-10-27T00:00:00\",\"2020-10-28T00:00:00\",\"2020-11-26T00:00:00\",\"2020-12-23T00:00:00\",\"2021-01-25T00:00:00\",\"2021-03-10T00:00:00\",\"2021-03-25T00:00:00\",\"2021-04-26T00:00:00\",\"2021-05-25T00:00:00\",\"2021-06-24T00:00:00\",\"2021-07-28T00:00:00\",\"2021-08-25T00:00:00\",\"2021-09-24T00:00:00\",\"2021-10-25T00:00:00\",\"2021-11-25T00:00:00\",\"2021-12-22T00:00:00\",\"2022-01-24T00:00:00\",\"2022-02-24T00:00:00\",\"2022-03-08T00:00:00\",\"2022-03-29T00:00:00\",\"2022-03-29T00:00:00\",\"2022-04-25T00:00:00\",\"2022-04-25T00:00:00\",\"2022-05-27T00:00:00\",\"2022-05-30T00:00:00\",\"2022-06-28T00:00:00\",\"2022-06-28T00:00:00\",\"2022-07-27T00:00:00\",\"2022-07-27T00:00:00\",\"2022-08-30T00:00:00\",\"2022-08-30T00:00:00\",\"2022-09-28T00:00:00\",\"2022-09-28T00:00:00\",\"2022-10-31T00:00:00\",\"2022-10-31T00:00:00\",\"2022-11-29T00:00:00\",\"2022-11-29T00:00:00\",\"2022-12-28T00:00:00\",\"2022-12-28T00:00:00\",\"2023-02-01T00:00:00\",\"2023-02-01T00:00:00\",\"2023-02-28T00:00:00\",\"2023-02-28T00:00:00\",\"2023-03-28T00:00:00\",\"2023-03-28T00:00:00\",\"2023-04-25T00:00:00\",\"2023-04-25T00:00:00\"],\"xaxis\":\"x\",\"y\":[-1500.0,-3800.0,-4500.0,-3500.0,-1000.0,-4500.0,-4500.0,-4500.0,-4500.0,-4500.0,-4500.0,-5000.0,-5000.0,-5000.0,-5000.0,-5000.0,-5500.0,-5500.0,-5500.0,-5500.0,-5500.0,-2239.8,-2236.4,-5414.95,-2238.1,-5471.65,-2238.1,-5471.65,-2238.1,-5471.65,-2238.1,-5471.65,-2238.1,-5471.65,-5471.65,-2238.1,-5471.65,-2238.1,-5471.65,-2238.1,-2238.1,-5471.65,-5471.65,-2238.1,-2238.1,-5471.65,-5471.65,-2238.1,-2238.1,-5471.65],\"yaxis\":\"y\",\"type\":\"bar\"},{\"alignmentgroup\":\"True\",\"hovertemplate\":\"Soll=6000 - Miete\\u003cbr\\u003eDatum=%{x}\\u003cbr\\u003eBetrag in Basisw\\u00e4hrung=%{y}\\u003cextra\\u003e\\u003c\\u002fextra\\u003e\",\"legendgroup\":\"6000 - Miete\",\"marker\":{\"color\":\"#FECB52\",\"pattern\":{\"shape\":\"\"}},\"name\":\"6000 - Miete\",\"offsetgroup\":\"6000 - Miete\",\"orientation\":\"v\",\"showlegend\":true,\"textposition\":\"auto\",\"x\":[\"2020-08-28T00:00:00\",\"2020-09-30T00:00:00\",\"2020-10-30T00:00:00\",\"2020-11-30T00:00:00\",\"2020-12-30T00:00:00\",\"2021-01-29T00:00:00\",\"2021-02-26T00:00:00\",\"2021-03-26T00:00:00\",\"2021-04-28T00:00:00\",\"2021-05-28T00:00:00\",\"2021-06-28T00:00:00\",\"2021-07-28T00:00:00\",\"2021-08-27T00:00:00\",\"2021-09-28T00:00:00\",\"2021-10-28T00:00:00\",\"2021-11-26T00:00:00\",\"2021-12-28T00:00:00\",\"2022-01-28T00:00:00\",\"2022-02-01T00:00:00\",\"2022-02-28T00:00:00\",\"2022-03-01T00:00:00\",\"2022-03-18T00:00:00\",\"2022-03-28T00:00:00\",\"2022-04-01T00:00:00\",\"2022-04-28T00:00:00\",\"2022-04-29T00:00:00\",\"2022-05-27T00:00:00\",\"2022-05-30T00:00:00\",\"2022-06-01T00:00:00\",\"2022-06-28T00:00:00\",\"2022-07-01T00:00:00\",\"2022-07-28T00:00:00\",\"2022-07-29T00:00:00\",\"2022-08-26T00:00:00\",\"2022-09-01T00:00:00\",\"2022-09-28T00:00:00\",\"2022-09-30T00:00:00\",\"2022-10-28T00:00:00\",\"2022-11-30T00:00:00\",\"2022-12-30T00:00:00\",\"2023-01-30T00:00:00\",\"2023-02-28T00:00:00\",\"2023-03-30T00:00:00\",\"2023-04-28T00:00:00\",\"2023-06-20T00:00:00\"],\"xaxis\":\"x\",\"y\":[-130.0,-130.0,-130.0,-130.0,-130.0,-130.0,-130.0,-130.0,-130.0,-130.0,-130.0,-130.0,-130.0,-130.0,-130.0,-130.0,-130.0,-130.0,-1163.25,-130.0,-1163.25,-60.0,-130.0,-1223.25,-130.0,-1223.25,-130.0,-60.0,-1243.25,-130.0,-1243.25,-130.0,-1243.25,-130.0,-1243.25,-130.0,-1243.25,-1243.25,-1243.25,-1243.25,-1243.25,-1286.4,-1286.4,-1286.4,-651.05],\"yaxis\":\"y\",\"type\":\"bar\"},{\"alignmentgroup\":\"True\",\"hovertemplate\":\"Soll=6600 - Werbeinserate, elektronische Medien\\u003cbr\\u003eDatum=%{x}\\u003cbr\\u003eBetrag in Basisw\\u00e4hrung=%{y}\\u003cextra\\u003e\\u003c\\u002fextra\\u003e\",\"legendgroup\":\"6600 - Werbeinserate, elektronische Medien\",\"marker\":{\"color\":\"#636efa\",\"pattern\":{\"shape\":\"\"}},\"name\":\"6600 - Werbeinserate, elektronische Medien\",\"offsetgroup\":\"6600 - Werbeinserate, elektronische Medien\",\"orientation\":\"v\",\"showlegend\":true,\"textposition\":\"auto\",\"x\":[\"2020-09-01T00:00:00\",\"2021-03-11T00:00:00\"],\"xaxis\":\"x\",\"y\":[-300.0,-209.21],\"yaxis\":\"y\",\"type\":\"bar\"},{\"alignmentgroup\":\"True\",\"hovertemplate\":\"Soll=5881 - Snack Attack\\u003cbr\\u003eDatum=%{x}\\u003cbr\\u003eBetrag in Basisw\\u00e4hrung=%{y}\\u003cextra\\u003e\\u003c\\u002fextra\\u003e\",\"legendgroup\":\"5881 - Snack Attack\",\"marker\":{\"color\":\"#EF553B\",\"pattern\":{\"shape\":\"\"}},\"name\":\"5881 - Snack Attack\",\"offsetgroup\":\"5881 - Snack Attack\",\"orientation\":\"v\",\"showlegend\":true,\"textposition\":\"auto\",\"x\":[\"2020-10-29T00:00:00\",\"2020-12-05T00:00:00\",\"2021-01-08T00:00:00\",\"2021-04-21T00:00:00\",\"2021-06-02T00:00:00\",\"2021-06-05T00:00:00\",\"2021-09-02T00:00:00\",\"2021-09-08T00:00:00\",\"2021-09-12T00:00:00\",\"2021-11-03T00:00:00\",\"2021-11-04T00:00:00\",\"2021-12-06T00:00:00\",\"2021-12-16T00:00:00\",\"2022-01-13T00:00:00\",\"2022-02-23T00:00:00\",\"2022-02-23T00:00:00\",\"2022-04-21T00:00:00\",\"2022-08-15T00:00:00\",\"2022-09-11T00:00:00\"],\"xaxis\":\"x\",\"y\":[-16.6,-8.1,-57.86,-6.5,-20.3,-9.5,-2.4,-3.5,-40.0,-46.85,-5.4,-19.5,-20.0,-49.7,-0.28,-20.2,-10.45,-11.25,-0.9],\"yaxis\":\"y\",\"type\":\"bar\"},{\"alignmentgroup\":\"True\",\"hovertemplate\":\"Soll=6500 - B\\u00fcromaterial\\u003cbr\\u003eDatum=%{x}\\u003cbr\\u003eBetrag in Basisw\\u00e4hrung=%{y}\\u003cextra\\u003e\\u003c\\u002fextra\\u003e\",\"legendgroup\":\"6500 - B\\u00fcromaterial\",\"marker\":{\"color\":\"#00cc96\",\"pattern\":{\"shape\":\"\"}},\"name\":\"6500 - B\\u00fcromaterial\",\"offsetgroup\":\"6500 - B\\u00fcromaterial\",\"orientation\":\"v\",\"showlegend\":true,\"textposition\":\"auto\",\"x\":[\"2020-11-12T00:00:00\",\"2021-03-12T00:00:00\",\"2021-12-24T00:00:00\",\"2022-02-15T00:00:00\",\"2022-04-01T00:00:00\",\"2022-05-16T00:00:00\",\"2022-08-16T00:00:00\",\"2022-09-16T00:00:00\",\"2022-09-30T00:00:00\"],\"xaxis\":\"x\",\"y\":[-7.0,-46.05,-14.0,-215.0,-9.0,-2.7,-5.52,-180.0,-9.01],\"yaxis\":\"y\",\"type\":\"bar\"},{\"alignmentgroup\":\"True\",\"hovertemplate\":\"Soll=6099 - Sonstiger Raumaufwand\\u003cbr\\u003eDatum=%{x}\\u003cbr\\u003eBetrag in Basisw\\u00e4hrung=%{y}\\u003cextra\\u003e\\u003c\\u002fextra\\u003e\",\"legendgroup\":\"6099 - Sonstiger Raumaufwand\",\"marker\":{\"color\":\"#ab63fa\",\"pattern\":{\"shape\":\"\"}},\"name\":\"6099 - Sonstiger Raumaufwand\",\"offsetgroup\":\"6099 - Sonstiger Raumaufwand\",\"orientation\":\"v\",\"showlegend\":true,\"textposition\":\"auto\",\"x\":[\"2021-01-05T00:00:00\",\"2022-01-13T00:00:00\",\"2022-02-05T00:00:00\"],\"xaxis\":\"x\",\"y\":[-40.5,-117.41,-131.85],\"yaxis\":\"y\",\"type\":\"bar\"},{\"alignmentgroup\":\"True\",\"hovertemplate\":\"Soll=1171 - Vorsteuer Inv., \\u00fcbr. Betriebsaufwand Kl.1 5-8\\u003cbr\\u003eDatum=%{x}\\u003cbr\\u003eBetrag in Basisw\\u00e4hrung=%{y}\\u003cextra\\u003e\\u003c\\u002fextra\\u003e\",\"legendgroup\":\"1171 - Vorsteuer Inv., \\u00fcbr. Betriebsaufwand Kl.1 5-8\",\"marker\":{\"color\":\"#FFA15A\",\"pattern\":{\"shape\":\"\"}},\"name\":\"1171 - Vorsteuer Inv., \\u00fcbr. Betriebsaufwand Kl.1 5-8\",\"offsetgroup\":\"1171 - Vorsteuer Inv., \\u00fcbr. Betriebsaufwand Kl.1 5-8\",\"orientation\":\"v\",\"showlegend\":true,\"textposition\":\"auto\",\"x\":[\"2021-01-29T00:00:00\",\"2021-02-26T00:00:00\",\"2021-02-28T00:00:00\",\"2021-03-12T00:00:00\",\"2021-03-12T00:00:00\",\"2021-03-26T00:00:00\",\"2021-04-28T00:00:00\",\"2021-05-25T00:00:00\",\"2021-05-28T00:00:00\",\"2021-05-31T00:00:00\",\"2021-06-28T00:00:00\",\"2021-07-28T00:00:00\",\"2021-07-31T00:00:00\",\"2021-08-27T00:00:00\",\"2021-09-28T00:00:00\",\"2021-10-28T00:00:00\",\"2021-11-26T00:00:00\",\"2021-12-28T00:00:00\",\"2022-01-13T00:00:00\",\"2022-01-28T00:00:00\",\"2022-01-31T00:00:00\",\"2022-02-01T00:00:00\",\"2022-02-05T00:00:00\",\"2022-02-15T00:00:00\",\"2022-02-23T00:00:00\",\"2022-02-23T00:00:00\",\"2022-02-28T00:00:00\",\"2022-02-28T00:00:00\",\"2022-03-01T00:00:00\",\"2022-03-18T00:00:00\",\"2022-03-28T00:00:00\",\"2022-04-01T00:00:00\",\"2022-04-01T00:00:00\",\"2022-04-01T00:00:00\",\"2022-04-21T00:00:00\",\"2022-04-28T00:00:00\",\"2022-04-29T00:00:00\",\"2022-04-30T00:00:00\",\"2022-05-07T00:00:00\",\"2022-05-16T00:00:00\",\"2022-05-27T00:00:00\",\"2022-05-30T00:00:00\",\"2022-05-31T00:00:00\",\"2022-05-31T00:00:00\",\"2022-06-01T00:00:00\",\"2022-06-01T00:00:00\",\"2022-06-08T00:00:00\",\"2022-06-28T00:00:00\",\"2022-06-29T00:00:00\",\"2022-06-30T00:00:00\",\"2022-07-01T00:00:00\",\"2022-07-28T00:00:00\",\"2022-07-29T00:00:00\",\"2022-07-31T00:00:00\",\"2022-08-16T00:00:00\",\"2022-08-22T00:00:00\",\"2022-08-22T00:00:00\",\"2022-08-26T00:00:00\",\"2022-08-31T00:00:00\",\"2022-09-01T00:00:00\",\"2022-09-03T00:00:00\",\"2022-09-10T00:00:00\",\"2022-09-11T00:00:00\",\"2022-09-16T00:00:00\",\"2022-09-28T00:00:00\",\"2022-09-30T00:00:00\",\"2022-09-30T00:00:00\",\"2022-09-30T00:00:00\",\"2022-10-24T00:00:00\",\"2022-10-28T00:00:00\",\"2022-10-31T00:00:00\",\"2022-11-12T00:00:00\",\"2022-11-30T00:00:00\",\"2022-11-30T00:00:00\",\"2022-12-08T00:00:00\",\"2022-12-30T00:00:00\",\"2022-12-31T00:00:00\",\"2023-01-30T00:00:00\",\"2023-01-31T00:00:00\",\"2023-02-28T00:00:00\",\"2023-02-28T00:00:00\",\"2023-03-30T00:00:00\",\"2023-03-31T00:00:00\",\"2023-04-28T00:00:00\",\"2023-04-30T00:00:00\",\"2023-06-20T00:00:00\"],\"xaxis\":\"x\",\"y\":[-0.0,-0.0,-0.0,-3.55,-26.74,-0.0,-0.0,-1.49,-0.0,-0.0,-0.0,-0.0,-0.0,-0.0,-0.0,-0.0,-0.0,-0.0,-9.04,-0.0,-0.0,-0.0,-10.15,-0.0,-0.02,-0.5,-0.0,-0.0,-0.0,-0.0,-0.0,-0.0,-0.0,-0.0,-0.0,-0.0,-0.0,-0.0,-0.0,-0.0,-0.0,-0.0,-0.0,-0.0,-0.0,-0.0,-0.0,-0.0,-0.0,-0.0,-0.0,-0.0,-0.0,-0.0,-0.43,-0.0,-0.0,-0.0,-0.0,-0.0,-0.0,-0.0,-0.0,-0.0,-0.0,-0.69,-0.0,-0.0,-0.0,-0.0,-0.0,-0.67,-0.0,-0.0,-0.71,-0.0,-0.0,-0.0,-0.0,-0.0,-0.0,-0.0,-0.0,-0.0,-0.0,-0.0],\"yaxis\":\"y\",\"type\":\"bar\"},{\"alignmentgroup\":\"True\",\"hovertemplate\":\"Soll=8000 - Betriebsfremder Aufwand\\u003cbr\\u003eDatum=%{x}\\u003cbr\\u003eBetrag in Basisw\\u00e4hrung=%{y}\\u003cextra\\u003e\\u003c\\u002fextra\\u003e\",\"legendgroup\":\"8000 - Betriebsfremder Aufwand\",\"marker\":{\"color\":\"#19d3f3\",\"pattern\":{\"shape\":\"\"}},\"name\":\"8000 - Betriebsfremder Aufwand\",\"offsetgroup\":\"8000 - Betriebsfremder Aufwand\",\"orientation\":\"v\",\"showlegend\":true,\"textposition\":\"auto\",\"x\":[\"2021-03-04T00:00:00\"],\"xaxis\":\"x\",\"y\":[-145.0],\"yaxis\":\"y\",\"type\":\"bar\"},{\"alignmentgroup\":\"True\",\"hovertemplate\":\"Soll=1520 - Informatik\\u003cbr\\u003eDatum=%{x}\\u003cbr\\u003eBetrag in Basisw\\u00e4hrung=%{y}\\u003cextra\\u003e\\u003c\\u002fextra\\u003e\",\"legendgroup\":\"1520 - Informatik\",\"marker\":{\"color\":\"#FF6692\",\"pattern\":{\"shape\":\"\"}},\"name\":\"1520 - Informatik\",\"offsetgroup\":\"1520 - Informatik\",\"orientation\":\"v\",\"showlegend\":true,\"textposition\":\"auto\",\"x\":[\"2021-03-12T00:00:00\"],\"xaxis\":\"x\",\"y\":[-347.26],\"yaxis\":\"y\",\"type\":\"bar\"},{\"alignmentgroup\":\"True\",\"hovertemplate\":\"Soll=1175 - Abrechnungskonto MWST\\u003cbr\\u003eDatum=%{x}\\u003cbr\\u003eBetrag in Basisw\\u00e4hrung=%{y}\\u003cextra\\u003e\\u003c\\u002fextra\\u003e\",\"legendgroup\":\"1175 - Abrechnungskonto MWST\",\"marker\":{\"color\":\"#B6E880\",\"pattern\":{\"shape\":\"\"}},\"name\":\"1175 - Abrechnungskonto MWST\",\"offsetgroup\":\"1175 - Abrechnungskonto MWST\",\"orientation\":\"v\",\"showlegend\":true,\"textposition\":\"auto\",\"x\":[\"2021-04-08T00:00:00\",\"2021-06-01T00:00:00\",\"2021-06-01T00:00:00\",\"2021-11-10T00:00:00\",\"2021-11-30T00:00:00\",\"2022-08-05T00:00:00\",\"2022-09-21T00:00:00\",\"2022-09-21T00:00:00\"],\"xaxis\":\"x\",\"y\":[-369.06,-1883.35,-1422.9,-1859.9,-3469.2,-945.7,-2372.0,-2372.0],\"yaxis\":\"y\",\"type\":\"bar\"},{\"alignmentgroup\":\"True\",\"hovertemplate\":\"Soll=6660 - Sonstiger Werbeaufwand\\u003cbr\\u003eDatum=%{x}\\u003cbr\\u003eBetrag in Basisw\\u00e4hrung=%{y}\\u003cextra\\u003e\\u003c\\u002fextra\\u003e\",\"legendgroup\":\"6660 - Sonstiger Werbeaufwand\",\"marker\":{\"color\":\"#FF97FF\",\"pattern\":{\"shape\":\"\"}},\"name\":\"6660 - Sonstiger Werbeaufwand\",\"offsetgroup\":\"6660 - Sonstiger Werbeaufwand\",\"orientation\":\"v\",\"showlegend\":true,\"textposition\":\"auto\",\"x\":[\"2021-04-19T00:00:00\"],\"xaxis\":\"x\",\"y\":[-82.95],\"yaxis\":\"y\",\"type\":\"bar\"},{\"alignmentgroup\":\"True\",\"hovertemplate\":\"Soll=1090 - Transferkonto\\u003cbr\\u003eDatum=%{x}\\u003cbr\\u003eBetrag in Basisw\\u00e4hrung=%{y}\\u003cextra\\u003e\\u003c\\u002fextra\\u003e\",\"legendgroup\":\"1090 - Transferkonto\",\"marker\":{\"color\":\"#FECB52\",\"pattern\":{\"shape\":\"\"}},\"name\":\"1090 - Transferkonto\",\"offsetgroup\":\"1090 - Transferkonto\",\"orientation\":\"v\",\"showlegend\":true,\"textposition\":\"auto\",\"x\":[\"2021-04-30T00:00:00\",\"2021-06-08T00:00:00\",\"2021-06-30T00:00:00\"],\"xaxis\":\"x\",\"y\":[-117.1,-179.25,-300.9],\"yaxis\":\"y\",\"type\":\"bar\"},{\"alignmentgroup\":\"True\",\"hovertemplate\":\"Soll=6700 - Sonstiger Betriebsaufwand\\u003cbr\\u003eDatum=%{x}\\u003cbr\\u003eBetrag in Basisw\\u00e4hrung=%{y}\\u003cextra\\u003e\\u003c\\u002fextra\\u003e\",\"legendgroup\":\"6700 - Sonstiger Betriebsaufwand\",\"marker\":{\"color\":\"#636efa\",\"pattern\":{\"shape\":\"\"}},\"name\":\"6700 - Sonstiger Betriebsaufwand\",\"offsetgroup\":\"6700 - Sonstiger Betriebsaufwand\",\"orientation\":\"v\",\"showlegend\":true,\"textposition\":\"auto\",\"x\":[\"2021-05-25T00:00:00\",\"2021-11-07T00:00:00\",\"2021-11-08T00:00:00\",\"2021-11-23T00:00:00\",\"2021-12-04T00:00:00\",\"2022-01-14T00:00:00\",\"2022-05-07T00:00:00\",\"2022-09-10T00:00:00\",\"2022-10-24T00:00:00\"],\"xaxis\":\"x\",\"y\":[-1.0,-7.0,-199.0,-0.5,-8.1,-1.0,-2.5,-0.5,-2.0],\"yaxis\":\"y\",\"type\":\"bar\"},{\"alignmentgroup\":\"True\",\"hovertemplate\":\"Soll=6641 - Kundenbetreuung\\u003cbr\\u003eDatum=%{x}\\u003cbr\\u003eBetrag in Basisw\\u00e4hrung=%{y}\\u003cextra\\u003e\\u003c\\u002fextra\\u003e\",\"legendgroup\":\"6641 - Kundenbetreuung\",\"marker\":{\"color\":\"#EF553B\",\"pattern\":{\"shape\":\"\"}},\"name\":\"6641 - Kundenbetreuung\",\"offsetgroup\":\"6641 - Kundenbetreuung\",\"orientation\":\"v\",\"showlegend\":true,\"textposition\":\"auto\",\"x\":[\"2021-05-25T00:00:00\",\"2021-12-08T00:00:00\"],\"xaxis\":\"x\",\"y\":[-19.38,-25.55],\"yaxis\":\"y\",\"type\":\"bar\"},{\"alignmentgroup\":\"True\",\"hovertemplate\":\"Soll=2270 - Kontokorrent Vorsorgeeinrichtung\\u003cbr\\u003eDatum=%{x}\\u003cbr\\u003eBetrag in Basisw\\u00e4hrung=%{y}\\u003cextra\\u003e\\u003c\\u002fextra\\u003e\",\"legendgroup\":\"2270 - Kontokorrent Vorsorgeeinrichtung\",\"marker\":{\"color\":\"#00cc96\",\"pattern\":{\"shape\":\"\"}},\"name\":\"2270 - Kontokorrent Vorsorgeeinrichtung\",\"offsetgroup\":\"2270 - Kontokorrent Vorsorgeeinrichtung\",\"orientation\":\"v\",\"showlegend\":true,\"textposition\":\"auto\",\"x\":[\"2021-08-16T00:00:00\",\"2021-08-16T00:00:00\"],\"xaxis\":\"x\",\"y\":[-1554.0,-3090.0],\"yaxis\":\"y\",\"type\":\"bar\"},{\"alignmentgroup\":\"True\",\"hovertemplate\":\"Soll=2271 - Kontokorrent AHV, IV, EO, ALV\\u003cbr\\u003eDatum=%{x}\\u003cbr\\u003eBetrag in Basisw\\u00e4hrung=%{y}\\u003cextra\\u003e\\u003c\\u002fextra\\u003e\",\"legendgroup\":\"2271 - Kontokorrent AHV, IV, EO, ALV\",\"marker\":{\"color\":\"#ab63fa\",\"pattern\":{\"shape\":\"\"}},\"name\":\"2271 - Kontokorrent AHV, IV, EO, ALV\",\"offsetgroup\":\"2271 - Kontokorrent AHV, IV, EO, ALV\",\"orientation\":\"v\",\"showlegend\":true,\"textposition\":\"auto\",\"x\":[\"2021-08-27T00:00:00\",\"2021-08-27T00:00:00\",\"2021-10-29T00:00:00\",\"2022-04-25T00:00:00\"],\"xaxis\":\"x\",\"y\":[-5076.0,-3732.5,-2584.0,-3767.0],\"yaxis\":\"y\",\"type\":\"bar\"},{\"alignmentgroup\":\"True\",\"hovertemplate\":\"Soll=5880 - Personalanl\\u00e4sse\\u003cbr\\u003eDatum=%{x}\\u003cbr\\u003eBetrag in Basisw\\u00e4hrung=%{y}\\u003cextra\\u003e\\u003c\\u002fextra\\u003e\",\"legendgroup\":\"5880 - Personalanl\\u00e4sse\",\"marker\":{\"color\":\"#FFA15A\",\"pattern\":{\"shape\":\"\"}},\"name\":\"5880 - Personalanl\\u00e4sse\",\"offsetgroup\":\"5880 - Personalanl\\u00e4sse\",\"orientation\":\"v\",\"showlegend\":true,\"textposition\":\"auto\",\"x\":[\"2021-10-24T00:00:00\",\"2021-11-07T00:00:00\",\"2022-06-01T00:00:00\",\"2022-06-29T00:00:00\",\"2022-08-22T00:00:00\",\"2022-11-12T00:00:00\"],\"xaxis\":\"x\",\"y\":[-33.0,-13.0,-1365.0,-62.46,-150.0,-26.98],\"yaxis\":\"y\",\"type\":\"bar\"},{\"alignmentgroup\":\"True\",\"hovertemplate\":\"Soll=2104 - Kontokorrent Carmine Frangi\\u003cbr\\u003eDatum=%{x}\\u003cbr\\u003eBetrag in Basisw\\u00e4hrung=%{y}\\u003cextra\\u003e\\u003c\\u002fextra\\u003e\",\"legendgroup\":\"2104 - Kontokorrent Carmine Frangi\",\"marker\":{\"color\":\"#19d3f3\",\"pattern\":{\"shape\":\"\"}},\"name\":\"2104 - Kontokorrent Carmine Frangi\",\"offsetgroup\":\"2104 - Kontokorrent Carmine Frangi\",\"orientation\":\"v\",\"showlegend\":true,\"textposition\":\"auto\",\"x\":[\"2021-11-10T00:00:00\"],\"xaxis\":\"x\",\"y\":[-4610.0],\"yaxis\":\"y\",\"type\":\"bar\"},{\"alignmentgroup\":\"True\",\"hovertemplate\":\"Soll=1410 - Mietkaution\\u003cbr\\u003eDatum=%{x}\\u003cbr\\u003eBetrag in Basisw\\u00e4hrung=%{y}\\u003cextra\\u003e\\u003c\\u002fextra\\u003e\",\"legendgroup\":\"1410 - Mietkaution\",\"marker\":{\"color\":\"#FF6692\",\"pattern\":{\"shape\":\"\"}},\"name\":\"1410 - Mietkaution\",\"offsetgroup\":\"1410 - Mietkaution\",\"orientation\":\"v\",\"showlegend\":true,\"textposition\":\"auto\",\"x\":[\"2022-01-25T00:00:00\"],\"xaxis\":\"x\",\"y\":[-3500.0],\"yaxis\":\"y\",\"type\":\"bar\"},{\"alignmentgroup\":\"True\",\"hovertemplate\":\"Soll=2273 - Kontokorrent Unfallversicherung\\u003cbr\\u003eDatum=%{x}\\u003cbr\\u003eBetrag in Basisw\\u00e4hrung=%{y}\\u003cextra\\u003e\\u003c\\u002fextra\\u003e\",\"legendgroup\":\"2273 - Kontokorrent Unfallversicherung\",\"marker\":{\"color\":\"#B6E880\",\"pattern\":{\"shape\":\"\"}},\"name\":\"2273 - Kontokorrent Unfallversicherung\",\"offsetgroup\":\"2273 - Kontokorrent Unfallversicherung\",\"orientation\":\"v\",\"showlegend\":true,\"textposition\":\"auto\",\"x\":[\"2022-02-23T00:00:00\"],\"xaxis\":\"x\",\"y\":[-525.6],\"yaxis\":\"y\",\"type\":\"bar\"},{\"alignmentgroup\":\"True\",\"hovertemplate\":\"Soll=5720 - Vorsorgeeinrichtungen\\u003cbr\\u003eDatum=%{x}\\u003cbr\\u003eBetrag in Basisw\\u00e4hrung=%{y}\\u003cextra\\u003e\\u003c\\u002fextra\\u003e\",\"legendgroup\":\"5720 - Vorsorgeeinrichtungen\",\"marker\":{\"color\":\"#FF97FF\",\"pattern\":{\"shape\":\"\"}},\"name\":\"5720 - Vorsorgeeinrichtungen\",\"offsetgroup\":\"5720 - Vorsorgeeinrichtungen\",\"orientation\":\"v\",\"showlegend\":true,\"textposition\":\"auto\",\"x\":[\"2022-04-25T00:00:00\"],\"xaxis\":\"x\",\"y\":[-657.7],\"yaxis\":\"y\",\"type\":\"bar\"},{\"alignmentgroup\":\"True\",\"hovertemplate\":\"Soll=6210 - Betriebsstoffe\\u003cbr\\u003eDatum=%{x}\\u003cbr\\u003eBetrag in Basisw\\u00e4hrung=%{y}\\u003cextra\\u003e\\u003c\\u002fextra\\u003e\",\"legendgroup\":\"6210 - Betriebsstoffe\",\"marker\":{\"color\":\"#FECB52\",\"pattern\":{\"shape\":\"\"}},\"name\":\"6210 - Betriebsstoffe\",\"offsetgroup\":\"6210 - Betriebsstoffe\",\"orientation\":\"v\",\"showlegend\":true,\"textposition\":\"auto\",\"x\":[\"2022-06-08T00:00:00\"],\"xaxis\":\"x\",\"y\":[-15.94],\"yaxis\":\"y\",\"type\":\"bar\"},{\"alignmentgroup\":\"True\",\"hovertemplate\":\"Soll=6200 - Fahrzeugunterhalt\\u003cbr\\u003eDatum=%{x}\\u003cbr\\u003eBetrag in Basisw\\u00e4hrung=%{y}\\u003cextra\\u003e\\u003c\\u002fextra\\u003e\",\"legendgroup\":\"6200 - Fahrzeugunterhalt\",\"marker\":{\"color\":\"#636efa\",\"pattern\":{\"shape\":\"\"}},\"name\":\"6200 - Fahrzeugunterhalt\",\"offsetgroup\":\"6200 - Fahrzeugunterhalt\",\"orientation\":\"v\",\"showlegend\":true,\"textposition\":\"auto\",\"x\":[\"2022-09-03T00:00:00\"],\"xaxis\":\"x\",\"y\":[-25.0],\"yaxis\":\"y\",\"type\":\"bar\"},{\"alignmentgroup\":\"True\",\"hovertemplate\":\"Soll=5008 - \\u00dcbriger Personalaufwand\\u003cbr\\u003eDatum=%{x}\\u003cbr\\u003eBetrag in Basisw\\u00e4hrung=%{y}\\u003cextra\\u003e\\u003c\\u002fextra\\u003e\",\"legendgroup\":\"5008 - \\u00dcbriger Personalaufwand\",\"marker\":{\"color\":\"#EF553B\",\"pattern\":{\"shape\":\"\"}},\"name\":\"5008 - \\u00dcbriger Personalaufwand\",\"offsetgroup\":\"5008 - \\u00dcbriger Personalaufwand\",\"orientation\":\"v\",\"showlegend\":true,\"textposition\":\"auto\",\"x\":[\"2022-12-08T00:00:00\"],\"xaxis\":\"x\",\"y\":[-9.19],\"yaxis\":\"y\",\"type\":\"bar\"}],                        {\"template\":{\"data\":{\"histogram2dcontour\":[{\"type\":\"histogram2dcontour\",\"colorbar\":{\"outlinewidth\":0,\"ticks\":\"\"},\"colorscale\":[[0.0,\"#0d0887\"],[0.1111111111111111,\"#46039f\"],[0.2222222222222222,\"#7201a8\"],[0.3333333333333333,\"#9c179e\"],[0.4444444444444444,\"#bd3786\"],[0.5555555555555556,\"#d8576b\"],[0.6666666666666666,\"#ed7953\"],[0.7777777777777778,\"#fb9f3a\"],[0.8888888888888888,\"#fdca26\"],[1.0,\"#f0f921\"]]}],\"choropleth\":[{\"type\":\"choropleth\",\"colorbar\":{\"outlinewidth\":0,\"ticks\":\"\"}}],\"histogram2d\":[{\"type\":\"histogram2d\",\"colorbar\":{\"outlinewidth\":0,\"ticks\":\"\"},\"colorscale\":[[0.0,\"#0d0887\"],[0.1111111111111111,\"#46039f\"],[0.2222222222222222,\"#7201a8\"],[0.3333333333333333,\"#9c179e\"],[0.4444444444444444,\"#bd3786\"],[0.5555555555555556,\"#d8576b\"],[0.6666666666666666,\"#ed7953\"],[0.7777777777777778,\"#fb9f3a\"],[0.8888888888888888,\"#fdca26\"],[1.0,\"#f0f921\"]]}],\"heatmap\":[{\"type\":\"heatmap\",\"colorbar\":{\"outlinewidth\":0,\"ticks\":\"\"},\"colorscale\":[[0.0,\"#0d0887\"],[0.1111111111111111,\"#46039f\"],[0.2222222222222222,\"#7201a8\"],[0.3333333333333333,\"#9c179e\"],[0.4444444444444444,\"#bd3786\"],[0.5555555555555556,\"#d8576b\"],[0.6666666666666666,\"#ed7953\"],[0.7777777777777778,\"#fb9f3a\"],[0.8888888888888888,\"#fdca26\"],[1.0,\"#f0f921\"]]}],\"heatmapgl\":[{\"type\":\"heatmapgl\",\"colorbar\":{\"outlinewidth\":0,\"ticks\":\"\"},\"colorscale\":[[0.0,\"#0d0887\"],[0.1111111111111111,\"#46039f\"],[0.2222222222222222,\"#7201a8\"],[0.3333333333333333,\"#9c179e\"],[0.4444444444444444,\"#bd3786\"],[0.5555555555555556,\"#d8576b\"],[0.6666666666666666,\"#ed7953\"],[0.7777777777777778,\"#fb9f3a\"],[0.8888888888888888,\"#fdca26\"],[1.0,\"#f0f921\"]]}],\"contourcarpet\":[{\"type\":\"contourcarpet\",\"colorbar\":{\"outlinewidth\":0,\"ticks\":\"\"}}],\"contour\":[{\"type\":\"contour\",\"colorbar\":{\"outlinewidth\":0,\"ticks\":\"\"},\"colorscale\":[[0.0,\"#0d0887\"],[0.1111111111111111,\"#46039f\"],[0.2222222222222222,\"#7201a8\"],[0.3333333333333333,\"#9c179e\"],[0.4444444444444444,\"#bd3786\"],[0.5555555555555556,\"#d8576b\"],[0.6666666666666666,\"#ed7953\"],[0.7777777777777778,\"#fb9f3a\"],[0.8888888888888888,\"#fdca26\"],[1.0,\"#f0f921\"]]}],\"surface\":[{\"type\":\"surface\",\"colorbar\":{\"outlinewidth\":0,\"ticks\":\"\"},\"colorscale\":[[0.0,\"#0d0887\"],[0.1111111111111111,\"#46039f\"],[0.2222222222222222,\"#7201a8\"],[0.3333333333333333,\"#9c179e\"],[0.4444444444444444,\"#bd3786\"],[0.5555555555555556,\"#d8576b\"],[0.6666666666666666,\"#ed7953\"],[0.7777777777777778,\"#fb9f3a\"],[0.8888888888888888,\"#fdca26\"],[1.0,\"#f0f921\"]]}],\"mesh3d\":[{\"type\":\"mesh3d\",\"colorbar\":{\"outlinewidth\":0,\"ticks\":\"\"}}],\"scatter\":[{\"marker\":{\"line\":{\"color\":\"#283442\"}},\"type\":\"scatter\"}],\"parcoords\":[{\"type\":\"parcoords\",\"line\":{\"colorbar\":{\"outlinewidth\":0,\"ticks\":\"\"}}}],\"scatterpolargl\":[{\"type\":\"scatterpolargl\",\"marker\":{\"colorbar\":{\"outlinewidth\":0,\"ticks\":\"\"}}}],\"bar\":[{\"error_x\":{\"color\":\"#f2f5fa\"},\"error_y\":{\"color\":\"#f2f5fa\"},\"marker\":{\"line\":{\"color\":\"rgb(17,17,17)\",\"width\":0.5},\"pattern\":{\"fillmode\":\"overlay\",\"size\":10,\"solidity\":0.2}},\"type\":\"bar\"}],\"scattergeo\":[{\"type\":\"scattergeo\",\"marker\":{\"colorbar\":{\"outlinewidth\":0,\"ticks\":\"\"}}}],\"scatterpolar\":[{\"type\":\"scatterpolar\",\"marker\":{\"colorbar\":{\"outlinewidth\":0,\"ticks\":\"\"}}}],\"histogram\":[{\"marker\":{\"pattern\":{\"fillmode\":\"overlay\",\"size\":10,\"solidity\":0.2}},\"type\":\"histogram\"}],\"scattergl\":[{\"marker\":{\"line\":{\"color\":\"#283442\"}},\"type\":\"scattergl\"}],\"scatter3d\":[{\"type\":\"scatter3d\",\"line\":{\"colorbar\":{\"outlinewidth\":0,\"ticks\":\"\"}},\"marker\":{\"colorbar\":{\"outlinewidth\":0,\"ticks\":\"\"}}}],\"scattermapbox\":[{\"type\":\"scattermapbox\",\"marker\":{\"colorbar\":{\"outlinewidth\":0,\"ticks\":\"\"}}}],\"scatterternary\":[{\"type\":\"scatterternary\",\"marker\":{\"colorbar\":{\"outlinewidth\":0,\"ticks\":\"\"}}}],\"scattercarpet\":[{\"type\":\"scattercarpet\",\"marker\":{\"colorbar\":{\"outlinewidth\":0,\"ticks\":\"\"}}}],\"carpet\":[{\"aaxis\":{\"endlinecolor\":\"#A2B1C6\",\"gridcolor\":\"#506784\",\"linecolor\":\"#506784\",\"minorgridcolor\":\"#506784\",\"startlinecolor\":\"#A2B1C6\"},\"baxis\":{\"endlinecolor\":\"#A2B1C6\",\"gridcolor\":\"#506784\",\"linecolor\":\"#506784\",\"minorgridcolor\":\"#506784\",\"startlinecolor\":\"#A2B1C6\"},\"type\":\"carpet\"}],\"table\":[{\"cells\":{\"fill\":{\"color\":\"#506784\"},\"line\":{\"color\":\"rgb(17,17,17)\"}},\"header\":{\"fill\":{\"color\":\"#2a3f5f\"},\"line\":{\"color\":\"rgb(17,17,17)\"}},\"type\":\"table\"}],\"barpolar\":[{\"marker\":{\"line\":{\"color\":\"rgb(17,17,17)\",\"width\":0.5},\"pattern\":{\"fillmode\":\"overlay\",\"size\":10,\"solidity\":0.2}},\"type\":\"barpolar\"}],\"pie\":[{\"automargin\":true,\"type\":\"pie\"}]},\"layout\":{\"autotypenumbers\":\"strict\",\"colorway\":[\"#636efa\",\"#EF553B\",\"#00cc96\",\"#ab63fa\",\"#FFA15A\",\"#19d3f3\",\"#FF6692\",\"#B6E880\",\"#FF97FF\",\"#FECB52\"],\"font\":{\"color\":\"#f2f5fa\"},\"hovermode\":\"closest\",\"hoverlabel\":{\"align\":\"left\"},\"paper_bgcolor\":\"rgb(17,17,17)\",\"plot_bgcolor\":\"rgb(17,17,17)\",\"polar\":{\"bgcolor\":\"rgb(17,17,17)\",\"angularaxis\":{\"gridcolor\":\"#506784\",\"linecolor\":\"#506784\",\"ticks\":\"\"},\"radialaxis\":{\"gridcolor\":\"#506784\",\"linecolor\":\"#506784\",\"ticks\":\"\"}},\"ternary\":{\"bgcolor\":\"rgb(17,17,17)\",\"aaxis\":{\"gridcolor\":\"#506784\",\"linecolor\":\"#506784\",\"ticks\":\"\"},\"baxis\":{\"gridcolor\":\"#506784\",\"linecolor\":\"#506784\",\"ticks\":\"\"},\"caxis\":{\"gridcolor\":\"#506784\",\"linecolor\":\"#506784\",\"ticks\":\"\"}},\"coloraxis\":{\"colorbar\":{\"outlinewidth\":0,\"ticks\":\"\"}},\"colorscale\":{\"sequential\":[[0.0,\"#0d0887\"],[0.1111111111111111,\"#46039f\"],[0.2222222222222222,\"#7201a8\"],[0.3333333333333333,\"#9c179e\"],[0.4444444444444444,\"#bd3786\"],[0.5555555555555556,\"#d8576b\"],[0.6666666666666666,\"#ed7953\"],[0.7777777777777778,\"#fb9f3a\"],[0.8888888888888888,\"#fdca26\"],[1.0,\"#f0f921\"]],\"sequentialminus\":[[0.0,\"#0d0887\"],[0.1111111111111111,\"#46039f\"],[0.2222222222222222,\"#7201a8\"],[0.3333333333333333,\"#9c179e\"],[0.4444444444444444,\"#bd3786\"],[0.5555555555555556,\"#d8576b\"],[0.6666666666666666,\"#ed7953\"],[0.7777777777777778,\"#fb9f3a\"],[0.8888888888888888,\"#fdca26\"],[1.0,\"#f0f921\"]],\"diverging\":[[0,\"#8e0152\"],[0.1,\"#c51b7d\"],[0.2,\"#de77ae\"],[0.3,\"#f1b6da\"],[0.4,\"#fde0ef\"],[0.5,\"#f7f7f7\"],[0.6,\"#e6f5d0\"],[0.7,\"#b8e186\"],[0.8,\"#7fbc41\"],[0.9,\"#4d9221\"],[1,\"#276419\"]]},\"xaxis\":{\"gridcolor\":\"#283442\",\"linecolor\":\"#506784\",\"ticks\":\"\",\"title\":{\"standoff\":15},\"zerolinecolor\":\"#283442\",\"automargin\":true,\"zerolinewidth\":2},\"yaxis\":{\"gridcolor\":\"#283442\",\"linecolor\":\"#506784\",\"ticks\":\"\",\"title\":{\"standoff\":15},\"zerolinecolor\":\"#283442\",\"automargin\":true,\"zerolinewidth\":2},\"scene\":{\"xaxis\":{\"backgroundcolor\":\"rgb(17,17,17)\",\"gridcolor\":\"#506784\",\"linecolor\":\"#506784\",\"showbackground\":true,\"ticks\":\"\",\"zerolinecolor\":\"#C8D4E3\",\"gridwidth\":2},\"yaxis\":{\"backgroundcolor\":\"rgb(17,17,17)\",\"gridcolor\":\"#506784\",\"linecolor\":\"#506784\",\"showbackground\":true,\"ticks\":\"\",\"zerolinecolor\":\"#C8D4E3\",\"gridwidth\":2},\"zaxis\":{\"backgroundcolor\":\"rgb(17,17,17)\",\"gridcolor\":\"#506784\",\"linecolor\":\"#506784\",\"showbackground\":true,\"ticks\":\"\",\"zerolinecolor\":\"#C8D4E3\",\"gridwidth\":2}},\"shapedefaults\":{\"line\":{\"color\":\"#f2f5fa\"}},\"annotationdefaults\":{\"arrowcolor\":\"#f2f5fa\",\"arrowhead\":0,\"arrowwidth\":1},\"geo\":{\"bgcolor\":\"rgb(17,17,17)\",\"landcolor\":\"rgb(17,17,17)\",\"subunitcolor\":\"#506784\",\"showland\":true,\"showlakes\":true,\"lakecolor\":\"rgb(17,17,17)\"},\"title\":{\"x\":0.05},\"updatemenudefaults\":{\"bgcolor\":\"#506784\",\"borderwidth\":0},\"sliderdefaults\":{\"bgcolor\":\"#C8D4E3\",\"borderwidth\":1,\"bordercolor\":\"rgb(17,17,17)\",\"tickwidth\":0},\"mapbox\":{\"style\":\"dark\"}}},\"xaxis\":{\"anchor\":\"y\",\"domain\":[0.0,1.0],\"title\":{\"text\":\"Datum\"}},\"yaxis\":{\"anchor\":\"x\",\"domain\":[0.0,1.0],\"title\":{\"text\":\"Betrag in Basisw\\u00e4hrung\"}},\"legend\":{\"title\":{\"text\":\"Soll\"},\"tracegroupgap\":0},\"margin\":{\"t\":60},\"barmode\":\"relative\"},                        {\"responsive\": true}                    ).then(function(){\n                            \nvar gd = document.getElementById('4dba15e9-c6d7-4651-9bad-4091ef5ba075');\nvar x = new MutationObserver(function (mutations, observer) {{\n        var display = window.getComputedStyle(gd).display;\n        if (!display || display === 'none') {{\n            console.log([gd, 'removed!']);\n            Plotly.purge(gd);\n            observer.disconnect();\n        }}\n}});\n\n// Listen for the removal of the full notebook cells\nvar notebookContainer = gd.closest('#notebook-container');\nif (notebookContainer) {{\n    x.observe(notebookContainer, {childList: true});\n}}\n\n// Listen for the clearing of the current output cell\nvar outputEl = gd.closest('.output');\nif (outputEl) {{\n    x.observe(outputEl, {childList: true});\n}}\n\n                        })                };                });            </script>        </div>"
     },
     "metadata": {},
     "output_type": "display_data"
    }
   ],
   "source": [
    "import pandas as pd\n",
    "import plotly.express as px\n",
    "\n",
    "journal_df = pd.read_csv('../../src/bexio/data/raw/journal.csv')\n",
    "\n",
    "filtered_df = journal_df[journal_df['Soll'].str.contains('PostFinance', case=False) | journal_df['Haben'].str.contains('PostFinance', case=False)]\n",
    "\n",
    "filtered_df.loc[filtered_df['Haben'].str.contains('PostFinance', case=False), 'Betrag in Basiswährung'] *= -1\n",
    "\n",
    "filtered_df = filtered_df.copy()\n",
    "\n",
    "filtered_df['Datum'] = pd.to_datetime(filtered_df['Datum'], format='%d.%m.%Y')\n",
    "\n",
    "sorted_df = filtered_df.sort_values('Datum')\n",
    "\n",
    "fig = px.bar(sorted_df, x='Datum', y='Betrag in Basiswährung', color='Soll',\n",
    "             barmode='relative', labels={'Betrag in Basiswährung': 'Betrag in Basiswährung'})\n",
    "\n",
    "fig.show()\n"
   ],
   "metadata": {
    "collapsed": false,
    "ExecuteTime": {
     "end_time": "2023-07-01T07:32:08.828532Z",
     "start_time": "2023-07-01T07:32:08.702980Z"
    }
   }
  },
  {
   "cell_type": "code",
   "execution_count": 76,
   "outputs": [
    {
     "data": {
      "application/vnd.plotly.v1+json": {
       "data": [
        {
         "hovertemplate": "Datum=%{x}<br>Cumulative Sum=%{y}<extra></extra>",
         "legendgroup": "",
         "line": {
          "color": "#636efa",
          "dash": "solid"
         },
         "marker": {
          "symbol": "circle"
         },
         "mode": "lines",
         "name": "",
         "showlegend": false,
         "x": [
          "2019-09-20T00:00:00",
          "2019-09-20T00:00:00",
          "2019-09-30T00:00:00",
          "2019-10-04T00:00:00",
          "2019-10-04T00:00:00",
          "2019-10-04T00:00:00",
          "2019-10-31T00:00:00",
          "2019-10-31T00:00:00",
          "2019-11-30T00:00:00",
          "2019-12-13T00:00:00",
          "2019-12-13T00:00:00",
          "2019-12-13T00:00:00",
          "2019-12-28T00:00:00",
          "2019-12-28T00:00:00",
          "2019-12-28T00:00:00",
          "2019-12-31T00:00:00",
          "2020-01-07T00:00:00",
          "2020-01-07T00:00:00",
          "2020-01-13T00:00:00",
          "2020-01-13T00:00:00",
          "2020-01-13T00:00:00",
          "2020-01-13T00:00:00",
          "2020-01-31T00:00:00",
          "2020-02-03T00:00:00",
          "2020-02-29T00:00:00",
          "2020-03-09T00:00:00",
          "2020-03-23T00:00:00",
          "2020-03-25T00:00:00",
          "2020-03-30T00:00:00",
          "2020-03-31T00:00:00",
          "2020-04-30T00:00:00",
          "2020-05-27T00:00:00",
          "2020-05-31T00:00:00",
          "2020-06-11T00:00:00",
          "2020-06-25T00:00:00",
          "2020-06-30T00:00:00",
          "2020-06-30T00:00:00",
          "2020-06-30T00:00:00",
          "2020-07-02T00:00:00",
          "2020-07-07T00:00:00",
          "2020-07-07T00:00:00",
          "2020-07-07T00:00:00",
          "2020-07-07T00:00:00",
          "2020-07-20T00:00:00",
          "2020-07-20T00:00:00",
          "2020-07-21T00:00:00",
          "2020-07-30T00:00:00",
          "2020-07-30T00:00:00",
          "2020-07-31T00:00:00",
          "2020-08-04T00:00:00",
          "2020-08-04T00:00:00",
          "2020-08-04T00:00:00",
          "2020-08-04T00:00:00",
          "2020-08-04T00:00:00",
          "2020-08-06T00:00:00",
          "2020-08-25T00:00:00",
          "2020-08-25T00:00:00",
          "2020-08-25T00:00:00",
          "2020-08-26T00:00:00",
          "2020-08-26T00:00:00",
          "2020-08-27T00:00:00",
          "2020-08-28T00:00:00",
          "2020-08-28T00:00:00",
          "2020-08-28T00:00:00",
          "2020-08-31T00:00:00",
          "2020-09-01T00:00:00",
          "2020-09-02T00:00:00",
          "2020-09-08T00:00:00",
          "2020-09-11T00:00:00",
          "2020-09-15T00:00:00",
          "2020-09-16T00:00:00",
          "2020-09-16T00:00:00",
          "2020-09-18T00:00:00",
          "2020-09-24T00:00:00",
          "2020-09-25T00:00:00",
          "2020-09-28T00:00:00",
          "2020-09-28T00:00:00",
          "2020-09-30T00:00:00",
          "2020-09-30T00:00:00",
          "2020-10-01T00:00:00",
          "2020-10-01T00:00:00",
          "2020-10-01T00:00:00",
          "2020-10-01T00:00:00",
          "2020-10-01T00:00:00",
          "2020-10-02T00:00:00",
          "2020-10-06T00:00:00",
          "2020-10-09T00:00:00",
          "2020-10-12T00:00:00",
          "2020-10-12T00:00:00",
          "2020-10-13T00:00:00",
          "2020-10-15T00:00:00",
          "2020-10-16T00:00:00",
          "2020-10-16T00:00:00",
          "2020-10-27T00:00:00",
          "2020-10-27T00:00:00",
          "2020-10-27T00:00:00",
          "2020-10-28T00:00:00",
          "2020-10-28T00:00:00",
          "2020-10-29T00:00:00",
          "2020-10-30T00:00:00",
          "2020-10-31T00:00:00",
          "2020-10-31T00:00:00",
          "2020-11-05T00:00:00",
          "2020-11-05T00:00:00",
          "2020-11-06T00:00:00",
          "2020-11-12T00:00:00",
          "2020-11-13T00:00:00",
          "2020-11-19T00:00:00",
          "2020-11-23T00:00:00",
          "2020-11-23T00:00:00",
          "2020-11-24T00:00:00",
          "2020-11-24T00:00:00",
          "2020-11-24T00:00:00",
          "2020-11-24T00:00:00",
          "2020-11-26T00:00:00",
          "2020-11-27T00:00:00",
          "2020-11-28T00:00:00",
          "2020-11-30T00:00:00",
          "2020-11-30T00:00:00",
          "2020-12-04T00:00:00",
          "2020-12-04T00:00:00",
          "2020-12-04T00:00:00",
          "2020-12-04T00:00:00",
          "2020-12-05T00:00:00",
          "2020-12-10T00:00:00",
          "2020-12-10T00:00:00",
          "2020-12-11T00:00:00",
          "2020-12-11T00:00:00",
          "2020-12-12T00:00:00",
          "2020-12-12T00:00:00",
          "2020-12-15T00:00:00",
          "2020-12-15T00:00:00",
          "2020-12-15T00:00:00",
          "2020-12-23T00:00:00",
          "2020-12-28T00:00:00",
          "2020-12-30T00:00:00",
          "2020-12-30T00:00:00",
          "2020-12-30T00:00:00",
          "2020-12-30T00:00:00",
          "2020-12-30T00:00:00",
          "2020-12-30T00:00:00",
          "2020-12-30T00:00:00",
          "2020-12-30T00:00:00",
          "2020-12-30T00:00:00",
          "2020-12-31T00:00:00",
          "2020-12-31T00:00:00",
          "2020-12-31T00:00:00",
          "2020-12-31T00:00:00",
          "2021-01-01T00:00:00",
          "2021-01-04T00:00:00",
          "2021-01-05T00:00:00",
          "2021-01-08T00:00:00",
          "2021-01-22T00:00:00",
          "2021-01-25T00:00:00",
          "2021-01-26T00:00:00",
          "2021-01-29T00:00:00",
          "2021-01-29T00:00:00",
          "2021-01-31T00:00:00",
          "2021-02-02T00:00:00",
          "2021-02-09T00:00:00",
          "2021-02-12T00:00:00",
          "2021-02-12T00:00:00",
          "2021-02-12T00:00:00",
          "2021-02-12T00:00:00",
          "2021-02-16T00:00:00",
          "2021-02-17T00:00:00",
          "2021-02-17T00:00:00",
          "2021-02-20T00:00:00",
          "2021-02-22T00:00:00",
          "2021-02-24T00:00:00",
          "2021-02-26T00:00:00",
          "2021-02-26T00:00:00",
          "2021-02-26T00:00:00",
          "2021-02-27T00:00:00",
          "2021-02-28T00:00:00",
          "2021-02-28T00:00:00",
          "2021-03-01T00:00:00",
          "2021-03-04T00:00:00",
          "2021-03-04T00:00:00",
          "2021-03-04T00:00:00",
          "2021-03-05T00:00:00",
          "2021-03-06T00:00:00",
          "2021-03-06T00:00:00",
          "2021-03-09T00:00:00",
          "2021-03-10T00:00:00",
          "2021-03-10T00:00:00",
          "2021-03-11T00:00:00",
          "2021-03-11T00:00:00",
          "2021-03-12T00:00:00",
          "2021-03-12T00:00:00",
          "2021-03-12T00:00:00",
          "2021-03-12T00:00:00",
          "2021-03-17T00:00:00",
          "2021-03-19T00:00:00",
          "2021-03-19T00:00:00",
          "2021-03-24T00:00:00",
          "2021-03-24T00:00:00",
          "2021-03-24T00:00:00",
          "2021-03-25T00:00:00",
          "2021-03-26T00:00:00",
          "2021-03-26T00:00:00",
          "2021-03-30T00:00:00",
          "2021-03-31T00:00:00",
          "2021-03-31T00:00:00",
          "2021-04-07T00:00:00",
          "2021-04-08T00:00:00",
          "2021-04-08T00:00:00",
          "2021-04-08T00:00:00",
          "2021-04-08T00:00:00",
          "2021-04-08T00:00:00",
          "2021-04-08T00:00:00",
          "2021-04-13T00:00:00",
          "2021-04-13T00:00:00",
          "2021-04-14T00:00:00",
          "2021-04-15T00:00:00",
          "2021-04-19T00:00:00",
          "2021-04-21T00:00:00",
          "2021-04-21T00:00:00",
          "2021-04-22T00:00:00",
          "2021-04-22T00:00:00",
          "2021-04-22T00:00:00",
          "2021-04-26T00:00:00",
          "2021-04-27T00:00:00",
          "2021-04-27T00:00:00",
          "2021-04-28T00:00:00",
          "2021-04-28T00:00:00",
          "2021-04-28T00:00:00",
          "2021-04-28T00:00:00",
          "2021-04-30T00:00:00",
          "2021-04-30T00:00:00",
          "2021-04-30T00:00:00",
          "2021-04-30T00:00:00",
          "2021-04-30T00:00:00",
          "2021-04-30T00:00:00",
          "2021-05-03T00:00:00",
          "2021-05-04T00:00:00",
          "2021-05-04T00:00:00",
          "2021-05-04T00:00:00",
          "2021-05-04T00:00:00",
          "2021-05-04T00:00:00",
          "2021-05-06T00:00:00",
          "2021-05-06T00:00:00",
          "2021-05-11T00:00:00",
          "2021-05-12T00:00:00",
          "2021-05-14T00:00:00",
          "2021-05-14T00:00:00",
          "2021-05-14T00:00:00",
          "2021-05-14T00:00:00",
          "2021-05-14T00:00:00",
          "2021-05-14T00:00:00",
          "2021-05-14T00:00:00",
          "2021-05-14T00:00:00",
          "2021-05-14T00:00:00",
          "2021-05-20T00:00:00",
          "2021-05-25T00:00:00",
          "2021-05-25T00:00:00",
          "2021-05-25T00:00:00",
          "2021-05-25T00:00:00",
          "2021-05-25T00:00:00",
          "2021-05-26T00:00:00",
          "2021-05-27T00:00:00",
          "2021-05-28T00:00:00",
          "2021-05-28T00:00:00",
          "2021-05-28T00:00:00",
          "2021-05-31T00:00:00",
          "2021-05-31T00:00:00",
          "2021-05-31T00:00:00",
          "2021-05-31T00:00:00",
          "2021-06-01T00:00:00",
          "2021-06-01T00:00:00",
          "2021-06-02T00:00:00",
          "2021-06-02T00:00:00",
          "2021-06-05T00:00:00",
          "2021-06-08T00:00:00",
          "2021-06-08T00:00:00",
          "2021-06-09T00:00:00",
          "2021-06-09T00:00:00",
          "2021-06-09T00:00:00",
          "2021-06-09T00:00:00",
          "2021-06-09T00:00:00",
          "2021-06-09T00:00:00",
          "2021-06-09T00:00:00",
          "2021-06-10T00:00:00",
          "2021-06-10T00:00:00",
          "2021-06-10T00:00:00",
          "2021-06-17T00:00:00",
          "2021-06-18T00:00:00",
          "2021-06-24T00:00:00",
          "2021-06-24T00:00:00",
          "2021-06-28T00:00:00",
          "2021-06-28T00:00:00",
          "2021-06-28T00:00:00",
          "2021-06-30T00:00:00",
          "2021-06-30T00:00:00",
          "2021-06-30T00:00:00",
          "2021-06-30T00:00:00",
          "2021-06-30T00:00:00",
          "2021-06-30T00:00:00",
          "2021-07-01T00:00:00",
          "2021-07-01T00:00:00",
          "2021-07-02T00:00:00",
          "2021-07-03T00:00:00",
          "2021-07-07T00:00:00",
          "2021-07-07T00:00:00",
          "2021-07-07T00:00:00",
          "2021-07-07T00:00:00",
          "2021-07-09T00:00:00",
          "2021-07-10T00:00:00",
          "2021-07-13T00:00:00",
          "2021-07-15T00:00:00",
          "2021-07-16T00:00:00",
          "2021-07-19T00:00:00",
          "2021-07-19T00:00:00",
          "2021-07-19T00:00:00",
          "2021-07-19T00:00:00",
          "2021-07-19T00:00:00",
          "2021-07-19T00:00:00",
          "2021-07-20T00:00:00",
          "2021-07-20T00:00:00",
          "2021-07-23T00:00:00",
          "2021-07-28T00:00:00",
          "2021-07-28T00:00:00",
          "2021-07-28T00:00:00",
          "2021-07-30T00:00:00",
          "2021-07-30T00:00:00",
          "2021-07-31T00:00:00",
          "2021-07-31T00:00:00",
          "2021-08-02T00:00:00",
          "2021-08-02T00:00:00",
          "2021-08-02T00:00:00",
          "2021-08-02T00:00:00",
          "2021-08-03T00:00:00",
          "2021-08-03T00:00:00",
          "2021-08-10T00:00:00",
          "2021-08-13T00:00:00",
          "2021-08-16T00:00:00",
          "2021-08-16T00:00:00",
          "2021-08-24T00:00:00",
          "2021-08-24T00:00:00",
          "2021-08-24T00:00:00",
          "2021-08-24T00:00:00",
          "2021-08-24T00:00:00",
          "2021-08-25T00:00:00",
          "2021-08-27T00:00:00",
          "2021-08-27T00:00:00",
          "2021-08-27T00:00:00",
          "2021-08-27T00:00:00",
          "2021-08-30T00:00:00",
          "2021-08-31T00:00:00",
          "2021-08-31T00:00:00",
          "2021-08-31T00:00:00",
          "2021-08-31T00:00:00",
          "2021-09-02T00:00:00",
          "2021-09-06T00:00:00",
          "2021-09-06T00:00:00",
          "2021-09-08T00:00:00",
          "2021-09-12T00:00:00",
          "2021-09-14T00:00:00",
          "2021-09-14T00:00:00",
          "2021-09-14T00:00:00",
          "2021-09-14T00:00:00",
          "2021-09-14T00:00:00",
          "2021-09-15T00:00:00",
          "2021-09-15T00:00:00",
          "2021-09-17T00:00:00",
          "2021-09-24T00:00:00",
          "2021-09-28T00:00:00",
          "2021-09-28T00:00:00",
          "2021-09-30T00:00:00",
          "2021-09-30T00:00:00",
          "2021-10-01T00:00:00",
          "2021-10-01T00:00:00",
          "2021-10-06T00:00:00",
          "2021-10-06T00:00:00",
          "2021-10-11T00:00:00",
          "2021-10-11T00:00:00",
          "2021-10-11T00:00:00",
          "2021-10-11T00:00:00",
          "2021-10-13T00:00:00",
          "2021-10-24T00:00:00",
          "2021-10-25T00:00:00",
          "2021-10-25T00:00:00",
          "2021-10-26T00:00:00",
          "2021-10-27T00:00:00",
          "2021-10-28T00:00:00",
          "2021-10-28T00:00:00",
          "2021-10-29T00:00:00",
          "2021-10-29T00:00:00",
          "2021-10-29T00:00:00",
          "2021-10-29T00:00:00",
          "2021-10-29T00:00:00",
          "2021-10-29T00:00:00",
          "2021-10-31T00:00:00",
          "2021-11-01T00:00:00",
          "2021-11-01T00:00:00",
          "2021-11-01T00:00:00",
          "2021-11-01T00:00:00",
          "2021-11-01T00:00:00",
          "2021-11-01T00:00:00",
          "2021-11-02T00:00:00",
          "2021-11-02T00:00:00",
          "2021-11-03T00:00:00",
          "2021-11-03T00:00:00",
          "2021-11-04T00:00:00",
          "2021-11-07T00:00:00",
          "2021-11-07T00:00:00",
          "2021-11-07T00:00:00",
          "2021-11-08T00:00:00",
          "2021-11-09T00:00:00",
          "2021-11-10T00:00:00",
          "2021-11-10T00:00:00",
          "2021-11-10T00:00:00",
          "2021-11-12T00:00:00",
          "2021-11-12T00:00:00",
          "2021-11-15T00:00:00",
          "2021-11-15T00:00:00",
          "2021-11-15T00:00:00",
          "2021-11-15T00:00:00",
          "2021-11-15T00:00:00",
          "2021-11-15T00:00:00",
          "2021-11-15T00:00:00",
          "2021-11-15T00:00:00",
          "2021-11-16T00:00:00",
          "2021-11-16T00:00:00",
          "2021-11-19T00:00:00",
          "2021-11-20T00:00:00",
          "2021-11-22T00:00:00",
          "2021-11-23T00:00:00",
          "2021-11-23T00:00:00",
          "2021-11-23T00:00:00",
          "2021-11-23T00:00:00",
          "2021-11-25T00:00:00",
          "2021-11-26T00:00:00",
          "2021-11-26T00:00:00",
          "2021-11-30T00:00:00",
          "2021-11-30T00:00:00",
          "2021-11-30T00:00:00",
          "2021-11-30T00:00:00",
          "2021-11-30T00:00:00",
          "2021-12-01T00:00:00",
          "2021-12-01T00:00:00",
          "2021-12-01T00:00:00",
          "2021-12-01T00:00:00",
          "2021-12-01T00:00:00",
          "2021-12-01T00:00:00",
          "2021-12-01T00:00:00",
          "2021-12-01T00:00:00",
          "2021-12-01T00:00:00",
          "2021-12-01T00:00:00",
          "2021-12-01T00:00:00",
          "2021-12-03T00:00:00",
          "2021-12-04T00:00:00",
          "2021-12-06T00:00:00",
          "2021-12-06T00:00:00",
          "2021-12-07T00:00:00",
          "2021-12-08T00:00:00",
          "2021-12-08T00:00:00",
          "2021-12-08T00:00:00",
          "2021-12-09T00:00:00",
          "2021-12-09T00:00:00",
          "2021-12-09T00:00:00",
          "2021-12-09T00:00:00",
          "2021-12-09T00:00:00",
          "2021-12-09T00:00:00",
          "2021-12-09T00:00:00",
          "2021-12-09T00:00:00",
          "2021-12-09T00:00:00",
          "2021-12-09T00:00:00",
          "2021-12-09T00:00:00",
          "2021-12-11T00:00:00",
          "2021-12-13T00:00:00",
          "2021-12-13T00:00:00",
          "2021-12-14T00:00:00",
          "2021-12-16T00:00:00",
          "2021-12-17T00:00:00",
          "2021-12-21T00:00:00",
          "2021-12-21T00:00:00",
          "2021-12-22T00:00:00",
          "2021-12-22T00:00:00",
          "2021-12-23T00:00:00",
          "2021-12-23T00:00:00",
          "2021-12-23T00:00:00",
          "2021-12-24T00:00:00",
          "2021-12-27T00:00:00",
          "2021-12-28T00:00:00",
          "2021-12-28T00:00:00",
          "2021-12-28T00:00:00",
          "2021-12-30T00:00:00",
          "2021-12-30T00:00:00",
          "2021-12-30T00:00:00",
          "2021-12-31T00:00:00",
          "2021-12-31T00:00:00",
          "2021-12-31T00:00:00",
          "2021-12-31T00:00:00",
          "2022-01-01T00:00:00",
          "2022-01-05T00:00:00",
          "2022-01-10T00:00:00",
          "2022-01-11T00:00:00",
          "2022-01-11T00:00:00",
          "2022-01-11T00:00:00",
          "2022-01-13T00:00:00",
          "2022-01-13T00:00:00",
          "2022-01-13T00:00:00",
          "2022-01-13T00:00:00",
          "2022-01-14T00:00:00",
          "2022-01-14T00:00:00",
          "2022-01-14T00:00:00",
          "2022-01-17T00:00:00",
          "2022-01-17T00:00:00",
          "2022-01-17T00:00:00",
          "2022-01-17T00:00:00",
          "2022-01-17T00:00:00",
          "2022-01-20T00:00:00",
          "2022-01-21T00:00:00",
          "2022-01-24T00:00:00",
          "2022-01-24T00:00:00",
          "2022-01-25T00:00:00",
          "2022-01-28T00:00:00",
          "2022-01-28T00:00:00",
          "2022-01-28T00:00:00",
          "2022-01-28T00:00:00",
          "2022-01-28T00:00:00",
          "2022-01-28T00:00:00",
          "2022-01-28T00:00:00",
          "2022-01-31T00:00:00",
          "2022-01-31T00:00:00",
          "2022-01-31T00:00:00",
          "2022-02-01T00:00:00",
          "2022-02-01T00:00:00",
          "2022-02-01T00:00:00",
          "2022-02-03T00:00:00",
          "2022-02-05T00:00:00",
          "2022-02-05T00:00:00",
          "2022-02-08T00:00:00",
          "2022-02-08T00:00:00",
          "2022-02-15T00:00:00",
          "2022-02-15T00:00:00",
          "2022-02-15T00:00:00",
          "2022-02-15T00:00:00",
          "2022-02-15T00:00:00",
          "2022-02-16T00:00:00",
          "2022-02-16T00:00:00",
          "2022-02-16T00:00:00",
          "2022-02-16T00:00:00",
          "2022-02-16T00:00:00",
          "2022-02-17T00:00:00",
          "2022-02-22T00:00:00",
          "2022-02-23T00:00:00",
          "2022-02-23T00:00:00",
          "2022-02-23T00:00:00",
          "2022-02-23T00:00:00",
          "2022-02-23T00:00:00",
          "2022-02-23T00:00:00",
          "2022-02-24T00:00:00",
          "2022-02-28T00:00:00",
          "2022-02-28T00:00:00",
          "2022-02-28T00:00:00",
          "2022-02-28T00:00:00",
          "2022-02-28T00:00:00",
          "2022-02-28T00:00:00",
          "2022-02-28T00:00:00",
          "2022-02-28T00:00:00",
          "2022-02-28T00:00:00",
          "2022-02-28T00:00:00",
          "2022-02-28T00:00:00",
          "2022-03-01T00:00:00",
          "2022-03-01T00:00:00",
          "2022-03-01T00:00:00",
          "2022-03-02T00:00:00",
          "2022-03-03T00:00:00",
          "2022-03-03T00:00:00",
          "2022-03-03T00:00:00",
          "2022-03-07T00:00:00",
          "2022-03-08T00:00:00",
          "2022-03-08T00:00:00",
          "2022-03-15T00:00:00",
          "2022-03-18T00:00:00",
          "2022-03-18T00:00:00",
          "2022-03-18T00:00:00",
          "2022-03-18T00:00:00",
          "2022-03-21T00:00:00",
          "2022-03-21T00:00:00",
          "2022-03-22T00:00:00",
          "2022-03-23T00:00:00",
          "2022-03-24T00:00:00",
          "2022-03-25T00:00:00",
          "2022-03-28T00:00:00",
          "2022-03-28T00:00:00",
          "2022-03-28T00:00:00",
          "2022-03-28T00:00:00",
          "2022-03-28T00:00:00",
          "2022-03-28T00:00:00",
          "2022-03-29T00:00:00",
          "2022-03-29T00:00:00",
          "2022-03-29T00:00:00",
          "2022-03-31T00:00:00",
          "2022-03-31T00:00:00",
          "2022-03-31T00:00:00",
          "2022-03-31T00:00:00",
          "2022-03-31T00:00:00",
          "2022-04-01T00:00:00",
          "2022-04-01T00:00:00",
          "2022-04-01T00:00:00",
          "2022-04-01T00:00:00",
          "2022-04-01T00:00:00",
          "2022-04-01T00:00:00",
          "2022-04-04T00:00:00",
          "2022-04-04T00:00:00",
          "2022-04-04T00:00:00",
          "2022-04-04T00:00:00",
          "2022-04-04T00:00:00",
          "2022-04-05T00:00:00",
          "2022-04-08T00:00:00",
          "2022-04-13T00:00:00",
          "2022-04-19T00:00:00",
          "2022-04-19T00:00:00",
          "2022-04-21T00:00:00",
          "2022-04-21T00:00:00",
          "2022-04-21T00:00:00",
          "2022-04-25T00:00:00",
          "2022-04-25T00:00:00",
          "2022-04-25T00:00:00",
          "2022-04-25T00:00:00",
          "2022-04-25T00:00:00",
          "2022-04-25T00:00:00",
          "2022-04-25T00:00:00",
          "2022-04-25T00:00:00",
          "2022-04-25T00:00:00",
          "2022-04-25T00:00:00",
          "2022-04-28T00:00:00",
          "2022-04-28T00:00:00",
          "2022-04-29T00:00:00",
          "2022-04-29T00:00:00",
          "2022-04-29T00:00:00",
          "2022-04-29T00:00:00",
          "2022-04-29T00:00:00",
          "2022-04-29T00:00:00",
          "2022-04-29T00:00:00",
          "2022-04-29T00:00:00",
          "2022-04-30T00:00:00",
          "2022-04-30T00:00:00",
          "2022-05-03T00:00:00",
          "2022-05-03T00:00:00",
          "2022-05-05T00:00:00",
          "2022-05-07T00:00:00",
          "2022-05-07T00:00:00",
          "2022-05-10T00:00:00",
          "2022-05-11T00:00:00",
          "2022-05-13T00:00:00",
          "2022-05-13T00:00:00",
          "2022-05-13T00:00:00",
          "2022-05-13T00:00:00",
          "2022-05-13T00:00:00",
          "2022-05-13T00:00:00",
          "2022-05-16T00:00:00",
          "2022-05-16T00:00:00",
          "2022-05-18T00:00:00",
          "2022-05-19T00:00:00",
          "2022-05-19T00:00:00",
          "2022-05-19T00:00:00",
          "2022-05-19T00:00:00",
          "2022-05-19T00:00:00",
          "2022-05-19T00:00:00",
          "2022-05-19T00:00:00",
          "2022-05-24T00:00:00",
          "2022-05-24T00:00:00",
          "2022-05-25T00:00:00",
          "2022-05-27T00:00:00",
          "2022-05-27T00:00:00",
          "2022-05-27T00:00:00",
          "2022-05-27T00:00:00",
          "2022-05-27T00:00:00",
          "2022-05-30T00:00:00",
          "2022-05-30T00:00:00",
          "2022-05-30T00:00:00",
          "2022-05-31T00:00:00",
          "2022-05-31T00:00:00",
          "2022-05-31T00:00:00",
          "2022-05-31T00:00:00",
          "2022-05-31T00:00:00",
          "2022-05-31T00:00:00",
          "2022-05-31T00:00:00",
          "2022-05-31T00:00:00",
          "2022-06-01T00:00:00",
          "2022-06-01T00:00:00",
          "2022-06-01T00:00:00",
          "2022-06-01T00:00:00",
          "2022-06-01T00:00:00",
          "2022-06-01T00:00:00",
          "2022-06-01T00:00:00",
          "2022-06-02T00:00:00",
          "2022-06-02T00:00:00",
          "2022-06-02T00:00:00",
          "2022-06-02T00:00:00",
          "2022-06-08T00:00:00",
          "2022-06-08T00:00:00",
          "2022-06-09T00:00:00",
          "2022-06-10T00:00:00",
          "2022-06-10T00:00:00",
          "2022-06-10T00:00:00",
          "2022-06-20T00:00:00",
          "2022-06-21T00:00:00",
          "2022-06-22T00:00:00",
          "2022-06-27T00:00:00",
          "2022-06-27T00:00:00",
          "2022-06-27T00:00:00",
          "2022-06-27T00:00:00",
          "2022-06-27T00:00:00",
          "2022-06-28T00:00:00",
          "2022-06-28T00:00:00",
          "2022-06-28T00:00:00",
          "2022-06-28T00:00:00",
          "2022-06-29T00:00:00",
          "2022-06-29T00:00:00",
          "2022-06-30T00:00:00",
          "2022-06-30T00:00:00",
          "2022-06-30T00:00:00",
          "2022-06-30T00:00:00",
          "2022-06-30T00:00:00",
          "2022-07-01T00:00:00",
          "2022-07-01T00:00:00",
          "2022-07-04T00:00:00",
          "2022-07-04T00:00:00",
          "2022-07-04T00:00:00",
          "2022-07-04T00:00:00",
          "2022-07-04T00:00:00",
          "2022-07-05T00:00:00",
          "2022-07-08T00:00:00",
          "2022-07-08T00:00:00",
          "2022-07-08T00:00:00",
          "2022-07-08T00:00:00",
          "2022-07-08T00:00:00",
          "2022-07-08T00:00:00",
          "2022-07-08T00:00:00",
          "2022-07-11T00:00:00",
          "2022-07-13T00:00:00",
          "2022-07-13T00:00:00",
          "2022-07-13T00:00:00",
          "2022-07-13T00:00:00",
          "2022-07-15T00:00:00",
          "2022-07-15T00:00:00",
          "2022-07-15T00:00:00",
          "2022-07-21T00:00:00",
          "2022-07-25T00:00:00",
          "2022-07-27T00:00:00",
          "2022-07-27T00:00:00",
          "2022-07-27T00:00:00",
          "2022-07-27T00:00:00",
          "2022-07-27T00:00:00",
          "2022-07-27T00:00:00",
          "2022-07-28T00:00:00",
          "2022-07-28T00:00:00",
          "2022-07-28T00:00:00",
          "2022-07-29T00:00:00",
          "2022-07-29T00:00:00",
          "2022-07-29T00:00:00",
          "2022-07-29T00:00:00",
          "2022-07-31T00:00:00",
          "2022-07-31T00:00:00",
          "2022-08-02T00:00:00",
          "2022-08-04T00:00:00",
          "2022-08-05T00:00:00",
          "2022-08-05T00:00:00",
          "2022-08-10T00:00:00",
          "2022-08-11T00:00:00",
          "2022-08-11T00:00:00",
          "2022-08-11T00:00:00",
          "2022-08-12T00:00:00",
          "2022-08-12T00:00:00",
          "2022-08-15T00:00:00",
          "2022-08-15T00:00:00",
          "2022-08-15T00:00:00",
          "2022-08-16T00:00:00",
          "2022-08-16T00:00:00",
          "2022-08-16T00:00:00",
          "2022-08-17T00:00:00",
          "2022-08-18T00:00:00",
          "2022-08-18T00:00:00",
          "2022-08-18T00:00:00",
          "2022-08-18T00:00:00",
          "2022-08-18T00:00:00",
          "2022-08-22T00:00:00",
          "2022-08-22T00:00:00",
          "2022-08-22T00:00:00",
          "2022-08-22T00:00:00",
          "2022-08-22T00:00:00",
          "2022-08-23T00:00:00",
          "2022-08-26T00:00:00",
          "2022-08-26T00:00:00",
          "2022-08-30T00:00:00",
          "2022-08-30T00:00:00",
          "2022-08-30T00:00:00",
          "2022-08-30T00:00:00",
          "2022-08-30T00:00:00",
          "2022-08-30T00:00:00",
          "2022-08-31T00:00:00",
          "2022-08-31T00:00:00",
          "2022-08-31T00:00:00",
          "2022-08-31T00:00:00",
          "2022-08-31T00:00:00",
          "2022-08-31T00:00:00",
          "2022-09-01T00:00:00",
          "2022-09-01T00:00:00",
          "2022-09-01T00:00:00",
          "2022-09-02T00:00:00",
          "2022-09-03T00:00:00",
          "2022-09-03T00:00:00",
          "2022-09-05T00:00:00",
          "2022-09-08T00:00:00",
          "2022-09-08T00:00:00",
          "2022-09-09T00:00:00",
          "2022-09-10T00:00:00",
          "2022-09-10T00:00:00",
          "2022-09-11T00:00:00",
          "2022-09-11T00:00:00",
          "2022-09-12T00:00:00",
          "2022-09-16T00:00:00",
          "2022-09-16T00:00:00",
          "2022-09-19T00:00:00",
          "2022-09-20T00:00:00",
          "2022-09-20T00:00:00",
          "2022-09-21T00:00:00",
          "2022-09-21T00:00:00",
          "2022-09-21T00:00:00",
          "2022-09-22T00:00:00",
          "2022-09-22T00:00:00",
          "2022-09-22T00:00:00",
          "2022-09-23T00:00:00",
          "2022-09-23T00:00:00",
          "2022-09-23T00:00:00",
          "2022-09-26T00:00:00",
          "2022-09-26T00:00:00",
          "2022-09-28T00:00:00",
          "2022-09-28T00:00:00",
          "2022-09-28T00:00:00",
          "2022-09-28T00:00:00",
          "2022-09-28T00:00:00",
          "2022-09-29T00:00:00",
          "2022-09-30T00:00:00",
          "2022-09-30T00:00:00",
          "2022-09-30T00:00:00",
          "2022-09-30T00:00:00",
          "2022-09-30T00:00:00",
          "2022-09-30T00:00:00",
          "2022-09-30T00:00:00",
          "2022-09-30T00:00:00",
          "2022-09-30T00:00:00",
          "2022-09-30T00:00:00",
          "2022-09-30T00:00:00",
          "2022-09-30T00:00:00",
          "2022-09-30T00:00:00",
          "2022-10-03T00:00:00",
          "2022-10-05T00:00:00",
          "2022-10-05T00:00:00",
          "2022-10-05T00:00:00",
          "2022-10-07T00:00:00",
          "2022-10-10T00:00:00",
          "2022-10-10T00:00:00",
          "2022-10-10T00:00:00",
          "2022-10-10T00:00:00",
          "2022-10-11T00:00:00",
          "2022-10-12T00:00:00",
          "2022-10-13T00:00:00",
          "2022-10-13T00:00:00",
          "2022-10-18T00:00:00",
          "2022-10-18T00:00:00",
          "2022-10-18T00:00:00",
          "2022-10-19T00:00:00",
          "2022-10-20T00:00:00",
          "2022-10-24T00:00:00",
          "2022-10-24T00:00:00",
          "2022-10-26T00:00:00",
          "2022-10-27T00:00:00",
          "2022-10-27T00:00:00",
          "2022-10-28T00:00:00",
          "2022-10-28T00:00:00",
          "2022-10-31T00:00:00",
          "2022-10-31T00:00:00",
          "2022-10-31T00:00:00",
          "2022-10-31T00:00:00",
          "2022-10-31T00:00:00",
          "2022-10-31T00:00:00",
          "2022-10-31T00:00:00",
          "2022-10-31T00:00:00",
          "2022-10-31T00:00:00",
          "2022-10-31T00:00:00",
          "2022-10-31T00:00:00",
          "2022-10-31T00:00:00",
          "2022-11-01T00:00:00",
          "2022-11-01T00:00:00",
          "2022-11-02T00:00:00",
          "2022-11-02T00:00:00",
          "2022-11-04T00:00:00",
          "2022-11-04T00:00:00",
          "2022-11-07T00:00:00",
          "2022-11-08T00:00:00",
          "2022-11-09T00:00:00",
          "2022-11-10T00:00:00",
          "2022-11-12T00:00:00",
          "2022-11-12T00:00:00",
          "2022-11-15T00:00:00",
          "2022-11-18T00:00:00",
          "2022-11-22T00:00:00",
          "2022-11-28T00:00:00",
          "2022-11-29T00:00:00",
          "2022-11-29T00:00:00",
          "2022-11-29T00:00:00",
          "2022-11-29T00:00:00",
          "2022-11-30T00:00:00",
          "2022-11-30T00:00:00",
          "2022-11-30T00:00:00",
          "2022-11-30T00:00:00",
          "2022-11-30T00:00:00",
          "2022-11-30T00:00:00",
          "2022-11-30T00:00:00",
          "2022-12-01T00:00:00",
          "2022-12-01T00:00:00",
          "2022-12-02T00:00:00",
          "2022-12-02T00:00:00",
          "2022-12-02T00:00:00",
          "2022-12-05T00:00:00",
          "2022-12-05T00:00:00",
          "2022-12-06T00:00:00",
          "2022-12-08T00:00:00",
          "2022-12-08T00:00:00",
          "2022-12-09T00:00:00",
          "2022-12-12T00:00:00",
          "2022-12-12T00:00:00",
          "2022-12-14T00:00:00",
          "2022-12-14T00:00:00",
          "2022-12-16T00:00:00",
          "2022-12-16T00:00:00",
          "2022-12-19T00:00:00",
          "2022-12-21T00:00:00",
          "2022-12-28T00:00:00",
          "2022-12-28T00:00:00",
          "2022-12-28T00:00:00",
          "2022-12-28T00:00:00",
          "2022-12-28T00:00:00",
          "2022-12-29T00:00:00",
          "2022-12-29T00:00:00",
          "2022-12-29T00:00:00",
          "2022-12-29T00:00:00",
          "2022-12-29T00:00:00",
          "2022-12-30T00:00:00",
          "2022-12-30T00:00:00",
          "2022-12-30T00:00:00",
          "2022-12-30T00:00:00",
          "2022-12-30T00:00:00",
          "2022-12-30T00:00:00",
          "2022-12-30T00:00:00",
          "2022-12-30T00:00:00",
          "2022-12-30T00:00:00",
          "2022-12-31T00:00:00",
          "2022-12-31T00:00:00",
          "2023-01-03T00:00:00",
          "2023-01-06T00:00:00",
          "2023-01-06T00:00:00",
          "2023-01-09T00:00:00",
          "2023-01-09T00:00:00",
          "2023-01-09T00:00:00",
          "2023-01-10T00:00:00",
          "2023-01-26T00:00:00",
          "2023-01-27T00:00:00",
          "2023-01-27T00:00:00",
          "2023-01-27T00:00:00",
          "2023-01-30T00:00:00",
          "2023-01-30T00:00:00",
          "2023-01-31T00:00:00",
          "2023-01-31T00:00:00",
          "2023-01-31T00:00:00",
          "2023-01-31T00:00:00",
          "2023-02-01T00:00:00",
          "2023-02-01T00:00:00",
          "2023-02-03T00:00:00",
          "2023-02-06T00:00:00",
          "2023-02-06T00:00:00",
          "2023-02-06T00:00:00",
          "2023-02-06T00:00:00",
          "2023-02-07T00:00:00",
          "2023-02-07T00:00:00",
          "2023-02-07T00:00:00",
          "2023-02-07T00:00:00",
          "2023-02-10T00:00:00",
          "2023-02-15T00:00:00",
          "2023-02-17T00:00:00",
          "2023-02-20T00:00:00",
          "2023-02-22T00:00:00",
          "2023-02-22T00:00:00",
          "2023-02-22T00:00:00",
          "2023-02-24T00:00:00",
          "2023-02-24T00:00:00",
          "2023-02-27T00:00:00",
          "2023-02-27T00:00:00",
          "2023-02-28T00:00:00",
          "2023-02-28T00:00:00",
          "2023-02-28T00:00:00",
          "2023-02-28T00:00:00",
          "2023-02-28T00:00:00",
          "2023-02-28T00:00:00",
          "2023-02-28T00:00:00",
          "2023-02-28T00:00:00",
          "2023-02-28T00:00:00",
          "2023-03-03T00:00:00",
          "2023-03-03T00:00:00",
          "2023-03-06T00:00:00",
          "2023-03-14T00:00:00",
          "2023-03-15T00:00:00",
          "2023-03-15T00:00:00",
          "2023-03-16T00:00:00",
          "2023-03-16T00:00:00",
          "2023-03-16T00:00:00",
          "2023-03-20T00:00:00",
          "2023-03-20T00:00:00",
          "2023-03-20T00:00:00",
          "2023-03-20T00:00:00",
          "2023-03-23T00:00:00",
          "2023-03-23T00:00:00",
          "2023-03-24T00:00:00",
          "2023-03-27T00:00:00",
          "2023-03-28T00:00:00",
          "2023-03-28T00:00:00",
          "2023-03-28T00:00:00",
          "2023-03-30T00:00:00",
          "2023-03-30T00:00:00",
          "2023-03-31T00:00:00",
          "2023-03-31T00:00:00",
          "2023-03-31T00:00:00",
          "2023-04-03T00:00:00",
          "2023-04-03T00:00:00",
          "2023-04-06T00:00:00",
          "2023-04-06T00:00:00",
          "2023-04-06T00:00:00",
          "2023-04-06T00:00:00",
          "2023-04-06T00:00:00",
          "2023-04-06T00:00:00",
          "2023-04-11T00:00:00",
          "2023-04-11T00:00:00",
          "2023-04-11T00:00:00",
          "2023-04-11T00:00:00",
          "2023-04-12T00:00:00",
          "2023-04-21T00:00:00",
          "2023-04-21T00:00:00",
          "2023-04-25T00:00:00",
          "2023-04-25T00:00:00",
          "2023-04-25T00:00:00",
          "2023-04-25T00:00:00",
          "2023-04-26T00:00:00",
          "2023-04-27T00:00:00",
          "2023-04-28T00:00:00",
          "2023-04-28T00:00:00",
          "2023-04-28T00:00:00",
          "2023-04-28T00:00:00",
          "2023-04-30T00:00:00",
          "2023-04-30T00:00:00",
          "2023-05-01T00:00:00",
          "2023-05-02T00:00:00",
          "2023-05-03T00:00:00",
          "2023-05-05T00:00:00",
          "2023-05-05T00:00:00",
          "2023-05-08T00:00:00",
          "2023-05-08T00:00:00",
          "2023-05-08T00:00:00",
          "2023-05-11T00:00:00",
          "2023-05-17T00:00:00",
          "2023-05-17T00:00:00",
          "2023-05-19T00:00:00",
          "2023-05-19T00:00:00",
          "2023-05-19T00:00:00",
          "2023-05-19T00:00:00",
          "2023-05-22T00:00:00",
          "2023-05-25T00:00:00",
          "2023-05-26T00:00:00",
          "2023-05-26T00:00:00",
          "2023-05-26T00:00:00",
          "2023-05-30T00:00:00",
          "2023-05-31T00:00:00",
          "2023-05-31T00:00:00",
          "2023-05-31T00:00:00",
          "2023-05-31T00:00:00",
          "2023-06-05T00:00:00",
          "2023-06-05T00:00:00",
          "2023-06-05T00:00:00",
          "2023-06-05T00:00:00",
          "2023-06-08T00:00:00",
          "2023-06-09T00:00:00",
          "2023-06-09T00:00:00",
          "2023-06-09T00:00:00",
          "2023-06-09T00:00:00",
          "2023-06-15T00:00:00",
          "2023-06-20T00:00:00",
          "2023-06-20T00:00:00"
         ],
         "xaxis": "x",
         "y": [
          20100.0,
          19955.0,
          19950.0,
          19879.77,
          19809.54,
          19739.3,
          19709.3,
          19704.3,
          19699.3,
          19249.3,
          19029.3,
          18286.149999999998,
          18230.149999999998,
          18130.149999999998,
          18060.149999999998,
          18055.149999999998,
          18015.089999999997,
          17988.159999999996,
          17865.609999999997,
          13988.409999999996,
          13957.709999999995,
          13872.709999999995,
          13867.709999999995,
          11867.709999999995,
          11862.709999999995,
          11196.109999999995,
          11170.109999999995,
          15470.109999999995,
          15801.209999999995,
          15796.209999999995,
          15791.209999999995,
          15671.409999999996,
          15666.409999999996,
          1665.4099999999962,
          1265.4099999999962,
          863.8099999999962,
          1456.1599999999962,
          1451.1599999999962,
          2251.159999999996,
          1972.1599999999962,
          1822.1599999999962,
          1746.3599999999963,
          1692.7599999999964,
          192.75999999999635,
          130.40999999999636,
          930.4099999999963,
          1231.9599999999964,
          1824.3099999999963,
          1819.3099999999963,
          1669.3099999999963,
          1598.5099999999964,
          1684.7099999999964,
          1706.1099999999965,
          1826.4099999999964,
          2626.409999999996,
          3681.859999999996,
          4481.859999999996,
          5581.859999999996,
          5411.859999999996,
          5299.309999999996,
          1499.3099999999959,
          1391.8599999999958,
          5322.909999999996,
          5192.909999999996,
          5187.909999999996,
          4887.909999999996,
          4805.909999999996,
          5605.909999999996,
          6077.099999999996,
          7127.099999999996,
          7088.099999999996,
          7022.099999999996,
          7822.099999999996,
          3322.099999999996,
          3298.2999999999956,
          3467.9499999999957,
          2867.9499999999957,
          2862.9499999999957,
          2732.9499999999957,
          2593.0499999999956,
          2527.8999999999955,
          2377.4499999999957,
          1650.4499999999957,
          1510.4499999999957,
          1370.4499999999957,
          1085.0699999999956,
          1385.0699999999956,
          1950.4699999999957,
          2968.2199999999957,
          4068.2199999999957,
          4313.219999999996,
          4859.769999999996,
          4758.519999999996,
          4444.219999999996,
          944.2199999999957,
          2872.0699999999956,
          2722.0699999999956,
          1722.0699999999956,
          1705.4699999999957,
          1575.4699999999957,
          1545.4699999999957,
          1540.4699999999957,
          3312.119999999996,
          3934.069999999996,
          4989.529999999996,
          4982.529999999996,
          4752.529999999996,
          4922.179999999996,
          4712.829999999995,
          8051.279999999995,
          9075.979999999996,
          9875.979999999996,
          11628.779999999995,
          13325.079999999994,
          8825.079999999994,
          8761.479999999994,
          8516.279999999993,
          8386.279999999993,
          8381.279999999993,
          8550.929999999993,
          10673.079999999993,
          11521.229999999992,
          13104.429999999993,
          13096.329999999993,
          13086.279999999993,
          12296.529999999993,
          12201.529999999993,
          12061.029999999993,
          12043.479999999994,
          12028.079999999994,
          11284.929999999995,
          9836.269999999995,
          8074.9999999999945,
          3574.9999999999945,
          3298.9999999999945,
          3168.9999999999945,
          4356.399999999994,
          6335.399999999994,
          6391.949999999994,
          7371.9999999999945,
          12412.349999999995,
          11819.049999999996,
          11913.299999999996,
          11845.499999999996,
          11840.499999999996,
          11709.149999999996,
          11340.049999999996,
          10843.149999999996,
          21686.299999999996,
          17809.099999999995,
          17768.599999999995,
          17710.739999999994,
          17537.789999999994,
          13037.789999999994,
          13837.789999999994,
          13707.789999999994,
          13707.789999999994,
          13702.789999999994,
          13550.039999999994,
          13250.039999999994,
          13721.239999999994,
          15907.539999999994,
          17057.239999999994,
          17396.489999999994,
          22436.839999999997,
          22318.039999999997,
          21918.039999999997,
          21790.139999999996,
          22570.139999999996,
          23200.139999999996,
          23070.139999999996,
          23070.139999999996,
          22998.539999999997,
          22499.539999999997,
          22499.539999999997,
          22489.539999999997,
          22494.539999999997,
          22349.539999999997,
          29049.539999999997,
          30349.539999999997,
          33229.99,
          33276.509999999995,
          33280.09,
          33630.09,
          29130.089999999997,
          28980.089999999997,
          28895.089999999997,
          28685.879999999997,
          28639.829999999998,
          28636.28,
          28289.02,
          28262.28,
          31622.53,
          32395.28,
          32602.579999999998,
          33954.63,
          35217.43,
          36084.43,
          31584.43,
          31454.43,
          31454.43,
          32439.88,
          32434.88,
          32429.88,
          32113.13,
          32036.08,
          31938.38,
          31878.38,
          31766.83,
          31753.68,
          31384.62,
          31305.17,
          30898.17,
          34258.42,
          35258.42,
          35175.47,
          35088.12,
          35081.62,
          34356.62,
          34329.22,
          35209.22,
          30709.22,
          31059.22,
          31939.22,
          31939.22,
          31809.22,
          32619.22,
          33419.22,
          32969.22,
          32937.67,
          32097.67,
          31955.469999999998,
          31950.469999999998,
          31833.37,
          31777.719999999998,
          31966.219999999998,
          33888.67,
          34341.02,
          34831.07,
          35245.72,
          35595.72,
          35945.72,
          36295.72,
          36595.72,
          37425.020000000004,
          38235.47,
          39159.020000000004,
          40534.87,
          40572.57,
          40761.07,
          41307.67,
          41665.77,
          42400.82,
          43200.82,
          43199.82,
          43198.33,
          43178.950000000004,
          38178.950000000004,
          38348.600000000006,
          38320.00000000001,
          38228.600000000006,
          42924.3,
          42794.3,
          42794.3,
          42751.65,
          42746.65,
          42446.65,
          42446.65,
          40563.3,
          39140.4,
          39105.700000000004,
          39085.4,
          39075.9,
          38896.65,
          38446.65,
          38484.35,
          38917.85,
          39539.799999999996,
          40949.799999999996,
          41213.649999999994,
          41364.45,
          41458.7,
          43935.799999999996,
          44735.799999999996,
          45085.799999999996,
          48446.049999999996,
          49146.1,
          44146.1,
          44743.35,
          45543.35,
          45413.35,
          45413.35,
          47998.15,
          47697.25,
          47692.25,
          47658.65,
          46466.75,
          46361.55,
          49721.8,
          49651.05,
          50889.600000000006,
          50584.00000000001,
          49629.420000000006,
          49592.97000000001,
          47923.37000000001,
          47773.37000000001,
          48573.37000000001,
          48548.37000000001,
          48458.37000000001,
          49238.37000000001,
          49086.87000000001,
          49143.42000000001,
          49331.92000000001,
          49520.42000000001,
          50745.52000000001,
          50802.070000000014,
          52253.320000000014,
          52220.92000000001,
          53220.92000000001,
          53030.92000000001,
          48030.92000000001,
          47900.92000000001,
          47900.92000000001,
          47747.92000000001,
          52540.570000000014,
          52535.570000000014,
          52535.570000000014,
          52468.970000000016,
          52438.820000000014,
          51988.820000000014,
          51276.220000000016,
          51241.92000000001,
          51187.02000000001,
          52187.02000000001,
          53187.02000000001,
          51633.02000000001,
          48543.02000000001,
          48460.22000000001,
          45620.97000000001,
          45593.37000000001,
          45477.37000000001,
          45417.17000000001,
          40417.17000000001,
          40417.17000000001,
          40287.17000000001,
          35211.17000000001,
          31478.670000000013,
          31178.670000000013,
          31017.320000000014,
          30991.220000000016,
          30742.070000000014,
          30737.070000000014,
          30734.670000000013,
          30825.11000000001,
          30832.07000000001,
          30828.57000000001,
          30788.57000000001,
          30977.07000000001,
          31090.17000000001,
          31391.72000000001,
          31730.97000000001,
          32051.37000000001,
          32831.37000000001,
          36191.62000000001,
          39067.22000000001,
          34067.22000000001,
          33937.22000000001,
          33937.22000000001,
          33786.72000000001,
          33781.72000000001,
          33481.72000000001,
          33448.77000000001,
          33308.87000000001,
          33119.37000000001,
          33157.07000000001,
          34457.57000000001,
          34796.82000000001,
          34853.37000000001,
          34733.37000000001,
          34700.37000000001,
          29200.37000000001,
          32156.72000000001,
          31993.430000000008,
          34922.880000000005,
          34792.880000000005,
          34792.880000000005,
          34717.23,
          34680.73,
          32096.730000000003,
          32016.730000000003,
          30853.480000000003,
          34213.73,
          34208.73,
          36758.73,
          38926.18,
          43234.18,
          45062.38,
          45032.38,
          46031.28,
          45983.08,
          45863.08,
          45391.630000000005,
          45344.780000000006,
          45339.380000000005,
          45228.630000000005,
          45221.630000000005,
          45208.630000000005,
          45009.630000000005,
          48059.630000000005,
          47971.43000000001,
          46111.530000000006,
          41501.530000000006,
          41700.530000000006,
          41692.93000000001,
          42427.98000000001,
          42503.38000000001,
          42616.48000000001,
          42654.18000000001,
          42823.83000000001,
          42918.08000000001,
          43577.73000000001,
          43671.98000000001,
          43586.93000000001,
          44586.93000000001,
          44031.630000000005,
          43887.630000000005,
          45061.58,
          45608.18,
          45966.28,
          45914.08,
          45913.58,
          40413.58,
          40413.58,
          40283.58,
          36814.380000000005,
          34923.380000000005,
          34864.43000000001,
          34859.43000000001,
          34837.43000000001,
          34625.83000000001,
          34032.98000000001,
          32869.73000000001,
          32812.73000000001,
          32605.78000000001,
          32155.78000000001,
          32146.93000000001,
          32051.73000000001,
          30185.48000000001,
          30031.48000000001,
          29801.48000000001,
          29758.98000000001,
          29750.880000000012,
          29576.380000000012,
          29556.880000000012,
          29550.43000000001,
          30350.43000000001,
          30315.68000000001,
          30290.130000000012,
          30083.43000000001,
          30531.830000000013,
          31756.93000000001,
          31851.18000000001,
          31888.880000000012,
          31945.43000000001,
          32228.130000000012,
          33728.13000000001,
          32356.130000000012,
          32319.130000000012,
          35719.13000000001,
          35349.430000000015,
          35340.430000000015,
          36120.430000000015,
          35054.180000000015,
          35034.180000000015,
          35005.080000000016,
          34839.080000000016,
          34811.28000000001,
          34731.28000000001,
          29231.280000000013,
          29260.45000000001,
          29639.280000000013,
          29608.530000000013,
          29594.530000000013,
          29532.430000000015,
          29532.430000000015,
          32892.680000000015,
          32762.680000000015,
          32585.280000000013,
          32587.660000000014,
          44757.76000000002,
          44607.710000000014,
          44457.710000000014,
          43294.460000000014,
          43289.460000000014,
          75735.77000000002,
          75668.42000000001,
          77148.42000000001,
          77138.02000000002,
          76496.97000000002,
          76469.72000000002,
          76420.02000000002,
          76302.61000000002,
          76293.57000000002,
          76392.82000000002,
          76391.82000000002,
          76329.77000000002,
          72452.57000000002,
          72603.37000000002,
          72773.02000000002,
          73131.12000000002,
          73225.37000000002,
          73300.77000000002,
          72904.12000000002,
          70365.12000000002,
          72665.12000000002,
          67165.12000000002,
          63665.120000000024,
          63616.120000000024,
          63586.42000000003,
          62789.520000000026,
          62599.020000000026,
          62469.020000000026,
          62469.020000000026,
          62404.620000000024,
          62399.620000000024,
          62399.620000000024,
          62240.57000000002,
          67108.62000000002,
          65945.37000000002,
          65945.37000000002,
          65846.07000000002,
          65835.92000000003,
          65704.07000000002,
          66054.07000000002,
          67054.07000000002,
          66986.62000000002,
          66787.37000000002,
          66702.37000000002,
          66487.37000000002,
          66487.37000000002,
          67486.27000000002,
          67844.37000000002,
          68014.02000000002,
          68918.72000000002,
          69276.82000000002,
          69884.57000000002,
          66940.37000000002,
          66909.27000000002,
          66909.25000000001,
          66908.97000000002,
          66383.37000000001,
          66363.17000000001,
          66362.67000000001,
          60862.67000000001,
          60862.67000000001,
          60857.67000000001,
          62132.67000000001,
          62002.67000000001,
          62002.67000000001,
          63472.77000000001,
          66652.77000000002,
          66618.52000000002,
          66604.82000000002,
          66525.87000000002,
          67602.87000000002,
          70452.87000000002,
          69289.62000000002,
          69289.62000000002,
          69230.62000000002,
          70730.62000000002,
          72230.62000000002,
          71780.62000000002,
          74903.92000000003,
          74781.92000000003,
          72542.12000000002,
          73392.12000000002,
          73332.12000000002,
          73332.12000000002,
          71951.57000000002,
          71922.67000000003,
          72572.67000000003,
          73372.67000000003,
          73069.12000000002,
          73041.52000000002,
          73701.52000000002,
          71245.97000000002,
          71245.97000000002,
          71115.97000000002,
          73135.37000000001,
          78401.92000000001,
          78831.92000000001,
          82289.07,
          81804.42000000001,
          79568.02000000002,
          74153.07000000002,
          73983.67000000003,
          73763.47000000003,
          73613.47000000003,
          73567.27000000003,
          73472.67000000003,
          73467.67000000003,
          73467.67000000003,
          72244.42000000003,
          72244.42000000003,
          72235.42000000003,
          72235.42000000003,
          72857.37000000002,
          74384.02000000002,
          75659.02000000002,
          76356.37000000002,
          77336.42000000003,
          78936.42000000003,
          80436.42000000003,
          82386.42000000003,
          83246.42000000003,
          84546.42000000003,
          83419.02000000003,
          83408.57000000004,
          83408.57000000004,
          79641.57000000004,
          79553.89000000004,
          79516.69000000005,
          79206.69000000005,
          80054.84000000004,
          79397.14000000004,
          81131.09000000004,
          78892.99000000003,
          73421.34000000004,
          74521.34000000004,
          74391.34000000004,
          74391.34000000004,
          74230.09000000004,
          74152.09000000004,
          74105.14000000004,
          73655.14000000004,
          72815.14000000004,
          71591.89000000004,
          71591.89000000004,
          73091.89000000004,
          73086.89000000004,
          73086.89000000004,
          73068.19000000005,
          73036.09000000004,
          74536.09000000004,
          74533.59000000004,
          74533.59000000004,
          76713.59000000004,
          76656.09000000004,
          77756.09000000004,
          78756.09000000004,
          79756.09000000004,
          80359.19000000005,
          82297.79000000005,
          83447.79000000005,
          83447.79000000005,
          83445.09000000005,
          83904.24000000005,
          84904.24000000005,
          84530.54000000005,
          83825.09000000005,
          81654.69000000006,
          81073.09000000005,
          80598.94000000006,
          80438.48000000005,
          80410.48000000005,
          79749.48000000005,
          79430.48000000005,
          79430.48000000005,
          77192.38000000005,
          76969.53000000004,
          75986.23000000004,
          75856.23000000004,
          75796.23000000004,
          75796.23000000004,
          70324.58000000005,
          70324.58000000005,
          70319.58000000005,
          70319.58000000005,
          69959.58000000005,
          69881.58000000005,
          69841.58000000005,
          69689.23000000004,
          69684.23000000004,
          69684.23000000004,
          68440.98000000004,
          68440.98000000004,
          68396.28000000004,
          68345.98000000004,
          66980.98000000004,
          66947.38000000003,
          67447.38000000003,
          69752.18000000004,
          70052.18000000004,
          70622.98000000004,
          70607.04000000004,
          70607.04000000004,
          70549.54000000004,
          70323.39000000004,
          69623.34000000004,
          69554.39000000004,
          70454.39000000004,
          71954.39000000004,
          71595.99000000005,
          78087.39000000004,
          78647.44000000005,
          79282.89000000004,
          79616.74000000005,
          79950.59000000005,
          79950.59000000005,
          77712.49000000005,
          77582.49000000005,
          72110.84000000005,
          72048.38000000005,
          72048.38000000005,
          71858.73000000005,
          74395.23000000005,
          74390.23000000005,
          74390.23000000005,
          74422.81000000006,
          73179.56000000006,
          73179.56000000006,
          73101.56000000006,
          74201.56000000006,
          74036.56000000006,
          72844.66000000006,
          72544.66000000006,
          72426.76000000007,
          73926.76000000007,
          73952.99000000006,
          73955.01000000007,
          73961.74000000006,
          73936.19000000006,
          73878.69000000006,
          73879.21000000006,
          74329.21000000006,
          74988.86000000006,
          75573.11000000006,
          75931.21000000006,
          77881.21000000006,
          77780.51000000007,
          79380.51000000007,
          79128.51000000007,
          78883.71000000006,
          79983.71000000006,
          79953.91000000006,
          79922.06000000006,
          77683.96000000005,
          72212.31000000006,
          68495.31000000006,
          68285.31000000006,
          68414.56000000006,
          68284.56000000006,
          68284.56000000006,
          68284.56000000006,
          67041.31000000006,
          67011.16000000006,
          66861.16000000006,
          66861.16000000006,
          66856.16000000006,
          67956.16000000006,
          68956.16000000006,
          68908.06000000006,
          67962.36000000006,
          67904.86000000006,
          68766.46000000006,
          71577.41000000006,
          71351.26000000007,
          72351.26000000007,
          72255.93000000007,
          72244.68000000007,
          73609.68000000007,
          73609.68000000007,
          73494.73000000007,
          73489.21000000006,
          73488.78000000007,
          76988.78000000007,
          76813.78000000007,
          77287.68000000007,
          78235.43000000007,
          85266.23000000007,
          85600.08000000007,
          85125.83000000007,
          84975.83000000007,
          84975.83000000007,
          84973.83000000007,
          84973.83000000007,
          84577.48000000007,
          84447.48000000007,
          84447.48000000007,
          84369.48000000007,
          82131.38000000006,
          76659.73000000007,
          76633.63000000006,
          76525.63000000006,
          75135.79000000007,
          75512.74000000006,
          75738.89000000006,
          75438.89000000006,
          75275.89000000006,
          75270.89000000006,
          75270.89000000006,
          74027.64000000006,
          74027.64000000006,
          74142.59000000005,
          74132.90000000005,
          74132.90000000005,
          74107.90000000005,
          74089.30000000005,
          73058.20000000004,
          73000.70000000004,
          74100.70000000004,
          74100.20000000004,
          74100.20000000004,
          74099.30000000005,
          74099.30000000005,
          74000.40000000005,
          73820.40000000005,
          73820.40000000005,
          79110.40000000005,
          78994.95000000006,
          78876.15000000005,
          76504.15000000005,
          78004.15000000005,
          75632.15000000005,
          75601.91000000005,
          76601.91000000005,
          73920.51000000005,
          74146.66000000005,
          76731.46000000005,
          79423.96000000005,
          79650.11000000004,
          79857.41000000005,
          79779.41000000005,
          74307.76000000005,
          72069.66000000005,
          71939.66000000005,
          71939.66000000005,
          72939.66000000005,
          72938.97000000004,
          72929.96000000005,
          72929.96000000005,
          71686.71000000005,
          71656.01000000005,
          71401.91000000005,
          71171.91000000005,
          71171.91000000005,
          71166.91000000005,
          71840.06000000004,
          74651.01000000004,
          74351.01000000004,
          74231.71000000004,
          75231.71000000004,
          75091.81000000004,
          75113.44000000005,
          75115.11000000004,
          75059.76000000004,
          74766.11000000004,
          71070.66000000005,
          72200.66000000005,
          72026.66000000005,
          74126.66000000005,
          74069.16000000005,
          75169.16000000005,
          76194.16000000005,
          76162.51000000005,
          76133.91000000005,
          75979.86000000004,
          76579.86000000004,
          74815.21000000005,
          74813.21000000005,
          74813.21000000005,
          75913.21000000005,
          75835.21000000005,
          76287.56000000006,
          75044.31000000006,
          75044.31000000006,
          75289.31000000006,
          75364.71000000005,
          75458.96000000005,
          75722.81000000006,
          75422.81000000006,
          69951.16000000006,
          67713.06000000006,
          68163.06000000006,
          68133.06000000006,
          68128.06000000006,
          68128.06000000006,
          68124.11000000006,
          68084.11000000006,
          67661.31000000006,
          67508.06000000006,
          67398.51000000005,
          67313.86000000006,
          67213.26000000005,
          68344.11000000006,
          68320.26000000005,
          68262.76000000005,
          68036.61000000006,
          68009.63000000006,
          68008.96000000006,
          69215.21000000006,
          70215.21000000006,
          70159.01000000007,
          70080.91000000006,
          64609.26000000006,
          62371.16000000006,
          62339.91000000006,
          62046.26000000006,
          60803.01000000006,
          60803.01000000006,
          60803.01000000006,
          60640.71000000006,
          61663.86000000006,
          63602.46000000006,
          63597.46000000006,
          63507.46000000006,
          63357.46000000006,
          63326.76000000006,
          63176.76000000006,
          63173.76000000006,
          64266.91000000006,
          64180.74000000006,
          65280.74000000006,
          65271.55000000006,
          65270.84000000006,
          65213.34000000006,
          65628.34000000005,
          69128.34000000005,
          69035.09000000005,
          67968.84000000005,
          68108.84000000005,
          67988.84000000005,
          69119.69000000006,
          69002.29000000007,
          68956.74000000006,
          68730.14000000006,
          66492.04000000005,
          61020.39000000005,
          60237.54000000005,
          60501.39000000005,
          61161.04000000005,
          61406.04000000005,
          63406.04000000005,
          63801.840000000055,
          63737.79000000005,
          63461.79000000005,
          62754.69000000005,
          61139.19000000005,
          61086.64000000005,
          60289.74000000005,
          59046.49000000005,
          59046.49000000005,
          59078.64000000005,
          59073.64000000005,
          59073.64000000005,
          58995.64000000005,
          59576.69000000005,
          54013.990000000056,
          55813.990000000056,
          61575.94000000005,
          61683.64000000005,
          57966.64000000005,
          61746.89000000005,
          62716.19000000005,
          64159.39000000005,
          64081.39000000005,
          62838.14000000005,
          62838.14000000005,
          63753.59000000005,
          63635.64000000005,
          63630.64000000005,
          63630.64000000005,
          58158.99000000005,
          55920.89000000005,
          57720.89000000005,
          57663.39000000005,
          53920.64000000005,
          53875.64000000005,
          54322.59000000005,
          54236.290000000045,
          54206.74000000004,
          54158.14000000004,
          54100.64000000004,
          53874.49000000004,
          54974.49000000004,
          55114.49000000004,
          57106.94000000004,
          58331.94000000004,
          60205.94000000004,
          60171.04000000004,
          61771.04000000004,
          64894.34000000004,
          66455.99000000003,
          66377.99000000003,
          65091.59000000003,
          65091.59000000003,
          65086.59000000003,
          66736.59000000003,
          64498.49000000003,
          64413.49000000003,
          64267.54000000003,
          58795.89000000003,
          58795.89000000003,
          58495.89000000003,
          59495.89000000003,
          61295.89000000003,
          62395.89000000003,
          64334.49000000003,
          66488.49000000002,
          66387.49000000002,
          67387.49000000002,
          68387.49000000002,
          69356.79000000002,
          72372.39000000003,
          75711.09000000003,
          79211.09000000003,
          80711.09000000003,
          82211.09000000003,
          81501.09000000003,
          85751.09000000003,
          85673.09000000003,
          80201.44000000003,
          77963.34000000003,
          76676.94000000003,
          76676.94000000003,
          76676.94000000003,
          76596.99000000003,
          76591.99000000003,
          77991.99000000003,
          78441.99000000003,
          78387.99000000003,
          75932.44000000003,
          75082.44000000003,
          74972.79000000004,
          74857.04000000004,
          74407.04000000004,
          73837.74000000003,
          70209.74000000003,
          70172.39000000003,
          70472.39000000003,
          70370.67000000003,
          71370.67000000003,
          74370.67000000003,
          72132.57000000002,
          69766.67000000003,
          69719.37000000002,
          64247.72000000002,
          64118.42000000002,
          64040.42000000002,
          63959.57000000002,
          63919.57000000002,
          62633.17000000002,
          62633.17000000002,
          62628.17000000002,
          62628.17000000002,
          62028.17000000002,
          63828.17000000002,
          65820.62000000002,
          65789.72000000003,
          66789.72000000003,
          66714.52000000003,
          67845.37000000004,
          72045.67000000004,
          73545.67000000004,
          73505.62000000004,
          73279.47000000004,
          74779.47000000004,
          77929.47000000004,
          81879.47000000004,
          87703.07000000005,
          89213.07000000005,
          90713.07000000005,
          91520.82000000005,
          91442.82000000005,
          101211.22000000004,
          100951.87000000004,
          100863.47000000004,
          101563.47000000004,
          101113.47000000004,
          101078.02000000005,
          101810.37000000005,
          102607.37000000005,
          105536.82000000005,
          107186.82000000005,
          108686.82000000005,
          115458.17000000006,
          117429.07000000005,
          120929.07000000005,
          123492.32000000005,
          126842.32000000005,
          126191.27000000005,
          126191.27000000005
         ],
         "yaxis": "y",
         "type": "scattergl"
        }
       ],
       "layout": {
        "template": {
         "data": {
          "histogram2dcontour": [
           {
            "type": "histogram2dcontour",
            "colorbar": {
             "outlinewidth": 0,
             "ticks": ""
            },
            "colorscale": [
             [
              0.0,
              "#0d0887"
             ],
             [
              0.1111111111111111,
              "#46039f"
             ],
             [
              0.2222222222222222,
              "#7201a8"
             ],
             [
              0.3333333333333333,
              "#9c179e"
             ],
             [
              0.4444444444444444,
              "#bd3786"
             ],
             [
              0.5555555555555556,
              "#d8576b"
             ],
             [
              0.6666666666666666,
              "#ed7953"
             ],
             [
              0.7777777777777778,
              "#fb9f3a"
             ],
             [
              0.8888888888888888,
              "#fdca26"
             ],
             [
              1.0,
              "#f0f921"
             ]
            ]
           }
          ],
          "choropleth": [
           {
            "type": "choropleth",
            "colorbar": {
             "outlinewidth": 0,
             "ticks": ""
            }
           }
          ],
          "histogram2d": [
           {
            "type": "histogram2d",
            "colorbar": {
             "outlinewidth": 0,
             "ticks": ""
            },
            "colorscale": [
             [
              0.0,
              "#0d0887"
             ],
             [
              0.1111111111111111,
              "#46039f"
             ],
             [
              0.2222222222222222,
              "#7201a8"
             ],
             [
              0.3333333333333333,
              "#9c179e"
             ],
             [
              0.4444444444444444,
              "#bd3786"
             ],
             [
              0.5555555555555556,
              "#d8576b"
             ],
             [
              0.6666666666666666,
              "#ed7953"
             ],
             [
              0.7777777777777778,
              "#fb9f3a"
             ],
             [
              0.8888888888888888,
              "#fdca26"
             ],
             [
              1.0,
              "#f0f921"
             ]
            ]
           }
          ],
          "heatmap": [
           {
            "type": "heatmap",
            "colorbar": {
             "outlinewidth": 0,
             "ticks": ""
            },
            "colorscale": [
             [
              0.0,
              "#0d0887"
             ],
             [
              0.1111111111111111,
              "#46039f"
             ],
             [
              0.2222222222222222,
              "#7201a8"
             ],
             [
              0.3333333333333333,
              "#9c179e"
             ],
             [
              0.4444444444444444,
              "#bd3786"
             ],
             [
              0.5555555555555556,
              "#d8576b"
             ],
             [
              0.6666666666666666,
              "#ed7953"
             ],
             [
              0.7777777777777778,
              "#fb9f3a"
             ],
             [
              0.8888888888888888,
              "#fdca26"
             ],
             [
              1.0,
              "#f0f921"
             ]
            ]
           }
          ],
          "heatmapgl": [
           {
            "type": "heatmapgl",
            "colorbar": {
             "outlinewidth": 0,
             "ticks": ""
            },
            "colorscale": [
             [
              0.0,
              "#0d0887"
             ],
             [
              0.1111111111111111,
              "#46039f"
             ],
             [
              0.2222222222222222,
              "#7201a8"
             ],
             [
              0.3333333333333333,
              "#9c179e"
             ],
             [
              0.4444444444444444,
              "#bd3786"
             ],
             [
              0.5555555555555556,
              "#d8576b"
             ],
             [
              0.6666666666666666,
              "#ed7953"
             ],
             [
              0.7777777777777778,
              "#fb9f3a"
             ],
             [
              0.8888888888888888,
              "#fdca26"
             ],
             [
              1.0,
              "#f0f921"
             ]
            ]
           }
          ],
          "contourcarpet": [
           {
            "type": "contourcarpet",
            "colorbar": {
             "outlinewidth": 0,
             "ticks": ""
            }
           }
          ],
          "contour": [
           {
            "type": "contour",
            "colorbar": {
             "outlinewidth": 0,
             "ticks": ""
            },
            "colorscale": [
             [
              0.0,
              "#0d0887"
             ],
             [
              0.1111111111111111,
              "#46039f"
             ],
             [
              0.2222222222222222,
              "#7201a8"
             ],
             [
              0.3333333333333333,
              "#9c179e"
             ],
             [
              0.4444444444444444,
              "#bd3786"
             ],
             [
              0.5555555555555556,
              "#d8576b"
             ],
             [
              0.6666666666666666,
              "#ed7953"
             ],
             [
              0.7777777777777778,
              "#fb9f3a"
             ],
             [
              0.8888888888888888,
              "#fdca26"
             ],
             [
              1.0,
              "#f0f921"
             ]
            ]
           }
          ],
          "surface": [
           {
            "type": "surface",
            "colorbar": {
             "outlinewidth": 0,
             "ticks": ""
            },
            "colorscale": [
             [
              0.0,
              "#0d0887"
             ],
             [
              0.1111111111111111,
              "#46039f"
             ],
             [
              0.2222222222222222,
              "#7201a8"
             ],
             [
              0.3333333333333333,
              "#9c179e"
             ],
             [
              0.4444444444444444,
              "#bd3786"
             ],
             [
              0.5555555555555556,
              "#d8576b"
             ],
             [
              0.6666666666666666,
              "#ed7953"
             ],
             [
              0.7777777777777778,
              "#fb9f3a"
             ],
             [
              0.8888888888888888,
              "#fdca26"
             ],
             [
              1.0,
              "#f0f921"
             ]
            ]
           }
          ],
          "mesh3d": [
           {
            "type": "mesh3d",
            "colorbar": {
             "outlinewidth": 0,
             "ticks": ""
            }
           }
          ],
          "scatter": [
           {
            "marker": {
             "line": {
              "color": "#283442"
             }
            },
            "type": "scatter"
           }
          ],
          "parcoords": [
           {
            "type": "parcoords",
            "line": {
             "colorbar": {
              "outlinewidth": 0,
              "ticks": ""
             }
            }
           }
          ],
          "scatterpolargl": [
           {
            "type": "scatterpolargl",
            "marker": {
             "colorbar": {
              "outlinewidth": 0,
              "ticks": ""
             }
            }
           }
          ],
          "bar": [
           {
            "error_x": {
             "color": "#f2f5fa"
            },
            "error_y": {
             "color": "#f2f5fa"
            },
            "marker": {
             "line": {
              "color": "rgb(17,17,17)",
              "width": 0.5
             },
             "pattern": {
              "fillmode": "overlay",
              "size": 10,
              "solidity": 0.2
             }
            },
            "type": "bar"
           }
          ],
          "scattergeo": [
           {
            "type": "scattergeo",
            "marker": {
             "colorbar": {
              "outlinewidth": 0,
              "ticks": ""
             }
            }
           }
          ],
          "scatterpolar": [
           {
            "type": "scatterpolar",
            "marker": {
             "colorbar": {
              "outlinewidth": 0,
              "ticks": ""
             }
            }
           }
          ],
          "histogram": [
           {
            "marker": {
             "pattern": {
              "fillmode": "overlay",
              "size": 10,
              "solidity": 0.2
             }
            },
            "type": "histogram"
           }
          ],
          "scattergl": [
           {
            "marker": {
             "line": {
              "color": "#283442"
             }
            },
            "type": "scattergl"
           }
          ],
          "scatter3d": [
           {
            "type": "scatter3d",
            "line": {
             "colorbar": {
              "outlinewidth": 0,
              "ticks": ""
             }
            },
            "marker": {
             "colorbar": {
              "outlinewidth": 0,
              "ticks": ""
             }
            }
           }
          ],
          "scattermapbox": [
           {
            "type": "scattermapbox",
            "marker": {
             "colorbar": {
              "outlinewidth": 0,
              "ticks": ""
             }
            }
           }
          ],
          "scatterternary": [
           {
            "type": "scatterternary",
            "marker": {
             "colorbar": {
              "outlinewidth": 0,
              "ticks": ""
             }
            }
           }
          ],
          "scattercarpet": [
           {
            "type": "scattercarpet",
            "marker": {
             "colorbar": {
              "outlinewidth": 0,
              "ticks": ""
             }
            }
           }
          ],
          "carpet": [
           {
            "aaxis": {
             "endlinecolor": "#A2B1C6",
             "gridcolor": "#506784",
             "linecolor": "#506784",
             "minorgridcolor": "#506784",
             "startlinecolor": "#A2B1C6"
            },
            "baxis": {
             "endlinecolor": "#A2B1C6",
             "gridcolor": "#506784",
             "linecolor": "#506784",
             "minorgridcolor": "#506784",
             "startlinecolor": "#A2B1C6"
            },
            "type": "carpet"
           }
          ],
          "table": [
           {
            "cells": {
             "fill": {
              "color": "#506784"
             },
             "line": {
              "color": "rgb(17,17,17)"
             }
            },
            "header": {
             "fill": {
              "color": "#2a3f5f"
             },
             "line": {
              "color": "rgb(17,17,17)"
             }
            },
            "type": "table"
           }
          ],
          "barpolar": [
           {
            "marker": {
             "line": {
              "color": "rgb(17,17,17)",
              "width": 0.5
             },
             "pattern": {
              "fillmode": "overlay",
              "size": 10,
              "solidity": 0.2
             }
            },
            "type": "barpolar"
           }
          ],
          "pie": [
           {
            "automargin": true,
            "type": "pie"
           }
          ]
         },
         "layout": {
          "autotypenumbers": "strict",
          "colorway": [
           "#636efa",
           "#EF553B",
           "#00cc96",
           "#ab63fa",
           "#FFA15A",
           "#19d3f3",
           "#FF6692",
           "#B6E880",
           "#FF97FF",
           "#FECB52"
          ],
          "font": {
           "color": "#f2f5fa"
          },
          "hovermode": "closest",
          "hoverlabel": {
           "align": "left"
          },
          "paper_bgcolor": "rgb(17,17,17)",
          "plot_bgcolor": "rgb(17,17,17)",
          "polar": {
           "bgcolor": "rgb(17,17,17)",
           "angularaxis": {
            "gridcolor": "#506784",
            "linecolor": "#506784",
            "ticks": ""
           },
           "radialaxis": {
            "gridcolor": "#506784",
            "linecolor": "#506784",
            "ticks": ""
           }
          },
          "ternary": {
           "bgcolor": "rgb(17,17,17)",
           "aaxis": {
            "gridcolor": "#506784",
            "linecolor": "#506784",
            "ticks": ""
           },
           "baxis": {
            "gridcolor": "#506784",
            "linecolor": "#506784",
            "ticks": ""
           },
           "caxis": {
            "gridcolor": "#506784",
            "linecolor": "#506784",
            "ticks": ""
           }
          },
          "coloraxis": {
           "colorbar": {
            "outlinewidth": 0,
            "ticks": ""
           }
          },
          "colorscale": {
           "sequential": [
            [
             0.0,
             "#0d0887"
            ],
            [
             0.1111111111111111,
             "#46039f"
            ],
            [
             0.2222222222222222,
             "#7201a8"
            ],
            [
             0.3333333333333333,
             "#9c179e"
            ],
            [
             0.4444444444444444,
             "#bd3786"
            ],
            [
             0.5555555555555556,
             "#d8576b"
            ],
            [
             0.6666666666666666,
             "#ed7953"
            ],
            [
             0.7777777777777778,
             "#fb9f3a"
            ],
            [
             0.8888888888888888,
             "#fdca26"
            ],
            [
             1.0,
             "#f0f921"
            ]
           ],
           "sequentialminus": [
            [
             0.0,
             "#0d0887"
            ],
            [
             0.1111111111111111,
             "#46039f"
            ],
            [
             0.2222222222222222,
             "#7201a8"
            ],
            [
             0.3333333333333333,
             "#9c179e"
            ],
            [
             0.4444444444444444,
             "#bd3786"
            ],
            [
             0.5555555555555556,
             "#d8576b"
            ],
            [
             0.6666666666666666,
             "#ed7953"
            ],
            [
             0.7777777777777778,
             "#fb9f3a"
            ],
            [
             0.8888888888888888,
             "#fdca26"
            ],
            [
             1.0,
             "#f0f921"
            ]
           ],
           "diverging": [
            [
             0,
             "#8e0152"
            ],
            [
             0.1,
             "#c51b7d"
            ],
            [
             0.2,
             "#de77ae"
            ],
            [
             0.3,
             "#f1b6da"
            ],
            [
             0.4,
             "#fde0ef"
            ],
            [
             0.5,
             "#f7f7f7"
            ],
            [
             0.6,
             "#e6f5d0"
            ],
            [
             0.7,
             "#b8e186"
            ],
            [
             0.8,
             "#7fbc41"
            ],
            [
             0.9,
             "#4d9221"
            ],
            [
             1,
             "#276419"
            ]
           ]
          },
          "xaxis": {
           "gridcolor": "#283442",
           "linecolor": "#506784",
           "ticks": "",
           "title": {
            "standoff": 15
           },
           "zerolinecolor": "#283442",
           "automargin": true,
           "zerolinewidth": 2
          },
          "yaxis": {
           "gridcolor": "#283442",
           "linecolor": "#506784",
           "ticks": "",
           "title": {
            "standoff": 15
           },
           "zerolinecolor": "#283442",
           "automargin": true,
           "zerolinewidth": 2
          },
          "scene": {
           "xaxis": {
            "backgroundcolor": "rgb(17,17,17)",
            "gridcolor": "#506784",
            "linecolor": "#506784",
            "showbackground": true,
            "ticks": "",
            "zerolinecolor": "#C8D4E3",
            "gridwidth": 2
           },
           "yaxis": {
            "backgroundcolor": "rgb(17,17,17)",
            "gridcolor": "#506784",
            "linecolor": "#506784",
            "showbackground": true,
            "ticks": "",
            "zerolinecolor": "#C8D4E3",
            "gridwidth": 2
           },
           "zaxis": {
            "backgroundcolor": "rgb(17,17,17)",
            "gridcolor": "#506784",
            "linecolor": "#506784",
            "showbackground": true,
            "ticks": "",
            "zerolinecolor": "#C8D4E3",
            "gridwidth": 2
           }
          },
          "shapedefaults": {
           "line": {
            "color": "#f2f5fa"
           }
          },
          "annotationdefaults": {
           "arrowcolor": "#f2f5fa",
           "arrowhead": 0,
           "arrowwidth": 1
          },
          "geo": {
           "bgcolor": "rgb(17,17,17)",
           "landcolor": "rgb(17,17,17)",
           "subunitcolor": "#506784",
           "showland": true,
           "showlakes": true,
           "lakecolor": "rgb(17,17,17)"
          },
          "title": {
           "x": 0.05
          },
          "updatemenudefaults": {
           "bgcolor": "#506784",
           "borderwidth": 0
          },
          "sliderdefaults": {
           "bgcolor": "#C8D4E3",
           "borderwidth": 1,
           "bordercolor": "rgb(17,17,17)",
           "tickwidth": 0
          },
          "mapbox": {
           "style": "dark"
          }
         }
        },
        "xaxis": {
         "anchor": "y",
         "domain": [
          0.0,
          1.0
         ],
         "title": {
          "text": "Datum"
         }
        },
        "yaxis": {
         "anchor": "x",
         "domain": [
          0.0,
          1.0
         ],
         "title": {
          "text": "Kumulative Summe"
         }
        },
        "legend": {
         "tracegroupgap": 0
        },
        "margin": {
         "t": 60
        },
        "title": {
         "text": "Kumulative Summe von PostFinance"
        }
       },
       "config": {
        "plotlyServerURL": "https://plot.ly"
       }
      },
      "text/html": "<div>                            <div id=\"85d8abe7-b912-41a9-ad36-77138d39b7db\" class=\"plotly-graph-div\" style=\"height:525px; width:100%;\"></div>            <script type=\"text/javascript\">                require([\"plotly\"], function(Plotly) {                    window.PLOTLYENV=window.PLOTLYENV || {};                                    if (document.getElementById(\"85d8abe7-b912-41a9-ad36-77138d39b7db\")) {                    Plotly.newPlot(                        \"85d8abe7-b912-41a9-ad36-77138d39b7db\",                        [{\"hovertemplate\":\"Datum=%{x}\\u003cbr\\u003eCumulative Sum=%{y}\\u003cextra\\u003e\\u003c\\u002fextra\\u003e\",\"legendgroup\":\"\",\"line\":{\"color\":\"#636efa\",\"dash\":\"solid\"},\"marker\":{\"symbol\":\"circle\"},\"mode\":\"lines\",\"name\":\"\",\"showlegend\":false,\"x\":[\"2019-09-20T00:00:00\",\"2019-09-20T00:00:00\",\"2019-09-30T00:00:00\",\"2019-10-04T00:00:00\",\"2019-10-04T00:00:00\",\"2019-10-04T00:00:00\",\"2019-10-31T00:00:00\",\"2019-10-31T00:00:00\",\"2019-11-30T00:00:00\",\"2019-12-13T00:00:00\",\"2019-12-13T00:00:00\",\"2019-12-13T00:00:00\",\"2019-12-28T00:00:00\",\"2019-12-28T00:00:00\",\"2019-12-28T00:00:00\",\"2019-12-31T00:00:00\",\"2020-01-07T00:00:00\",\"2020-01-07T00:00:00\",\"2020-01-13T00:00:00\",\"2020-01-13T00:00:00\",\"2020-01-13T00:00:00\",\"2020-01-13T00:00:00\",\"2020-01-31T00:00:00\",\"2020-02-03T00:00:00\",\"2020-02-29T00:00:00\",\"2020-03-09T00:00:00\",\"2020-03-23T00:00:00\",\"2020-03-25T00:00:00\",\"2020-03-30T00:00:00\",\"2020-03-31T00:00:00\",\"2020-04-30T00:00:00\",\"2020-05-27T00:00:00\",\"2020-05-31T00:00:00\",\"2020-06-11T00:00:00\",\"2020-06-25T00:00:00\",\"2020-06-30T00:00:00\",\"2020-06-30T00:00:00\",\"2020-06-30T00:00:00\",\"2020-07-02T00:00:00\",\"2020-07-07T00:00:00\",\"2020-07-07T00:00:00\",\"2020-07-07T00:00:00\",\"2020-07-07T00:00:00\",\"2020-07-20T00:00:00\",\"2020-07-20T00:00:00\",\"2020-07-21T00:00:00\",\"2020-07-30T00:00:00\",\"2020-07-30T00:00:00\",\"2020-07-31T00:00:00\",\"2020-08-04T00:00:00\",\"2020-08-04T00:00:00\",\"2020-08-04T00:00:00\",\"2020-08-04T00:00:00\",\"2020-08-04T00:00:00\",\"2020-08-06T00:00:00\",\"2020-08-25T00:00:00\",\"2020-08-25T00:00:00\",\"2020-08-25T00:00:00\",\"2020-08-26T00:00:00\",\"2020-08-26T00:00:00\",\"2020-08-27T00:00:00\",\"2020-08-28T00:00:00\",\"2020-08-28T00:00:00\",\"2020-08-28T00:00:00\",\"2020-08-31T00:00:00\",\"2020-09-01T00:00:00\",\"2020-09-02T00:00:00\",\"2020-09-08T00:00:00\",\"2020-09-11T00:00:00\",\"2020-09-15T00:00:00\",\"2020-09-16T00:00:00\",\"2020-09-16T00:00:00\",\"2020-09-18T00:00:00\",\"2020-09-24T00:00:00\",\"2020-09-25T00:00:00\",\"2020-09-28T00:00:00\",\"2020-09-28T00:00:00\",\"2020-09-30T00:00:00\",\"2020-09-30T00:00:00\",\"2020-10-01T00:00:00\",\"2020-10-01T00:00:00\",\"2020-10-01T00:00:00\",\"2020-10-01T00:00:00\",\"2020-10-01T00:00:00\",\"2020-10-02T00:00:00\",\"2020-10-06T00:00:00\",\"2020-10-09T00:00:00\",\"2020-10-12T00:00:00\",\"2020-10-12T00:00:00\",\"2020-10-13T00:00:00\",\"2020-10-15T00:00:00\",\"2020-10-16T00:00:00\",\"2020-10-16T00:00:00\",\"2020-10-27T00:00:00\",\"2020-10-27T00:00:00\",\"2020-10-27T00:00:00\",\"2020-10-28T00:00:00\",\"2020-10-28T00:00:00\",\"2020-10-29T00:00:00\",\"2020-10-30T00:00:00\",\"2020-10-31T00:00:00\",\"2020-10-31T00:00:00\",\"2020-11-05T00:00:00\",\"2020-11-05T00:00:00\",\"2020-11-06T00:00:00\",\"2020-11-12T00:00:00\",\"2020-11-13T00:00:00\",\"2020-11-19T00:00:00\",\"2020-11-23T00:00:00\",\"2020-11-23T00:00:00\",\"2020-11-24T00:00:00\",\"2020-11-24T00:00:00\",\"2020-11-24T00:00:00\",\"2020-11-24T00:00:00\",\"2020-11-26T00:00:00\",\"2020-11-27T00:00:00\",\"2020-11-28T00:00:00\",\"2020-11-30T00:00:00\",\"2020-11-30T00:00:00\",\"2020-12-04T00:00:00\",\"2020-12-04T00:00:00\",\"2020-12-04T00:00:00\",\"2020-12-04T00:00:00\",\"2020-12-05T00:00:00\",\"2020-12-10T00:00:00\",\"2020-12-10T00:00:00\",\"2020-12-11T00:00:00\",\"2020-12-11T00:00:00\",\"2020-12-12T00:00:00\",\"2020-12-12T00:00:00\",\"2020-12-15T00:00:00\",\"2020-12-15T00:00:00\",\"2020-12-15T00:00:00\",\"2020-12-23T00:00:00\",\"2020-12-28T00:00:00\",\"2020-12-30T00:00:00\",\"2020-12-30T00:00:00\",\"2020-12-30T00:00:00\",\"2020-12-30T00:00:00\",\"2020-12-30T00:00:00\",\"2020-12-30T00:00:00\",\"2020-12-30T00:00:00\",\"2020-12-30T00:00:00\",\"2020-12-30T00:00:00\",\"2020-12-31T00:00:00\",\"2020-12-31T00:00:00\",\"2020-12-31T00:00:00\",\"2020-12-31T00:00:00\",\"2021-01-01T00:00:00\",\"2021-01-04T00:00:00\",\"2021-01-05T00:00:00\",\"2021-01-08T00:00:00\",\"2021-01-22T00:00:00\",\"2021-01-25T00:00:00\",\"2021-01-26T00:00:00\",\"2021-01-29T00:00:00\",\"2021-01-29T00:00:00\",\"2021-01-31T00:00:00\",\"2021-02-02T00:00:00\",\"2021-02-09T00:00:00\",\"2021-02-12T00:00:00\",\"2021-02-12T00:00:00\",\"2021-02-12T00:00:00\",\"2021-02-12T00:00:00\",\"2021-02-16T00:00:00\",\"2021-02-17T00:00:00\",\"2021-02-17T00:00:00\",\"2021-02-20T00:00:00\",\"2021-02-22T00:00:00\",\"2021-02-24T00:00:00\",\"2021-02-26T00:00:00\",\"2021-02-26T00:00:00\",\"2021-02-26T00:00:00\",\"2021-02-27T00:00:00\",\"2021-02-28T00:00:00\",\"2021-02-28T00:00:00\",\"2021-03-01T00:00:00\",\"2021-03-04T00:00:00\",\"2021-03-04T00:00:00\",\"2021-03-04T00:00:00\",\"2021-03-05T00:00:00\",\"2021-03-06T00:00:00\",\"2021-03-06T00:00:00\",\"2021-03-09T00:00:00\",\"2021-03-10T00:00:00\",\"2021-03-10T00:00:00\",\"2021-03-11T00:00:00\",\"2021-03-11T00:00:00\",\"2021-03-12T00:00:00\",\"2021-03-12T00:00:00\",\"2021-03-12T00:00:00\",\"2021-03-12T00:00:00\",\"2021-03-17T00:00:00\",\"2021-03-19T00:00:00\",\"2021-03-19T00:00:00\",\"2021-03-24T00:00:00\",\"2021-03-24T00:00:00\",\"2021-03-24T00:00:00\",\"2021-03-25T00:00:00\",\"2021-03-26T00:00:00\",\"2021-03-26T00:00:00\",\"2021-03-30T00:00:00\",\"2021-03-31T00:00:00\",\"2021-03-31T00:00:00\",\"2021-04-07T00:00:00\",\"2021-04-08T00:00:00\",\"2021-04-08T00:00:00\",\"2021-04-08T00:00:00\",\"2021-04-08T00:00:00\",\"2021-04-08T00:00:00\",\"2021-04-08T00:00:00\",\"2021-04-13T00:00:00\",\"2021-04-13T00:00:00\",\"2021-04-14T00:00:00\",\"2021-04-15T00:00:00\",\"2021-04-19T00:00:00\",\"2021-04-21T00:00:00\",\"2021-04-21T00:00:00\",\"2021-04-22T00:00:00\",\"2021-04-22T00:00:00\",\"2021-04-22T00:00:00\",\"2021-04-26T00:00:00\",\"2021-04-27T00:00:00\",\"2021-04-27T00:00:00\",\"2021-04-28T00:00:00\",\"2021-04-28T00:00:00\",\"2021-04-28T00:00:00\",\"2021-04-28T00:00:00\",\"2021-04-30T00:00:00\",\"2021-04-30T00:00:00\",\"2021-04-30T00:00:00\",\"2021-04-30T00:00:00\",\"2021-04-30T00:00:00\",\"2021-04-30T00:00:00\",\"2021-05-03T00:00:00\",\"2021-05-04T00:00:00\",\"2021-05-04T00:00:00\",\"2021-05-04T00:00:00\",\"2021-05-04T00:00:00\",\"2021-05-04T00:00:00\",\"2021-05-06T00:00:00\",\"2021-05-06T00:00:00\",\"2021-05-11T00:00:00\",\"2021-05-12T00:00:00\",\"2021-05-14T00:00:00\",\"2021-05-14T00:00:00\",\"2021-05-14T00:00:00\",\"2021-05-14T00:00:00\",\"2021-05-14T00:00:00\",\"2021-05-14T00:00:00\",\"2021-05-14T00:00:00\",\"2021-05-14T00:00:00\",\"2021-05-14T00:00:00\",\"2021-05-20T00:00:00\",\"2021-05-25T00:00:00\",\"2021-05-25T00:00:00\",\"2021-05-25T00:00:00\",\"2021-05-25T00:00:00\",\"2021-05-25T00:00:00\",\"2021-05-26T00:00:00\",\"2021-05-27T00:00:00\",\"2021-05-28T00:00:00\",\"2021-05-28T00:00:00\",\"2021-05-28T00:00:00\",\"2021-05-31T00:00:00\",\"2021-05-31T00:00:00\",\"2021-05-31T00:00:00\",\"2021-05-31T00:00:00\",\"2021-06-01T00:00:00\",\"2021-06-01T00:00:00\",\"2021-06-02T00:00:00\",\"2021-06-02T00:00:00\",\"2021-06-05T00:00:00\",\"2021-06-08T00:00:00\",\"2021-06-08T00:00:00\",\"2021-06-09T00:00:00\",\"2021-06-09T00:00:00\",\"2021-06-09T00:00:00\",\"2021-06-09T00:00:00\",\"2021-06-09T00:00:00\",\"2021-06-09T00:00:00\",\"2021-06-09T00:00:00\",\"2021-06-10T00:00:00\",\"2021-06-10T00:00:00\",\"2021-06-10T00:00:00\",\"2021-06-17T00:00:00\",\"2021-06-18T00:00:00\",\"2021-06-24T00:00:00\",\"2021-06-24T00:00:00\",\"2021-06-28T00:00:00\",\"2021-06-28T00:00:00\",\"2021-06-28T00:00:00\",\"2021-06-30T00:00:00\",\"2021-06-30T00:00:00\",\"2021-06-30T00:00:00\",\"2021-06-30T00:00:00\",\"2021-06-30T00:00:00\",\"2021-06-30T00:00:00\",\"2021-07-01T00:00:00\",\"2021-07-01T00:00:00\",\"2021-07-02T00:00:00\",\"2021-07-03T00:00:00\",\"2021-07-07T00:00:00\",\"2021-07-07T00:00:00\",\"2021-07-07T00:00:00\",\"2021-07-07T00:00:00\",\"2021-07-09T00:00:00\",\"2021-07-10T00:00:00\",\"2021-07-13T00:00:00\",\"2021-07-15T00:00:00\",\"2021-07-16T00:00:00\",\"2021-07-19T00:00:00\",\"2021-07-19T00:00:00\",\"2021-07-19T00:00:00\",\"2021-07-19T00:00:00\",\"2021-07-19T00:00:00\",\"2021-07-19T00:00:00\",\"2021-07-20T00:00:00\",\"2021-07-20T00:00:00\",\"2021-07-23T00:00:00\",\"2021-07-28T00:00:00\",\"2021-07-28T00:00:00\",\"2021-07-28T00:00:00\",\"2021-07-30T00:00:00\",\"2021-07-30T00:00:00\",\"2021-07-31T00:00:00\",\"2021-07-31T00:00:00\",\"2021-08-02T00:00:00\",\"2021-08-02T00:00:00\",\"2021-08-02T00:00:00\",\"2021-08-02T00:00:00\",\"2021-08-03T00:00:00\",\"2021-08-03T00:00:00\",\"2021-08-10T00:00:00\",\"2021-08-13T00:00:00\",\"2021-08-16T00:00:00\",\"2021-08-16T00:00:00\",\"2021-08-24T00:00:00\",\"2021-08-24T00:00:00\",\"2021-08-24T00:00:00\",\"2021-08-24T00:00:00\",\"2021-08-24T00:00:00\",\"2021-08-25T00:00:00\",\"2021-08-27T00:00:00\",\"2021-08-27T00:00:00\",\"2021-08-27T00:00:00\",\"2021-08-27T00:00:00\",\"2021-08-30T00:00:00\",\"2021-08-31T00:00:00\",\"2021-08-31T00:00:00\",\"2021-08-31T00:00:00\",\"2021-08-31T00:00:00\",\"2021-09-02T00:00:00\",\"2021-09-06T00:00:00\",\"2021-09-06T00:00:00\",\"2021-09-08T00:00:00\",\"2021-09-12T00:00:00\",\"2021-09-14T00:00:00\",\"2021-09-14T00:00:00\",\"2021-09-14T00:00:00\",\"2021-09-14T00:00:00\",\"2021-09-14T00:00:00\",\"2021-09-15T00:00:00\",\"2021-09-15T00:00:00\",\"2021-09-17T00:00:00\",\"2021-09-24T00:00:00\",\"2021-09-28T00:00:00\",\"2021-09-28T00:00:00\",\"2021-09-30T00:00:00\",\"2021-09-30T00:00:00\",\"2021-10-01T00:00:00\",\"2021-10-01T00:00:00\",\"2021-10-06T00:00:00\",\"2021-10-06T00:00:00\",\"2021-10-11T00:00:00\",\"2021-10-11T00:00:00\",\"2021-10-11T00:00:00\",\"2021-10-11T00:00:00\",\"2021-10-13T00:00:00\",\"2021-10-24T00:00:00\",\"2021-10-25T00:00:00\",\"2021-10-25T00:00:00\",\"2021-10-26T00:00:00\",\"2021-10-27T00:00:00\",\"2021-10-28T00:00:00\",\"2021-10-28T00:00:00\",\"2021-10-29T00:00:00\",\"2021-10-29T00:00:00\",\"2021-10-29T00:00:00\",\"2021-10-29T00:00:00\",\"2021-10-29T00:00:00\",\"2021-10-29T00:00:00\",\"2021-10-31T00:00:00\",\"2021-11-01T00:00:00\",\"2021-11-01T00:00:00\",\"2021-11-01T00:00:00\",\"2021-11-01T00:00:00\",\"2021-11-01T00:00:00\",\"2021-11-01T00:00:00\",\"2021-11-02T00:00:00\",\"2021-11-02T00:00:00\",\"2021-11-03T00:00:00\",\"2021-11-03T00:00:00\",\"2021-11-04T00:00:00\",\"2021-11-07T00:00:00\",\"2021-11-07T00:00:00\",\"2021-11-07T00:00:00\",\"2021-11-08T00:00:00\",\"2021-11-09T00:00:00\",\"2021-11-10T00:00:00\",\"2021-11-10T00:00:00\",\"2021-11-10T00:00:00\",\"2021-11-12T00:00:00\",\"2021-11-12T00:00:00\",\"2021-11-15T00:00:00\",\"2021-11-15T00:00:00\",\"2021-11-15T00:00:00\",\"2021-11-15T00:00:00\",\"2021-11-15T00:00:00\",\"2021-11-15T00:00:00\",\"2021-11-15T00:00:00\",\"2021-11-15T00:00:00\",\"2021-11-16T00:00:00\",\"2021-11-16T00:00:00\",\"2021-11-19T00:00:00\",\"2021-11-20T00:00:00\",\"2021-11-22T00:00:00\",\"2021-11-23T00:00:00\",\"2021-11-23T00:00:00\",\"2021-11-23T00:00:00\",\"2021-11-23T00:00:00\",\"2021-11-25T00:00:00\",\"2021-11-26T00:00:00\",\"2021-11-26T00:00:00\",\"2021-11-30T00:00:00\",\"2021-11-30T00:00:00\",\"2021-11-30T00:00:00\",\"2021-11-30T00:00:00\",\"2021-11-30T00:00:00\",\"2021-12-01T00:00:00\",\"2021-12-01T00:00:00\",\"2021-12-01T00:00:00\",\"2021-12-01T00:00:00\",\"2021-12-01T00:00:00\",\"2021-12-01T00:00:00\",\"2021-12-01T00:00:00\",\"2021-12-01T00:00:00\",\"2021-12-01T00:00:00\",\"2021-12-01T00:00:00\",\"2021-12-01T00:00:00\",\"2021-12-03T00:00:00\",\"2021-12-04T00:00:00\",\"2021-12-06T00:00:00\",\"2021-12-06T00:00:00\",\"2021-12-07T00:00:00\",\"2021-12-08T00:00:00\",\"2021-12-08T00:00:00\",\"2021-12-08T00:00:00\",\"2021-12-09T00:00:00\",\"2021-12-09T00:00:00\",\"2021-12-09T00:00:00\",\"2021-12-09T00:00:00\",\"2021-12-09T00:00:00\",\"2021-12-09T00:00:00\",\"2021-12-09T00:00:00\",\"2021-12-09T00:00:00\",\"2021-12-09T00:00:00\",\"2021-12-09T00:00:00\",\"2021-12-09T00:00:00\",\"2021-12-11T00:00:00\",\"2021-12-13T00:00:00\",\"2021-12-13T00:00:00\",\"2021-12-14T00:00:00\",\"2021-12-16T00:00:00\",\"2021-12-17T00:00:00\",\"2021-12-21T00:00:00\",\"2021-12-21T00:00:00\",\"2021-12-22T00:00:00\",\"2021-12-22T00:00:00\",\"2021-12-23T00:00:00\",\"2021-12-23T00:00:00\",\"2021-12-23T00:00:00\",\"2021-12-24T00:00:00\",\"2021-12-27T00:00:00\",\"2021-12-28T00:00:00\",\"2021-12-28T00:00:00\",\"2021-12-28T00:00:00\",\"2021-12-30T00:00:00\",\"2021-12-30T00:00:00\",\"2021-12-30T00:00:00\",\"2021-12-31T00:00:00\",\"2021-12-31T00:00:00\",\"2021-12-31T00:00:00\",\"2021-12-31T00:00:00\",\"2022-01-01T00:00:00\",\"2022-01-05T00:00:00\",\"2022-01-10T00:00:00\",\"2022-01-11T00:00:00\",\"2022-01-11T00:00:00\",\"2022-01-11T00:00:00\",\"2022-01-13T00:00:00\",\"2022-01-13T00:00:00\",\"2022-01-13T00:00:00\",\"2022-01-13T00:00:00\",\"2022-01-14T00:00:00\",\"2022-01-14T00:00:00\",\"2022-01-14T00:00:00\",\"2022-01-17T00:00:00\",\"2022-01-17T00:00:00\",\"2022-01-17T00:00:00\",\"2022-01-17T00:00:00\",\"2022-01-17T00:00:00\",\"2022-01-20T00:00:00\",\"2022-01-21T00:00:00\",\"2022-01-24T00:00:00\",\"2022-01-24T00:00:00\",\"2022-01-25T00:00:00\",\"2022-01-28T00:00:00\",\"2022-01-28T00:00:00\",\"2022-01-28T00:00:00\",\"2022-01-28T00:00:00\",\"2022-01-28T00:00:00\",\"2022-01-28T00:00:00\",\"2022-01-28T00:00:00\",\"2022-01-31T00:00:00\",\"2022-01-31T00:00:00\",\"2022-01-31T00:00:00\",\"2022-02-01T00:00:00\",\"2022-02-01T00:00:00\",\"2022-02-01T00:00:00\",\"2022-02-03T00:00:00\",\"2022-02-05T00:00:00\",\"2022-02-05T00:00:00\",\"2022-02-08T00:00:00\",\"2022-02-08T00:00:00\",\"2022-02-15T00:00:00\",\"2022-02-15T00:00:00\",\"2022-02-15T00:00:00\",\"2022-02-15T00:00:00\",\"2022-02-15T00:00:00\",\"2022-02-16T00:00:00\",\"2022-02-16T00:00:00\",\"2022-02-16T00:00:00\",\"2022-02-16T00:00:00\",\"2022-02-16T00:00:00\",\"2022-02-17T00:00:00\",\"2022-02-22T00:00:00\",\"2022-02-23T00:00:00\",\"2022-02-23T00:00:00\",\"2022-02-23T00:00:00\",\"2022-02-23T00:00:00\",\"2022-02-23T00:00:00\",\"2022-02-23T00:00:00\",\"2022-02-24T00:00:00\",\"2022-02-28T00:00:00\",\"2022-02-28T00:00:00\",\"2022-02-28T00:00:00\",\"2022-02-28T00:00:00\",\"2022-02-28T00:00:00\",\"2022-02-28T00:00:00\",\"2022-02-28T00:00:00\",\"2022-02-28T00:00:00\",\"2022-02-28T00:00:00\",\"2022-02-28T00:00:00\",\"2022-02-28T00:00:00\",\"2022-03-01T00:00:00\",\"2022-03-01T00:00:00\",\"2022-03-01T00:00:00\",\"2022-03-02T00:00:00\",\"2022-03-03T00:00:00\",\"2022-03-03T00:00:00\",\"2022-03-03T00:00:00\",\"2022-03-07T00:00:00\",\"2022-03-08T00:00:00\",\"2022-03-08T00:00:00\",\"2022-03-15T00:00:00\",\"2022-03-18T00:00:00\",\"2022-03-18T00:00:00\",\"2022-03-18T00:00:00\",\"2022-03-18T00:00:00\",\"2022-03-21T00:00:00\",\"2022-03-21T00:00:00\",\"2022-03-22T00:00:00\",\"2022-03-23T00:00:00\",\"2022-03-24T00:00:00\",\"2022-03-25T00:00:00\",\"2022-03-28T00:00:00\",\"2022-03-28T00:00:00\",\"2022-03-28T00:00:00\",\"2022-03-28T00:00:00\",\"2022-03-28T00:00:00\",\"2022-03-28T00:00:00\",\"2022-03-29T00:00:00\",\"2022-03-29T00:00:00\",\"2022-03-29T00:00:00\",\"2022-03-31T00:00:00\",\"2022-03-31T00:00:00\",\"2022-03-31T00:00:00\",\"2022-03-31T00:00:00\",\"2022-03-31T00:00:00\",\"2022-04-01T00:00:00\",\"2022-04-01T00:00:00\",\"2022-04-01T00:00:00\",\"2022-04-01T00:00:00\",\"2022-04-01T00:00:00\",\"2022-04-01T00:00:00\",\"2022-04-04T00:00:00\",\"2022-04-04T00:00:00\",\"2022-04-04T00:00:00\",\"2022-04-04T00:00:00\",\"2022-04-04T00:00:00\",\"2022-04-05T00:00:00\",\"2022-04-08T00:00:00\",\"2022-04-13T00:00:00\",\"2022-04-19T00:00:00\",\"2022-04-19T00:00:00\",\"2022-04-21T00:00:00\",\"2022-04-21T00:00:00\",\"2022-04-21T00:00:00\",\"2022-04-25T00:00:00\",\"2022-04-25T00:00:00\",\"2022-04-25T00:00:00\",\"2022-04-25T00:00:00\",\"2022-04-25T00:00:00\",\"2022-04-25T00:00:00\",\"2022-04-25T00:00:00\",\"2022-04-25T00:00:00\",\"2022-04-25T00:00:00\",\"2022-04-25T00:00:00\",\"2022-04-28T00:00:00\",\"2022-04-28T00:00:00\",\"2022-04-29T00:00:00\",\"2022-04-29T00:00:00\",\"2022-04-29T00:00:00\",\"2022-04-29T00:00:00\",\"2022-04-29T00:00:00\",\"2022-04-29T00:00:00\",\"2022-04-29T00:00:00\",\"2022-04-29T00:00:00\",\"2022-04-30T00:00:00\",\"2022-04-30T00:00:00\",\"2022-05-03T00:00:00\",\"2022-05-03T00:00:00\",\"2022-05-05T00:00:00\",\"2022-05-07T00:00:00\",\"2022-05-07T00:00:00\",\"2022-05-10T00:00:00\",\"2022-05-11T00:00:00\",\"2022-05-13T00:00:00\",\"2022-05-13T00:00:00\",\"2022-05-13T00:00:00\",\"2022-05-13T00:00:00\",\"2022-05-13T00:00:00\",\"2022-05-13T00:00:00\",\"2022-05-16T00:00:00\",\"2022-05-16T00:00:00\",\"2022-05-18T00:00:00\",\"2022-05-19T00:00:00\",\"2022-05-19T00:00:00\",\"2022-05-19T00:00:00\",\"2022-05-19T00:00:00\",\"2022-05-19T00:00:00\",\"2022-05-19T00:00:00\",\"2022-05-19T00:00:00\",\"2022-05-24T00:00:00\",\"2022-05-24T00:00:00\",\"2022-05-25T00:00:00\",\"2022-05-27T00:00:00\",\"2022-05-27T00:00:00\",\"2022-05-27T00:00:00\",\"2022-05-27T00:00:00\",\"2022-05-27T00:00:00\",\"2022-05-30T00:00:00\",\"2022-05-30T00:00:00\",\"2022-05-30T00:00:00\",\"2022-05-31T00:00:00\",\"2022-05-31T00:00:00\",\"2022-05-31T00:00:00\",\"2022-05-31T00:00:00\",\"2022-05-31T00:00:00\",\"2022-05-31T00:00:00\",\"2022-05-31T00:00:00\",\"2022-05-31T00:00:00\",\"2022-06-01T00:00:00\",\"2022-06-01T00:00:00\",\"2022-06-01T00:00:00\",\"2022-06-01T00:00:00\",\"2022-06-01T00:00:00\",\"2022-06-01T00:00:00\",\"2022-06-01T00:00:00\",\"2022-06-02T00:00:00\",\"2022-06-02T00:00:00\",\"2022-06-02T00:00:00\",\"2022-06-02T00:00:00\",\"2022-06-08T00:00:00\",\"2022-06-08T00:00:00\",\"2022-06-09T00:00:00\",\"2022-06-10T00:00:00\",\"2022-06-10T00:00:00\",\"2022-06-10T00:00:00\",\"2022-06-20T00:00:00\",\"2022-06-21T00:00:00\",\"2022-06-22T00:00:00\",\"2022-06-27T00:00:00\",\"2022-06-27T00:00:00\",\"2022-06-27T00:00:00\",\"2022-06-27T00:00:00\",\"2022-06-27T00:00:00\",\"2022-06-28T00:00:00\",\"2022-06-28T00:00:00\",\"2022-06-28T00:00:00\",\"2022-06-28T00:00:00\",\"2022-06-29T00:00:00\",\"2022-06-29T00:00:00\",\"2022-06-30T00:00:00\",\"2022-06-30T00:00:00\",\"2022-06-30T00:00:00\",\"2022-06-30T00:00:00\",\"2022-06-30T00:00:00\",\"2022-07-01T00:00:00\",\"2022-07-01T00:00:00\",\"2022-07-04T00:00:00\",\"2022-07-04T00:00:00\",\"2022-07-04T00:00:00\",\"2022-07-04T00:00:00\",\"2022-07-04T00:00:00\",\"2022-07-05T00:00:00\",\"2022-07-08T00:00:00\",\"2022-07-08T00:00:00\",\"2022-07-08T00:00:00\",\"2022-07-08T00:00:00\",\"2022-07-08T00:00:00\",\"2022-07-08T00:00:00\",\"2022-07-08T00:00:00\",\"2022-07-11T00:00:00\",\"2022-07-13T00:00:00\",\"2022-07-13T00:00:00\",\"2022-07-13T00:00:00\",\"2022-07-13T00:00:00\",\"2022-07-15T00:00:00\",\"2022-07-15T00:00:00\",\"2022-07-15T00:00:00\",\"2022-07-21T00:00:00\",\"2022-07-25T00:00:00\",\"2022-07-27T00:00:00\",\"2022-07-27T00:00:00\",\"2022-07-27T00:00:00\",\"2022-07-27T00:00:00\",\"2022-07-27T00:00:00\",\"2022-07-27T00:00:00\",\"2022-07-28T00:00:00\",\"2022-07-28T00:00:00\",\"2022-07-28T00:00:00\",\"2022-07-29T00:00:00\",\"2022-07-29T00:00:00\",\"2022-07-29T00:00:00\",\"2022-07-29T00:00:00\",\"2022-07-31T00:00:00\",\"2022-07-31T00:00:00\",\"2022-08-02T00:00:00\",\"2022-08-04T00:00:00\",\"2022-08-05T00:00:00\",\"2022-08-05T00:00:00\",\"2022-08-10T00:00:00\",\"2022-08-11T00:00:00\",\"2022-08-11T00:00:00\",\"2022-08-11T00:00:00\",\"2022-08-12T00:00:00\",\"2022-08-12T00:00:00\",\"2022-08-15T00:00:00\",\"2022-08-15T00:00:00\",\"2022-08-15T00:00:00\",\"2022-08-16T00:00:00\",\"2022-08-16T00:00:00\",\"2022-08-16T00:00:00\",\"2022-08-17T00:00:00\",\"2022-08-18T00:00:00\",\"2022-08-18T00:00:00\",\"2022-08-18T00:00:00\",\"2022-08-18T00:00:00\",\"2022-08-18T00:00:00\",\"2022-08-22T00:00:00\",\"2022-08-22T00:00:00\",\"2022-08-22T00:00:00\",\"2022-08-22T00:00:00\",\"2022-08-22T00:00:00\",\"2022-08-23T00:00:00\",\"2022-08-26T00:00:00\",\"2022-08-26T00:00:00\",\"2022-08-30T00:00:00\",\"2022-08-30T00:00:00\",\"2022-08-30T00:00:00\",\"2022-08-30T00:00:00\",\"2022-08-30T00:00:00\",\"2022-08-30T00:00:00\",\"2022-08-31T00:00:00\",\"2022-08-31T00:00:00\",\"2022-08-31T00:00:00\",\"2022-08-31T00:00:00\",\"2022-08-31T00:00:00\",\"2022-08-31T00:00:00\",\"2022-09-01T00:00:00\",\"2022-09-01T00:00:00\",\"2022-09-01T00:00:00\",\"2022-09-02T00:00:00\",\"2022-09-03T00:00:00\",\"2022-09-03T00:00:00\",\"2022-09-05T00:00:00\",\"2022-09-08T00:00:00\",\"2022-09-08T00:00:00\",\"2022-09-09T00:00:00\",\"2022-09-10T00:00:00\",\"2022-09-10T00:00:00\",\"2022-09-11T00:00:00\",\"2022-09-11T00:00:00\",\"2022-09-12T00:00:00\",\"2022-09-16T00:00:00\",\"2022-09-16T00:00:00\",\"2022-09-19T00:00:00\",\"2022-09-20T00:00:00\",\"2022-09-20T00:00:00\",\"2022-09-21T00:00:00\",\"2022-09-21T00:00:00\",\"2022-09-21T00:00:00\",\"2022-09-22T00:00:00\",\"2022-09-22T00:00:00\",\"2022-09-22T00:00:00\",\"2022-09-23T00:00:00\",\"2022-09-23T00:00:00\",\"2022-09-23T00:00:00\",\"2022-09-26T00:00:00\",\"2022-09-26T00:00:00\",\"2022-09-28T00:00:00\",\"2022-09-28T00:00:00\",\"2022-09-28T00:00:00\",\"2022-09-28T00:00:00\",\"2022-09-28T00:00:00\",\"2022-09-29T00:00:00\",\"2022-09-30T00:00:00\",\"2022-09-30T00:00:00\",\"2022-09-30T00:00:00\",\"2022-09-30T00:00:00\",\"2022-09-30T00:00:00\",\"2022-09-30T00:00:00\",\"2022-09-30T00:00:00\",\"2022-09-30T00:00:00\",\"2022-09-30T00:00:00\",\"2022-09-30T00:00:00\",\"2022-09-30T00:00:00\",\"2022-09-30T00:00:00\",\"2022-09-30T00:00:00\",\"2022-10-03T00:00:00\",\"2022-10-05T00:00:00\",\"2022-10-05T00:00:00\",\"2022-10-05T00:00:00\",\"2022-10-07T00:00:00\",\"2022-10-10T00:00:00\",\"2022-10-10T00:00:00\",\"2022-10-10T00:00:00\",\"2022-10-10T00:00:00\",\"2022-10-11T00:00:00\",\"2022-10-12T00:00:00\",\"2022-10-13T00:00:00\",\"2022-10-13T00:00:00\",\"2022-10-18T00:00:00\",\"2022-10-18T00:00:00\",\"2022-10-18T00:00:00\",\"2022-10-19T00:00:00\",\"2022-10-20T00:00:00\",\"2022-10-24T00:00:00\",\"2022-10-24T00:00:00\",\"2022-10-26T00:00:00\",\"2022-10-27T00:00:00\",\"2022-10-27T00:00:00\",\"2022-10-28T00:00:00\",\"2022-10-28T00:00:00\",\"2022-10-31T00:00:00\",\"2022-10-31T00:00:00\",\"2022-10-31T00:00:00\",\"2022-10-31T00:00:00\",\"2022-10-31T00:00:00\",\"2022-10-31T00:00:00\",\"2022-10-31T00:00:00\",\"2022-10-31T00:00:00\",\"2022-10-31T00:00:00\",\"2022-10-31T00:00:00\",\"2022-10-31T00:00:00\",\"2022-10-31T00:00:00\",\"2022-11-01T00:00:00\",\"2022-11-01T00:00:00\",\"2022-11-02T00:00:00\",\"2022-11-02T00:00:00\",\"2022-11-04T00:00:00\",\"2022-11-04T00:00:00\",\"2022-11-07T00:00:00\",\"2022-11-08T00:00:00\",\"2022-11-09T00:00:00\",\"2022-11-10T00:00:00\",\"2022-11-12T00:00:00\",\"2022-11-12T00:00:00\",\"2022-11-15T00:00:00\",\"2022-11-18T00:00:00\",\"2022-11-22T00:00:00\",\"2022-11-28T00:00:00\",\"2022-11-29T00:00:00\",\"2022-11-29T00:00:00\",\"2022-11-29T00:00:00\",\"2022-11-29T00:00:00\",\"2022-11-30T00:00:00\",\"2022-11-30T00:00:00\",\"2022-11-30T00:00:00\",\"2022-11-30T00:00:00\",\"2022-11-30T00:00:00\",\"2022-11-30T00:00:00\",\"2022-11-30T00:00:00\",\"2022-12-01T00:00:00\",\"2022-12-01T00:00:00\",\"2022-12-02T00:00:00\",\"2022-12-02T00:00:00\",\"2022-12-02T00:00:00\",\"2022-12-05T00:00:00\",\"2022-12-05T00:00:00\",\"2022-12-06T00:00:00\",\"2022-12-08T00:00:00\",\"2022-12-08T00:00:00\",\"2022-12-09T00:00:00\",\"2022-12-12T00:00:00\",\"2022-12-12T00:00:00\",\"2022-12-14T00:00:00\",\"2022-12-14T00:00:00\",\"2022-12-16T00:00:00\",\"2022-12-16T00:00:00\",\"2022-12-19T00:00:00\",\"2022-12-21T00:00:00\",\"2022-12-28T00:00:00\",\"2022-12-28T00:00:00\",\"2022-12-28T00:00:00\",\"2022-12-28T00:00:00\",\"2022-12-28T00:00:00\",\"2022-12-29T00:00:00\",\"2022-12-29T00:00:00\",\"2022-12-29T00:00:00\",\"2022-12-29T00:00:00\",\"2022-12-29T00:00:00\",\"2022-12-30T00:00:00\",\"2022-12-30T00:00:00\",\"2022-12-30T00:00:00\",\"2022-12-30T00:00:00\",\"2022-12-30T00:00:00\",\"2022-12-30T00:00:00\",\"2022-12-30T00:00:00\",\"2022-12-30T00:00:00\",\"2022-12-30T00:00:00\",\"2022-12-31T00:00:00\",\"2022-12-31T00:00:00\",\"2023-01-03T00:00:00\",\"2023-01-06T00:00:00\",\"2023-01-06T00:00:00\",\"2023-01-09T00:00:00\",\"2023-01-09T00:00:00\",\"2023-01-09T00:00:00\",\"2023-01-10T00:00:00\",\"2023-01-26T00:00:00\",\"2023-01-27T00:00:00\",\"2023-01-27T00:00:00\",\"2023-01-27T00:00:00\",\"2023-01-30T00:00:00\",\"2023-01-30T00:00:00\",\"2023-01-31T00:00:00\",\"2023-01-31T00:00:00\",\"2023-01-31T00:00:00\",\"2023-01-31T00:00:00\",\"2023-02-01T00:00:00\",\"2023-02-01T00:00:00\",\"2023-02-03T00:00:00\",\"2023-02-06T00:00:00\",\"2023-02-06T00:00:00\",\"2023-02-06T00:00:00\",\"2023-02-06T00:00:00\",\"2023-02-07T00:00:00\",\"2023-02-07T00:00:00\",\"2023-02-07T00:00:00\",\"2023-02-07T00:00:00\",\"2023-02-10T00:00:00\",\"2023-02-15T00:00:00\",\"2023-02-17T00:00:00\",\"2023-02-20T00:00:00\",\"2023-02-22T00:00:00\",\"2023-02-22T00:00:00\",\"2023-02-22T00:00:00\",\"2023-02-24T00:00:00\",\"2023-02-24T00:00:00\",\"2023-02-27T00:00:00\",\"2023-02-27T00:00:00\",\"2023-02-28T00:00:00\",\"2023-02-28T00:00:00\",\"2023-02-28T00:00:00\",\"2023-02-28T00:00:00\",\"2023-02-28T00:00:00\",\"2023-02-28T00:00:00\",\"2023-02-28T00:00:00\",\"2023-02-28T00:00:00\",\"2023-02-28T00:00:00\",\"2023-03-03T00:00:00\",\"2023-03-03T00:00:00\",\"2023-03-06T00:00:00\",\"2023-03-14T00:00:00\",\"2023-03-15T00:00:00\",\"2023-03-15T00:00:00\",\"2023-03-16T00:00:00\",\"2023-03-16T00:00:00\",\"2023-03-16T00:00:00\",\"2023-03-20T00:00:00\",\"2023-03-20T00:00:00\",\"2023-03-20T00:00:00\",\"2023-03-20T00:00:00\",\"2023-03-23T00:00:00\",\"2023-03-23T00:00:00\",\"2023-03-24T00:00:00\",\"2023-03-27T00:00:00\",\"2023-03-28T00:00:00\",\"2023-03-28T00:00:00\",\"2023-03-28T00:00:00\",\"2023-03-30T00:00:00\",\"2023-03-30T00:00:00\",\"2023-03-31T00:00:00\",\"2023-03-31T00:00:00\",\"2023-03-31T00:00:00\",\"2023-04-03T00:00:00\",\"2023-04-03T00:00:00\",\"2023-04-06T00:00:00\",\"2023-04-06T00:00:00\",\"2023-04-06T00:00:00\",\"2023-04-06T00:00:00\",\"2023-04-06T00:00:00\",\"2023-04-06T00:00:00\",\"2023-04-11T00:00:00\",\"2023-04-11T00:00:00\",\"2023-04-11T00:00:00\",\"2023-04-11T00:00:00\",\"2023-04-12T00:00:00\",\"2023-04-21T00:00:00\",\"2023-04-21T00:00:00\",\"2023-04-25T00:00:00\",\"2023-04-25T00:00:00\",\"2023-04-25T00:00:00\",\"2023-04-25T00:00:00\",\"2023-04-26T00:00:00\",\"2023-04-27T00:00:00\",\"2023-04-28T00:00:00\",\"2023-04-28T00:00:00\",\"2023-04-28T00:00:00\",\"2023-04-28T00:00:00\",\"2023-04-30T00:00:00\",\"2023-04-30T00:00:00\",\"2023-05-01T00:00:00\",\"2023-05-02T00:00:00\",\"2023-05-03T00:00:00\",\"2023-05-05T00:00:00\",\"2023-05-05T00:00:00\",\"2023-05-08T00:00:00\",\"2023-05-08T00:00:00\",\"2023-05-08T00:00:00\",\"2023-05-11T00:00:00\",\"2023-05-17T00:00:00\",\"2023-05-17T00:00:00\",\"2023-05-19T00:00:00\",\"2023-05-19T00:00:00\",\"2023-05-19T00:00:00\",\"2023-05-19T00:00:00\",\"2023-05-22T00:00:00\",\"2023-05-25T00:00:00\",\"2023-05-26T00:00:00\",\"2023-05-26T00:00:00\",\"2023-05-26T00:00:00\",\"2023-05-30T00:00:00\",\"2023-05-31T00:00:00\",\"2023-05-31T00:00:00\",\"2023-05-31T00:00:00\",\"2023-05-31T00:00:00\",\"2023-06-05T00:00:00\",\"2023-06-05T00:00:00\",\"2023-06-05T00:00:00\",\"2023-06-05T00:00:00\",\"2023-06-08T00:00:00\",\"2023-06-09T00:00:00\",\"2023-06-09T00:00:00\",\"2023-06-09T00:00:00\",\"2023-06-09T00:00:00\",\"2023-06-15T00:00:00\",\"2023-06-20T00:00:00\",\"2023-06-20T00:00:00\"],\"xaxis\":\"x\",\"y\":[20100.0,19955.0,19950.0,19879.77,19809.54,19739.3,19709.3,19704.3,19699.3,19249.3,19029.3,18286.149999999998,18230.149999999998,18130.149999999998,18060.149999999998,18055.149999999998,18015.089999999997,17988.159999999996,17865.609999999997,13988.409999999996,13957.709999999995,13872.709999999995,13867.709999999995,11867.709999999995,11862.709999999995,11196.109999999995,11170.109999999995,15470.109999999995,15801.209999999995,15796.209999999995,15791.209999999995,15671.409999999996,15666.409999999996,1665.4099999999962,1265.4099999999962,863.8099999999962,1456.1599999999962,1451.1599999999962,2251.159999999996,1972.1599999999962,1822.1599999999962,1746.3599999999963,1692.7599999999964,192.75999999999635,130.40999999999636,930.4099999999963,1231.9599999999964,1824.3099999999963,1819.3099999999963,1669.3099999999963,1598.5099999999964,1684.7099999999964,1706.1099999999965,1826.4099999999964,2626.409999999996,3681.859999999996,4481.859999999996,5581.859999999996,5411.859999999996,5299.309999999996,1499.3099999999959,1391.8599999999958,5322.909999999996,5192.909999999996,5187.909999999996,4887.909999999996,4805.909999999996,5605.909999999996,6077.099999999996,7127.099999999996,7088.099999999996,7022.099999999996,7822.099999999996,3322.099999999996,3298.2999999999956,3467.9499999999957,2867.9499999999957,2862.9499999999957,2732.9499999999957,2593.0499999999956,2527.8999999999955,2377.4499999999957,1650.4499999999957,1510.4499999999957,1370.4499999999957,1085.0699999999956,1385.0699999999956,1950.4699999999957,2968.2199999999957,4068.2199999999957,4313.219999999996,4859.769999999996,4758.519999999996,4444.219999999996,944.2199999999957,2872.0699999999956,2722.0699999999956,1722.0699999999956,1705.4699999999957,1575.4699999999957,1545.4699999999957,1540.4699999999957,3312.119999999996,3934.069999999996,4989.529999999996,4982.529999999996,4752.529999999996,4922.179999999996,4712.829999999995,8051.279999999995,9075.979999999996,9875.979999999996,11628.779999999995,13325.079999999994,8825.079999999994,8761.479999999994,8516.279999999993,8386.279999999993,8381.279999999993,8550.929999999993,10673.079999999993,11521.229999999992,13104.429999999993,13096.329999999993,13086.279999999993,12296.529999999993,12201.529999999993,12061.029999999993,12043.479999999994,12028.079999999994,11284.929999999995,9836.269999999995,8074.9999999999945,3574.9999999999945,3298.9999999999945,3168.9999999999945,4356.399999999994,6335.399999999994,6391.949999999994,7371.9999999999945,12412.349999999995,11819.049999999996,11913.299999999996,11845.499999999996,11840.499999999996,11709.149999999996,11340.049999999996,10843.149999999996,21686.299999999996,17809.099999999995,17768.599999999995,17710.739999999994,17537.789999999994,13037.789999999994,13837.789999999994,13707.789999999994,13707.789999999994,13702.789999999994,13550.039999999994,13250.039999999994,13721.239999999994,15907.539999999994,17057.239999999994,17396.489999999994,22436.839999999997,22318.039999999997,21918.039999999997,21790.139999999996,22570.139999999996,23200.139999999996,23070.139999999996,23070.139999999996,22998.539999999997,22499.539999999997,22499.539999999997,22489.539999999997,22494.539999999997,22349.539999999997,29049.539999999997,30349.539999999997,33229.99,33276.509999999995,33280.09,33630.09,29130.089999999997,28980.089999999997,28895.089999999997,28685.879999999997,28639.829999999998,28636.28,28289.02,28262.28,31622.53,32395.28,32602.579999999998,33954.63,35217.43,36084.43,31584.43,31454.43,31454.43,32439.88,32434.88,32429.88,32113.13,32036.08,31938.38,31878.38,31766.83,31753.68,31384.62,31305.17,30898.17,34258.42,35258.42,35175.47,35088.12,35081.62,34356.62,34329.22,35209.22,30709.22,31059.22,31939.22,31939.22,31809.22,32619.22,33419.22,32969.22,32937.67,32097.67,31955.469999999998,31950.469999999998,31833.37,31777.719999999998,31966.219999999998,33888.67,34341.02,34831.07,35245.72,35595.72,35945.72,36295.72,36595.72,37425.020000000004,38235.47,39159.020000000004,40534.87,40572.57,40761.07,41307.67,41665.77,42400.82,43200.82,43199.82,43198.33,43178.950000000004,38178.950000000004,38348.600000000006,38320.00000000001,38228.600000000006,42924.3,42794.3,42794.3,42751.65,42746.65,42446.65,42446.65,40563.3,39140.4,39105.700000000004,39085.4,39075.9,38896.65,38446.65,38484.35,38917.85,39539.799999999996,40949.799999999996,41213.649999999994,41364.45,41458.7,43935.799999999996,44735.799999999996,45085.799999999996,48446.049999999996,49146.1,44146.1,44743.35,45543.35,45413.35,45413.35,47998.15,47697.25,47692.25,47658.65,46466.75,46361.55,49721.8,49651.05,50889.600000000006,50584.00000000001,49629.420000000006,49592.97000000001,47923.37000000001,47773.37000000001,48573.37000000001,48548.37000000001,48458.37000000001,49238.37000000001,49086.87000000001,49143.42000000001,49331.92000000001,49520.42000000001,50745.52000000001,50802.070000000014,52253.320000000014,52220.92000000001,53220.92000000001,53030.92000000001,48030.92000000001,47900.92000000001,47900.92000000001,47747.92000000001,52540.570000000014,52535.570000000014,52535.570000000014,52468.970000000016,52438.820000000014,51988.820000000014,51276.220000000016,51241.92000000001,51187.02000000001,52187.02000000001,53187.02000000001,51633.02000000001,48543.02000000001,48460.22000000001,45620.97000000001,45593.37000000001,45477.37000000001,45417.17000000001,40417.17000000001,40417.17000000001,40287.17000000001,35211.17000000001,31478.670000000013,31178.670000000013,31017.320000000014,30991.220000000016,30742.070000000014,30737.070000000014,30734.670000000013,30825.11000000001,30832.07000000001,30828.57000000001,30788.57000000001,30977.07000000001,31090.17000000001,31391.72000000001,31730.97000000001,32051.37000000001,32831.37000000001,36191.62000000001,39067.22000000001,34067.22000000001,33937.22000000001,33937.22000000001,33786.72000000001,33781.72000000001,33481.72000000001,33448.77000000001,33308.87000000001,33119.37000000001,33157.07000000001,34457.57000000001,34796.82000000001,34853.37000000001,34733.37000000001,34700.37000000001,29200.37000000001,32156.72000000001,31993.430000000008,34922.880000000005,34792.880000000005,34792.880000000005,34717.23,34680.73,32096.730000000003,32016.730000000003,30853.480000000003,34213.73,34208.73,36758.73,38926.18,43234.18,45062.38,45032.38,46031.28,45983.08,45863.08,45391.630000000005,45344.780000000006,45339.380000000005,45228.630000000005,45221.630000000005,45208.630000000005,45009.630000000005,48059.630000000005,47971.43000000001,46111.530000000006,41501.530000000006,41700.530000000006,41692.93000000001,42427.98000000001,42503.38000000001,42616.48000000001,42654.18000000001,42823.83000000001,42918.08000000001,43577.73000000001,43671.98000000001,43586.93000000001,44586.93000000001,44031.630000000005,43887.630000000005,45061.58,45608.18,45966.28,45914.08,45913.58,40413.58,40413.58,40283.58,36814.380000000005,34923.380000000005,34864.43000000001,34859.43000000001,34837.43000000001,34625.83000000001,34032.98000000001,32869.73000000001,32812.73000000001,32605.78000000001,32155.78000000001,32146.93000000001,32051.73000000001,30185.48000000001,30031.48000000001,29801.48000000001,29758.98000000001,29750.880000000012,29576.380000000012,29556.880000000012,29550.43000000001,30350.43000000001,30315.68000000001,30290.130000000012,30083.43000000001,30531.830000000013,31756.93000000001,31851.18000000001,31888.880000000012,31945.43000000001,32228.130000000012,33728.13000000001,32356.130000000012,32319.130000000012,35719.13000000001,35349.430000000015,35340.430000000015,36120.430000000015,35054.180000000015,35034.180000000015,35005.080000000016,34839.080000000016,34811.28000000001,34731.28000000001,29231.280000000013,29260.45000000001,29639.280000000013,29608.530000000013,29594.530000000013,29532.430000000015,29532.430000000015,32892.680000000015,32762.680000000015,32585.280000000013,32587.660000000014,44757.76000000002,44607.710000000014,44457.710000000014,43294.460000000014,43289.460000000014,75735.77000000002,75668.42000000001,77148.42000000001,77138.02000000002,76496.97000000002,76469.72000000002,76420.02000000002,76302.61000000002,76293.57000000002,76392.82000000002,76391.82000000002,76329.77000000002,72452.57000000002,72603.37000000002,72773.02000000002,73131.12000000002,73225.37000000002,73300.77000000002,72904.12000000002,70365.12000000002,72665.12000000002,67165.12000000002,63665.120000000024,63616.120000000024,63586.42000000003,62789.520000000026,62599.020000000026,62469.020000000026,62469.020000000026,62404.620000000024,62399.620000000024,62399.620000000024,62240.57000000002,67108.62000000002,65945.37000000002,65945.37000000002,65846.07000000002,65835.92000000003,65704.07000000002,66054.07000000002,67054.07000000002,66986.62000000002,66787.37000000002,66702.37000000002,66487.37000000002,66487.37000000002,67486.27000000002,67844.37000000002,68014.02000000002,68918.72000000002,69276.82000000002,69884.57000000002,66940.37000000002,66909.27000000002,66909.25000000001,66908.97000000002,66383.37000000001,66363.17000000001,66362.67000000001,60862.67000000001,60862.67000000001,60857.67000000001,62132.67000000001,62002.67000000001,62002.67000000001,63472.77000000001,66652.77000000002,66618.52000000002,66604.82000000002,66525.87000000002,67602.87000000002,70452.87000000002,69289.62000000002,69289.62000000002,69230.62000000002,70730.62000000002,72230.62000000002,71780.62000000002,74903.92000000003,74781.92000000003,72542.12000000002,73392.12000000002,73332.12000000002,73332.12000000002,71951.57000000002,71922.67000000003,72572.67000000003,73372.67000000003,73069.12000000002,73041.52000000002,73701.52000000002,71245.97000000002,71245.97000000002,71115.97000000002,73135.37000000001,78401.92000000001,78831.92000000001,82289.07,81804.42000000001,79568.02000000002,74153.07000000002,73983.67000000003,73763.47000000003,73613.47000000003,73567.27000000003,73472.67000000003,73467.67000000003,73467.67000000003,72244.42000000003,72244.42000000003,72235.42000000003,72235.42000000003,72857.37000000002,74384.02000000002,75659.02000000002,76356.37000000002,77336.42000000003,78936.42000000003,80436.42000000003,82386.42000000003,83246.42000000003,84546.42000000003,83419.02000000003,83408.57000000004,83408.57000000004,79641.57000000004,79553.89000000004,79516.69000000005,79206.69000000005,80054.84000000004,79397.14000000004,81131.09000000004,78892.99000000003,73421.34000000004,74521.34000000004,74391.34000000004,74391.34000000004,74230.09000000004,74152.09000000004,74105.14000000004,73655.14000000004,72815.14000000004,71591.89000000004,71591.89000000004,73091.89000000004,73086.89000000004,73086.89000000004,73068.19000000005,73036.09000000004,74536.09000000004,74533.59000000004,74533.59000000004,76713.59000000004,76656.09000000004,77756.09000000004,78756.09000000004,79756.09000000004,80359.19000000005,82297.79000000005,83447.79000000005,83447.79000000005,83445.09000000005,83904.24000000005,84904.24000000005,84530.54000000005,83825.09000000005,81654.69000000006,81073.09000000005,80598.94000000006,80438.48000000005,80410.48000000005,79749.48000000005,79430.48000000005,79430.48000000005,77192.38000000005,76969.53000000004,75986.23000000004,75856.23000000004,75796.23000000004,75796.23000000004,70324.58000000005,70324.58000000005,70319.58000000005,70319.58000000005,69959.58000000005,69881.58000000005,69841.58000000005,69689.23000000004,69684.23000000004,69684.23000000004,68440.98000000004,68440.98000000004,68396.28000000004,68345.98000000004,66980.98000000004,66947.38000000003,67447.38000000003,69752.18000000004,70052.18000000004,70622.98000000004,70607.04000000004,70607.04000000004,70549.54000000004,70323.39000000004,69623.34000000004,69554.39000000004,70454.39000000004,71954.39000000004,71595.99000000005,78087.39000000004,78647.44000000005,79282.89000000004,79616.74000000005,79950.59000000005,79950.59000000005,77712.49000000005,77582.49000000005,72110.84000000005,72048.38000000005,72048.38000000005,71858.73000000005,74395.23000000005,74390.23000000005,74390.23000000005,74422.81000000006,73179.56000000006,73179.56000000006,73101.56000000006,74201.56000000006,74036.56000000006,72844.66000000006,72544.66000000006,72426.76000000007,73926.76000000007,73952.99000000006,73955.01000000007,73961.74000000006,73936.19000000006,73878.69000000006,73879.21000000006,74329.21000000006,74988.86000000006,75573.11000000006,75931.21000000006,77881.21000000006,77780.51000000007,79380.51000000007,79128.51000000007,78883.71000000006,79983.71000000006,79953.91000000006,79922.06000000006,77683.96000000005,72212.31000000006,68495.31000000006,68285.31000000006,68414.56000000006,68284.56000000006,68284.56000000006,68284.56000000006,67041.31000000006,67011.16000000006,66861.16000000006,66861.16000000006,66856.16000000006,67956.16000000006,68956.16000000006,68908.06000000006,67962.36000000006,67904.86000000006,68766.46000000006,71577.41000000006,71351.26000000007,72351.26000000007,72255.93000000007,72244.68000000007,73609.68000000007,73609.68000000007,73494.73000000007,73489.21000000006,73488.78000000007,76988.78000000007,76813.78000000007,77287.68000000007,78235.43000000007,85266.23000000007,85600.08000000007,85125.83000000007,84975.83000000007,84975.83000000007,84973.83000000007,84973.83000000007,84577.48000000007,84447.48000000007,84447.48000000007,84369.48000000007,82131.38000000006,76659.73000000007,76633.63000000006,76525.63000000006,75135.79000000007,75512.74000000006,75738.89000000006,75438.89000000006,75275.89000000006,75270.89000000006,75270.89000000006,74027.64000000006,74027.64000000006,74142.59000000005,74132.90000000005,74132.90000000005,74107.90000000005,74089.30000000005,73058.20000000004,73000.70000000004,74100.70000000004,74100.20000000004,74100.20000000004,74099.30000000005,74099.30000000005,74000.40000000005,73820.40000000005,73820.40000000005,79110.40000000005,78994.95000000006,78876.15000000005,76504.15000000005,78004.15000000005,75632.15000000005,75601.91000000005,76601.91000000005,73920.51000000005,74146.66000000005,76731.46000000005,79423.96000000005,79650.11000000004,79857.41000000005,79779.41000000005,74307.76000000005,72069.66000000005,71939.66000000005,71939.66000000005,72939.66000000005,72938.97000000004,72929.96000000005,72929.96000000005,71686.71000000005,71656.01000000005,71401.91000000005,71171.91000000005,71171.91000000005,71166.91000000005,71840.06000000004,74651.01000000004,74351.01000000004,74231.71000000004,75231.71000000004,75091.81000000004,75113.44000000005,75115.11000000004,75059.76000000004,74766.11000000004,71070.66000000005,72200.66000000005,72026.66000000005,74126.66000000005,74069.16000000005,75169.16000000005,76194.16000000005,76162.51000000005,76133.91000000005,75979.86000000004,76579.86000000004,74815.21000000005,74813.21000000005,74813.21000000005,75913.21000000005,75835.21000000005,76287.56000000006,75044.31000000006,75044.31000000006,75289.31000000006,75364.71000000005,75458.96000000005,75722.81000000006,75422.81000000006,69951.16000000006,67713.06000000006,68163.06000000006,68133.06000000006,68128.06000000006,68128.06000000006,68124.11000000006,68084.11000000006,67661.31000000006,67508.06000000006,67398.51000000005,67313.86000000006,67213.26000000005,68344.11000000006,68320.26000000005,68262.76000000005,68036.61000000006,68009.63000000006,68008.96000000006,69215.21000000006,70215.21000000006,70159.01000000007,70080.91000000006,64609.26000000006,62371.16000000006,62339.91000000006,62046.26000000006,60803.01000000006,60803.01000000006,60803.01000000006,60640.71000000006,61663.86000000006,63602.46000000006,63597.46000000006,63507.46000000006,63357.46000000006,63326.76000000006,63176.76000000006,63173.76000000006,64266.91000000006,64180.74000000006,65280.74000000006,65271.55000000006,65270.84000000006,65213.34000000006,65628.34000000005,69128.34000000005,69035.09000000005,67968.84000000005,68108.84000000005,67988.84000000005,69119.69000000006,69002.29000000007,68956.74000000006,68730.14000000006,66492.04000000005,61020.39000000005,60237.54000000005,60501.39000000005,61161.04000000005,61406.04000000005,63406.04000000005,63801.840000000055,63737.79000000005,63461.79000000005,62754.69000000005,61139.19000000005,61086.64000000005,60289.74000000005,59046.49000000005,59046.49000000005,59078.64000000005,59073.64000000005,59073.64000000005,58995.64000000005,59576.69000000005,54013.990000000056,55813.990000000056,61575.94000000005,61683.64000000005,57966.64000000005,61746.89000000005,62716.19000000005,64159.39000000005,64081.39000000005,62838.14000000005,62838.14000000005,63753.59000000005,63635.64000000005,63630.64000000005,63630.64000000005,58158.99000000005,55920.89000000005,57720.89000000005,57663.39000000005,53920.64000000005,53875.64000000005,54322.59000000005,54236.290000000045,54206.74000000004,54158.14000000004,54100.64000000004,53874.49000000004,54974.49000000004,55114.49000000004,57106.94000000004,58331.94000000004,60205.94000000004,60171.04000000004,61771.04000000004,64894.34000000004,66455.99000000003,66377.99000000003,65091.59000000003,65091.59000000003,65086.59000000003,66736.59000000003,64498.49000000003,64413.49000000003,64267.54000000003,58795.89000000003,58795.89000000003,58495.89000000003,59495.89000000003,61295.89000000003,62395.89000000003,64334.49000000003,66488.49000000002,66387.49000000002,67387.49000000002,68387.49000000002,69356.79000000002,72372.39000000003,75711.09000000003,79211.09000000003,80711.09000000003,82211.09000000003,81501.09000000003,85751.09000000003,85673.09000000003,80201.44000000003,77963.34000000003,76676.94000000003,76676.94000000003,76676.94000000003,76596.99000000003,76591.99000000003,77991.99000000003,78441.99000000003,78387.99000000003,75932.44000000003,75082.44000000003,74972.79000000004,74857.04000000004,74407.04000000004,73837.74000000003,70209.74000000003,70172.39000000003,70472.39000000003,70370.67000000003,71370.67000000003,74370.67000000003,72132.57000000002,69766.67000000003,69719.37000000002,64247.72000000002,64118.42000000002,64040.42000000002,63959.57000000002,63919.57000000002,62633.17000000002,62633.17000000002,62628.17000000002,62628.17000000002,62028.17000000002,63828.17000000002,65820.62000000002,65789.72000000003,66789.72000000003,66714.52000000003,67845.37000000004,72045.67000000004,73545.67000000004,73505.62000000004,73279.47000000004,74779.47000000004,77929.47000000004,81879.47000000004,87703.07000000005,89213.07000000005,90713.07000000005,91520.82000000005,91442.82000000005,101211.22000000004,100951.87000000004,100863.47000000004,101563.47000000004,101113.47000000004,101078.02000000005,101810.37000000005,102607.37000000005,105536.82000000005,107186.82000000005,108686.82000000005,115458.17000000006,117429.07000000005,120929.07000000005,123492.32000000005,126842.32000000005,126191.27000000005,126191.27000000005],\"yaxis\":\"y\",\"type\":\"scattergl\"}],                        {\"template\":{\"data\":{\"histogram2dcontour\":[{\"type\":\"histogram2dcontour\",\"colorbar\":{\"outlinewidth\":0,\"ticks\":\"\"},\"colorscale\":[[0.0,\"#0d0887\"],[0.1111111111111111,\"#46039f\"],[0.2222222222222222,\"#7201a8\"],[0.3333333333333333,\"#9c179e\"],[0.4444444444444444,\"#bd3786\"],[0.5555555555555556,\"#d8576b\"],[0.6666666666666666,\"#ed7953\"],[0.7777777777777778,\"#fb9f3a\"],[0.8888888888888888,\"#fdca26\"],[1.0,\"#f0f921\"]]}],\"choropleth\":[{\"type\":\"choropleth\",\"colorbar\":{\"outlinewidth\":0,\"ticks\":\"\"}}],\"histogram2d\":[{\"type\":\"histogram2d\",\"colorbar\":{\"outlinewidth\":0,\"ticks\":\"\"},\"colorscale\":[[0.0,\"#0d0887\"],[0.1111111111111111,\"#46039f\"],[0.2222222222222222,\"#7201a8\"],[0.3333333333333333,\"#9c179e\"],[0.4444444444444444,\"#bd3786\"],[0.5555555555555556,\"#d8576b\"],[0.6666666666666666,\"#ed7953\"],[0.7777777777777778,\"#fb9f3a\"],[0.8888888888888888,\"#fdca26\"],[1.0,\"#f0f921\"]]}],\"heatmap\":[{\"type\":\"heatmap\",\"colorbar\":{\"outlinewidth\":0,\"ticks\":\"\"},\"colorscale\":[[0.0,\"#0d0887\"],[0.1111111111111111,\"#46039f\"],[0.2222222222222222,\"#7201a8\"],[0.3333333333333333,\"#9c179e\"],[0.4444444444444444,\"#bd3786\"],[0.5555555555555556,\"#d8576b\"],[0.6666666666666666,\"#ed7953\"],[0.7777777777777778,\"#fb9f3a\"],[0.8888888888888888,\"#fdca26\"],[1.0,\"#f0f921\"]]}],\"heatmapgl\":[{\"type\":\"heatmapgl\",\"colorbar\":{\"outlinewidth\":0,\"ticks\":\"\"},\"colorscale\":[[0.0,\"#0d0887\"],[0.1111111111111111,\"#46039f\"],[0.2222222222222222,\"#7201a8\"],[0.3333333333333333,\"#9c179e\"],[0.4444444444444444,\"#bd3786\"],[0.5555555555555556,\"#d8576b\"],[0.6666666666666666,\"#ed7953\"],[0.7777777777777778,\"#fb9f3a\"],[0.8888888888888888,\"#fdca26\"],[1.0,\"#f0f921\"]]}],\"contourcarpet\":[{\"type\":\"contourcarpet\",\"colorbar\":{\"outlinewidth\":0,\"ticks\":\"\"}}],\"contour\":[{\"type\":\"contour\",\"colorbar\":{\"outlinewidth\":0,\"ticks\":\"\"},\"colorscale\":[[0.0,\"#0d0887\"],[0.1111111111111111,\"#46039f\"],[0.2222222222222222,\"#7201a8\"],[0.3333333333333333,\"#9c179e\"],[0.4444444444444444,\"#bd3786\"],[0.5555555555555556,\"#d8576b\"],[0.6666666666666666,\"#ed7953\"],[0.7777777777777778,\"#fb9f3a\"],[0.8888888888888888,\"#fdca26\"],[1.0,\"#f0f921\"]]}],\"surface\":[{\"type\":\"surface\",\"colorbar\":{\"outlinewidth\":0,\"ticks\":\"\"},\"colorscale\":[[0.0,\"#0d0887\"],[0.1111111111111111,\"#46039f\"],[0.2222222222222222,\"#7201a8\"],[0.3333333333333333,\"#9c179e\"],[0.4444444444444444,\"#bd3786\"],[0.5555555555555556,\"#d8576b\"],[0.6666666666666666,\"#ed7953\"],[0.7777777777777778,\"#fb9f3a\"],[0.8888888888888888,\"#fdca26\"],[1.0,\"#f0f921\"]]}],\"mesh3d\":[{\"type\":\"mesh3d\",\"colorbar\":{\"outlinewidth\":0,\"ticks\":\"\"}}],\"scatter\":[{\"marker\":{\"line\":{\"color\":\"#283442\"}},\"type\":\"scatter\"}],\"parcoords\":[{\"type\":\"parcoords\",\"line\":{\"colorbar\":{\"outlinewidth\":0,\"ticks\":\"\"}}}],\"scatterpolargl\":[{\"type\":\"scatterpolargl\",\"marker\":{\"colorbar\":{\"outlinewidth\":0,\"ticks\":\"\"}}}],\"bar\":[{\"error_x\":{\"color\":\"#f2f5fa\"},\"error_y\":{\"color\":\"#f2f5fa\"},\"marker\":{\"line\":{\"color\":\"rgb(17,17,17)\",\"width\":0.5},\"pattern\":{\"fillmode\":\"overlay\",\"size\":10,\"solidity\":0.2}},\"type\":\"bar\"}],\"scattergeo\":[{\"type\":\"scattergeo\",\"marker\":{\"colorbar\":{\"outlinewidth\":0,\"ticks\":\"\"}}}],\"scatterpolar\":[{\"type\":\"scatterpolar\",\"marker\":{\"colorbar\":{\"outlinewidth\":0,\"ticks\":\"\"}}}],\"histogram\":[{\"marker\":{\"pattern\":{\"fillmode\":\"overlay\",\"size\":10,\"solidity\":0.2}},\"type\":\"histogram\"}],\"scattergl\":[{\"marker\":{\"line\":{\"color\":\"#283442\"}},\"type\":\"scattergl\"}],\"scatter3d\":[{\"type\":\"scatter3d\",\"line\":{\"colorbar\":{\"outlinewidth\":0,\"ticks\":\"\"}},\"marker\":{\"colorbar\":{\"outlinewidth\":0,\"ticks\":\"\"}}}],\"scattermapbox\":[{\"type\":\"scattermapbox\",\"marker\":{\"colorbar\":{\"outlinewidth\":0,\"ticks\":\"\"}}}],\"scatterternary\":[{\"type\":\"scatterternary\",\"marker\":{\"colorbar\":{\"outlinewidth\":0,\"ticks\":\"\"}}}],\"scattercarpet\":[{\"type\":\"scattercarpet\",\"marker\":{\"colorbar\":{\"outlinewidth\":0,\"ticks\":\"\"}}}],\"carpet\":[{\"aaxis\":{\"endlinecolor\":\"#A2B1C6\",\"gridcolor\":\"#506784\",\"linecolor\":\"#506784\",\"minorgridcolor\":\"#506784\",\"startlinecolor\":\"#A2B1C6\"},\"baxis\":{\"endlinecolor\":\"#A2B1C6\",\"gridcolor\":\"#506784\",\"linecolor\":\"#506784\",\"minorgridcolor\":\"#506784\",\"startlinecolor\":\"#A2B1C6\"},\"type\":\"carpet\"}],\"table\":[{\"cells\":{\"fill\":{\"color\":\"#506784\"},\"line\":{\"color\":\"rgb(17,17,17)\"}},\"header\":{\"fill\":{\"color\":\"#2a3f5f\"},\"line\":{\"color\":\"rgb(17,17,17)\"}},\"type\":\"table\"}],\"barpolar\":[{\"marker\":{\"line\":{\"color\":\"rgb(17,17,17)\",\"width\":0.5},\"pattern\":{\"fillmode\":\"overlay\",\"size\":10,\"solidity\":0.2}},\"type\":\"barpolar\"}],\"pie\":[{\"automargin\":true,\"type\":\"pie\"}]},\"layout\":{\"autotypenumbers\":\"strict\",\"colorway\":[\"#636efa\",\"#EF553B\",\"#00cc96\",\"#ab63fa\",\"#FFA15A\",\"#19d3f3\",\"#FF6692\",\"#B6E880\",\"#FF97FF\",\"#FECB52\"],\"font\":{\"color\":\"#f2f5fa\"},\"hovermode\":\"closest\",\"hoverlabel\":{\"align\":\"left\"},\"paper_bgcolor\":\"rgb(17,17,17)\",\"plot_bgcolor\":\"rgb(17,17,17)\",\"polar\":{\"bgcolor\":\"rgb(17,17,17)\",\"angularaxis\":{\"gridcolor\":\"#506784\",\"linecolor\":\"#506784\",\"ticks\":\"\"},\"radialaxis\":{\"gridcolor\":\"#506784\",\"linecolor\":\"#506784\",\"ticks\":\"\"}},\"ternary\":{\"bgcolor\":\"rgb(17,17,17)\",\"aaxis\":{\"gridcolor\":\"#506784\",\"linecolor\":\"#506784\",\"ticks\":\"\"},\"baxis\":{\"gridcolor\":\"#506784\",\"linecolor\":\"#506784\",\"ticks\":\"\"},\"caxis\":{\"gridcolor\":\"#506784\",\"linecolor\":\"#506784\",\"ticks\":\"\"}},\"coloraxis\":{\"colorbar\":{\"outlinewidth\":0,\"ticks\":\"\"}},\"colorscale\":{\"sequential\":[[0.0,\"#0d0887\"],[0.1111111111111111,\"#46039f\"],[0.2222222222222222,\"#7201a8\"],[0.3333333333333333,\"#9c179e\"],[0.4444444444444444,\"#bd3786\"],[0.5555555555555556,\"#d8576b\"],[0.6666666666666666,\"#ed7953\"],[0.7777777777777778,\"#fb9f3a\"],[0.8888888888888888,\"#fdca26\"],[1.0,\"#f0f921\"]],\"sequentialminus\":[[0.0,\"#0d0887\"],[0.1111111111111111,\"#46039f\"],[0.2222222222222222,\"#7201a8\"],[0.3333333333333333,\"#9c179e\"],[0.4444444444444444,\"#bd3786\"],[0.5555555555555556,\"#d8576b\"],[0.6666666666666666,\"#ed7953\"],[0.7777777777777778,\"#fb9f3a\"],[0.8888888888888888,\"#fdca26\"],[1.0,\"#f0f921\"]],\"diverging\":[[0,\"#8e0152\"],[0.1,\"#c51b7d\"],[0.2,\"#de77ae\"],[0.3,\"#f1b6da\"],[0.4,\"#fde0ef\"],[0.5,\"#f7f7f7\"],[0.6,\"#e6f5d0\"],[0.7,\"#b8e186\"],[0.8,\"#7fbc41\"],[0.9,\"#4d9221\"],[1,\"#276419\"]]},\"xaxis\":{\"gridcolor\":\"#283442\",\"linecolor\":\"#506784\",\"ticks\":\"\",\"title\":{\"standoff\":15},\"zerolinecolor\":\"#283442\",\"automargin\":true,\"zerolinewidth\":2},\"yaxis\":{\"gridcolor\":\"#283442\",\"linecolor\":\"#506784\",\"ticks\":\"\",\"title\":{\"standoff\":15},\"zerolinecolor\":\"#283442\",\"automargin\":true,\"zerolinewidth\":2},\"scene\":{\"xaxis\":{\"backgroundcolor\":\"rgb(17,17,17)\",\"gridcolor\":\"#506784\",\"linecolor\":\"#506784\",\"showbackground\":true,\"ticks\":\"\",\"zerolinecolor\":\"#C8D4E3\",\"gridwidth\":2},\"yaxis\":{\"backgroundcolor\":\"rgb(17,17,17)\",\"gridcolor\":\"#506784\",\"linecolor\":\"#506784\",\"showbackground\":true,\"ticks\":\"\",\"zerolinecolor\":\"#C8D4E3\",\"gridwidth\":2},\"zaxis\":{\"backgroundcolor\":\"rgb(17,17,17)\",\"gridcolor\":\"#506784\",\"linecolor\":\"#506784\",\"showbackground\":true,\"ticks\":\"\",\"zerolinecolor\":\"#C8D4E3\",\"gridwidth\":2}},\"shapedefaults\":{\"line\":{\"color\":\"#f2f5fa\"}},\"annotationdefaults\":{\"arrowcolor\":\"#f2f5fa\",\"arrowhead\":0,\"arrowwidth\":1},\"geo\":{\"bgcolor\":\"rgb(17,17,17)\",\"landcolor\":\"rgb(17,17,17)\",\"subunitcolor\":\"#506784\",\"showland\":true,\"showlakes\":true,\"lakecolor\":\"rgb(17,17,17)\"},\"title\":{\"x\":0.05},\"updatemenudefaults\":{\"bgcolor\":\"#506784\",\"borderwidth\":0},\"sliderdefaults\":{\"bgcolor\":\"#C8D4E3\",\"borderwidth\":1,\"bordercolor\":\"rgb(17,17,17)\",\"tickwidth\":0},\"mapbox\":{\"style\":\"dark\"}}},\"xaxis\":{\"anchor\":\"y\",\"domain\":[0.0,1.0],\"title\":{\"text\":\"Datum\"}},\"yaxis\":{\"anchor\":\"x\",\"domain\":[0.0,1.0],\"title\":{\"text\":\"Kumulative Summe\"}},\"legend\":{\"tracegroupgap\":0},\"margin\":{\"t\":60},\"title\":{\"text\":\"Kumulative Summe von PostFinance\"}},                        {\"responsive\": true}                    ).then(function(){\n                            \nvar gd = document.getElementById('85d8abe7-b912-41a9-ad36-77138d39b7db');\nvar x = new MutationObserver(function (mutations, observer) {{\n        var display = window.getComputedStyle(gd).display;\n        if (!display || display === 'none') {{\n            console.log([gd, 'removed!']);\n            Plotly.purge(gd);\n            observer.disconnect();\n        }}\n}});\n\n// Listen for the removal of the full notebook cells\nvar notebookContainer = gd.closest('#notebook-container');\nif (notebookContainer) {{\n    x.observe(notebookContainer, {childList: true});\n}}\n\n// Listen for the clearing of the current output cell\nvar outputEl = gd.closest('.output');\nif (outputEl) {{\n    x.observe(outputEl, {childList: true});\n}}\n\n                        })                };                });            </script>        </div>"
     },
     "metadata": {},
     "output_type": "display_data"
    }
   ],
   "source": [
    "#todo: doesnt make sense yet. current bank account balance should be aroun 50k\n",
    "import pandas as pd\n",
    "import plotly.express as px\n",
    "\n",
    "filtered_df = filtered_df.copy()\n",
    "\n",
    "filtered_df['Datum'] = pd.to_datetime(filtered_df['Datum'], format='%d.%m.%Y')\n",
    "\n",
    "sorted_df = filtered_df.sort_values('Datum')\n",
    "\n",
    "sorted_df['Cumulative Sum'] = sorted_df.loc[sorted_df['Soll'].str.contains('PostFinance', case=False) | sorted_df['Haben'].str.contains('PostFinance', case=False), 'Betrag in Basiswährung'].cumsum()\n",
    "\n",
    "fig = px.line(sorted_df, x='Datum', y='Cumulative Sum')\n",
    "\n",
    "fig.update_layout(title='Kumulative Summe von PostFinance',\n",
    "                  xaxis_title='Datum',\n",
    "                  yaxis_title='Kumulative Summe')\n",
    "\n",
    "fig.show()\n"
   ],
   "metadata": {
    "collapsed": false,
    "ExecuteTime": {
     "end_time": "2023-07-01T07:32:08.909178Z",
     "start_time": "2023-07-01T07:32:08.830172Z"
    }
   }
  }
 ],
 "metadata": {
  "kernelspec": {
   "display_name": "Python 3",
   "language": "python",
   "name": "python3"
  },
  "language_info": {
   "codemirror_mode": {
    "name": "ipython",
    "version": 2
   },
   "file_extension": ".py",
   "mimetype": "text/x-python",
   "name": "python",
   "nbconvert_exporter": "python",
   "pygments_lexer": "ipython2",
   "version": "2.7.6"
  }
 },
 "nbformat": 4,
 "nbformat_minor": 0
}

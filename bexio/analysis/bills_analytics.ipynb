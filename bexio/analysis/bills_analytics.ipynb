{
 "cells": [
  {
   "cell_type": "code",
   "execution_count": null,
   "outputs": [],
   "source": [
    "import pandas as pd\n",
    "import datetime"
   ],
   "metadata": {
    "collapsed": false
   }
  },
  {
   "cell_type": "code",
   "execution_count": 53,
   "metadata": {
    "collapsed": true,
    "ExecuteTime": {
     "end_time": "2023-06-30T22:53:01.414037Z",
     "start_time": "2023-06-30T22:53:01.395187Z"
    }
   },
   "outputs": [],
   "source": [
    "bills = pd.read_csv('../../src/bexio/data/raw/bills.csv')\n",
    "projects = pd.read_csv('../../src/bexio/data/raw/projects.csv')\n",
    "proposals = pd.read_csv('../../src/bexio/data/raw/proposals.csv')\n",
    "payments = pd.read_csv('../../src/bexio/data/raw/payments.csv')"
   ]
  },
  {
   "cell_type": "code",
   "execution_count": 80,
   "outputs": [
    {
     "data": {
      "text/plain": "          Nr.                                              Titel  \\\n0    RE-00002         Gesuche - Dorfstrasse 22A/22E, 5624 Bünzen   \n1    RE-00003                                 GEAK®, EFH, Kt. AG   \n2    RE-00004  Wärmepumpe Fördergesuch Zürich, Klimastiftung ...   \n3    RE-00005                                                NaN   \n4    RE-00008              GEAK+, Rankstrasse 4, Nussbaumen, EFH   \n..        ...                                                ...   \n206  RE-00251          FB Geak+, Schulstr.194, Schwaderloch, EFH   \n207  RE-00252                   EN - Talstr.10, Veltheim AG, MFH   \n208  RE-00253              G+ Artherstr.132, Oberwil b. Zug, EFH   \n209  RE-00254                   GEAK Plus - Schöntal 4, Endingen   \n210  RE-00255                     FB Geak+, Schöntal 4, Endingen   \n\n            Status                           Kontakt Währung  Betrag Netto  \\\n0          Bezahlt            Stalder-Rüttimann GmbH     CHF        560.00   \n1          Bezahlt                  Herbert Schacher     CHF        798.50   \n2          Bezahlt                     AQUASANI GmbH     CHF        278.55   \n3          Bezahlt                     AQUASANI GmbH     CHF        464.25   \n4          Bezahlt    Ronald Frei und Nadja Lötscher     CHF       1021.35   \n..             ...                               ...     ...           ...   \n206  Zahlung Offen  Departement Bau, Verkehr, Umwelt     CHF       1000.00   \n207  Zahlung Offen                           TOKA AG     CHF       2785.50   \n208  Zahlung Offen                         Stadt Zug     CHF       2414.10   \n209  Zahlung Offen             Sidler Architekten AG     CHF       1935.45   \n210  Zahlung Offen  Departement Bau, Verkehr, Umwelt     CHF       1500.00   \n\n     Betrag Brutto Vorgängerdokument  Rechnungsdatum - Zahlungsdatum  \\\n0            603.1               NaN                            30.0   \n1            860.0  Auftrag AU-00003                             6.0   \n2            300.0               NaN                            29.0   \n3            500.0               NaN                            29.0   \n4           1100.0               NaN                             9.0   \n..             ...               ...                             ...   \n206         1000.0  Auftrag AU-00116                             NaN   \n207         3000.0  Auftrag AU-00113                             NaN   \n208         2600.0  Auftrag AU-00101                             NaN   \n209         2200.0  Auftrag AU-00109                             NaN   \n210         1500.0  Auftrag AU-00110                             NaN   \n\n    Zahlungsdatum  \n0     '13.05.2022  \n1     '19.04.2022  \n2     '02.06.2022  \n3     '02.06.2022  \n4     '13.05.2022  \n..            ...  \n206   '19.07.2023  \n207   '19.07.2023  \n208   '19.07.2023  \n209   '28.07.2023  \n210   '28.07.2023  \n\n[211 rows x 10 columns]",
      "text/html": "<div>\n<style scoped>\n    .dataframe tbody tr th:only-of-type {\n        vertical-align: middle;\n    }\n\n    .dataframe tbody tr th {\n        vertical-align: top;\n    }\n\n    .dataframe thead th {\n        text-align: right;\n    }\n</style>\n<table border=\"1\" class=\"dataframe\">\n  <thead>\n    <tr style=\"text-align: right;\">\n      <th></th>\n      <th>Nr.</th>\n      <th>Titel</th>\n      <th>Status</th>\n      <th>Kontakt</th>\n      <th>Währung</th>\n      <th>Betrag Netto</th>\n      <th>Betrag Brutto</th>\n      <th>Vorgängerdokument</th>\n      <th>Rechnungsdatum - Zahlungsdatum</th>\n      <th>Zahlungsdatum</th>\n    </tr>\n  </thead>\n  <tbody>\n    <tr>\n      <th>0</th>\n      <td>RE-00002</td>\n      <td>Gesuche - Dorfstrasse 22A/22E, 5624 Bünzen</td>\n      <td>Bezahlt</td>\n      <td>Stalder-Rüttimann GmbH</td>\n      <td>CHF</td>\n      <td>560.00</td>\n      <td>603.1</td>\n      <td>NaN</td>\n      <td>30.0</td>\n      <td>'13.05.2022</td>\n    </tr>\n    <tr>\n      <th>1</th>\n      <td>RE-00003</td>\n      <td>GEAK®, EFH, Kt. AG</td>\n      <td>Bezahlt</td>\n      <td>Herbert Schacher</td>\n      <td>CHF</td>\n      <td>798.50</td>\n      <td>860.0</td>\n      <td>Auftrag AU-00003</td>\n      <td>6.0</td>\n      <td>'19.04.2022</td>\n    </tr>\n    <tr>\n      <th>2</th>\n      <td>RE-00004</td>\n      <td>Wärmepumpe Fördergesuch Zürich, Klimastiftung ...</td>\n      <td>Bezahlt</td>\n      <td>AQUASANI GmbH</td>\n      <td>CHF</td>\n      <td>278.55</td>\n      <td>300.0</td>\n      <td>NaN</td>\n      <td>29.0</td>\n      <td>'02.06.2022</td>\n    </tr>\n    <tr>\n      <th>3</th>\n      <td>RE-00005</td>\n      <td>NaN</td>\n      <td>Bezahlt</td>\n      <td>AQUASANI GmbH</td>\n      <td>CHF</td>\n      <td>464.25</td>\n      <td>500.0</td>\n      <td>NaN</td>\n      <td>29.0</td>\n      <td>'02.06.2022</td>\n    </tr>\n    <tr>\n      <th>4</th>\n      <td>RE-00008</td>\n      <td>GEAK+, Rankstrasse 4, Nussbaumen, EFH</td>\n      <td>Bezahlt</td>\n      <td>Ronald Frei und Nadja Lötscher</td>\n      <td>CHF</td>\n      <td>1021.35</td>\n      <td>1100.0</td>\n      <td>NaN</td>\n      <td>9.0</td>\n      <td>'13.05.2022</td>\n    </tr>\n    <tr>\n      <th>...</th>\n      <td>...</td>\n      <td>...</td>\n      <td>...</td>\n      <td>...</td>\n      <td>...</td>\n      <td>...</td>\n      <td>...</td>\n      <td>...</td>\n      <td>...</td>\n      <td>...</td>\n    </tr>\n    <tr>\n      <th>206</th>\n      <td>RE-00251</td>\n      <td>FB Geak+, Schulstr.194, Schwaderloch, EFH</td>\n      <td>Zahlung Offen</td>\n      <td>Departement Bau, Verkehr, Umwelt</td>\n      <td>CHF</td>\n      <td>1000.00</td>\n      <td>1000.0</td>\n      <td>Auftrag AU-00116</td>\n      <td>NaN</td>\n      <td>'19.07.2023</td>\n    </tr>\n    <tr>\n      <th>207</th>\n      <td>RE-00252</td>\n      <td>EN - Talstr.10, Veltheim AG, MFH</td>\n      <td>Zahlung Offen</td>\n      <td>TOKA AG</td>\n      <td>CHF</td>\n      <td>2785.50</td>\n      <td>3000.0</td>\n      <td>Auftrag AU-00113</td>\n      <td>NaN</td>\n      <td>'19.07.2023</td>\n    </tr>\n    <tr>\n      <th>208</th>\n      <td>RE-00253</td>\n      <td>G+ Artherstr.132, Oberwil b. Zug, EFH</td>\n      <td>Zahlung Offen</td>\n      <td>Stadt Zug</td>\n      <td>CHF</td>\n      <td>2414.10</td>\n      <td>2600.0</td>\n      <td>Auftrag AU-00101</td>\n      <td>NaN</td>\n      <td>'19.07.2023</td>\n    </tr>\n    <tr>\n      <th>209</th>\n      <td>RE-00254</td>\n      <td>GEAK Plus - Schöntal 4, Endingen</td>\n      <td>Zahlung Offen</td>\n      <td>Sidler Architekten AG</td>\n      <td>CHF</td>\n      <td>1935.45</td>\n      <td>2200.0</td>\n      <td>Auftrag AU-00109</td>\n      <td>NaN</td>\n      <td>'28.07.2023</td>\n    </tr>\n    <tr>\n      <th>210</th>\n      <td>RE-00255</td>\n      <td>FB Geak+, Schöntal 4, Endingen</td>\n      <td>Zahlung Offen</td>\n      <td>Departement Bau, Verkehr, Umwelt</td>\n      <td>CHF</td>\n      <td>1500.00</td>\n      <td>1500.0</td>\n      <td>Auftrag AU-00110</td>\n      <td>NaN</td>\n      <td>'28.07.2023</td>\n    </tr>\n  </tbody>\n</table>\n<p>211 rows × 10 columns</p>\n</div>"
     },
     "execution_count": 80,
     "metadata": {},
     "output_type": "execute_result"
    }
   ],
   "source": [
    "merged_df = pd.merge(bills, payments[['Rechnungs-Nr.', 'Rechnungsdatum', 'Anzahl Tage', 'Datum']],\n",
    "                     left_on='Nr.', right_on='Rechnungs-Nr.', how='left')\n",
    "\n",
    "merged_df = merged_df[merged_df['Status'].isin(['Bezahlt', 'Offen'])]\n",
    "merged_df = merged_df.rename(columns={'Datum_y': 'Zahlungsdatum'})\n",
    "merged_df = merged_df.rename(columns={'Anzahl Tage': 'Rechnungsdatum - Zahlungsdatum'})\n",
    "merged_df = pd.merge(merged_df, projects[['Titel', 'Frist']], on=['Titel'], how='left')\n",
    "merged_df['Zahlungsdatum'] = merged_df['Zahlungsdatum'].fillna(merged_df['Frist_x'])\n",
    "\n",
    "columns_to_drop = [\n",
    "    'Kontaktnummer', 'Kontaktreferenz', 'Ansprechpartner', 'Verkäufer',\n",
    "    'Bankkonto', 'Referenz', 'Zahlungsart', 'Zusatztext', 'Leistungszeitraum', 'ESR-Nummer', 'ESR-Nummer (lang)',\n",
    "    'QR-Referenz', 'MWST 0.00%', 'Datum Zahlungseingang 1', 'Betrag Zahlungseingang 1', 'Konto Zahlungseingang 1',\n",
    "    'Datum Zahlungseingang 2', 'Betrag Zahlungseingang 2', 'Konto Zahlungseingang 2', 'Rechnungs-Nr.', 'ID', 'Mahnstufe', 'Projekt', 'Rechnungsdatum', 'Frist_y', 'Datum_x', 'Frist_x', 'MWST 7.70%'\n",
    "]\n",
    "\n",
    "merged_df.drop(columns=columns_to_drop, inplace=True)\n",
    "merged_df['Status'] = merged_df['Status'].replace('Offen', 'Zahlung Offen')\n",
    "merged_df"
   ],
   "metadata": {
    "collapsed": false,
    "ExecuteTime": {
     "end_time": "2023-06-30T23:26:03.332296Z",
     "start_time": "2023-06-30T23:26:03.315774Z"
    }
   }
  },
  {
   "cell_type": "code",
   "execution_count": 91,
   "outputs": [
    {
     "data": {
      "text/plain": "      ID       Nr.                                        Titel  \\\n12    15  AU-00015                     Planung Heizung + Abluft   \n21    26  AU-00026  Planung H/S - Erni, Guggibadstr.6, Schongau   \n76    88  AU-00088                 P - Oberebersol 49, Scheuber   \n91   104  AU-00104                 Geak+, Buchenweg 9, Würenlos   \n92   105  AU-00105              FB Geak+, Buchenweg 9, Würenlos   \n95   108  AU-00108       Geak+, Willadingweg 30/32, Bern, 2 MFH   \n99   112  AU-00112         EN - Oberer Rainweg 1, Frick, 2x EFH   \n104  117  AU-00117            P - Oberebersol 49, Parzelle 1675   \n109  122  AU-00122     G+, Sandbuckstrasse 6, Schneisingen, EFH   \n110  123  AU-00123   AP - H/L - Gassenacker 10, Rickenbach, MFH   \n111  124  AU-00124     AP - S - Gassenacker 10, Rickenbach, MFH   \n\n            Status                           Kontakt Kontaktnummer  \\\n12   Auftrag Offen                      Sani Project       '000005   \n21   Auftrag Offen            Stalder-Rüttimann GmbH       '000003   \n76   Auftrag Offen            Stalder-Rüttimann GmbH       '000003   \n91   Auftrag Offen                      Eric Moesner       '000255   \n92   Auftrag Offen  Departement Bau, Verkehr, Umwelt       '000120   \n95   Auftrag Offen    AWT Treuhand & Verwaltungen AG       '000257   \n99   Auftrag Offen                           TOKA AG       '000240   \n104  Auftrag Offen            Stalder-Rüttimann GmbH       '000003   \n109  Auftrag Offen                         MiKo Gmbh       '000263   \n110  Auftrag Offen                     Zahra Chopany       '000198   \n111  Auftrag Offen                     Zahra Chopany       '000198   \n\n     Kontaktreferenz                                      Projekt  \\\n12                 6      Planung H/L, Rainstrasse 52, Nussbaumen   \n21                 4  Planung H/S - Erni, Guggibadstr.6, Schongau   \n76                 4                 P - Oberebersol 49, Scheuber   \n91               161                                          NaN   \n92                26                                          NaN   \n95               163                                          NaN   \n99               146                                          NaN   \n104                4                                          NaN   \n109              169                                          NaN   \n110              104                                          NaN   \n111              104                                          NaN   \n\n    Ansprechpartner Verkäufer  ... Betrag Brutto        Datum        Frist  \\\n12     Imhoff Kevin       NaN  ...       7323.60  '04.05.2022  '02.06.2022   \n21     Imhoff Kevin       NaN  ...       9369.90  '25.05.2022  '23.06.2022   \n76     Imhoff Kevin       NaN  ...       7323.60  '10.02.2023  '11.03.2023   \n91     Imhoff Kevin       NaN  ...       2100.00  '08.05.2023  '06.06.2023   \n92     Imhoff Kevin       NaN  ...       1000.00  '08.05.2023  '06.06.2023   \n95     Imhoff Kevin       NaN  ...       4000.00  '11.05.2023  '09.06.2023   \n99     Imhoff Kevin       NaN  ...       1300.00  '26.05.2023  '24.06.2023   \n104    Imhoff Kevin       NaN  ...       6569.70  '30.05.2023  '28.06.2023   \n109    Imhoff Kevin       NaN  ...       1600.00  '06.06.2023  '05.07.2023   \n110    Imhoff Kevin       NaN  ...       4684.95  '29.06.2023  '28.07.2023   \n111    Imhoff Kevin       NaN  ...       6246.60  '29.06.2023  '28.07.2023   \n\n             Bankkonto Vorgängerdokument  \\\n12   PostFinance (CHF)  Angebot AN-00026   \n21   PostFinance (CHF)  Angebot AN-00041   \n76   PostFinance (CHF)  Angebot AN-00108   \n91   PostFinance (CHF)  Auftrag AU-00083   \n92   PostFinance (CHF)               NaN   \n95   PostFinance (CHF)  Auftrag AU-00090   \n99   PostFinance (CHF)  Angebot AN-00137   \n104  PostFinance (CHF)  Angebot AN-00141   \n109  PostFinance (CHF)  Angebot AN-00147   \n110  PostFinance (CHF)  Angebot AN-00154   \n111  PostFinance (CHF)  Angebot AN-00153   \n\n                                        Referenz MWST 0.00% MWST 7.70%  \\\n12                    Rainstrasse 52, Nussbaumen         '0   523.6000   \n21                 Erni, Guggibadstr.6, Schongau         '0   669.9000   \n76                                           NaN         '0   523.6000   \n91                  Geak+, Buchenweg 9, Würenlos         '0   221.6342   \n92                                           NaN         '0         '0   \n95               Willadingweg 30/32, Bern, 2 MFH         '0   285.9796   \n99               Oberer Rainweg 1, Frick, 2x EFH         '0    92.9434   \n104                Oberebersol 49, Parzelle 1675         '0   469.7000   \n109         Sandbuckstrasse 6, Schneisingen, EFH         '0   185.8867   \n110  Gassenacker 10, 8545 Rickenbach, Neubau MFH         '0   334.9500   \n111  Gassenacker 10, 8545 Rickenbach, Neubau MFH         '0   446.6000   \n\n    Wiederholung Teilrechnung  \n12          Nein           Ja  \n21          Nein           Ja  \n76          Nein           Ja  \n91          Nein         Nein  \n92          Nein         Nein  \n95          Nein         Nein  \n99          Nein         Nein  \n104         Nein         Nein  \n109         Nein         Nein  \n110         Nein         Nein  \n111         Nein         Nein  \n\n[11 rows x 22 columns]",
      "text/html": "<div>\n<style scoped>\n    .dataframe tbody tr th:only-of-type {\n        vertical-align: middle;\n    }\n\n    .dataframe tbody tr th {\n        vertical-align: top;\n    }\n\n    .dataframe thead th {\n        text-align: right;\n    }\n</style>\n<table border=\"1\" class=\"dataframe\">\n  <thead>\n    <tr style=\"text-align: right;\">\n      <th></th>\n      <th>ID</th>\n      <th>Nr.</th>\n      <th>Titel</th>\n      <th>Status</th>\n      <th>Kontakt</th>\n      <th>Kontaktnummer</th>\n      <th>Kontaktreferenz</th>\n      <th>Projekt</th>\n      <th>Ansprechpartner</th>\n      <th>Verkäufer</th>\n      <th>...</th>\n      <th>Betrag Brutto</th>\n      <th>Datum</th>\n      <th>Frist</th>\n      <th>Bankkonto</th>\n      <th>Vorgängerdokument</th>\n      <th>Referenz</th>\n      <th>MWST 0.00%</th>\n      <th>MWST 7.70%</th>\n      <th>Wiederholung</th>\n      <th>Teilrechnung</th>\n    </tr>\n  </thead>\n  <tbody>\n    <tr>\n      <th>12</th>\n      <td>15</td>\n      <td>AU-00015</td>\n      <td>Planung Heizung + Abluft</td>\n      <td>Auftrag Offen</td>\n      <td>Sani Project</td>\n      <td>'000005</td>\n      <td>6</td>\n      <td>Planung H/L, Rainstrasse 52, Nussbaumen</td>\n      <td>Imhoff Kevin</td>\n      <td>NaN</td>\n      <td>...</td>\n      <td>7323.60</td>\n      <td>'04.05.2022</td>\n      <td>'02.06.2022</td>\n      <td>PostFinance (CHF)</td>\n      <td>Angebot AN-00026</td>\n      <td>Rainstrasse 52, Nussbaumen</td>\n      <td>'0</td>\n      <td>523.6000</td>\n      <td>Nein</td>\n      <td>Ja</td>\n    </tr>\n    <tr>\n      <th>21</th>\n      <td>26</td>\n      <td>AU-00026</td>\n      <td>Planung H/S - Erni, Guggibadstr.6, Schongau</td>\n      <td>Auftrag Offen</td>\n      <td>Stalder-Rüttimann GmbH</td>\n      <td>'000003</td>\n      <td>4</td>\n      <td>Planung H/S - Erni, Guggibadstr.6, Schongau</td>\n      <td>Imhoff Kevin</td>\n      <td>NaN</td>\n      <td>...</td>\n      <td>9369.90</td>\n      <td>'25.05.2022</td>\n      <td>'23.06.2022</td>\n      <td>PostFinance (CHF)</td>\n      <td>Angebot AN-00041</td>\n      <td>Erni, Guggibadstr.6, Schongau</td>\n      <td>'0</td>\n      <td>669.9000</td>\n      <td>Nein</td>\n      <td>Ja</td>\n    </tr>\n    <tr>\n      <th>76</th>\n      <td>88</td>\n      <td>AU-00088</td>\n      <td>P - Oberebersol 49, Scheuber</td>\n      <td>Auftrag Offen</td>\n      <td>Stalder-Rüttimann GmbH</td>\n      <td>'000003</td>\n      <td>4</td>\n      <td>P - Oberebersol 49, Scheuber</td>\n      <td>Imhoff Kevin</td>\n      <td>NaN</td>\n      <td>...</td>\n      <td>7323.60</td>\n      <td>'10.02.2023</td>\n      <td>'11.03.2023</td>\n      <td>PostFinance (CHF)</td>\n      <td>Angebot AN-00108</td>\n      <td>NaN</td>\n      <td>'0</td>\n      <td>523.6000</td>\n      <td>Nein</td>\n      <td>Ja</td>\n    </tr>\n    <tr>\n      <th>91</th>\n      <td>104</td>\n      <td>AU-00104</td>\n      <td>Geak+, Buchenweg 9, Würenlos</td>\n      <td>Auftrag Offen</td>\n      <td>Eric Moesner</td>\n      <td>'000255</td>\n      <td>161</td>\n      <td>NaN</td>\n      <td>Imhoff Kevin</td>\n      <td>NaN</td>\n      <td>...</td>\n      <td>2100.00</td>\n      <td>'08.05.2023</td>\n      <td>'06.06.2023</td>\n      <td>PostFinance (CHF)</td>\n      <td>Auftrag AU-00083</td>\n      <td>Geak+, Buchenweg 9, Würenlos</td>\n      <td>'0</td>\n      <td>221.6342</td>\n      <td>Nein</td>\n      <td>Nein</td>\n    </tr>\n    <tr>\n      <th>92</th>\n      <td>105</td>\n      <td>AU-00105</td>\n      <td>FB Geak+, Buchenweg 9, Würenlos</td>\n      <td>Auftrag Offen</td>\n      <td>Departement Bau, Verkehr, Umwelt</td>\n      <td>'000120</td>\n      <td>26</td>\n      <td>NaN</td>\n      <td>Imhoff Kevin</td>\n      <td>NaN</td>\n      <td>...</td>\n      <td>1000.00</td>\n      <td>'08.05.2023</td>\n      <td>'06.06.2023</td>\n      <td>PostFinance (CHF)</td>\n      <td>NaN</td>\n      <td>NaN</td>\n      <td>'0</td>\n      <td>'0</td>\n      <td>Nein</td>\n      <td>Nein</td>\n    </tr>\n    <tr>\n      <th>95</th>\n      <td>108</td>\n      <td>AU-00108</td>\n      <td>Geak+, Willadingweg 30/32, Bern, 2 MFH</td>\n      <td>Auftrag Offen</td>\n      <td>AWT Treuhand &amp; Verwaltungen AG</td>\n      <td>'000257</td>\n      <td>163</td>\n      <td>NaN</td>\n      <td>Imhoff Kevin</td>\n      <td>NaN</td>\n      <td>...</td>\n      <td>4000.00</td>\n      <td>'11.05.2023</td>\n      <td>'09.06.2023</td>\n      <td>PostFinance (CHF)</td>\n      <td>Auftrag AU-00090</td>\n      <td>Willadingweg 30/32, Bern, 2 MFH</td>\n      <td>'0</td>\n      <td>285.9796</td>\n      <td>Nein</td>\n      <td>Nein</td>\n    </tr>\n    <tr>\n      <th>99</th>\n      <td>112</td>\n      <td>AU-00112</td>\n      <td>EN - Oberer Rainweg 1, Frick, 2x EFH</td>\n      <td>Auftrag Offen</td>\n      <td>TOKA AG</td>\n      <td>'000240</td>\n      <td>146</td>\n      <td>NaN</td>\n      <td>Imhoff Kevin</td>\n      <td>NaN</td>\n      <td>...</td>\n      <td>1300.00</td>\n      <td>'26.05.2023</td>\n      <td>'24.06.2023</td>\n      <td>PostFinance (CHF)</td>\n      <td>Angebot AN-00137</td>\n      <td>Oberer Rainweg 1, Frick, 2x EFH</td>\n      <td>'0</td>\n      <td>92.9434</td>\n      <td>Nein</td>\n      <td>Nein</td>\n    </tr>\n    <tr>\n      <th>104</th>\n      <td>117</td>\n      <td>AU-00117</td>\n      <td>P - Oberebersol 49, Parzelle 1675</td>\n      <td>Auftrag Offen</td>\n      <td>Stalder-Rüttimann GmbH</td>\n      <td>'000003</td>\n      <td>4</td>\n      <td>NaN</td>\n      <td>Imhoff Kevin</td>\n      <td>NaN</td>\n      <td>...</td>\n      <td>6569.70</td>\n      <td>'30.05.2023</td>\n      <td>'28.06.2023</td>\n      <td>PostFinance (CHF)</td>\n      <td>Angebot AN-00141</td>\n      <td>Oberebersol 49, Parzelle 1675</td>\n      <td>'0</td>\n      <td>469.7000</td>\n      <td>Nein</td>\n      <td>Nein</td>\n    </tr>\n    <tr>\n      <th>109</th>\n      <td>122</td>\n      <td>AU-00122</td>\n      <td>G+, Sandbuckstrasse 6, Schneisingen, EFH</td>\n      <td>Auftrag Offen</td>\n      <td>MiKo Gmbh</td>\n      <td>'000263</td>\n      <td>169</td>\n      <td>NaN</td>\n      <td>Imhoff Kevin</td>\n      <td>NaN</td>\n      <td>...</td>\n      <td>1600.00</td>\n      <td>'06.06.2023</td>\n      <td>'05.07.2023</td>\n      <td>PostFinance (CHF)</td>\n      <td>Angebot AN-00147</td>\n      <td>Sandbuckstrasse 6, Schneisingen, EFH</td>\n      <td>'0</td>\n      <td>185.8867</td>\n      <td>Nein</td>\n      <td>Nein</td>\n    </tr>\n    <tr>\n      <th>110</th>\n      <td>123</td>\n      <td>AU-00123</td>\n      <td>AP - H/L - Gassenacker 10, Rickenbach, MFH</td>\n      <td>Auftrag Offen</td>\n      <td>Zahra Chopany</td>\n      <td>'000198</td>\n      <td>104</td>\n      <td>NaN</td>\n      <td>Imhoff Kevin</td>\n      <td>NaN</td>\n      <td>...</td>\n      <td>4684.95</td>\n      <td>'29.06.2023</td>\n      <td>'28.07.2023</td>\n      <td>PostFinance (CHF)</td>\n      <td>Angebot AN-00154</td>\n      <td>Gassenacker 10, 8545 Rickenbach, Neubau MFH</td>\n      <td>'0</td>\n      <td>334.9500</td>\n      <td>Nein</td>\n      <td>Nein</td>\n    </tr>\n    <tr>\n      <th>111</th>\n      <td>124</td>\n      <td>AU-00124</td>\n      <td>AP - S - Gassenacker 10, Rickenbach, MFH</td>\n      <td>Auftrag Offen</td>\n      <td>Zahra Chopany</td>\n      <td>'000198</td>\n      <td>104</td>\n      <td>NaN</td>\n      <td>Imhoff Kevin</td>\n      <td>NaN</td>\n      <td>...</td>\n      <td>6246.60</td>\n      <td>'29.06.2023</td>\n      <td>'28.07.2023</td>\n      <td>PostFinance (CHF)</td>\n      <td>Angebot AN-00153</td>\n      <td>Gassenacker 10, 8545 Rickenbach, Neubau MFH</td>\n      <td>'0</td>\n      <td>446.6000</td>\n      <td>Nein</td>\n      <td>Nein</td>\n    </tr>\n  </tbody>\n</table>\n<p>11 rows × 22 columns</p>\n</div>"
     },
     "execution_count": 91,
     "metadata": {},
     "output_type": "execute_result"
    }
   ],
   "source": [
    "#todo: offene Projekte zu merged_df hinzufügen. Aufträge mit Teilzahlung soll der \"Betrag Netto\" und \"Betrag Butto\" durch die getätigten Zahlung aus merged_df reduziert werden. Ein Abgleich kann auf dem Attribut \"Titel\" erfolgen.\n",
    "\n",
    "#todo: Zahlungsdatum in Datum umwandeln\n",
    "\n",
    "filtered_projects = projects[projects['Status'] == 'Offen'].copy()\n",
    "filtered_projects.loc[:, 'Status'] = 'Auftrag Offen'\n",
    "\n",
    "filtered_projects"
   ],
   "metadata": {
    "collapsed": false,
    "ExecuteTime": {
     "end_time": "2023-06-30T23:30:04.556003Z",
     "start_time": "2023-06-30T23:30:04.554032Z"
    }
   }
  },
  {
   "cell_type": "code",
   "execution_count": 100,
   "outputs": [
    {
     "data": {
      "text/plain": "    Ansprechpartner Bankkonto  Betrag Brutto  Betrag Netto Datum Frist  ID  \\\n0               NaN       NaN          603.1        603.10   NaN   NaN NaN   \n1               NaN       NaN          860.0        860.00   NaN   NaN NaN   \n2               NaN       NaN          300.0        300.00   NaN   NaN NaN   \n3               NaN       NaN          500.0        500.00   NaN   NaN NaN   \n4               NaN       NaN         1100.0       1100.00   NaN   NaN NaN   \n..              ...       ...            ...           ...   ...   ...  ..   \n360             NaN       NaN            NaN       1300.00   NaN   NaN NaN   \n361             NaN       NaN            NaN       6569.70   NaN   NaN NaN   \n362             NaN       NaN            NaN       1600.00   NaN   NaN NaN   \n363             NaN       NaN            NaN       4684.95   NaN   NaN NaN   \n364             NaN       NaN            NaN       6246.60   NaN   NaN NaN   \n\n                            Kontakt Kontaktnummer  Kontaktreferenz  ...  \\\n0            Stalder-Rüttimann GmbH           NaN              NaN  ...   \n1                  Herbert Schacher           NaN              NaN  ...   \n2                     AQUASANI GmbH           NaN              NaN  ...   \n3                     AQUASANI GmbH           NaN              NaN  ...   \n4    Ronald Frei und Nadja Lötscher           NaN              NaN  ...   \n..                              ...           ...              ...  ...   \n360                         TOKA AG           NaN              NaN  ...   \n361          Stalder-Rüttimann GmbH           NaN              NaN  ...   \n362                       MiKo Gmbh           NaN              NaN  ...   \n363                   Zahra Chopany           NaN              NaN  ...   \n364                   Zahra Chopany           NaN              NaN  ...   \n\n    Rechnungsdatum - Zahlungsdatum Referenz         Status Teilrechnung  \\\n0                                0      NaN        Bezahlt          NaN   \n1                                0      NaN        Bezahlt          NaN   \n2                                0      NaN        Bezahlt          NaN   \n3                                0      NaN        Bezahlt          NaN   \n4                                0      NaN        Bezahlt          NaN   \n..                             ...      ...            ...          ...   \n360                              0      NaN  Auftrag Offen          NaN   \n361                              0      NaN  Auftrag Offen          NaN   \n362                              0      NaN  Auftrag Offen          NaN   \n363                              0      NaN  Auftrag Offen          NaN   \n364                              0      NaN  Auftrag Offen          NaN   \n\n                                                 Titel Verkäufer  \\\n0           Gesuche - Dorfstrasse 22A/22E, 5624 Bünzen       NaN   \n1                                   GEAK®, EFH, Kt. AG       NaN   \n2    Wärmepumpe Fördergesuch Zürich, Klimastiftung ...       NaN   \n3                                                  NaN       NaN   \n4                GEAK+, Rankstrasse 4, Nussbaumen, EFH       NaN   \n..                                                 ...       ...   \n360               EN - Oberer Rainweg 1, Frick, 2x EFH       NaN   \n361                  P - Oberebersol 49, Parzelle 1675       NaN   \n362           G+, Sandbuckstrasse 6, Schneisingen, EFH       NaN   \n363         AP - H/L - Gassenacker 10, Rickenbach, MFH       NaN   \n364           AP - S - Gassenacker 10, Rickenbach, MFH       NaN   \n\n    Vorgängerdokument Wiederholung Währung  Zahlungsdatum  \n0                 NaN          NaN     CHF            NaT  \n1    Auftrag AU-00003          NaN     CHF            NaT  \n2                 NaN          NaN     CHF            NaT  \n3                 NaN          NaN     CHF            NaT  \n4                 NaN          NaN     CHF            NaT  \n..                ...          ...     ...            ...  \n360  Angebot AN-00137          NaN     CHF     2023-07-24  \n361  Angebot AN-00141          NaN     CHF     2023-07-28  \n362  Angebot AN-00147          NaN     CHF     2023-08-04  \n363  Angebot AN-00154          NaN     CHF     2023-08-27  \n364  Angebot AN-00153          NaN     CHF     2023-08-27  \n\n[365 rows x 24 columns]",
      "text/html": "<div>\n<style scoped>\n    .dataframe tbody tr th:only-of-type {\n        vertical-align: middle;\n    }\n\n    .dataframe tbody tr th {\n        vertical-align: top;\n    }\n\n    .dataframe thead th {\n        text-align: right;\n    }\n</style>\n<table border=\"1\" class=\"dataframe\">\n  <thead>\n    <tr style=\"text-align: right;\">\n      <th></th>\n      <th>Ansprechpartner</th>\n      <th>Bankkonto</th>\n      <th>Betrag Brutto</th>\n      <th>Betrag Netto</th>\n      <th>Datum</th>\n      <th>Frist</th>\n      <th>ID</th>\n      <th>Kontakt</th>\n      <th>Kontaktnummer</th>\n      <th>Kontaktreferenz</th>\n      <th>...</th>\n      <th>Rechnungsdatum - Zahlungsdatum</th>\n      <th>Referenz</th>\n      <th>Status</th>\n      <th>Teilrechnung</th>\n      <th>Titel</th>\n      <th>Verkäufer</th>\n      <th>Vorgängerdokument</th>\n      <th>Wiederholung</th>\n      <th>Währung</th>\n      <th>Zahlungsdatum</th>\n    </tr>\n  </thead>\n  <tbody>\n    <tr>\n      <th>0</th>\n      <td>NaN</td>\n      <td>NaN</td>\n      <td>603.1</td>\n      <td>603.10</td>\n      <td>NaN</td>\n      <td>NaN</td>\n      <td>NaN</td>\n      <td>Stalder-Rüttimann GmbH</td>\n      <td>NaN</td>\n      <td>NaN</td>\n      <td>...</td>\n      <td>0</td>\n      <td>NaN</td>\n      <td>Bezahlt</td>\n      <td>NaN</td>\n      <td>Gesuche - Dorfstrasse 22A/22E, 5624 Bünzen</td>\n      <td>NaN</td>\n      <td>NaN</td>\n      <td>NaN</td>\n      <td>CHF</td>\n      <td>NaT</td>\n    </tr>\n    <tr>\n      <th>1</th>\n      <td>NaN</td>\n      <td>NaN</td>\n      <td>860.0</td>\n      <td>860.00</td>\n      <td>NaN</td>\n      <td>NaN</td>\n      <td>NaN</td>\n      <td>Herbert Schacher</td>\n      <td>NaN</td>\n      <td>NaN</td>\n      <td>...</td>\n      <td>0</td>\n      <td>NaN</td>\n      <td>Bezahlt</td>\n      <td>NaN</td>\n      <td>GEAK®, EFH, Kt. AG</td>\n      <td>NaN</td>\n      <td>Auftrag AU-00003</td>\n      <td>NaN</td>\n      <td>CHF</td>\n      <td>NaT</td>\n    </tr>\n    <tr>\n      <th>2</th>\n      <td>NaN</td>\n      <td>NaN</td>\n      <td>300.0</td>\n      <td>300.00</td>\n      <td>NaN</td>\n      <td>NaN</td>\n      <td>NaN</td>\n      <td>AQUASANI GmbH</td>\n      <td>NaN</td>\n      <td>NaN</td>\n      <td>...</td>\n      <td>0</td>\n      <td>NaN</td>\n      <td>Bezahlt</td>\n      <td>NaN</td>\n      <td>Wärmepumpe Fördergesuch Zürich, Klimastiftung ...</td>\n      <td>NaN</td>\n      <td>NaN</td>\n      <td>NaN</td>\n      <td>CHF</td>\n      <td>NaT</td>\n    </tr>\n    <tr>\n      <th>3</th>\n      <td>NaN</td>\n      <td>NaN</td>\n      <td>500.0</td>\n      <td>500.00</td>\n      <td>NaN</td>\n      <td>NaN</td>\n      <td>NaN</td>\n      <td>AQUASANI GmbH</td>\n      <td>NaN</td>\n      <td>NaN</td>\n      <td>...</td>\n      <td>0</td>\n      <td>NaN</td>\n      <td>Bezahlt</td>\n      <td>NaN</td>\n      <td>NaN</td>\n      <td>NaN</td>\n      <td>NaN</td>\n      <td>NaN</td>\n      <td>CHF</td>\n      <td>NaT</td>\n    </tr>\n    <tr>\n      <th>4</th>\n      <td>NaN</td>\n      <td>NaN</td>\n      <td>1100.0</td>\n      <td>1100.00</td>\n      <td>NaN</td>\n      <td>NaN</td>\n      <td>NaN</td>\n      <td>Ronald Frei und Nadja Lötscher</td>\n      <td>NaN</td>\n      <td>NaN</td>\n      <td>...</td>\n      <td>0</td>\n      <td>NaN</td>\n      <td>Bezahlt</td>\n      <td>NaN</td>\n      <td>GEAK+, Rankstrasse 4, Nussbaumen, EFH</td>\n      <td>NaN</td>\n      <td>NaN</td>\n      <td>NaN</td>\n      <td>CHF</td>\n      <td>NaT</td>\n    </tr>\n    <tr>\n      <th>...</th>\n      <td>...</td>\n      <td>...</td>\n      <td>...</td>\n      <td>...</td>\n      <td>...</td>\n      <td>...</td>\n      <td>...</td>\n      <td>...</td>\n      <td>...</td>\n      <td>...</td>\n      <td>...</td>\n      <td>...</td>\n      <td>...</td>\n      <td>...</td>\n      <td>...</td>\n      <td>...</td>\n      <td>...</td>\n      <td>...</td>\n      <td>...</td>\n      <td>...</td>\n      <td>...</td>\n    </tr>\n    <tr>\n      <th>360</th>\n      <td>NaN</td>\n      <td>NaN</td>\n      <td>NaN</td>\n      <td>1300.00</td>\n      <td>NaN</td>\n      <td>NaN</td>\n      <td>NaN</td>\n      <td>TOKA AG</td>\n      <td>NaN</td>\n      <td>NaN</td>\n      <td>...</td>\n      <td>0</td>\n      <td>NaN</td>\n      <td>Auftrag Offen</td>\n      <td>NaN</td>\n      <td>EN - Oberer Rainweg 1, Frick, 2x EFH</td>\n      <td>NaN</td>\n      <td>Angebot AN-00137</td>\n      <td>NaN</td>\n      <td>CHF</td>\n      <td>2023-07-24</td>\n    </tr>\n    <tr>\n      <th>361</th>\n      <td>NaN</td>\n      <td>NaN</td>\n      <td>NaN</td>\n      <td>6569.70</td>\n      <td>NaN</td>\n      <td>NaN</td>\n      <td>NaN</td>\n      <td>Stalder-Rüttimann GmbH</td>\n      <td>NaN</td>\n      <td>NaN</td>\n      <td>...</td>\n      <td>0</td>\n      <td>NaN</td>\n      <td>Auftrag Offen</td>\n      <td>NaN</td>\n      <td>P - Oberebersol 49, Parzelle 1675</td>\n      <td>NaN</td>\n      <td>Angebot AN-00141</td>\n      <td>NaN</td>\n      <td>CHF</td>\n      <td>2023-07-28</td>\n    </tr>\n    <tr>\n      <th>362</th>\n      <td>NaN</td>\n      <td>NaN</td>\n      <td>NaN</td>\n      <td>1600.00</td>\n      <td>NaN</td>\n      <td>NaN</td>\n      <td>NaN</td>\n      <td>MiKo Gmbh</td>\n      <td>NaN</td>\n      <td>NaN</td>\n      <td>...</td>\n      <td>0</td>\n      <td>NaN</td>\n      <td>Auftrag Offen</td>\n      <td>NaN</td>\n      <td>G+, Sandbuckstrasse 6, Schneisingen, EFH</td>\n      <td>NaN</td>\n      <td>Angebot AN-00147</td>\n      <td>NaN</td>\n      <td>CHF</td>\n      <td>2023-08-04</td>\n    </tr>\n    <tr>\n      <th>363</th>\n      <td>NaN</td>\n      <td>NaN</td>\n      <td>NaN</td>\n      <td>4684.95</td>\n      <td>NaN</td>\n      <td>NaN</td>\n      <td>NaN</td>\n      <td>Zahra Chopany</td>\n      <td>NaN</td>\n      <td>NaN</td>\n      <td>...</td>\n      <td>0</td>\n      <td>NaN</td>\n      <td>Auftrag Offen</td>\n      <td>NaN</td>\n      <td>AP - H/L - Gassenacker 10, Rickenbach, MFH</td>\n      <td>NaN</td>\n      <td>Angebot AN-00154</td>\n      <td>NaN</td>\n      <td>CHF</td>\n      <td>2023-08-27</td>\n    </tr>\n    <tr>\n      <th>364</th>\n      <td>NaN</td>\n      <td>NaN</td>\n      <td>NaN</td>\n      <td>6246.60</td>\n      <td>NaN</td>\n      <td>NaN</td>\n      <td>NaN</td>\n      <td>Zahra Chopany</td>\n      <td>NaN</td>\n      <td>NaN</td>\n      <td>...</td>\n      <td>0</td>\n      <td>NaN</td>\n      <td>Auftrag Offen</td>\n      <td>NaN</td>\n      <td>AP - S - Gassenacker 10, Rickenbach, MFH</td>\n      <td>NaN</td>\n      <td>Angebot AN-00153</td>\n      <td>NaN</td>\n      <td>CHF</td>\n      <td>2023-08-27</td>\n    </tr>\n  </tbody>\n</table>\n<p>365 rows × 24 columns</p>\n</div>"
     },
     "execution_count": 100,
     "metadata": {},
     "output_type": "execute_result"
    }
   ],
   "source": [
    "#todo: doesnt work. should add the filtered_projects rows to merged_df\n",
    "\n",
    "import datetime\n",
    "\n",
    "# Iterate over each row in filtered_projects\n",
    "for i, fp_row in filtered_projects.iterrows():\n",
    "    # Copy the values from filtered_projects to merged_df\n",
    "    merged_df.loc[len(merged_df)] = {\n",
    "        'Nr.': fp_row['Nr.'],\n",
    "        'Titel': fp_row['Titel'],\n",
    "        'Status': fp_row['Status'],\n",
    "        'Kontakt': fp_row['Kontakt'],\n",
    "        'Währung': fp_row['Währung'],\n",
    "        'Betrag Netto': fp_row['Betrag Brutto'],\n",
    "        'Vorgängerdokument': fp_row['Vorgängerdokument'],\n",
    "        'Zahlungsdatum': datetime.datetime.strptime(fp_row['Frist'], \"'%d.%m.%Y\") + datetime.timedelta(days=30),\n",
    "        'Rechnungsdatum - Zahlungsdatum': 0\n",
    "    }\n",
    "\n",
    "# Print the updated merged_df\n",
    "merged_df\n"
   ],
   "metadata": {
    "collapsed": false,
    "ExecuteTime": {
     "end_time": "2023-06-30T23:41:19.844831Z",
     "start_time": "2023-06-30T23:41:19.791987Z"
    }
   }
  },
  {
   "cell_type": "code",
   "execution_count": null,
   "outputs": [],
   "source": [
    "#todo: add Aufwand approx. per month"
   ],
   "metadata": {
    "collapsed": false
   }
  }
 ],
 "metadata": {
  "kernelspec": {
   "display_name": "Python 3",
   "language": "python",
   "name": "python3"
  },
  "language_info": {
   "codemirror_mode": {
    "name": "ipython",
    "version": 2
   },
   "file_extension": ".py",
   "mimetype": "text/x-python",
   "name": "python",
   "nbconvert_exporter": "python",
   "pygments_lexer": "ipython2",
   "version": "2.7.6"
  }
 },
 "nbformat": 4,
 "nbformat_minor": 0
}
